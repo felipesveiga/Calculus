{
 "cells": [
  {
   "cell_type": "markdown",
   "id": "9d2493fa-3cb0-4438-bf0b-365244842512",
   "metadata": {},
   "source": [
    "<h1 style='font-size:40px'>Limits & Derivatives </h1>\n",
    "<div> \n",
    "    <ul style='font-size:20px'> \n",
    "        <li> \n",
    "            O limite consiste na computação da inclinação da reta tangente em um ponto de uma curva. Como as curvas não possuem uma inclinação fixa, um artifício de se fazer essa operação seria calcular a tangente no menor intervalo de eixo-x o possível.\n",
    "        </li>\n",
    "    </ul>\n",
    "</div>"
   ]
  },
  {
   "cell_type": "code",
   "execution_count": 12,
   "id": "3516f2d1-d469-484e-8ab3-66947bcca7e7",
   "metadata": {},
   "outputs": [
    {
     "data": {
      "text/html": [
       "<div>\n",
       "<style scoped>\n",
       "    .dataframe tbody tr th:only-of-type {\n",
       "        vertical-align: middle;\n",
       "    }\n",
       "\n",
       "    .dataframe tbody tr th {\n",
       "        vertical-align: top;\n",
       "    }\n",
       "\n",
       "    .dataframe thead th {\n",
       "        text-align: right;\n",
       "    }\n",
       "</style>\n",
       "<table border=\"1\" class=\"dataframe\">\n",
       "  <thead>\n",
       "    <tr style=\"text-align: right;\">\n",
       "      <th></th>\n",
       "      <th>x</th>\n",
       "      <th>m</th>\n",
       "    </tr>\n",
       "  </thead>\n",
       "  <tbody>\n",
       "    <tr>\n",
       "      <th>0</th>\n",
       "      <td>3.0000</td>\n",
       "      <td>4.0000</td>\n",
       "    </tr>\n",
       "    <tr>\n",
       "      <th>1</th>\n",
       "      <td>2.0000</td>\n",
       "      <td>3.0000</td>\n",
       "    </tr>\n",
       "    <tr>\n",
       "      <th>2</th>\n",
       "      <td>1.5000</td>\n",
       "      <td>2.5000</td>\n",
       "    </tr>\n",
       "    <tr>\n",
       "      <th>3</th>\n",
       "      <td>1.1000</td>\n",
       "      <td>2.1000</td>\n",
       "    </tr>\n",
       "    <tr>\n",
       "      <th>4</th>\n",
       "      <td>1.0100</td>\n",
       "      <td>2.0100</td>\n",
       "    </tr>\n",
       "    <tr>\n",
       "      <th>5</th>\n",
       "      <td>1.0001</td>\n",
       "      <td>2.0001</td>\n",
       "    </tr>\n",
       "  </tbody>\n",
       "</table>\n",
       "</div>"
      ],
      "text/plain": [
       "        x       m\n",
       "0  3.0000  4.0000\n",
       "1  2.0000  3.0000\n",
       "2  1.5000  2.5000\n",
       "3  1.1000  2.1000\n",
       "4  1.0100  2.0100\n",
       "5  1.0001  2.0001"
      ]
     },
     "execution_count": 12,
     "metadata": {},
     "output_type": "execute_result"
    }
   ],
   "source": [
    "# Um caso-base para o aprendizado de limite é calcular a inclinação da reta tangente à parábola (x^2) no ponto (1,1).\n",
    "import pandas as pd\n",
    "import numpy as np\n",
    "i = 0\n",
    "ms = pd.DataFrame({'x':[], 'm':[]})\n",
    "for x in [3,2,1.5, 1.1, 1.01, 1.0001]:\n",
    "    m = ((x ** 2) - 1) / (x - 1)\n",
    "    ms.loc[i] = (x,m)\n",
    "    i+=1\n",
    "    \n",
    "ms"
   ]
  },
  {
   "cell_type": "markdown",
   "id": "d5be3f71-7834-4dac-aec1-e276143ed7c5",
   "metadata": {},
   "source": [
    "<div> \n",
    "    <ul style='font-size:20px'> \n",
    "        <li> \n",
    "            Observe que quanto mais x se aproxima de 1, portanto &#8710;x se fica mais perto de 0, a tangente também passa a ter um valor cada vez mais próximo de 2.\n",
    "        </li>\n",
    "    </ul>\n",
    "</div>"
   ]
  },
  {
   "cell_type": "code",
   "execution_count": 21,
   "id": "2d99ec78-d9ee-41f8-aaed-c5d170a7fed2",
   "metadata": {},
   "outputs": [
    {
     "data": {
      "text/plain": [
       "[2*x - 1]"
      ]
     },
     "execution_count": 21,
     "metadata": {},
     "output_type": "execute_result"
    }
   ],
   "source": [
    "# Descobrindo a equação da tangente. \n",
    "from sympy import Eq, symbols, solve\n",
    "x,y = symbols('x,y')\n",
    "eq = Eq(2*(x-1),y-1)\n",
    "solve(eq, y)"
   ]
  },
  {
   "cell_type": "code",
   "execution_count": 29,
   "id": "ae9b7ef9-9cd6-4497-8ca0-c7eab8532d5b",
   "metadata": {},
   "outputs": [
    {
     "data": {
      "text/plain": [
       "Text(0.5, 10, 'Ponto de Tangência')"
      ]
     },
     "execution_count": 29,
     "metadata": {},
     "output_type": "execute_result"
    },
    {
     "data": {
      "image/png": "[encoded data removed]",
      "text/plain": [
       "<Figure size 432x288 with 1 Axes>"
      ]
     },
     "metadata": {
      "needs_background": "light"
     },
     "output_type": "display_data"
    }
   ],
   "source": [
    "import matplotlib.pyplot as plt\n",
    "x = np.linspace(0,10, 101)\n",
    "y1 = x ** 2\n",
    "y2 = 2*x -1\n",
    "\n",
    "plt.plot(x, y1)\n",
    "plt.plot(x,y2)\n",
    "plt.scatter(1,1)\n",
    "plt.text(0.5,10, 'Ponto de Tangência')"
   ]
  },
  {
   "cell_type": "markdown",
   "id": "189340b2-50d5-46b5-8d20-50e407a1a70e",
   "metadata": {},
   "source": [
    "<h2 style='font-size:30px'> Exercícios página 87</h2>"
   ]
  },
  {
   "cell_type": "code",
   "execution_count": 61,
   "id": "dc892653-5132-425d-b11d-8c08cb6246fa",
   "metadata": {},
   "outputs": [
    {
     "name": "stdout",
     "output_type": "stream",
     "text": [
      "a:\n",
      "t=5; slope=-44.4\n",
      "t=10; slope=-38.8\n",
      "t=20; slope=-27.8\n",
      "t=25; slope=-22.2\n",
      "t=30; slope=-16.666666666666668\n",
      "\n",
      "\n",
      "b: Tangente = -33.3\n"
     ]
    },
    {
     "data": {
      "text/plain": [
       "<AxesSubplot:>"
      ]
     },
     "execution_count": 61,
     "metadata": {},
     "output_type": "execute_result"
    },
    {
     "data": {
      "image/png": "[encoded data removed]",
      "text/plain": [
       "<Figure size 432x288 with 1 Axes>"
      ]
     },
     "metadata": {
      "needs_background": "light"
     },
     "output_type": "display_data"
    }
   ],
   "source": [
    "# 1.\n",
    "tank = pd.DataFrame({'t (min)':[i*5 for i in range(1,7)],\n",
    "                    'V (gal)':[694, 444, 250, 111, 28,0]})\n",
    "\n",
    "# a.\n",
    "xp = 15\n",
    "yp = 250\n",
    "print('a:')\n",
    "for i in range(len(tank)):\n",
    "    if i != 2:\n",
    "        m = (tank.iloc[i,1] - yp) / (tank.iloc[i,0] - xp)\n",
    "        print(f't={tank.iloc[i,0]}; slope={m}')\n",
    "        \n",
    "# b.\n",
    "# Vamos calcular a média das inclinações quando t do ponto Q é 10 e 20.\n",
    "t10 = (tank.iloc[1,1] - yp) / (tank.iloc[1,0] - xp)\n",
    "t20 = (tank.iloc[3,1] - yp) / (tank.iloc[3,0] - xp)\n",
    "print('\\n')\n",
    "print(f'b: Tangente = {(t10 + t20)/2}')\n",
    "\n",
    "# c.\n",
    "tank['V (gal)'].plot()"
   ]
  },
  {
   "cell_type": "markdown",
   "id": "cbdfeaca-7763-449b-aa0a-fee479fbc614",
   "metadata": {},
   "source": [
    "<p style='color:red'> Fazer mais uns dois exercícios"
   ]
  },
  {
   "cell_type": "code",
   "execution_count": null,
   "id": "94a88a3d-fd6f-45ad-be6c-7431e98f96f9",
   "metadata": {},
   "outputs": [],
   "source": []
  },
  {
   "cell_type": "code",
   "execution_count": null,
   "id": "9030ca9d-ff8a-4c7c-9782-1c518a6463a8",
   "metadata": {},
   "outputs": [],
   "source": []
  },
  {
   "cell_type": "code",
   "execution_count": null,
   "id": "58592ee0-564b-460f-8d91-7f5eeeb917b2",
   "metadata": {},
   "outputs": [],
   "source": []
  }
 ],
 "metadata": {
  "kernelspec": {
   "display_name": "Python 3",
   "language": "python",
   "name": "python3"
  },
  "language_info": {
   "codemirror_mode": {
    "name": "ipython",
    "version": 3
   },
   "file_extension": ".py",
   "mimetype": "text/x-python",
   "name": "python",
   "nbconvert_exporter": "python",
   "pygments_lexer": "ipython3",
   "version": "3.8.8"
  }
 },
 "nbformat": 4,
 "nbformat_minor": 5
}
