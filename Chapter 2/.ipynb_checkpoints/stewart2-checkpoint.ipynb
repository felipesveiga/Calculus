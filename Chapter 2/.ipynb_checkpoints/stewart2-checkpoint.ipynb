{
 "cells": [
  {
   "cell_type": "markdown",
   "id": "9d2493fa-3cb0-4438-bf0b-365244842512",
   "metadata": {},
   "source": [
    "<h1 style='font-size:40px'>Limits & Derivatives </h1>\n",
    "<div> \n",
    "    <ul style='font-size:20px'> \n",
    "        <li> \n",
    "            O limite consiste no valor máximo (limite) retornado por uma função conforme o valor de suas variáveis se aproxima de um número específico.\n",
    "        </li>\n",
    "    </ul>\n",
    "</div>"
   ]
  },
  {
   "cell_type": "code",
   "execution_count": 437,
   "id": "3516f2d1-d469-484e-8ab3-66947bcca7e7",
   "metadata": {},
   "outputs": [
    {
     "data": {
      "text/html": [
       "<div>\n",
       "<style scoped>\n",
       "    .dataframe tbody tr th:only-of-type {\n",
       "        vertical-align: middle;\n",
       "    }\n",
       "\n",
       "    .dataframe tbody tr th {\n",
       "        vertical-align: top;\n",
       "    }\n",
       "\n",
       "    .dataframe thead th {\n",
       "        text-align: right;\n",
       "    }\n",
       "</style>\n",
       "<table border=\"1\" class=\"dataframe\">\n",
       "  <thead>\n",
       "    <tr style=\"text-align: right;\">\n",
       "      <th></th>\n",
       "      <th>x</th>\n",
       "      <th>m</th>\n",
       "    </tr>\n",
       "  </thead>\n",
       "  <tbody>\n",
       "    <tr>\n",
       "      <th>0</th>\n",
       "      <td>3.0000</td>\n",
       "      <td>4.0000</td>\n",
       "    </tr>\n",
       "    <tr>\n",
       "      <th>1</th>\n",
       "      <td>2.0000</td>\n",
       "      <td>3.0000</td>\n",
       "    </tr>\n",
       "    <tr>\n",
       "      <th>2</th>\n",
       "      <td>1.5000</td>\n",
       "      <td>2.5000</td>\n",
       "    </tr>\n",
       "    <tr>\n",
       "      <th>3</th>\n",
       "      <td>1.1000</td>\n",
       "      <td>2.1000</td>\n",
       "    </tr>\n",
       "    <tr>\n",
       "      <th>4</th>\n",
       "      <td>1.0100</td>\n",
       "      <td>2.0100</td>\n",
       "    </tr>\n",
       "    <tr>\n",
       "      <th>5</th>\n",
       "      <td>1.0001</td>\n",
       "      <td>2.0001</td>\n",
       "    </tr>\n",
       "  </tbody>\n",
       "</table>\n",
       "</div>"
      ],
      "text/plain": [
       "        x       m\n",
       "0  3.0000  4.0000\n",
       "1  2.0000  3.0000\n",
       "2  1.5000  2.5000\n",
       "3  1.1000  2.1000\n",
       "4  1.0100  2.0100\n",
       "5  1.0001  2.0001"
      ]
     },
     "execution_count": 437,
     "metadata": {},
     "output_type": "execute_result"
    }
   ],
   "source": [
    "# Um caso-base para o aprendizado de limite é calcular a inclinação da reta tangente à parábola (x^2) no ponto (1,1).\n",
    "import pandas as pd\n",
    "import numpy as np\n",
    "i = 0\n",
    "ms = pd.DataFrame({'x':[], 'm':[]})\n",
    "for x in [3,2,1.5, 1.1, 1.01, 1.0001]:\n",
    "    # Calculando a tangente.\n",
    "    m = ((x ** 2) - 1) / (x - 1)\n",
    "    ms.loc[i] = (x,m)\n",
    "    i+=1\n",
    "    \n",
    "ms"
   ]
  },
  {
   "cell_type": "markdown",
   "id": "d5be3f71-7834-4dac-aec1-e276143ed7c5",
   "metadata": {},
   "source": [
    "<div> \n",
    "    <ul style='font-size:20px'> \n",
    "        <li> \n",
    "            Observe que quanto mais x se aproxima de 1 - o que faz com que &#8710;x fique perto de 0 - a tangente também passa a ter um valor cada vez mais próximo de 2.\n",
    "        </li>\n",
    "    </ul>\n",
    "</div>"
   ]
  },
  {
   "cell_type": "code",
   "execution_count": 438,
   "id": "2d99ec78-d9ee-41f8-aaed-c5d170a7fed2",
   "metadata": {},
   "outputs": [
    {
     "data": {
      "text/plain": [
       "[2*x - 1]"
      ]
     },
     "execution_count": 438,
     "metadata": {},
     "output_type": "execute_result"
    }
   ],
   "source": [
    "# Descobrindo a equação da tangente. \n",
    "from sympy import Eq, symbols, solve\n",
    "x,y = symbols('x,y')\n",
    "eq = Eq(2*(x-1),y-1)\n",
    "solve(eq, y)"
   ]
  },
  {
   "cell_type": "code",
   "execution_count": 439,
   "id": "ae9b7ef9-9cd6-4497-8ca0-c7eab8532d5b",
   "metadata": {},
   "outputs": [
    {
     "data": {
      "text/plain": [
       "Text(0.5, 10, 'Ponto de Tangência')"
      ]
     },
     "execution_count": 439,
     "metadata": {},
     "output_type": "execute_result"
    },
    {
     "data": {
      "image/png": "[encoded data removed]",
      "text/plain": [
       "<Figure size 432x288 with 1 Axes>"
      ]
     },
     "metadata": {
      "needs_background": "light"
     },
     "output_type": "display_data"
    }
   ],
   "source": [
    "import matplotlib.pyplot as plt\n",
    "x = np.linspace(0,10, 101)\n",
    "y1 = x ** 2\n",
    "y2 = 2*x -1\n",
    "\n",
    "plt.plot(x, y1)\n",
    "plt.plot(x,y2)\n",
    "plt.scatter(1,1)\n",
    "plt.text(0.5,10, 'Ponto de Tangência')"
   ]
  },
  {
   "cell_type": "markdown",
   "id": "189340b2-50d5-46b5-8d20-50e407a1a70e",
   "metadata": {},
   "source": [
    "<h2 style='font-size:30px'> Exercícios página 87</h2>"
   ]
  },
  {
   "cell_type": "code",
   "execution_count": 440,
   "id": "dc892653-5132-425d-b11d-8c08cb6246fa",
   "metadata": {},
   "outputs": [
    {
     "name": "stdout",
     "output_type": "stream",
     "text": [
      "a:\n",
      "t=5; slope=-44.4\n",
      "t=10; slope=-38.8\n",
      "t=20; slope=-27.8\n",
      "t=25; slope=-22.2\n",
      "t=30; slope=-16.666666666666668\n",
      "\n",
      "\n",
      "b: Tangente = -33.3\n"
     ]
    },
    {
     "data": {
      "text/plain": [
       "<AxesSubplot:>"
      ]
     },
     "execution_count": 440,
     "metadata": {},
     "output_type": "execute_result"
    },
    {
     "data": {
      "image/png": "[encoded data removed]",
      "text/plain": [
       "<Figure size 432x288 with 1 Axes>"
      ]
     },
     "metadata": {
      "needs_background": "light"
     },
     "output_type": "display_data"
    }
   ],
   "source": [
    "# 1.\n",
    "tank = pd.DataFrame({'t (min)':[i*5 for i in range(1,7)],\n",
    "                    'V (gal)':[694, 444, 250, 111, 28,0]})\n",
    "\n",
    "# a.\n",
    "xp = 15\n",
    "yp = 250\n",
    "print('a:')\n",
    "for i in range(len(tank)):\n",
    "    if i != 2:\n",
    "        m = (tank.iloc[i,1] - yp) / (tank.iloc[i,0] - xp)\n",
    "        print(f't={tank.iloc[i,0]}; slope={m}')\n",
    "        \n",
    "# b.\n",
    "# Vamos calcular a média das inclinações quando t do ponto Q é 10 e 20.\n",
    "t10 = (tank.iloc[1,1] - yp) / (tank.iloc[1,0] - xp)\n",
    "t20 = (tank.iloc[3,1] - yp) / (tank.iloc[3,0] - xp)\n",
    "print('\\n')\n",
    "print(f'b: Tangente = {(t10 + t20)/2}')\n",
    "\n",
    "# c.\n",
    "tank['V (gal)'].plot()"
   ]
  },
  {
   "cell_type": "code",
   "execution_count": 441,
   "id": "05217317-53e5-4569-8f48-eb2820cd944e",
   "metadata": {},
   "outputs": [
    {
     "name": "stdout",
     "output_type": "stream",
     "text": [
      "a\n",
      "-32.0\n",
      "-25.600000000000023\n",
      "-24.799999999999898\n",
      "-24.159999999999116\n",
      "\n",
      "\n",
      "b: -24.000001985768904\n"
     ]
    }
   ],
   "source": [
    "# 5.\n",
    "# a.\n",
    "print('a')\n",
    "x = np.array([0.5, 0.1, 0.05, 0.01])\n",
    "t = 2\n",
    "height_i = 40 * t - 16 * (t**2)\n",
    "for delta in x:\n",
    "    time_elapsed = t + delta\n",
    "    height_f = (40 * time_elapsed) - (16 * (time_elapsed**2))\n",
    "    m = (height_f - height_i) / (delta)\n",
    "    print(m)\n",
    "    \n",
    "print('\\n')\n",
    "# b.\n",
    "delta = 10 ** -10\n",
    "time_elapsed = t+delta\n",
    "height_f = (40 * time_elapsed) - (16 * (time_elapsed **2))\n",
    "m = (height_f - height_i) / delta\n",
    "print(f'b: {m}')"
   ]
  },
  {
   "cell_type": "code",
   "execution_count": 442,
   "id": "8b667c04-603d-4a96-9a3f-f128e03d6eb2",
   "metadata": {},
   "outputs": [
    {
     "name": "stdout",
     "output_type": "stream",
     "text": [
      "a:\n",
      "x=2.0; m = 0.0\n",
      "x=1.5; m = 1.7321\n",
      "x=1.4; m = -1.0847\n",
      "x=1.3; m = -2.7433\n",
      "x=1.2; m = 4.3301\n",
      "x=1.1; m = -2.8173\n",
      "x=0.9; m = 3.4202\n",
      "x=0.8; m = -5.0\n",
      "x=0.7; m = -2.6061\n",
      "x=0.6; m = -2.1651\n",
      "x=0.5; m = 0.0\n",
      "\n",
      "b:\n"
     ]
    },
    {
     "data": {
      "image/png": "[encoded data removed]",
      "text/plain": [
       "<Figure size 432x288 with 1 Axes>"
      ]
     },
     "metadata": {
      "needs_background": "light"
     },
     "output_type": "display_data"
    },
    {
     "name": "stdout",
     "output_type": "stream",
     "text": [
      "\n",
      "c:\n",
      "-31.415946165998022\n"
     ]
    }
   ],
   "source": [
    "# 9.\n",
    "px = 1\n",
    "py = 0\n",
    "ys = []\n",
    "#a.\n",
    "print('a:')\n",
    "xs = sorted(np.array([i/10 for i in range(15, 4,-1) if i !=10] + [2]), reverse=True)\n",
    "for x in xs:\n",
    "    y = np.sin(10 * np.pi / x)\n",
    "    # Colocando os y's e uma lista para agilizar a resolução do item b.\n",
    "    ys.append(y)\n",
    "    m = round((y - py) / (x - px),4)\n",
    "    print(f'x={x}; m = {m}')\n",
    "\n",
    "# As inclinações não estão chegando em um limite!\n",
    "print('\\nb:')\n",
    "# b.\n",
    "xs_b = np.linspace(0.5,1.5, 100)\n",
    "ys_b = np.sin(10*np.pi / xs_b)\n",
    "plt.plot(xs_b, ys_b)\n",
    "plt.show()\n",
    "# Pois ora o valor de y é maior do que 0, ora menor, o que faz com que a secante possa ter inclinações tanto positivas, quanto negativas.\n",
    "print('\\nc:')\n",
    "# c.\n",
    "delta = 10 ** -10\n",
    "x = px +delta\n",
    "y = np.sin(10*np.pi / x)\n",
    "m = (y - py) / (x - px)\n",
    "print(m)"
   ]
  },
  {
   "cell_type": "markdown",
   "id": "51a45f07-2e08-46bd-8aaf-df95c9ea2fcb",
   "metadata": {},
   "source": [
    "<h2 style='font-size:30px'> The Limit of a Function</h2>\n",
    "<div>\n",
    "    <ul style='font-size:20px'> \n",
    "        <li>\n",
    "            Vamos aprender um pouco sobre notações. Digamos que nós temos a função quadrática e quiséssemos saber qual valor ela retornará usando valores cada vez mais próximos de 2.\n",
    "            $$\n",
    "            f(x) = x^2 - x + 2\n",
    "            $$\n",
    "        </li>\n",
    "    </ul>\n",
    "</div>"
   ]
  },
  {
   "cell_type": "code",
   "execution_count": 443,
   "id": "8d3000ea-228a-41ea-98cc-de9726ef7e4f",
   "metadata": {},
   "outputs": [
    {
     "name": "stdout",
     "output_type": "stream",
     "text": [
      "8.0\n",
      "5.75\n",
      "4.8125\n",
      "4.3100000000000005\n",
      "4.030099999999999\n",
      "4.003000999999999\n",
      "4.00030001\n",
      "\n",
      "\n",
      "2.0\n",
      "2.75\n",
      "3.3125\n",
      "3.71\n",
      "3.9701000000000004\n",
      "3.9970010000000005\n",
      "3.9997000099999998\n"
     ]
    }
   ],
   "source": [
    "# Vamos investigar isso.\n",
    "deltas = np.array([1, 0.5, 0.25, 0.1, 0.01, 0.001, 0.0001])\n",
    "for delta in deltas:\n",
    "    x = 2+delta\n",
    "    y = (x**2) - x +2\n",
    "    print(y)\n",
    "print('\\n')   \n",
    "for delta in -deltas:\n",
    "    x = 2+delta\n",
    "    y = (x**2) - x +2\n",
    "    print(y)"
   ]
  },
  {
   "cell_type": "markdown",
   "id": "9b523b3a-ed29-4354-8c2d-c8f539bcdf69",
   "metadata": {},
   "source": [
    "<ul style='font-size:20px'> \n",
    "        <li>\n",
    "            Note que quanto mais x se aproxima de 2, (seja pelo lado positivo, quanto pelo negativo) mais y fica próximo de 4. Portanto, podemos falar que, conforme a abscissa se aproxima de 2, a função alcança um valor limite de 4. Isso pode ser expresso, matematicamente, como:\n",
    "            $$\n",
    "            \\lim_{x \\to 2} (x^2 - x + 2) = 4\n",
    "            $$\n",
    "        </li>\n",
    "    <li> \n",
    "        O uso dessa notação é bastante importante para funções com restrição de valores de abscissas.\n",
    "    </li>\n",
    "    </ul>"
   ]
  },
  {
   "cell_type": "code",
   "execution_count": 444,
   "id": "55419118-bcd9-4876-ba2b-3f953eddef36",
   "metadata": {},
   "outputs": [
    {
     "data": {
      "image/png": "[encoded data removed]",
      "text/plain": [
       "<Figure size 432x288 with 2 Axes>"
      ]
     },
     "metadata": {
      "needs_background": "light"
     },
     "output_type": "display_data"
    }
   ],
   "source": [
    "x = np.linspace(0,7, 100)\n",
    "plt.subplot(121)\n",
    "plt.plot(x,np.sin(x))\n",
    "plt.scatter(np.pi/2,np.sin(np.pi/2), color='white', edgecolors='k')\n",
    "\n",
    "plt.subplot(122)\n",
    "plt.plot(x,np.sin(x))\n",
    "plt.scatter(np.pi/2,np.sin(np.pi/2), color='white', edgecolors='k')\n",
    "plt.scatter(np.pi/2,0.5, color='k', edgecolors='k')\n",
    "plt.tight_layout()"
   ]
  },
  {
   "cell_type": "markdown",
   "id": "f3f7ee25-ce92-451d-8e72-9a90365b3634",
   "metadata": {},
   "source": [
    "<div> \n",
    "    <ul style='font-size:20px'> \n",
    "        <li> \n",
    "            No caso dos dois gráficos acima (funções seno modificadas), mesmo que o valor da função quando x=90º não seja 1, não podemos negar que o seu limite conforme x se aproxima de 90 graus é 1.\n",
    "            $$\n",
    "            \\lim_{x \\to \\pi/2} f(x) = 1\n",
    "            $$\n",
    "        </li>\n",
    "    </ul>\n",
    "</div>"
   ]
  },
  {
   "cell_type": "markdown",
   "id": "d8d9d0ac-4b46-416d-9314-e2ea383647de",
   "metadata": {},
   "source": [
    "<h3 style='font-size:30px;font-style:italic'> Example I</h3>\n",
    "<div> \n",
    "    <ul style='font-size:20px'> \n",
    "        <li> \n",
    "            Encontre o valor de:$$\\lim_{x \\to 1} \\frac{x-1}{x^2-1}$$\n",
    "        </li>\n",
    "    </ul>\n",
    "</div>"
   ]
  },
  {
   "cell_type": "code",
   "execution_count": 445,
   "id": "049ca41d-b197-4e0d-80d5-5d3a41a2c759",
   "metadata": {},
   "outputs": [
    {
     "name": "stdout",
     "output_type": "stream",
     "text": [
      "Backwards:\n",
      "0.0 --> 1.0\n",
      "0.2 --> 0.8333333333333334\n",
      "0.5 --> 0.6666666666666666\n",
      "0.9 --> 0.5263157894736843\n",
      "0.99 --> 0.5025125628140701\n",
      "0.999 --> 0.5002501250625384\n",
      "\n",
      "Forward:\n",
      "2.0 --> 0.3333333333333333\n",
      "1.5 --> 0.4\n",
      "1.2 --> 0.4545454545454545\n",
      "1.1 --> 0.47619047619047616\n",
      "1.01 --> 0.49751243781094556\n",
      "1.001 --> 0.4997501249375518\n",
      "1.0001 --> 0.4999750012500894\n"
     ]
    },
    {
     "name": "stderr",
     "output_type": "stream",
     "text": [
      "/tmp/ipykernel_41099/3656473155.py:18: RuntimeWarning: invalid value encountered in true_divide\n",
      "  plt.plot(xs, (xs-1)/(xs**2-1))\n"
     ]
    },
    {
     "data": {
      "image/png": "[encoded data removed]",
      "text/plain": [
       "<Figure size 432x288 with 1 Axes>"
      ]
     },
     "metadata": {
      "needs_background": "light"
     },
     "output_type": "display_data"
    }
   ],
   "source": [
    "# Observe que não podemos ter x=1 por conta da divisão. Portanto, teremos que descobrir esse limite iterativamente.\n",
    "backwards = np.array([0, 0.2, 0.5, 0.9, 0.99, 0.999])\n",
    "forward = np.array([2, 1.5, 1.2, 1.1, 1.01, 1.001, 1.0001])\n",
    "\n",
    "\n",
    "# Limite por trás.\n",
    "print('Backwards:')\n",
    "for number in backwards:\n",
    "    exp = (number-1)/((number**2)-1)\n",
    "    print(number,'-->', exp)\n",
    "    \n",
    "print('\\nForward:')\n",
    "for number in forward:\n",
    "    exp = (number-1)/((number**2)-1)\n",
    "    print(number,'-->', exp)\n",
    "    \n",
    "xs = np.linspace(0,2,101)\n",
    "plt.plot(xs, (xs-1)/(xs**2-1))\n",
    "plt.show()"
   ]
  },
  {
   "cell_type": "markdown",
   "id": "548f2009-b27f-46b6-af2e-027f50809093",
   "metadata": {},
   "source": [
    "<div> \n",
    "    <ul style='font-size:20px'> \n",
    "        <li> \n",
    "            Observe que, tanto de trás pra frente, quanto de frente para trás, o valor limite alcançado é 0.5.\n",
    "        </li>\n",
    "    </ul>\n",
    "</div>"
   ]
  },
  {
   "cell_type": "code",
   "execution_count": 446,
   "id": "36955fb6-be38-427d-bf82-07eef91ecd6d",
   "metadata": {},
   "outputs": [
    {
     "name": "stdout",
     "output_type": "stream",
     "text": [
      "Backwards:\n",
      "0.0 --> 1.0\n",
      "0.2 --> 0.8333333333333334\n",
      "0.5 --> 0.6666666666666666\n",
      "0.9 --> 0.5263157894736843\n",
      "0.99 --> 0.5025125628140701\n",
      "0.999 --> 0.5002501250625384\n",
      "\n",
      "Forward:\n",
      "2.0 --> 0.3333333333333333\n",
      "1.5 --> 0.4\n",
      "1.2 --> 0.4545454545454545\n",
      "1.1 --> 0.47619047619047616\n",
      "1.01 --> 0.49751243781094556\n",
      "1.001 --> 0.4997501249375518\n",
      "1.0001 --> 0.4999750012500894\n"
     ]
    },
    {
     "name": "stderr",
     "output_type": "stream",
     "text": [
      "/tmp/ipykernel_41099/2646282203.py:18: RuntimeWarning: invalid value encountered in true_divide\n",
      "  plt.plot(xs, (xs-1)/(xs**2-1))\n"
     ]
    },
    {
     "data": {
      "image/png": "[encoded data removed]",
      "text/plain": [
       "<Figure size 432x288 with 1 Axes>"
      ]
     },
     "metadata": {
      "needs_background": "light"
     },
     "output_type": "display_data"
    }
   ],
   "source": [
    "# Agora, se conferíssemos uma condição extra à função? Se x=1, y=2, por exemplo.\n",
    "backwards = np.array([0, 0.2, 0.5, 0.9, 0.99, 0.999])\n",
    "forward = np.array([2, 1.5, 1.2, 1.1, 1.01, 1.001, 1.0001])\n",
    "\n",
    "\n",
    "# Limite por trás.\n",
    "print('Backwards:')\n",
    "for number in backwards:\n",
    "    exp = (number-1)/((number**2)-1)\n",
    "    print(number,'-->', exp)\n",
    "    \n",
    "print('\\nForward:')\n",
    "for number in forward:\n",
    "    exp = (number-1)/((number**2)-1)\n",
    "    print(number,'-->', exp)\n",
    "    \n",
    "xs = np.linspace(0,2,101)\n",
    "plt.plot(xs, (xs-1)/(xs**2-1))\n",
    "plt.scatter(1,2, color='k')\n",
    "plt.show()"
   ]
  },
  {
   "cell_type": "markdown",
   "id": "05e12020-6f96-4b9e-8e2d-ea4151d74e71",
   "metadata": {},
   "source": [
    "<div> \n",
    "    <ul style='font-size:20px'> \n",
    "        <li> \n",
    "            Como o limite consiste em um valor que a função <strong> tendencia</strong> a ter, não podemos dizer que 2 é o resultado.\n",
    "        </li>\n",
    "    </ul>\n",
    "</div>"
   ]
  },
  {
   "cell_type": "markdown",
   "id": "7e6f7eae-7a95-4a8b-a57f-a8a9c3ed4667",
   "metadata": {},
   "source": [
    "<h3 style='font-size:30px;font-style:italic'> Example II</h3>\n",
    "<div> \n",
    "    <ul style='font-size:20px'> \n",
    "        <li> \n",
    "            Encontre o valor de:$$\\lim_{t \\to 0} \\frac{\\sqrt{t^2+9}-3}{t^2}$$\n",
    "        </li>\n",
    "    </ul>\n",
    "</div>"
   ]
  },
  {
   "cell_type": "code",
   "execution_count": 447,
   "id": "78fb6ad2-6a2a-4757-90d9-59e4d234ad64",
   "metadata": {},
   "outputs": [
    {
     "name": "stdout",
     "output_type": "stream",
     "text": [
      "Backwards: [0.15138782 0.16227766 0.16552506 0.1666204  0.1666662  0.16666666]\n",
      "Forward: [0.15138782 0.16227766 0.16552506 0.1666204  0.1666662  0.16666666]\n"
     ]
    },
    {
     "name": "stderr",
     "output_type": "stream",
     "text": [
      "/tmp/ipykernel_41099/1371005496.py:15: RuntimeWarning: invalid value encountered in true_divide\n",
      "  ys = (np.sqrt((xs**2)+9) - 3)/(xs**2)\n"
     ]
    },
    {
     "data": {
      "text/plain": [
       "[<matplotlib.lines.Line2D at 0x7f883a959040>]"
      ]
     },
     "execution_count": 447,
     "metadata": {},
     "output_type": "execute_result"
    },
    {
     "data": {
      "image/png": "[encoded data removed]",
      "text/plain": [
       "<Figure size 432x288 with 1 Axes>"
      ]
     },
     "metadata": {
      "needs_background": "light"
     },
     "output_type": "display_data"
    }
   ],
   "source": [
    "# Novamente, essa função tem a restrição de que x!=0.\n",
    "backwards=np.array([-2,-1,-0.5, -1e-1, -1e-2, -1e-3])\n",
    "forward = -backwards\n",
    "\n",
    "y_back = (np.sqrt((backwards**2)+9) - 3)/(backwards**2)\n",
    "y_fwd = (np.sqrt((forward**2)+9) - 3)/(forward**2)\n",
    "\n",
    "print(f'Backwards: {y_back}')\n",
    "print(f'Forward: {y_fwd}')\n",
    "\n",
    "# O limite, dessa maneira, é 0.167 (ou 1/6).\n",
    "\n",
    "# O mesmo pode ser dito graficamente.\n",
    "xs = np.linspace(-1,1,101)\n",
    "ys = (np.sqrt((xs**2)+9) - 3)/(xs**2)\n",
    "plt.plot(xs,ys)"
   ]
  },
  {
   "cell_type": "code",
   "execution_count": 448,
   "id": "a9a5e129-511e-4518-bfd5-4ece110b1fd4",
   "metadata": {},
   "outputs": [
    {
     "name": "stdout",
     "output_type": "stream",
     "text": [
      "Backwards: [0.15138782 0.16227766 0.16552506 0.1666204  0.1666662  0.        ]\n",
      "Forward: [0.15138782 0.16227766 0.16552506 0.1666204  0.1666662  0.        ]\n"
     ]
    }
   ],
   "source": [
    "# Mas se colocássemos um valor de t muito pequeno?\n",
    "backwards=np.array([-2,-1,-0.5, -1e-1, -1e-2, -1e-10])\n",
    "forward = -backwards\n",
    "\n",
    "y_back = (np.sqrt((backwards**2)+9) - 3)/(backwards**2)\n",
    "y_fwd = (np.sqrt((forward**2)+9) - 3)/(forward**2)\n",
    "\n",
    "print(f'Backwards: {y_back}')\n",
    "print(f'Forward: {y_fwd}')"
   ]
  },
  {
   "cell_type": "markdown",
   "id": "58dbaa6b-6e68-4b32-acf5-a1ea49ab394d",
   "metadata": {},
   "source": [
    "<div> \n",
    "    <ul style='font-size:20px'> \n",
    "        <li> \n",
    "            Veja, com $10^{-10}$, o limite declarado é 0. Isso significa que o resultado deve ser 0, e não 1/6? Não, como o autor explicará na próxima seção.\n",
    "        </li>\n",
    "    </ul>\n",
    "</div>"
   ]
  },
  {
   "cell_type": "markdown",
   "id": "3a329e64-64a9-43d0-bcfd-6231689b0029",
   "metadata": {},
   "source": [
    "<h3 style='font-size:30px;font-style:italic'> Example III</h3>\n",
    "<div> \n",
    "    <ul style='font-size:20px'> \n",
    "        <li> \n",
    "            Encontre o valor de: $$\\lim_{x \\to 0} \\frac{\\sin{x}}{x}$$\n",
    "        </li>\n",
    "    </ul>\n",
    "</div>"
   ]
  },
  {
   "cell_type": "code",
   "execution_count": 449,
   "id": "9613c6b4-dbd6-4c71-9609-ea0b90171337",
   "metadata": {},
   "outputs": [
    {
     "name": "stdout",
     "output_type": "stream",
     "text": [
      "Backwards: [0.45464871 0.84147098 0.99833417 0.99998333 0.99999983]\n",
      "Forward: [0.45464871 0.84147098 0.99833417 0.99998333 0.99999983]\n"
     ]
    },
    {
     "name": "stderr",
     "output_type": "stream",
     "text": [
      "/tmp/ipykernel_41099/1753696732.py:14: RuntimeWarning: invalid value encountered in true_divide\n",
      "  ys = np.sin(xs) / xs\n"
     ]
    },
    {
     "data": {
      "text/plain": [
       "<matplotlib.lines.Line2D at 0x7f883a936a60>"
      ]
     },
     "execution_count": 449,
     "metadata": {},
     "output_type": "execute_result"
    },
    {
     "data": {
      "image/png": "[encoded data removed]",
      "text/plain": [
       "<Figure size 432x288 with 1 Axes>"
      ]
     },
     "metadata": {
      "needs_background": "light"
     },
     "output_type": "display_data"
    }
   ],
   "source": [
    "# Note que a expressão tem a exigência de que x!=0.\n",
    "backwards = np.array([-2,-1, -1e-1, -1e-2, -1e-3])\n",
    "forward = -backwards\n",
    "\n",
    "y_back = np.sin(backwards) / backwards\n",
    "y_fwd = np.sin(forward) / forward\n",
    "\n",
    "# Vemos que o valor limite da função é 1.\n",
    "print(f'Backwards: {y_back}')\n",
    "print(f'Forward: {y_fwd}')\n",
    "\n",
    "# O mesmo se confirma graficamente.\n",
    "xs = np.linspace(-1,1,101)\n",
    "ys = np.sin(xs) / xs\n",
    "plt.plot(xs, ys)\n",
    "plt.axhline(1,linestyle='--', color='k')"
   ]
  },
  {
   "cell_type": "markdown",
   "id": "6399c9ba-7430-4fdf-bcfa-8fc6f8ae67bb",
   "metadata": {},
   "source": [
    "<p style='font-size:20px'>$$ \\therefore \\lim_{x \\to 0} \\frac{\\sin{x}}{x}=1$$"
   ]
  },
  {
   "cell_type": "markdown",
   "id": "6db871d6-0f52-4892-966a-e071f3507d34",
   "metadata": {},
   "source": [
    "<h3 style='font-size:30px;font-style:italic'> Example IV</h3>\n",
    "<div> \n",
    "    <ul style='font-size:20px'> \n",
    "        <li> \n",
    "            Encontre o valor de: $$\\lim_{x \\to 0} \\sin{\\frac{\\pi}{x}}$$\n",
    "        </li>\n",
    "    </ul>\n",
    "</div>"
   ]
  },
  {
   "cell_type": "code",
   "execution_count": 450,
   "id": "de72dcd4-7956-4fe8-b227-b5d8e87709d4",
   "metadata": {},
   "outputs": [
    {
     "name": "stdout",
     "output_type": "stream",
     "text": [
      "Backwards: [-1.00000000e+00 -1.22464680e-16  1.22464680e-15 -1.96438672e-15\n",
      "  3.21416646e-13]\n",
      "Forward: [ 1.00000000e+00  1.22464680e-16 -1.22464680e-15  1.96438672e-15\n",
      " -3.21416646e-13]\n"
     ]
    },
    {
     "name": "stderr",
     "output_type": "stream",
     "text": [
      "/tmp/ipykernel_41099/4138120810.py:13: RuntimeWarning: divide by zero encountered in true_divide\n",
      "  ys = np.sin(np.pi/xs)\n",
      "/tmp/ipykernel_41099/4138120810.py:13: RuntimeWarning: invalid value encountered in sin\n",
      "  ys = np.sin(np.pi/xs)\n"
     ]
    },
    {
     "data": {
      "text/plain": [
       "[<matplotlib.lines.Line2D at 0x7f883a839280>]"
      ]
     },
     "execution_count": 450,
     "metadata": {},
     "output_type": "execute_result"
    },
    {
     "data": {
      "image/png": "[encoded data removed]",
      "text/plain": [
       "<Figure size 432x288 with 1 Axes>"
      ]
     },
     "metadata": {
      "needs_background": "light"
     },
     "output_type": "display_data"
    }
   ],
   "source": [
    "# Lembre-se x!=0.\n",
    "backwards = np.array([-2,-1, -1e-1, -1e-2, -1e-3])\n",
    "forward = -backwards\n",
    "\n",
    "y_back = np.sin(np.pi/backwards)\n",
    "y_fwd = np.sin(np.pi/forward)\n",
    "\n",
    "# O output é estranho, vamos plotar um gráfico da função.\n",
    "print(f'Backwards: {y_back}')\n",
    "print(f'Forward: {y_fwd}')\n",
    "\n",
    "xs = np.linspace(-1,1,501)\n",
    "ys = np.sin(np.pi/xs)\n",
    "plt.plot(xs,ys)"
   ]
  },
  {
   "cell_type": "markdown",
   "id": "5d001b84-1692-4204-92b4-9cf3e616799f",
   "metadata": {},
   "source": [
    "<div> \n",
    "    <ul style='font-size:20px'> \n",
    "        <li> \n",
    "            Veja que, como f(x) não se aproxima de um valor fixo conforme x tende 0:\n",
    "            \n",
    "            $$\\lim_{x \\to 0} \\sin{\\frac{\\pi}{x}}=\\nexists$$ \n",
    "        </li>\n",
    "    </ul>\n",
    "</div>"
   ]
  },
  {
   "cell_type": "markdown",
   "id": "79aecfa6-cbf5-4c2d-9430-58820fef8bb2",
   "metadata": {},
   "source": [
    "<h3 style='font-size:30px;font-style:italic'> Example V</h3>\n",
    "<div> \n",
    "    <ul style='font-size:20px'> \n",
    "        <li> \n",
    "            Encontre o valor de: $$\\lim_{x \\to 0}(x^3 + \\frac{\\cos{5x}}{10000})$$\n",
    "        </li>\n",
    "    </ul>\n",
    "</div>"
   ]
  },
  {
   "cell_type": "code",
   "execution_count": 451,
   "id": "2d80f020-0b53-4b04-a8c7-21d13ab36313",
   "metadata": {},
   "outputs": [
    {
     "name": "stdout",
     "output_type": "stream",
     "text": [
      "Backwards: [-8.00008391e+00 -9.99971634e-01 -9.12241744e-04  9.88750260e-05\n",
      "  9.99977500e-05]\n",
      "Forward: [-8.00008391e+00 -9.99971634e-01 -9.12241744e-04  9.88750260e-05\n",
      "  9.99977500e-05]\n"
     ]
    },
    {
     "data": {
      "text/plain": [
       "(0.0001, 0.0001)"
      ]
     },
     "execution_count": 451,
     "metadata": {},
     "output_type": "execute_result"
    }
   ],
   "source": [
    "backwards = np.array([-2,-1, -1e-1, -1e-2, -1e-3])\n",
    "forward = -backwards\n",
    "\n",
    "y_back = (backwards**3) + (np.cos(5*backwards)/10000)\n",
    "y_fwd = (backwards**3) + (np.cos(5*forward)/10000)\n",
    "\n",
    "print(f'Backwards: {y_back}')\n",
    "print(f'Forward: {y_fwd}')\n",
    "\n",
    "# Em um primeiro momento, parece que os valores convergem para 0.\n",
    "round(y_fwd[4],6), round(y_back[4],6)"
   ]
  },
  {
   "cell_type": "code",
   "execution_count": 452,
   "id": "5ab1f418-dd31-4b09-a802-eb8b75bf984f",
   "metadata": {},
   "outputs": [
    {
     "name": "stdout",
     "output_type": "stream",
     "text": [
      "Backwards: [-9.12241744e-04  9.88750260e-05  9.99999999e-05  1.00000000e-04\n",
      "  1.00000000e-04]\n",
      "Forward: [-9.12241744e-04  9.88750260e-05  9.99999999e-05  1.00000000e-04\n",
      "  1.00000000e-04]\n"
     ]
    },
    {
     "data": {
      "text/plain": [
       "(0.0001, 0.0001)"
      ]
     },
     "execution_count": 452,
     "metadata": {},
     "output_type": "execute_result"
    }
   ],
   "source": [
    "# Vamos fazer uma segunda verificação, agora com x's ainda mais próximos de 0.\n",
    "backwards = np.array([-1e-1, -1e-2, -1e-5, -1e-10, -1e-20])\n",
    "forward = -backwards\n",
    "\n",
    "y_back = (backwards**3) + (np.cos(5*backwards)/10000)\n",
    "y_fwd = (backwards**3) + (np.cos(5*forward)/10000)\n",
    "\n",
    "print(f'Backwards: {y_back}')\n",
    "print(f'Forward: {y_fwd}')\n",
    "\n",
    "# Mas veja, o valor de 0.0001 ainda persiste!\n",
    "round(y_fwd[4],6), round(y_back[4],6)"
   ]
  },
  {
   "cell_type": "markdown",
   "id": "a33d7c35-79c0-40ad-a2cc-629fa70a4ad4",
   "metadata": {},
   "source": [
    "<h3 style='font-size:30px;font-style:italic'> Example VI</h3>\n",
    "<div> \n",
    "    <ul style='font-size:20px'> \n",
    "        <li> \n",
    "            Dada a função H(t) que quando t&lt;0, H(t)=0 e t≥1, H(t)=1, encontre $$ \\lim_{t \\to 0} H(t)$$\n",
    "        </li>\n",
    "    </ul>\n",
    "</div>"
   ]
  },
  {
   "cell_type": "code",
   "execution_count": 453,
   "id": "e09cf8f2-eb94-4bb4-a9f6-b82ce95b248c",
   "metadata": {},
   "outputs": [
    {
     "name": "stdout",
     "output_type": "stream",
     "text": [
      "-0.1 --> 0\n",
      "-0.01 --> 0\n",
      "-1e-05 --> 0\n",
      "-1e-10 --> 0\n",
      "-1e-20 --> 0\n",
      "0.1 --> 1\n",
      "0.01 --> 1\n",
      "1e-05 --> 1\n",
      "1e-10 --> 1\n",
      "1e-20 --> 1\n"
     ]
    }
   ],
   "source": [
    "backwards = np.array([-1e-1, -1e-2, -1e-5, -1e-10, -1e-20])\n",
    "forward = -backwards\n",
    "\n",
    "for number in backwards:\n",
    "    print(number, '-->',0)\n",
    "    \n",
    "for number in forward:\n",
    "    print(number, '-->',1) "
   ]
  },
  {
   "cell_type": "markdown",
   "id": "fd77517c-35a7-4477-b998-1c64540b6de0",
   "metadata": {},
   "source": [
    "<div> \n",
    "    <ul style='font-size:20px'> \n",
    "        <li> \n",
    "            Em cada sentido, H(t) se aproxima de valores distintos. Portanto, não há um limite único para essa função neste caso!\n",
    "        </li>\n",
    "    </ul>\n",
    "</div>"
   ]
  },
  {
   "cell_type": "markdown",
   "id": "fc1078d6-8549-46fc-801c-7f6ea20c8cd1",
   "metadata": {},
   "source": [
    "<h2 style='font-size:30px'> One-Sided Limits</h2>\n",
    "<div>\n",
    "    <ul style='font-size:20px'> \n",
    "        <li>\n",
    "            É levando em consideração funções como a última apresentada que existem os limites unilaterais. No caso dela, o limite à esquerda é 0,enquanto o seu à direita é 1.\n",
    "            \n",
    "            <p>$\\therefore \\lim_{t \\to 0^{-}} H(t)=0  $ and $ \\lim_{t \\to 0^{+}} H(t)=1 $</p>\n",
    "        </li>\n",
    "        <li> \n",
    "        Para que uma dada função tenha um único limite com um certo valor de abscissa, é necessário haver o seguinte padrão:\n",
    "            <p> <p>$\\lim_{x \\to a} f(x)=L$ <strong>if and only if</strong> $\\lim_{x \\to a^{-}} f(x)=L  $ <strong>and</strong> $ \\lim_{x \\to a^{+}} f(x)=L $</p></p>\n",
    "        </li>\n",
    "    </ul>\n",
    "</div>"
   ]
  },
  {
   "cell_type": "markdown",
   "id": "2cf51725-d7d1-4c9a-b5bb-33de0fad926c",
   "metadata": {},
   "source": [
    "<h3 style='font-size:30px;font-style:italic'> Example VII</h3>"
   ]
  },
  {
   "cell_type": "code",
   "execution_count": 454,
   "id": "675212d5-7754-4870-9ed4-9279e733eeac",
   "metadata": {},
   "outputs": [
    {
     "name": "stdout",
     "output_type": "stream",
     "text": [
      "a: 3\n",
      "b: 1\n",
      "c: Does not exist!\n",
      "d: 2\n",
      "e: 2\n",
      "f: 2\n"
     ]
    }
   ],
   "source": [
    "# a.\n",
    "print('a: 3')\n",
    "\n",
    "# b.\n",
    "print('b: 1')\n",
    "\n",
    "# c.\n",
    "print('c: Does not exist!')\n",
    "\n",
    "# d.\n",
    "print('d: 2')\n",
    "\n",
    "# e.\n",
    "print('e: 2')\n",
    "\n",
    "# f.\n",
    "print('f: 2')"
   ]
  },
  {
   "cell_type": "markdown",
   "id": "94d49916-72cb-49dd-a34a-81be2c844e92",
   "metadata": {},
   "source": [
    "<h2 style='font-size:30px'> Infinite Limits</h2>\n",
    "<h3 style='font-size:30px;font-style:italic'> Example VIII</h3>\n",
    "<div> \n",
    "    <ul style='font-size:20px'> \n",
    "        <li> \n",
    "            Encontre: $ \\lim_{x \\to 0} \\frac{1}{x^2}$\n",
    "        </li>\n",
    "    </ul>\n",
    "</div>"
   ]
  },
  {
   "cell_type": "code",
   "execution_count": 455,
   "id": "308ac8d4-0ddc-4965-8600-9a2263c65e6f",
   "metadata": {
    "tags": []
   },
   "outputs": [
    {
     "name": "stdout",
     "output_type": "stream",
     "text": [
      "Backwards: [2.5e-01 1.0e+00 1.0e+02 1.0e+04 1.0e+06]\n",
      "Forward: [2.5e-01 1.0e+00 1.0e+02 1.0e+04 1.0e+06]\n"
     ]
    },
    {
     "data": {
      "text/plain": [
       "(1000000.0, 1000000.0)"
      ]
     },
     "execution_count": 455,
     "metadata": {},
     "output_type": "execute_result"
    }
   ],
   "source": [
    "backwards = np.array([-2,-1, -1e-1, -1e-2, -1e-3])\n",
    "forward = -backwards\n",
    "\n",
    "y_back = 1/(backwards**2)\n",
    "y_fwd = 1/(forward**2)\n",
    "\n",
    "print(f'Backwards: {y_back}')\n",
    "print(f'Forward: {y_fwd}')\n",
    "\n",
    "# Em um primeiro momento, parece que os valores não aparentam convergit para nenhum número.\n",
    "round(y_fwd[4],6), round(y_back[4],6)"
   ]
  },
  {
   "cell_type": "code",
   "execution_count": 456,
   "id": "6affe21d-7a19-484b-99d2-638b562bad5a",
   "metadata": {},
   "outputs": [
    {
     "name": "stdout",
     "output_type": "stream",
     "text": [
      "Backwards: [1.e+02 1.e+04 1.e+06 1.e+20 1.e+40]\n",
      "Forward: [1.e+02 1.e+04 1.e+06 1.e+20 1.e+40]\n"
     ]
    },
    {
     "name": "stderr",
     "output_type": "stream",
     "text": [
      "/tmp/ipykernel_41099/2725063403.py:16: RuntimeWarning: divide by zero encountered in true_divide\n",
      "  ys = 1/(xs**2)\n"
     ]
    },
    {
     "data": {
      "text/plain": [
       "(0.0, 100.0)"
      ]
     },
     "execution_count": 456,
     "metadata": {},
     "output_type": "execute_result"
    },
    {
     "data": {
      "image/png": "[encoded data removed]",
      "text/plain": [
       "<Figure size 432x288 with 1 Axes>"
      ]
     },
     "metadata": {
      "needs_background": "light"
     },
     "output_type": "display_data"
    }
   ],
   "source": [
    "# Vamos ser mais radicais agora.\n",
    "backwards = np.array([-1e-1, -1e-2, -1e-3, -1e-10, -1e-20])\n",
    "forward = -backwards\n",
    "\n",
    "y_back = 1/(backwards**2)\n",
    "y_fwd = 1/(forward**2)\n",
    "\n",
    "print(f'Backwards: {y_back}')\n",
    "print(f'Forward: {y_fwd}')\n",
    "\n",
    "# O limite continua crescendo!\n",
    "round(y_fwd[4],6), round(y_back[4],6)\n",
    "\n",
    "# Vamos plotar um gráfico para entendermos a situação melhor.\n",
    "xs = np.linspace(-1,1, 1001)\n",
    "ys = 1/(xs**2)\n",
    "\n",
    "plt.plot(xs, ys)\n",
    "plt.ylim([0,100])"
   ]
  },
  {
   "cell_type": "markdown",
   "id": "f67e25ed-8472-47c2-bafb-bdf09a99c898",
   "metadata": {},
   "source": [
    "<div>\n",
    "    <ul style='font-size:20px'> \n",
    "        <li>\n",
    "           Como o denominador é $x^2$, quanto mais aproximamos x de 0, mais o resultado da expressão aumenta, alcançando o infinito gradativamente!\n",
    "        </li>\n",
    "        <li> \n",
    "            Estamos diante de um caso especial de inexistência de limite, que pode ser expresso como: \n",
    "            $$\n",
    "            \\lim_{x \\to 0} \\frac{1}{x^2}=\\infty\n",
    "            $$\n",
    "        </li>\n",
    "    </ul>\n",
    "</div>"
   ]
  },
  {
   "cell_type": "markdown",
   "id": "f9dae7f8-9d3b-432c-9274-00b44d5af43d",
   "metadata": {},
   "source": [
    "<div>\n",
    "    <ul style='font-size:20px'> \n",
    "        <li>\n",
    "           Portanto, quando f(x) alcança valores cada vez maiores conforme nos aproximamos de x, podemos dizer que:\n",
    "            $$\n",
    "            \\lim_{x \\to a} f(x)=\\infty\n",
    "            $$\n",
    "        </li>\n",
    "        <li>\n",
    "            É perfeitamente possível haver outros casos de limites infinitos, como: $\\lim_{x \\to a} f(x)=-\\infty$ <strong> ou</strong> $\\lim_{x \\to a^{-}} f(x)=\\infty$\n",
    "        </li>\n",
    "    </ul>\n",
    "</div>"
   ]
  },
  {
   "cell_type": "code",
   "execution_count": 457,
   "id": "983a5d98-c0fb-4e83-ab06-248d64464774",
   "metadata": {},
   "outputs": [
    {
     "name": "stderr",
     "output_type": "stream",
     "text": [
      "/tmp/ipykernel_41099/1300699186.py:4: RuntimeWarning: invalid value encountered in true_divide\n",
      "  ys = xs/(xs**2)\n"
     ]
    },
    {
     "data": {
      "text/plain": [
       "<matplotlib.lines.Line2D at 0x7f883a7949d0>"
      ]
     },
     "execution_count": 457,
     "metadata": {},
     "output_type": "execute_result"
    },
    {
     "data": {
      "image/png": "[encoded data removed]",
      "text/plain": [
       "<Figure size 432x288 with 1 Axes>"
      ]
     },
     "metadata": {
      "needs_background": "light"
     },
     "output_type": "display_data"
    }
   ],
   "source": [
    "# No caso de limites infinitos unilaterais, a reta vertical cujo valor é 'a' é conhecida como a assintota. Sua particularidade é que\n",
    "# ela e a curva da função tendem a se encontrar apenas no infinito.\n",
    "xs = np.linspace(-1,1,1001)\n",
    "ys = xs/(xs**2)\n",
    "\n",
    "plt.plot(xs, ys)\n",
    "plt.xlim([-0.2,0.5])\n",
    "plt.ylim([0,400])\n",
    "plt.axvline(0, color='k', lw=1)"
   ]
  },
  {
   "cell_type": "markdown",
   "id": "da8efda9-4332-4ede-8294-35b5043e0eb2",
   "metadata": {},
   "source": [
    "<h3 style='font-size:30px;font-style:italic'> Example IX</h3>\n",
    "<div> \n",
    "    <ul style='font-size:20px'> \n",
    "        <li> \n",
    "            Encontre: $ \\lim_{x \\to 3^{+}} \\frac{2x}{x-3}$ <strong> e</strong> $\\lim_{x \\to 3^{-}} \\frac{2x}{x-3}$\n",
    "        </li>\n",
    "    </ul>\n",
    "</div>"
   ]
  },
  {
   "cell_type": "code",
   "execution_count": 458,
   "id": "0e462267-ffec-4e09-b6f0-5ba56fd4b587",
   "metadata": {},
   "outputs": [
    {
     "name": "stdout",
     "output_type": "stream",
     "text": [
      "Backwards: [-4.000e+00 -1.000e+01 -5.800e+01 -5.980e+02 -5.998e+03]\n",
      "Forward: [   8.   14.   62.  602. 6002.]\n"
     ]
    }
   ],
   "source": [
    "backwards=np.array([2,2.5, 2.9, 2.99, 2.999])\n",
    "forward= np.array([4, 3.5, 3.1, 3.01, 3.001])\n",
    "\n",
    "y_back = (2*backwards)/(backwards-3)\n",
    "y_fwd = (2*forward)/(forward-3)\n",
    "\n",
    "# Observe, em ambos os lados, não tendenciamos a um número específico. Obtemos valores cada vez maiores.\n",
    "print(f'Backwards: {y_back}')\n",
    "print(f'Forward: {y_fwd}')"
   ]
  },
  {
   "cell_type": "code",
   "execution_count": 459,
   "id": "2e85aaf4-b718-43b4-9906-c6833e9e5919",
   "metadata": {},
   "outputs": [
    {
     "ename": "ValueError",
     "evalue": "x and y must have same first dimension, but have shapes (101,) and (100,)",
     "output_type": "error",
     "traceback": [
      "\u001b[0;31m---------------------------------------------------------------------------\u001b[0m",
      "\u001b[0;31mValueError\u001b[0m                                Traceback (most recent call last)",
      "\u001b[0;32m/tmp/ipykernel_41099/927285035.py\u001b[0m in \u001b[0;36m<module>\u001b[0;34m\u001b[0m\n\u001b[1;32m      3\u001b[0m \u001b[0mxs\u001b[0m \u001b[0;34m=\u001b[0m \u001b[0mnp\u001b[0m\u001b[0;34m.\u001b[0m\u001b[0mlinspace\u001b[0m\u001b[0;34m(\u001b[0m\u001b[0;36m0\u001b[0m\u001b[0;34m,\u001b[0m\u001b[0;36m6\u001b[0m\u001b[0;34m,\u001b[0m \u001b[0;36m101\u001b[0m\u001b[0;34m)\u001b[0m\u001b[0;34m\u001b[0m\u001b[0;34m\u001b[0m\u001b[0m\n\u001b[1;32m      4\u001b[0m \u001b[0mys\u001b[0m \u001b[0;34m=\u001b[0m \u001b[0;34m(\u001b[0m\u001b[0;36m2\u001b[0m\u001b[0;34m*\u001b[0m\u001b[0mx\u001b[0m\u001b[0;34m)\u001b[0m\u001b[0;34m/\u001b[0m\u001b[0;34m(\u001b[0m\u001b[0mx\u001b[0m\u001b[0;34m-\u001b[0m\u001b[0;36m3\u001b[0m\u001b[0;34m)\u001b[0m\u001b[0;34m\u001b[0m\u001b[0;34m\u001b[0m\u001b[0m\n\u001b[0;32m----> 5\u001b[0;31m \u001b[0mplt\u001b[0m\u001b[0;34m.\u001b[0m\u001b[0mplot\u001b[0m\u001b[0;34m(\u001b[0m\u001b[0mxs\u001b[0m\u001b[0;34m,\u001b[0m \u001b[0mys\u001b[0m\u001b[0;34m)\u001b[0m\u001b[0;34m\u001b[0m\u001b[0;34m\u001b[0m\u001b[0m\n\u001b[0m\u001b[1;32m      6\u001b[0m \u001b[0mplt\u001b[0m\u001b[0;34m.\u001b[0m\u001b[0maxvline\u001b[0m\u001b[0;34m(\u001b[0m\u001b[0;36m3\u001b[0m\u001b[0;34m,\u001b[0m \u001b[0mlw\u001b[0m\u001b[0;34m=\u001b[0m\u001b[0;36m1\u001b[0m\u001b[0;34m,\u001b[0m \u001b[0mcolor\u001b[0m\u001b[0;34m=\u001b[0m\u001b[0;34m'k'\u001b[0m\u001b[0;34m,\u001b[0m \u001b[0mlinestyle\u001b[0m\u001b[0;34m=\u001b[0m\u001b[0;34m'--'\u001b[0m\u001b[0;34m)\u001b[0m\u001b[0;34m\u001b[0m\u001b[0;34m\u001b[0m\u001b[0m\n",
      "\u001b[0;32m~/.local/lib/python3.8/site-packages/matplotlib/pyplot.py\u001b[0m in \u001b[0;36mplot\u001b[0;34m(scalex, scaley, data, *args, **kwargs)\u001b[0m\n\u001b[1;32m   2755\u001b[0m \u001b[0;34m@\u001b[0m\u001b[0m_copy_docstring_and_deprecators\u001b[0m\u001b[0;34m(\u001b[0m\u001b[0mAxes\u001b[0m\u001b[0;34m.\u001b[0m\u001b[0mplot\u001b[0m\u001b[0;34m)\u001b[0m\u001b[0;34m\u001b[0m\u001b[0;34m\u001b[0m\u001b[0m\n\u001b[1;32m   2756\u001b[0m \u001b[0;32mdef\u001b[0m \u001b[0mplot\u001b[0m\u001b[0;34m(\u001b[0m\u001b[0;34m*\u001b[0m\u001b[0margs\u001b[0m\u001b[0;34m,\u001b[0m \u001b[0mscalex\u001b[0m\u001b[0;34m=\u001b[0m\u001b[0;32mTrue\u001b[0m\u001b[0;34m,\u001b[0m \u001b[0mscaley\u001b[0m\u001b[0;34m=\u001b[0m\u001b[0;32mTrue\u001b[0m\u001b[0;34m,\u001b[0m \u001b[0mdata\u001b[0m\u001b[0;34m=\u001b[0m\u001b[0;32mNone\u001b[0m\u001b[0;34m,\u001b[0m \u001b[0;34m**\u001b[0m\u001b[0mkwargs\u001b[0m\u001b[0;34m)\u001b[0m\u001b[0;34m:\u001b[0m\u001b[0;34m\u001b[0m\u001b[0;34m\u001b[0m\u001b[0m\n\u001b[0;32m-> 2757\u001b[0;31m     return gca().plot(\n\u001b[0m\u001b[1;32m   2758\u001b[0m         \u001b[0;34m*\u001b[0m\u001b[0margs\u001b[0m\u001b[0;34m,\u001b[0m \u001b[0mscalex\u001b[0m\u001b[0;34m=\u001b[0m\u001b[0mscalex\u001b[0m\u001b[0;34m,\u001b[0m \u001b[0mscaley\u001b[0m\u001b[0;34m=\u001b[0m\u001b[0mscaley\u001b[0m\u001b[0;34m,\u001b[0m\u001b[0;34m\u001b[0m\u001b[0;34m\u001b[0m\u001b[0m\n\u001b[1;32m   2759\u001b[0m         **({\"data\": data} if data is not None else {}), **kwargs)\n",
      "\u001b[0;32m~/.local/lib/python3.8/site-packages/matplotlib/axes/_axes.py\u001b[0m in \u001b[0;36mplot\u001b[0;34m(self, scalex, scaley, data, *args, **kwargs)\u001b[0m\n\u001b[1;32m   1630\u001b[0m         \"\"\"\n\u001b[1;32m   1631\u001b[0m         \u001b[0mkwargs\u001b[0m \u001b[0;34m=\u001b[0m \u001b[0mcbook\u001b[0m\u001b[0;34m.\u001b[0m\u001b[0mnormalize_kwargs\u001b[0m\u001b[0;34m(\u001b[0m\u001b[0mkwargs\u001b[0m\u001b[0;34m,\u001b[0m \u001b[0mmlines\u001b[0m\u001b[0;34m.\u001b[0m\u001b[0mLine2D\u001b[0m\u001b[0;34m)\u001b[0m\u001b[0;34m\u001b[0m\u001b[0;34m\u001b[0m\u001b[0m\n\u001b[0;32m-> 1632\u001b[0;31m         \u001b[0mlines\u001b[0m \u001b[0;34m=\u001b[0m \u001b[0;34m[\u001b[0m\u001b[0;34m*\u001b[0m\u001b[0mself\u001b[0m\u001b[0;34m.\u001b[0m\u001b[0m_get_lines\u001b[0m\u001b[0;34m(\u001b[0m\u001b[0;34m*\u001b[0m\u001b[0margs\u001b[0m\u001b[0;34m,\u001b[0m \u001b[0mdata\u001b[0m\u001b[0;34m=\u001b[0m\u001b[0mdata\u001b[0m\u001b[0;34m,\u001b[0m \u001b[0;34m**\u001b[0m\u001b[0mkwargs\u001b[0m\u001b[0;34m)\u001b[0m\u001b[0;34m]\u001b[0m\u001b[0;34m\u001b[0m\u001b[0;34m\u001b[0m\u001b[0m\n\u001b[0m\u001b[1;32m   1633\u001b[0m         \u001b[0;32mfor\u001b[0m \u001b[0mline\u001b[0m \u001b[0;32min\u001b[0m \u001b[0mlines\u001b[0m\u001b[0;34m:\u001b[0m\u001b[0;34m\u001b[0m\u001b[0;34m\u001b[0m\u001b[0m\n\u001b[1;32m   1634\u001b[0m             \u001b[0mself\u001b[0m\u001b[0;34m.\u001b[0m\u001b[0madd_line\u001b[0m\u001b[0;34m(\u001b[0m\u001b[0mline\u001b[0m\u001b[0;34m)\u001b[0m\u001b[0;34m\u001b[0m\u001b[0;34m\u001b[0m\u001b[0m\n",
      "\u001b[0;32m~/.local/lib/python3.8/site-packages/matplotlib/axes/_base.py\u001b[0m in \u001b[0;36m__call__\u001b[0;34m(self, data, *args, **kwargs)\u001b[0m\n\u001b[1;32m    310\u001b[0m                 \u001b[0mthis\u001b[0m \u001b[0;34m+=\u001b[0m \u001b[0margs\u001b[0m\u001b[0;34m[\u001b[0m\u001b[0;36m0\u001b[0m\u001b[0;34m]\u001b[0m\u001b[0;34m,\u001b[0m\u001b[0;34m\u001b[0m\u001b[0;34m\u001b[0m\u001b[0m\n\u001b[1;32m    311\u001b[0m                 \u001b[0margs\u001b[0m \u001b[0;34m=\u001b[0m \u001b[0margs\u001b[0m\u001b[0;34m[\u001b[0m\u001b[0;36m1\u001b[0m\u001b[0;34m:\u001b[0m\u001b[0;34m]\u001b[0m\u001b[0;34m\u001b[0m\u001b[0;34m\u001b[0m\u001b[0m\n\u001b[0;32m--> 312\u001b[0;31m             \u001b[0;32myield\u001b[0m \u001b[0;32mfrom\u001b[0m \u001b[0mself\u001b[0m\u001b[0;34m.\u001b[0m\u001b[0m_plot_args\u001b[0m\u001b[0;34m(\u001b[0m\u001b[0mthis\u001b[0m\u001b[0;34m,\u001b[0m \u001b[0mkwargs\u001b[0m\u001b[0;34m)\u001b[0m\u001b[0;34m\u001b[0m\u001b[0;34m\u001b[0m\u001b[0m\n\u001b[0m\u001b[1;32m    313\u001b[0m \u001b[0;34m\u001b[0m\u001b[0m\n\u001b[1;32m    314\u001b[0m     \u001b[0;32mdef\u001b[0m \u001b[0mget_next_color\u001b[0m\u001b[0;34m(\u001b[0m\u001b[0mself\u001b[0m\u001b[0;34m)\u001b[0m\u001b[0;34m:\u001b[0m\u001b[0;34m\u001b[0m\u001b[0;34m\u001b[0m\u001b[0m\n",
      "\u001b[0;32m~/.local/lib/python3.8/site-packages/matplotlib/axes/_base.py\u001b[0m in \u001b[0;36m_plot_args\u001b[0;34m(self, tup, kwargs, return_kwargs)\u001b[0m\n\u001b[1;32m    496\u001b[0m \u001b[0;34m\u001b[0m\u001b[0m\n\u001b[1;32m    497\u001b[0m         \u001b[0;32mif\u001b[0m \u001b[0mx\u001b[0m\u001b[0;34m.\u001b[0m\u001b[0mshape\u001b[0m\u001b[0;34m[\u001b[0m\u001b[0;36m0\u001b[0m\u001b[0;34m]\u001b[0m \u001b[0;34m!=\u001b[0m \u001b[0my\u001b[0m\u001b[0;34m.\u001b[0m\u001b[0mshape\u001b[0m\u001b[0;34m[\u001b[0m\u001b[0;36m0\u001b[0m\u001b[0;34m]\u001b[0m\u001b[0;34m:\u001b[0m\u001b[0;34m\u001b[0m\u001b[0;34m\u001b[0m\u001b[0m\n\u001b[0;32m--> 498\u001b[0;31m             raise ValueError(f\"x and y must have same first dimension, but \"\n\u001b[0m\u001b[1;32m    499\u001b[0m                              f\"have shapes {x.shape} and {y.shape}\")\n\u001b[1;32m    500\u001b[0m         \u001b[0;32mif\u001b[0m \u001b[0mx\u001b[0m\u001b[0;34m.\u001b[0m\u001b[0mndim\u001b[0m \u001b[0;34m>\u001b[0m \u001b[0;36m2\u001b[0m \u001b[0;32mor\u001b[0m \u001b[0my\u001b[0m\u001b[0;34m.\u001b[0m\u001b[0mndim\u001b[0m \u001b[0;34m>\u001b[0m \u001b[0;36m2\u001b[0m\u001b[0;34m:\u001b[0m\u001b[0;34m\u001b[0m\u001b[0;34m\u001b[0m\u001b[0m\n",
      "\u001b[0;31mValueError\u001b[0m: x and y must have same first dimension, but have shapes (101,) and (100,)"
     ]
    },
    {
     "data": {
      "image/png": "[encoded data removed]",
      "text/plain": [
       "<Figure size 432x288 with 1 Axes>"
      ]
     },
     "metadata": {
      "needs_background": "light"
     },
     "output_type": "display_data"
    }
   ],
   "source": [
    "# Observe, conforme x se aproxima de 3 pelo lado negativo, a função se aproxima de -oo; pelo lado psoitivo,\n",
    "# o valor tendenciado é +oo\n",
    "xs = np.linspace(0,6, 101)\n",
    "ys = (2*x)/(x-3)\n",
    "plt.plot(xs, ys)\n",
    "plt.axvline(3, lw=1, color='k', linestyle='--')"
   ]
  },
  {
   "cell_type": "markdown",
   "id": "5482dea7-c2b5-44f2-8246-f884d3b5e826",
   "metadata": {},
   "source": [
    "<p style='font-size:20px'>$\\therefore \\lim_{x \\to 3^{+}} \\frac{2x}{x-3}=+\\infty$ <strong> and</strong> $ \\lim_{x \\to 3^{-}} \\frac{2x}{x-3}=-\\infty$"
   ]
  },
  {
   "cell_type": "markdown",
   "id": "176d9b6d-e587-41f6-a715-98e9514215e0",
   "metadata": {},
   "source": [
    "<h3 style='font-size:30px;font-style:italic'> Example X</h3>\n",
    "<div> \n",
    "    <ul style='font-size:20px'> \n",
    "        <li> \n",
    "            Encontre as assintotas verticais de $f(x) = \\tan{x}$\n",
    "        </li>\n",
    "    </ul>\n",
    "</div>"
   ]
  },
  {
   "cell_type": "code",
   "execution_count": null,
   "id": "a6e75118-f7bb-41a5-9a7b-45e7c336322b",
   "metadata": {},
   "outputs": [],
   "source": [
    "# Como tan x = (sin x / cos x), a função tenderá ao infinito sempre que cos x=0.\n",
    "# Neste caso, todo ângulo 'a' gerado pela fórmula a = (2n + 1)*pi/2 {n sendo um número inteiro}\n",
    "# gera uma assintota vertical x = a."
   ]
  },
  {
   "cell_type": "markdown",
   "id": "53504fb9-2f1b-4c35-86fa-9d56f72a56e9",
   "metadata": {},
   "source": [
    "<h2 style='font-size:30px'> 2.2 Exercises (p. 96)</h2>\n",
    "<h3 style='font-size:30px;font-style:italic'> 5.</h3>"
   ]
  },
  {
   "cell_type": "code",
   "execution_count": null,
   "id": "0aa380f6-7d49-4396-a21e-b410e4b7a909",
   "metadata": {},
   "outputs": [],
   "source": [
    "# a.\n",
    "print('a: 2')\n",
    "\n",
    "# b.\n",
    "print('b: 3')\n",
    "\n",
    "# c.\n",
    "print('c: Not Exists')\n",
    "\n",
    "# d.\n",
    "print('d: 4')\n",
    "\n",
    "# e.\n",
    "print('e: Not Exists')"
   ]
  },
  {
   "cell_type": "markdown",
   "id": "1a23cb62-6190-43a4-9dd1-fb2fa18e71f7",
   "metadata": {},
   "source": [
    "<h3 style='font-size:30px;font-style:italic'> 9.</h3>"
   ]
  },
  {
   "cell_type": "code",
   "execution_count": null,
   "id": "ed8fc732-428d-43b1-a640-93a1fdbaa907",
   "metadata": {},
   "outputs": [],
   "source": [
    "# a.\n",
    "print('a: -oo')\n",
    "\n",
    "# b.\n",
    "print('b: +oo')\n",
    "\n",
    "# c.\n",
    "print('c: +oo')\n",
    "\n",
    "# d.\n",
    "print('d: -oo')\n",
    "\n",
    "# e.\n",
    "print('e: +oo')"
   ]
  },
  {
   "cell_type": "markdown",
   "id": "d8b84d3e-1c99-4ec0-bbed-963cf3b7999a",
   "metadata": {},
   "source": [
    "<h3 style='font-size:30px;font-style:italic'> 29.</h3>"
   ]
  },
  {
   "cell_type": "code",
   "execution_count": null,
   "id": "f5f16dbc-626f-4f53-b9f5-9d3b88e7f7d5",
   "metadata": {},
   "outputs": [],
   "source": [
    "# np.log computa o logaritmo natural (ln).\n",
    "forward = np.array([4,3.5, 3.1, 3.01, 3.001, 3.00001, 3.0000000001])\n",
    "y_fwd = np.log((forward**2)-9)\n",
    "\n",
    "print(f'Forward: {y_fwd}')"
   ]
  },
  {
   "cell_type": "markdown",
   "id": "84d326b9-e277-44c0-9af0-9e92628d7a99",
   "metadata": {},
   "source": [
    "<p style='font-size:20px'> $\\lim_{x \\to 3^{+}} \\ln{(x^2-9)} = -\\infty$</p>"
   ]
  },
  {
   "cell_type": "markdown",
   "id": "cf5b4f5c-aeb3-4b98-b081-bbae5477d2ff",
   "metadata": {},
   "source": [
    "<h2 style='font-size:30px'> 2.3 Calculating Limits Using The Limit Laws</h2>\n",
    "<div>\n",
    "    <ul style='font-size:20px'> \n",
    "        <li>\n",
    "            Vamos agora aprender a refinar a nossa busca pelos limites de funções por meio das chamadas <em> Leis do Limite</em>\n",
    "        </li>\n",
    "        <li> \n",
    "            Considerando <em> c</em> uma constante e que $\\lim_{x \\to a} f(x)$ e $\\lim_{x \\to a} g(x)$ existem:\n",
    "            <ul style='list-style-type:decimal'>\n",
    "                <li> $\\lim_{x \\to a} [f(x)+g(x)]= \\lim_{x \\to a} f(x) + \\lim_{x \\to a} g(x)$</li>\n",
    "                <li> $\\lim_{x \\to a} [f(x)-g(x)]= \\lim_{x \\to a} f(x) - \\lim_{x \\to a} g(x)$</li>\n",
    "                <li> $\\lim_{x \\to a} [cf(x)]= c\\lim_{x \\to a} f(x)$</li>\n",
    "                <li> $\\lim_{x \\to a} [f(x)g(x)]= \\lim_{x \\to a} f(x) * \\lim_{x \\to a} g(x)$</li>\n",
    "                <li> $\\lim_{x \\to a} \\frac{f(x)}{g(x)}= \\frac{\\lim_{x \\to a} f(x)} {\\lim_{x \\to a} g(x)}$; se $\\lim_{x \\to a} g(x) \\neq 0$</li>\n",
    "            </ul>\n",
    "        </li>\n",
    "    </ul>\n",
    "</div>"
   ]
  },
  {
   "cell_type": "markdown",
   "id": "43a0fc00-6fe9-4464-a1a2-819cca39d7b8",
   "metadata": {},
   "source": [
    "<h3 style='font-size:30px;font-style:italic'> Example I</h3>\n",
    "<div> \n",
    "    <ul style='font-size:20px;list-style-type:lower-alpha'> \n",
    "        <li> \n",
    "            Encontre de $\\lim_{x \\to -2} [f(x) + 5g(x)]$\n",
    "        </li>\n",
    "        <li> \n",
    "            Encontre de $\\lim_{x \\to 1} [f(x)g(x)]$\n",
    "        </li>\n",
    "        <li> \n",
    "            Encontre de $\\lim_{x \\to 2} \\frac{f(x)}{g(x)}$\n",
    "        </li>\n",
    "    </ul>\n",
    "</div>"
   ]
  },
  {
   "cell_type": "code",
   "execution_count": null,
   "id": "eae16d26-3edd-4f52-bf28-f180785d2bb6",
   "metadata": {},
   "outputs": [],
   "source": [
    "# a.\n",
    "lim_f_a = 1\n",
    "lim_g_a = 5*-1\n",
    "print(f'a: {lim_f_a + lim_g_a}')\n",
    "\n",
    "# a.\n",
    "lim_f_b = 2\n",
    "lim_g_b = None\n",
    "print(f'b: Not Exists')\n",
    "\n",
    "# a.\n",
    "lim_f_a = 2.5\n",
    "lim_g_a = 0\n",
    "print(f'c: +oo')"
   ]
  },
  {
   "cell_type": "markdown",
   "id": "8af654d7-30c3-4436-9dbd-1af02aff14a9",
   "metadata": {},
   "source": [
    "<div>\n",
    "    <ul style='font-size:20px'> \n",
    "        <li>\n",
    "            Outras leis do limite:\n",
    "        </li>\n",
    "                <li> 6. $\\lim_{x \\to a}[f(x)]^{n}=[\\lim_{x \\to a}f(x)]^{n}$</li>\n",
    "                <li>7. $\\lim_{x \\to a}c=c$ </li>\n",
    "                <li>8. $\\lim_{x \\to a}x=a$ </li>\n",
    "                <li>9. $\\lim_{x \\to a}x^{n}=a^{n} (n \\in \\mathbb{Z}^{+})$ (basta aplicar a lei 6 com a 8) </li>\n",
    "                <li>10. $\\lim_{x \\to a}\\sqrt[n]{x}=\\sqrt[n]{a} (n \\in \\mathbb{Z}^{+})$</li>\n",
    "                <li>11. $\\lim_{x \\to a}\\sqrt[n]{f(x)}=\\sqrt[n]{\\lim_{x \\to a}f(x)}(n \\in \\mathbb{Z}^{+})$ </li>\n",
    "            </ul>\n",
    "    </div>"
   ]
  },
  {
   "cell_type": "markdown",
   "id": "b0e1ba2a-9564-4391-89cd-23efd3771682",
   "metadata": {},
   "source": [
    "<h3 style='font-size:30px;font-style:italic'> Example II</h3>\n",
    "<div> \n",
    "    <ul style='font-size:20px;list-style-type:lower-alpha'> \n",
    "        <li> \n",
    "            Encontre de $\\lim_{x \\to 5}(2x^{2}-3x+4)$\n",
    "        </li>\n",
    "        <li> \n",
    "            Encontre de $\\lim_{x \\to -2}\\frac{x^{3}+2x^{2}-1}{5-3x}$\n",
    "        </li>\n",
    "    </ul>\n",
    "</div>"
   ]
  },
  {
   "cell_type": "code",
   "execution_count": null,
   "id": "0f8f1521-3d72-4125-9560-7ef2d6ac903b",
   "metadata": {},
   "outputs": [],
   "source": [
    "#a.\n",
    "\n",
    "xa = 5\n",
    "lim_a1 = 2*(xa**2)\n",
    "lim_a2 = 3*xa\n",
    "lim_a3 = 4\n",
    "print(f'a: {lim_a1-lim_a2+lim_a3}')\n",
    "\n",
    "# b.\n",
    "xb = -2\n",
    "lim_b1= xb**3\n",
    "lim_b2= 2*(xb**2)\n",
    "lim_b3= -1\n",
    "lim_b4 = 5\n",
    "lim_b5 = 3*xb\n",
    "print(f'{(lim_b1+lim_b2-lim_b3)/(lim_b4-lim_b5)}')"
   ]
  },
  {
   "cell_type": "markdown",
   "id": "c34eb871-879c-4f6a-a26a-2199d1729634",
   "metadata": {},
   "source": [
    "<div>\n",
    "    <ul style='font-size:20px'> \n",
    "        <li>\n",
    "            Observe que calculamos os limites simplesmente substituindo a variável pelo valor de aproximação. Isso pode ser feito apenas quando estamos diante de uma função polinomial e/ou racional que tem <em> a</em> no domínio de <em> f</em>.\n",
    "        </li>\n",
    "        <li> \n",
    "            Neste caso, é válido que $\\lim_{x \\to a}f(x)=f(a)$ e que f(x) é contínua em <em> a</em>.\n",
    "        </li>\n",
    "    </ul>\n",
    "</div>"
   ]
  },
  {
   "cell_type": "markdown",
   "id": "3260ba3b-46e6-4e21-8e67-0c5ee64e2b28",
   "metadata": {},
   "source": [
    "<h3 style='font-size:30px;font-style:italic'> Example III</h3>\n",
    "<div> \n",
    "    <ul style='font-size:20px;list-style-type:lower-alpha'> \n",
    "        <li> \n",
    "            Encontre de $\\lim_{x \\to 1}\\frac{x^{2}-1}{x-1}$\n",
    "        </li>\n",
    "    </ul>\n",
    "</div>\n",
    "<p style='font-size:20px'> $\\lim_{x \\to 1}\\frac{x^{2}-1}{x-1}=\\lim_{x \\to 1}\\frac{(x+1)(x-1)}{x-1}=\\lim_{x \\to 1}x+1$</p>"
   ]
  },
  {
   "cell_type": "code",
   "execution_count": null,
   "id": "be08dac2-231a-40ea-a318-d4338728d9df",
   "metadata": {},
   "outputs": [],
   "source": [
    "# Neste caso, não conseguimos trocar x por 1, mas uma simples reorganização da função de cima nos possibilita calcular o \n",
    "# limite de maneira muito mais fácil.\n",
    "xa = 1\n",
    "lim_a = xa+1\n",
    "print(f'a: {xa+1}')"
   ]
  },
  {
   "cell_type": "markdown",
   "id": "116fe524-5dc0-40cc-ba1f-437c8d3069fa",
   "metadata": {},
   "source": [
    "<h3 style='font-size:30px;font-style:italic'> Example IV</h3>\n",
    "<div> \n",
    "    <ul style='font-size:20px'> \n",
    "        <li> \n",
    "            Encontre $\\lim_{x \\to 1} g(x)$ em que\n",
    "            $\n",
    "            g(x)=x+1$ if  x$\\neq$ 1\n",
    "            <strong>e</strong> \n",
    "            $g(x)=\\pi$ if  x= 1\n",
    "        </li>\n",
    "    </ul>\n",
    "</div>"
   ]
  },
  {
   "cell_type": "code",
   "execution_count": null,
   "id": "24b117c6-9330-4439-9546-0e47dff71f3b",
   "metadata": {},
   "outputs": [],
   "source": [
    "backwards = np.array([0, 0.5, 0.9, 0.99, 0.999])\n",
    "forward =np.array([2,1.1, 1.01, 1.001, 1.0001])\n",
    "\n",
    "y_back = backwards + 1\n",
    "y_fwd = forward+1\n",
    "\n",
    "print(f'Backwards: {y_back}')\n",
    "print(f'Forward: {y_fwd}')"
   ]
  },
  {
   "cell_type": "markdown",
   "id": "78fd9712-069f-4d7e-a5d7-e2533d9e69b3",
   "metadata": {},
   "source": [
    "<p style='font-size:20px'>$\\lim_{x \\to 1} g(x)=2$ "
   ]
  },
  {
   "cell_type": "markdown",
   "id": "1c85e675-3bc8-480c-bf13-3747c60c5437",
   "metadata": {},
   "source": [
    "<h3 style='font-size:30px;font-style:italic'> Example V</h3>\n",
    "<div> \n",
    "    <ul style='font-size:20px'> \n",
    "        <li> \n",
    "            Encontre: $\\lim_{h \\to 0}\\frac{(3+h)^{2}-9}{h}$\n",
    "        </li>\n",
    "    </ul>\n",
    "</div>"
   ]
  },
  {
   "cell_type": "code",
   "execution_count": null,
   "id": "bd3991b1-4a3e-4125-85a5-e63a294878fe",
   "metadata": {},
   "outputs": [],
   "source": [
    "# Aqui, a regra da substituição não vale, já que não há valor para a função quand o h=0.\n",
    "backwards = np.array([-1, -0.5, -0.1, -0.001, -0.0001])\n",
    "forward = -backwards\n",
    "\n",
    "y_back = (((3+backwards)**2) -9)/backwards\n",
    "y_fwd = (((3+forward)**2) -9)/forward\n",
    "\n",
    "print(f'Backwards: {y_back}')\n",
    "print(f'Forward: {y_fwd}')"
   ]
  },
  {
   "cell_type": "markdown",
   "id": "45a9bc59-3b8e-4f66-9e72-b66e360893f0",
   "metadata": {},
   "source": [
    "<p style='font-size:20px'> $\\lim_{h \\to 0}\\frac{(3+h)^{2}-9}{h}=6$"
   ]
  },
  {
   "cell_type": "markdown",
   "id": "3a2ae51f-2178-4595-920d-506d0ba218f2",
   "metadata": {},
   "source": [
    "<h3 style='font-size:30px;font-style:italic'> Example VI</h3>\n",
    "<div> \n",
    "    <ul style='font-size:20px'> \n",
    "        <li> \n",
    "            Encontre: $\\lim_{t \\to 0}\\frac{\\sqrt{t^{2}+9} -3}{t^{2}}$\n",
    "        </li>\n",
    "    </ul>\n",
    "</div>"
   ]
  },
  {
   "cell_type": "code",
   "execution_count": null,
   "id": "575d9736-e0b7-4d87-8693-13c8c8095f60",
   "metadata": {},
   "outputs": [],
   "source": [
    "# Novamente: não substitua t por 0.\n",
    "\n",
    "# Como a equação possui uma raiz, cuidado com valores muito baixos para t, pois o computador pode arredondar t^2 para 0.\n",
    "backwards = np.array([-1, -0.5, -0.1, -0.001, -0.0001])\n",
    "forward = -backwards\n",
    "\n",
    "\n",
    "y_back = (np.sqrt((backwards**2)+9) -3)/ (backwards**2)\n",
    "y_fwd = (np.sqrt((forward**2)+9) -3)/ (forward**2)\n",
    "\n",
    "print(f'Backwards: {y_back}')\n",
    "print(f'Forward: {y_fwd}')"
   ]
  },
  {
   "cell_type": "markdown",
   "id": "5c6907f5-9c94-4bb7-bec0-b9d49abb4865",
   "metadata": {},
   "source": [
    "<p style='font-size:20px'> $\\lim_{t \\to 0}\\frac{\\sqrt{t^{2}+9} -3}{t^{2}}=\\frac{1}{6}$"
   ]
  },
  {
   "cell_type": "markdown",
   "id": "fd817066-7f9c-4114-a814-232ce25064fb",
   "metadata": {},
   "source": [
    "<h3 style='font-size:30px;font-style:italic'> Example VII</h3>\n",
    "<div> \n",
    "    <ul style='font-size:20px'> \n",
    "        <li> \n",
    "            Encontre: $\\lim_{x \\to 0}|x|$\n",
    "        </li>\n",
    "    </ul>\n",
    "</div>"
   ]
  },
  {
   "cell_type": "code",
   "execution_count": null,
   "id": "8e030e13-738e-45dc-81ee-54ab710efef7",
   "metadata": {},
   "outputs": [],
   "source": [
    "backwards = np.array([-1, -0.5, -0.1, -0.001, -0.0001])\n",
    "forward = -backwards\n",
    "\n",
    "y_back = np.abs(backwards)\n",
    "y_fwd = np.abs(forward)\n",
    "\n",
    "# Os valores ficam cada vez mais próximos de 0.\n",
    "print(f'Backwards: {y_back}')\n",
    "print(f'Forward: {y_fwd}')"
   ]
  },
  {
   "cell_type": "markdown",
   "id": "e8bfb16b-85ad-4385-ab40-4c1768eb892e",
   "metadata": {},
   "source": [
    "<p style='font-size:20px'>$\\lim_{x \\to 0}|x|=0$"
   ]
  },
  {
   "cell_type": "markdown",
   "id": "03b7a9cd-b4f3-4f31-9f78-4e9b2c629c52",
   "metadata": {},
   "source": [
    "<h3 style='font-size:30px;font-style:italic'> Example VIII</h3>\n",
    "<div> \n",
    "    <ul style='font-size:20px'> \n",
    "        <li> \n",
    "            Mostre que $\\lim_{x \\to 0}\\frac{|x|}{x}$ não existe!\n",
    "        </li>\n",
    "    </ul>\n",
    "</div>"
   ]
  },
  {
   "cell_type": "code",
   "execution_count": null,
   "id": "398a77e6-680a-45e8-910d-01b1eec1a9c3",
   "metadata": {},
   "outputs": [],
   "source": [
    "backwards = np.array([-1, -0.5, -0.1, -0.001, -0.0001])\n",
    "forward = -backwards\n",
    "\n",
    "y_back = np.abs(backwards)/backwards\n",
    "y_fwd = np.abs(forward)/forward\n",
    "\n",
    "# Quando x<0, a divisão entre o seu módulo do número e ele mesmo resulta em -1; quando x>=0, a expressão se resulta em 1\n",
    "print(f'Backwards: {y_back}')\n",
    "print(f'Forward: {y_fwd}')"
   ]
  },
  {
   "cell_type": "markdown",
   "id": "f25bb190-be16-42b2-91f4-55600bedee86",
   "metadata": {},
   "source": [
    "<h3 style='font-size:30px;font-style:italic'> Example IX</h3>\n",
    "<div> \n",
    "    <ul style='font-size:20px'> \n",
    "        <li> \n",
    "            Dada a função $f(x)=\\sqrt{x-4}$ <strong> se</strong> $x >4$ <strong> e</strong> $f(x)=8 -2x$  <strong> se</strong> $x <4$, determine se $\\lim_{x \\to 4}f(x)$ existe.\n",
    "        </li>\n",
    "    </ul>\n",
    "</div>"
   ]
  },
  {
   "cell_type": "code",
   "execution_count": null,
   "id": "797f3b4e-c6b7-48f5-9eb4-b495fda58bac",
   "metadata": {},
   "outputs": [],
   "source": [
    "backwards = np.array([3, 3.5, 3.9, 3.99, 3.999])\n",
    "forward = np.array([5, 4.5, 4.1, 4.01, 4.001])\n",
    "\n",
    "y_back = 8- (2*backwards)\n",
    "y_fwd = np.sqrt(forward-4)\n",
    "\n",
    "# Os números parecem tender a zero.\n",
    "print(f'Backwards: {y_back}')\n",
    "print(f'Forward: {y_fwd}')"
   ]
  },
  {
   "cell_type": "markdown",
   "id": "fded16fe-f488-4574-ad3b-6fad74c111c2",
   "metadata": {},
   "source": [
    "<div> \n",
    "    <ul style='font-size:20px'> \n",
    "        <li> \n",
    "           Lembre-se, podemos usar a substituição ao invés de fazer os cálculos com arrays do numpy.\n",
    "        </li>\n",
    "    </ul>\n",
    "</div>"
   ]
  },
  {
   "cell_type": "code",
   "execution_count": null,
   "id": "7f2e0cbe-4909-4826-978c-2ae3d63415f6",
   "metadata": {},
   "outputs": [],
   "source": [
    "y_back = 8- (2*4)\n",
    "y_fwd = np.sqrt(4-4)\n",
    "\n",
    "print(f'Backwards: {y_back}')\n",
    "print(f'Forward: {y_fwd}')"
   ]
  },
  {
   "cell_type": "markdown",
   "id": "5117cdd5-3987-4ee9-8233-70c03f236c96",
   "metadata": {},
   "source": [
    "<p style='font-size:20px'> $\\therefore\\lim_{x \\to 4}f(x)=0$"
   ]
  },
  {
   "cell_type": "markdown",
   "id": "d73c0a8e-b52c-41cf-bb93-fd6dd8adc465",
   "metadata": {},
   "source": [
    "<h3 style='font-size:30px;font-style:italic'> Example X (Greatest Integer Function)</h3>\n",
    "<div> \n",
    "    <ul style='font-size:20px'> \n",
    "        <li> \n",
    "            Mostre que $\\lim_{x \\to 3}||x||$ não existe.\n",
    "        </li>\n",
    "    </ul>\n",
    "</div>"
   ]
  },
  {
   "cell_type": "code",
   "execution_count": null,
   "id": "ebac0148-e3aa-4940-adbd-5de491c175af",
   "metadata": {},
   "outputs": [],
   "source": [
    "def greatest_integer_function(n):\n",
    "    if n>=0:\n",
    "        return int(n)\n",
    "    else:\n",
    "        if n == int(n):\n",
    "            return n\n",
    "        else:\n",
    "            return int(n)-1\n",
    "    \n",
    "greatest_integer_function(.9)"
   ]
  },
  {
   "cell_type": "code",
   "execution_count": null,
   "id": "d0b7f462-6089-48bb-bd0f-c420b3bb1127",
   "metadata": {},
   "outputs": [],
   "source": [
    "backwards = np.array([2, 2.5, 2.9, 2.99, 2.99])\n",
    "forward = np.array([4, 3.5, 3.1, 3.01, 3.001])\n",
    "\n",
    "y_back = [greatest_integer_function(n) for n in backwards]\n",
    "y_fwd = [greatest_integer_function(n) for n in forward]\n",
    "\n",
    "# Os limites não são os mesmos! Portanto, não existe um limite bidirecional para a Greatest Integer Function.\n",
    "print(f'Backwards: {y_back}')\n",
    "print(f'Forward: {y_fwd}')"
   ]
  },
  {
   "cell_type": "markdown",
   "id": "1e6c17e5-be4b-40af-913d-d7b70f8b8fcd",
   "metadata": {},
   "source": [
    "<p style='font-size:20px'> $\\lim_{x \\to 3}||x||=\\nexists$"
   ]
  },
  {
   "cell_type": "markdown",
   "id": "fbcdba36-2b48-4335-8c3d-84d42010d56c",
   "metadata": {},
   "source": [
    "<h3 style='font-size:30px;font-style:italic'> Teorema 2</h3>\n",
    "<div> \n",
    "    <ul style='font-size:20px'> \n",
    "        <li> \n",
    "            Se $f(x)\\leq g(x)$ quando x se aproxima de a e os limites de f e g existem conforme x se aproxima de a:\n",
    "            $$\n",
    "            \\lim_{x \\to a}f(x)\\leq \\lim_{x \\to a}g(x)\n",
    "            $$\n",
    "        </li>\n",
    "    </ul>\n",
    "</div>"
   ]
  },
  {
   "cell_type": "markdown",
   "id": "b3efae5b-7784-42d9-8f9f-5fd2f045a247",
   "metadata": {},
   "source": [
    "<h3 style='font-size:30px;font-style:italic'> Squeeze Theorem</h3>\n",
    "<div> \n",
    "    <ul style='font-size:20px'> \n",
    "        <li> \n",
    "            Se $f(x)\\leq g(x)\\leq h(x)$ quando x se aproxima de a e $\\lim_{x \\to a}f(x) = \\lim_{x \\to a}h(x)=L$, então:\n",
    "            $$\n",
    "            \\lim_{x \\to a}g(x)=L\n",
    "            $$\n",
    "        </li>\n",
    "    </ul>\n",
    "</div>\n",
    "<center> \n",
    "    <h1> Ilustração gráfica do Squeeze Theorem</h1>\n",
    "    <img src='squeeze_theorem.png'>\n",
    "</center>"
   ]
  },
  {
   "cell_type": "markdown",
   "id": "91103085-7443-4ef1-80af-8fb169a959aa",
   "metadata": {},
   "source": [
    "<h3 style='font-size:30px;font-style:italic'> Example XI</h3>\n",
    "<div> \n",
    "    <ul style='font-size:20px'> \n",
    "        <li> \n",
    "            Mostre que $\\lim_{x \\to 0} x^{2}\\sin{\\frac{1}{x}}$ \n",
    "        </li>\n",
    "    </ul>\n",
    "</div>"
   ]
  },
  {
   "cell_type": "code",
   "execution_count": null,
   "id": "f82a4b9c-750c-4283-bb9d-e50561892266",
   "metadata": {},
   "outputs": [],
   "source": [
    "backwards = np.array([-1, -.5, -1e1, -1e-2, -1e-3])\n",
    "forward = backwards\n",
    "\n",
    "y_back = (backwards**2) * np.sin(1/backwards)\n",
    "y_fwd = (forward**2) * np.sin(1/forward)\n",
    "\n",
    "print(f'Backwards: {y_back}')\n",
    "print(f'Forward: {y_fwd}')"
   ]
  },
  {
   "cell_type": "markdown",
   "id": "d376b3fd-e9e9-4df4-aba3-c9d921b30a31",
   "metadata": {},
   "source": [
    "<h2 style='font-size:30px'> 2.3 Exercises (p. 106)</h2>\n",
    "<h3 style='font-size:30px;font-style:italic'> 39.</h3>"
   ]
  },
  {
   "cell_type": "code",
   "execution_count": null,
   "id": "5407e2a0-4a85-42e3-a350-c0728f7e138a",
   "metadata": {},
   "outputs": [],
   "source": [
    "left = np.array([2,2.5, 2.9, 2.99, 2.999, 2.99999])\n",
    "right = np.array([4,3.5, 3.1, 3.01, 3.001, 3.00001])\n",
    "\n",
    "y_left = (2*left)+np.abs(left-3)\n",
    "y_right = (2*right)+np.abs(right-3)\n",
    "\n",
    "# O limite é 6.\n",
    "print(f'Left Limit: {y_left}')\n",
    "print(f'Right Limit: {y_right}')"
   ]
  },
  {
   "cell_type": "markdown",
   "id": "189a3b8a-2f23-4254-b460-afd3dc7960c0",
   "metadata": {},
   "source": [
    "<h3 style='font-size:30px;font-style:italic'> 45.</h3>"
   ]
  },
  {
   "cell_type": "code",
   "execution_count": null,
   "id": "3bd1852c-f0bb-453a-a2ba-9108545a8003",
   "metadata": {
    "tags": []
   },
   "outputs": [],
   "source": [
    "import matplotlib.pyplot as plt\n",
    "# a.\n",
    "def signum(x):\n",
    "    if x<0:\n",
    "        return -1\n",
    "    elif x == 0:\n",
    "        return 0\n",
    "    else:\n",
    "        return 1\n",
    "\n",
    "xs = np.linspace(-5, 5, 101)\n",
    "xsl = [number for number in xs if number <0]\n",
    "xsr = [number for number in xs if number >0]\n",
    "ys = np.array([signum(n) for n in xs])\n",
    "plt.plot(xsl,ys[:len(xsl)], color='b')\n",
    "plt.scatter(0,0)\n",
    "plt.plot(xsr,ys[len(xsl)+1:], color='b')\n",
    "\n",
    "# b.\n",
    "# I\n",
    "print('b (I): 1')\n",
    "\n",
    "# II\n",
    "print('b (II): -1')\n",
    "\n",
    "# III\n",
    "print('b (III): Not Exists')\n",
    "\n",
    "# IV\n",
    "left = np.array([-1, 0.5, -1e-1, -1e-2, -1e-3])\n",
    "right = -left\n",
    "\n",
    "y_left = [np.abs(signum(n)) for n in left]\n",
    "y_right = [np.abs(signum(n)) for n in right]\n",
    "\n",
    "print(f'Left Limit: {y_left}')\n",
    "print(f'Right Limit: {y_right}')\n",
    "print('b (IV): 1')"
   ]
  },
  {
   "cell_type": "markdown",
   "id": "52bd8134-3947-4857-82c7-ad5df56dccd8",
   "metadata": {},
   "source": [
    "<h3 style='font-size:30px;font-style:italic'> 55.</h3>"
   ]
  },
  {
   "cell_type": "code",
   "execution_count": null,
   "id": "9f4d9c5f-2e9c-4032-89b9-e0874b57f606",
   "metadata": {},
   "outputs": [],
   "source": [
    "from sympy import symbols, solve, Eq\n",
    "\n",
    "fx = symbols('x')\n",
    "eq = Eq((fx-8)/(1.0001-1),10)\n",
    "solve(eq)"
   ]
  },
  {
   "cell_type": "markdown",
   "id": "39cb2451-7b8e-467e-b5eb-b347d63ce914",
   "metadata": {},
   "source": [
    "<h2 style='font-size:30px'> 2.4 The Precise Definition of a Limit</h2>\n",
    "<p style='font-size:20px'> Decidi pular esta parte para voltar mais tarde.</p>"
   ]
  },
  {
   "cell_type": "markdown",
   "id": "4a2e053d-2f03-4d33-8190-8d9ba4244db9",
   "metadata": {},
   "source": [
    "<h2 style='font-size:30px'> 2.5 Continuity</h2>\n",
    "<div> \n",
    "    <ul style='font-size:20px'> \n",
    "        <li> \n",
    "            Como vimos anteriormente, existem funções cujos limites podem ser medidos apenas por substituição. Para isso, \"a\" deve estar contido no domínio de f(x).\n",
    "        </li>\n",
    "        <li> \n",
    "            Dizemos que uma função é contínua em a, se:\n",
    "            $$\n",
    "            \\lim_{x \\to a}f(x)=f(a)\n",
    "            $$\n",
    "        </li>\n",
    "    </ul>\n",
    "</div>"
   ]
  },
  {
   "cell_type": "markdown",
   "id": "a8874dc8-4960-4396-b47c-8e98a38295e7",
   "metadata": {},
   "source": [
    "<h3 style='font-size:30px;font-style:italic'> Example I</h3>"
   ]
  },
  {
   "cell_type": "code",
   "execution_count": null,
   "id": "9cd409fe-0db3-48f8-aefa-f5b229c8c95b",
   "metadata": {},
   "outputs": [],
   "source": [
    "print(1,3,5)"
   ]
  },
  {
   "cell_type": "markdown",
   "id": "6bf3ad1d-0157-499c-8a79-794e0dec8586",
   "metadata": {},
   "source": [
    "<h3 style='font-size:30px;font-style:italic'> Example II</h3>"
   ]
  },
  {
   "cell_type": "code",
   "execution_count": null,
   "id": "bf9c2602-5873-4d9f-9ea5-0de2b26eebf9",
   "metadata": {},
   "outputs": [],
   "source": [
    "# a\n",
    "print('a: 2')\n",
    "\n",
    "# b\n",
    "print('b: 0')\n",
    "\n",
    "# c\n",
    "print('c: 2')\n",
    "\n",
    "# d\n",
    "print('d: Em todos os inteiros')"
   ]
  },
  {
   "cell_type": "markdown",
   "id": "94020363-2b5f-45a6-ab87-170e2d3d0423",
   "metadata": {},
   "source": [
    "<h3 style='font-size:30px;font-style:italic'> Continuidade Unilateral</h3>\n",
    "<div> \n",
    "    <ul style='font-size:20px'> \n",
    "        <li> \n",
    "            Há limite pela direita se:\n",
    "            $$\n",
    "            \\lim_{x \\to a^{+}}f(x)=f(a)\n",
    "            $$\n",
    "        </li>\n",
    "        <li> \n",
    "            Há limite pela esquerda se:\n",
    "            $$\n",
    "            \\lim_{x \\to a^{-}}f(x)=f(a)\n",
    "            $$\n",
    "        </li>\n",
    "    </ul>\n",
    "</div>"
   ]
  },
  {
   "cell_type": "markdown",
   "id": "087a20cb-53af-4734-a6ae-f0c01ddfa666",
   "metadata": {},
   "source": [
    "<h3 style='font-size:30px;font-style:italic'> Example IV</h3>\n",
    "<div> \n",
    "    <ul style='font-size:20px'> \n",
    "        <li> \n",
    "            Prove que a função $f(x)=1-\\sqrt{1-x^{2}}$ é contínua no intervalo [-1,1]:\n",
    "        </li>\n",
    "    </ul>\n",
    "</div>"
   ]
  },
  {
   "cell_type": "code",
   "execution_count": null,
   "id": "38f8d926-a901-4e21-8a25-a8443800a4a4",
   "metadata": {},
   "outputs": [],
   "source": [
    "# O livro usa uma conta para provar isso. O que podemos fazer no Python é verificar se o numpy retorna erro ao calcular a função\n",
    "# ou se haverá alguma descontinuidade na imagem.\n",
    "xs = np.linspace(-1,1, 1001)\n",
    "ys = 1-np.sqrt(1-(xs**2))\n",
    "\n",
    "plt.plot(xs,ys)"
   ]
  },
  {
   "cell_type": "markdown",
   "id": "f04f362b-945e-4640-b0f9-1efe90c004d0",
   "metadata": {},
   "source": [
    "<h3 style='font-size:30px;font-style:italic'> Teorema</h3>\n",
    "<div> \n",
    "    <ul style='font-size:20px'> \n",
    "        <li>\n",
    "            Sendo f e g funções contínuas em a e c uma constante, então as seguintes funções também serão contínuas em a.\n",
    "            <ul style='list-style-type:decimal'> \n",
    "                <li> \n",
    "                    f+g\n",
    "                </li>\n",
    "                <li> \n",
    "                    f-g\n",
    "                </li>\n",
    "                <li> \n",
    "                    cf ou cg\n",
    "                </li>\n",
    "                <li> \n",
    "                    fg\n",
    "                </li>\n",
    "                <li> \n",
    "                    $\\frac{f}{g}$ se g(a)$\\neq 0$\n",
    "                </li>\n",
    "            </ul>\n",
    "        </li>\n",
    "    </ul>\n",
    "</div>"
   ]
  },
  {
   "cell_type": "markdown",
   "id": "8c2d99eb-2474-49f7-a85e-390d7e189312",
   "metadata": {},
   "source": [
    "<h3 style='font-size:30px;font-style:italic'> Teorema</h3>\n",
    "<div> \n",
    "    <ul style='font-size:20px;list-style-type:decimal'> \n",
    "        <li>\n",
    "            Qualquer função polinomial é contínua em todos os Reais.\n",
    "        </li>\n",
    "        <li>\n",
    "            As funções racionais são contínuas em todo o seu domínio.\n",
    "        </li>\n",
    "    </ul>\n",
    "</div>"
   ]
  },
  {
   "cell_type": "markdown",
   "id": "d6f965a4-fe8e-452f-9bda-b1e18d9a9096",
   "metadata": {},
   "source": [
    "<h3 style='font-size:30px;font-style:italic'> Example V</h3>\n",
    "<div> \n",
    "    <ul style='font-size:20px;list-style-type:decimal'> \n",
    "        <li>\n",
    "            Encontre: $\\lim_{x \\to -2}\\frac{x^{3}+2x^{2}-1}{5-3x}$\n",
    "        </li>\n",
    "    </ul>\n",
    "</div>"
   ]
  },
  {
   "cell_type": "code",
   "execution_count": null,
   "id": "409da6ff-a5c9-460b-af63-eb4a39650f7c",
   "metadata": {},
   "outputs": [],
   "source": [
    "left = np.array([-3, -2.5, -2.1, -2.01, -2.001])\n",
    "right = np.array([-1, -1.5, -1.9, -1.99, -1.999])\n",
    "\n",
    "y_left = ((left**3)+ (2*(left**2)) -1) / (5-(3*left))\n",
    "y_right = ((right**3)+ (2*(right**2)) -1)/ (5-(3*right))\n",
    "\n",
    "print(f'Left: {y_left}')\n",
    "print(f'Right: {y_right}')"
   ]
  },
  {
   "cell_type": "code",
   "execution_count": null,
   "id": "6f99e0f1-cbf6-4b6e-ba61-1c02db768be1",
   "metadata": {},
   "outputs": [],
   "source": [
    "# Descobrindo pelo sympy.\n",
    "from sympy import Eq, symbols, limit\n",
    "x_symbol = symbols('x')\n",
    "y = ((x_symbol**3)+ (2*(x_symbol**2)) -1) / (5-(3*x_symbol))\n",
    "limit(y, x_symbol, -2)"
   ]
  },
  {
   "cell_type": "markdown",
   "id": "dd8859f0-23ac-42f0-a30d-eeaf0475017b",
   "metadata": {},
   "source": [
    "<h3 style='font-size:30px;font-style:italic'> Example VII</h3>\n",
    "<div> \n",
    "    <ul style='font-size:20px'> \n",
    "        <li> \n",
    "            Encontre o valor de: $$\\lim_{x \\to \\pi}\\frac{\\sin{x}}{2+\\cos{x}}$$\n",
    "        </li>\n",
    "    </ul>\n",
    "</div>"
   ]
  },
  {
   "cell_type": "code",
   "execution_count": null,
   "id": "43b2b12c-b14c-40f8-bab7-131c5faab51c",
   "metadata": {},
   "outputs": [],
   "source": [
    "left = np.array([2, 2.5, 3.1, 3.14, 3.1415])\n",
    "right = np.array([4, 3.5, 3.2, 3.15, 3.1416])\n",
    "\n",
    "y_left = np.sin(left)/(2+np.cos(left))\n",
    "y_right = np.sin(right)/(2+np.cos(right))\n",
    "\n",
    "# Por ambos os lados a fução se aproxima de 0.\n",
    "print(f'Left: {y_left}')\n",
    "print(f'Right: {y_right}')"
   ]
  },
  {
   "cell_type": "markdown",
   "id": "eceecaed-d000-4833-8675-2a8dce933ac6",
   "metadata": {},
   "source": [
    "<h2 style='font-size:30px'> 2.6 Limits at Infinity: Horizontal Asymptotes</h2>\n",
    "<div> \n",
    "    <ul style='font-size:20px'> \n",
    "        <li> \n",
    "            Em seções anteriores, exploramos os limites infinitos, que ocorrem quando pudermos aproximar a função cada vez mais do infinito conforme x fica mais perto de um dado valor. Na abscissa desse valor, traçamos uma reta conhecida como assintota vertical.\n",
    "        </li>\n",
    "        <li> \n",
    "            Mas, agora, exploraremos uma situação diferente. Há funções em que, conforme aproximamos x do infinito, o seu valor retornado tende a um número, podendo se traçar em uma ordenada o que chamamos de assintota horizontal.\n",
    "        </li>\n",
    "    </ul>\n",
    "</div>"
   ]
  },
  {
   "cell_type": "code",
   "execution_count": null,
   "id": "7bacd8e2-552f-406a-a1b6-fbdf0878dde5",
   "metadata": {},
   "outputs": [],
   "source": [
    "# Faremos agora uma função em que é possível se traçar essa assintota.\n",
    "xs = np.linspace(-10, 10, 101)\n",
    "ys = ((xs**2)-1) / ((xs**2)+1)\n",
    "\n",
    "# Observe que, conforme x tende à infinidade, a função se aproxima cada vez mais de 1.\n",
    "plt.plot(xs,ys, lw=0.8)\n",
    "plt.axhline(1, lw=0.8, ls='--',c='k')\n",
    "plt.ylim([-2,2 ])"
   ]
  },
  {
   "cell_type": "markdown",
   "id": "ea1e07c8-c1a6-4111-9a02-394a0457f359",
   "metadata": {},
   "source": [
    "<div> \n",
    "    <ul style='font-size:20px'> \n",
    "        <li> \n",
    "            Esta situação pode ser expressa como: $\\lim_{x \\to \\infty}\\frac{x^{2}-1}{x^{2}+1}=1$\n",
    "        </li>\n",
    "        <li> Observe que a função também se aproxima de 1 conforme x tende a $-\\infty$. A notação para essa situação é $\\lim_{x \\to -\\infty}\\frac{x^{2}-1}{x^{2}+1}=1$</li>\n",
    "    </ul>\n",
    "</div>"
   ]
  },
  {
   "cell_type": "markdown",
   "id": "fbe22036-d7cd-4d86-aec0-198f310fe790",
   "metadata": {},
   "source": [
    "<h3 style='font-size:30px;font-style:italic'> Definição de uma Assintota Horizontal</h3>\n",
    "<div> \n",
    "    <ul style='font-size:20px'> \n",
    "        <li> \n",
    "            A reta y=L é uma assintota horizontal de y = f(x) se: $\\lim_{x \\to \\infty}=L$ <strong>ou</strong> $\\lim_{x \\to -\\infty}=L$\n",
    "        </li>\n",
    "    </ul>\n",
    "</div>"
   ]
  },
  {
   "cell_type": "code",
   "execution_count": null,
   "id": "ea908c0b-f4ec-4b3a-a895-7d38c82b3a1c",
   "metadata": {},
   "outputs": [],
   "source": [
    "# A função tanh possui duas assintotas (y=1 e y=-1).\n",
    "xs = np.linspace(-5, 5, 101)\n",
    "ys = np.tanh(xs) \n",
    "\n",
    "plt.plot(xs, ys)"
   ]
  },
  {
   "cell_type": "markdown",
   "id": "d94aeb8c-6d42-4165-87b8-363e2b19767f",
   "metadata": {},
   "source": [
    "<h3 style='font-size:30px;font-style:italic'> Example I</h3>\n",
    "<div> \n",
    "    <ul style='font-size:20px'> \n",
    "        <li> \n",
    "            Resposta: $\\lim_{x \\to -1}f(x)=\\infty$ <strong>e</strong> $\\lim_{x \\to -\\infty}f(x)=2$ <strong>e</strong> $\\lim_{x \\to \\infty}f(x)=4$\n",
    "        </li>\n",
    "    </ul>\n",
    "</div>"
   ]
  },
  {
   "cell_type": "markdown",
   "id": "cf0eae59-3363-462e-8fc8-1025f12ca5e7",
   "metadata": {},
   "source": [
    "<h3 style='font-size:30px;font-style:italic'> Example II</h3>\n",
    "<div> \n",
    "    <ul style='font-size:20px'> \n",
    "        <li> \n",
    "            Encontre: $\\lim_{x \\to \\infty}\\frac{1}{x}$ <strong>e</strong> $\\lim_{x \\to -\\infty}\\frac{1}{x}$\n",
    "        </li>\n",
    "    </ul>\n",
    "</div>"
   ]
  },
  {
   "cell_type": "code",
   "execution_count": null,
   "id": "c508ba2c-8885-4ccc-a18d-d232fc17ec4c",
   "metadata": {
    "tags": []
   },
   "outputs": [],
   "source": [
    "print(f'+oo: {1/np.inf}')\n",
    "print(f'+oo: {1/-np.inf}')"
   ]
  },
  {
   "cell_type": "markdown",
   "id": "caa44839-ccc1-457d-87df-281bd1a30103",
   "metadata": {},
   "source": [
    "<h3 style='font-size:30px;font-style:italic'> Example III</h3>\n",
    "<div> \n",
    "    <ul style='font-size:20px'> \n",
    "        <li> \n",
    "            Encontre: $\\lim_{x \\to \\infty}\\frac{3x^{2}-x-2}{5x^{2}+4x+1}$ \n",
    "        </li>\n",
    "    </ul>\n",
    "</div>"
   ]
  },
  {
   "cell_type": "code",
   "execution_count": null,
   "id": "384c9217-b3a5-4839-a104-942caed9ef20",
   "metadata": {},
   "outputs": [],
   "source": [
    "right = np.logspace(1,10,10)\n",
    "lim = (3*(right**2) - right -2) / (5*(right**2) + (4*right) +1)\n",
    "\n",
    "# 1/6\n",
    "lim"
   ]
  },
  {
   "cell_type": "markdown",
   "id": "dc063fa5-23d9-44c8-9a61-74e3bb85e19a",
   "metadata": {},
   "source": [
    "<h3 style='font-size:30px;font-style:italic'> Example IV</h3>\n",
    "<div> \n",
    "    <ul style='font-size:20px'> \n",
    "        <li> \n",
    "            Encontre as assintotas horizontais e verticais de $f(x)=\\frac{\\sqrt{2x^{2}+1}}{3x-5}$ \n",
    "        </li>\n",
    "    </ul>\n",
    "</div>"
   ]
  },
  {
   "cell_type": "code",
   "execution_count": null,
   "id": "01635491-c561-43e9-a981-3e1f76c5bbd3",
   "metadata": {},
   "outputs": [],
   "source": [
    "horizontal = np.logspace(-10,10,20)\n",
    "vertical = np.array([(5/3)-1, (5/3)-0.5, (5/3)-0.1, (5/3)-0.01, (5/3)-0.0001, (5/3)-0.00000001])\n",
    "y_horizontal = np.sqrt(2*(horizontal**2)+1)/(3*horizontal-5)\n",
    "y_vertical = np.sqrt(2*(vertical**2)+1)/(3*vertical-5)\n",
    "\n",
    "print(f'{y_horizontal}')\n",
    "print(f'{y_vertical}')\n",
    "\n",
    "# Assintotas veritcais: x=5/3\n",
    "# Assintotas horizontais: y=-0.2; y= +-0.47140452 = +-(raiz de 2)/3"
   ]
  },
  {
   "cell_type": "markdown",
   "id": "a26dda68-e935-4efd-8ccd-960d1cf01ab5",
   "metadata": {},
   "source": [
    "<h3 style='font-size:30px;font-style:italic'> Example V</h3>\n",
    "<div> \n",
    "    <ul style='font-size:20px'> \n",
    "        <li> \n",
    "            Encontre: $\\lim_{x \\to \\infty}(\\sqrt{x^{2}+1})-x$ \n",
    "        </li>\n",
    "    </ul>\n",
    "</div>"
   ]
  },
  {
   "cell_type": "code",
   "execution_count": null,
   "id": "05fa6b11-0243-4ac3-a316-47ecb39b0758",
   "metadata": {},
   "outputs": [],
   "source": [
    "x = np.logspace(0, 10, 11)\n",
    "\n",
    "# O limite é 0.\n",
    "limit = np.sqrt(( (x**2) -1))-x\n",
    "limit"
   ]
  },
  {
   "cell_type": "markdown",
   "id": "eabd6e15-6bee-4850-9bb4-d900c2c01aaa",
   "metadata": {},
   "source": [
    "<h3 style='font-size:30px;font-style:italic'> Example VI</h3>\n",
    "<div> \n",
    "    <ul style='font-size:20px'> \n",
    "        <li> \n",
    "            Encontre: $\\lim_{x \\to 0^{-}} e^{\\frac{1}{x}}$ \n",
    "        </li>\n",
    "    </ul>\n",
    "</div>"
   ]
  },
  {
   "cell_type": "code",
   "execution_count": null,
   "id": "fea76ff8-4e25-43ff-9639-ed426efb4f28",
   "metadata": {},
   "outputs": [],
   "source": [
    "left = np.array([-1, -.5, -1e-1, -1e-2, -1e-3, -1e-5, -1e-10])\n",
    "y_left = np.e ** (1/left)\n",
    "\n",
    "# O limite é 0.\n",
    "y_left"
   ]
  },
  {
   "cell_type": "markdown",
   "id": "2ac83eff-e654-4c6a-bebe-8be3a17da5f0",
   "metadata": {},
   "source": [
    "<h3 style='font-size:30px;font-style:italic'> Example VII</h3>\n",
    "<div> \n",
    "    <ul style='font-size:20px'> \n",
    "        <li> \n",
    "            Encontre: $\\lim_{x \\to \\infty} \\sin{x}$ \n",
    "        </li>\n",
    "    </ul>\n",
    "</div>"
   ]
  },
  {
   "cell_type": "code",
   "execution_count": null,
   "id": "4c1b11c0-6ebd-4d6b-a1dd-9ddd756cb0ad",
   "metadata": {},
   "outputs": [],
   "source": [
    "x = np.logspace(0, 10, 11)\n",
    "limit = np.sin(x)\n",
    "\n",
    "# seno é uma fução oscilante. Portanto, não há limite!\n",
    "limit"
   ]
  },
  {
   "cell_type": "markdown",
   "id": "00a76971-3ef2-4144-9975-dbf716554f2a",
   "metadata": {},
   "source": [
    "<h3 style='font-size:30px;font-style:italic'> Infinite Limits at Infinity</h3>\n",
    "<div> \n",
    "    <ul style='font-size:20px'> \n",
    "        <li> \n",
    "            A notação $\\lim_{x \\to \\infty}f(x)=\\infty$ indica que f adquire valores cada vez mais elevados conforme x cresce.\n",
    "        </li>\n",
    "        <li> \n",
    "            Outras notações como $\\lim_{x \\to \\infty^{-}}f(x)=\\infty$ <strong> ou</strong> $\\lim_{x \\to \\infty}f(x)=-\\infty$ também são aceitáveis.\n",
    "        </li>\n",
    "    </ul>\n",
    "</div>"
   ]
  },
  {
   "cell_type": "markdown",
   "id": "6e65691a-4784-4a99-9e16-48ea5d6a628b",
   "metadata": {},
   "source": [
    "<h3 style='font-size:30px;font-style:italic'> Example VIII</h3>\n",
    "<div> \n",
    "    <ul style='font-size:20px'> \n",
    "        <li> \n",
    "            Encontre: $\\lim_{x \\to \\infty} x^{3}$ <strong> e</strong> $\\lim_{x \\to -\\infty} x^{3}$ \n",
    "        </li>\n",
    "    </ul>\n",
    "</div>"
   ]
  },
  {
   "cell_type": "code",
   "execution_count": null,
   "id": "3cbb40be-5be2-4273-8912-e417eb4465cd",
   "metadata": {},
   "outputs": [],
   "source": [
    "inf = np.logspace(0, 10, num=11)\n",
    "inf_ = -inf\n",
    "\n",
    "y_inf = inf**3\n",
    "y_inf_ = inf_ **3\n",
    "\n",
    "# Como os valores da função apenas crescem, podemos dizer que os limites são +oo e -oo, respectivamente.\n",
    "print(f'+oo: {y_inf}')\n",
    "print(f'-oo: {y_inf_}')\n",
    "\n",
    "xs = np.concatenate([inf, inf_])\n",
    "xs.sort()\n",
    "plt.plot(xs, xs**3)"
   ]
  },
  {
   "cell_type": "markdown",
   "id": "d424719a-54ff-466e-9bba-61b2f0e4ba62",
   "metadata": {},
   "source": [
    "<h3 style='font-size:30px;font-style:italic'> Example IX</h3>\n",
    "<div> \n",
    "    <ul style='font-size:20px'> \n",
    "        <li> \n",
    "            Encontre: $\\lim_{x \\to \\infty} (x^{2}-x)$ \n",
    "        </li>\n",
    "    </ul>\n",
    "</div>"
   ]
  },
  {
   "cell_type": "code",
   "execution_count": null,
   "id": "9982ee04-942a-4c95-adf4-7e42ccbbbfe9",
   "metadata": {},
   "outputs": [],
   "source": [
    "inf = np.logspace(0,10,11)\n",
    "y_inf = (inf**2) - inf\n",
    "\n",
    "y_inf"
   ]
  },
  {
   "cell_type": "code",
   "execution_count": null,
   "id": "dc8e7f05-7908-4857-a8b0-270bbd110adf",
   "metadata": {},
   "outputs": [],
   "source": [
    "# Solução pelo sympy.\n",
    "from sympy import symbols, limit, oo\n",
    "x = symbols('x')\n",
    "y = x**2 - x\n",
    "\n",
    "limit(y, x, oo)"
   ]
  },
  {
   "cell_type": "markdown",
   "id": "8a428942-fab8-4076-8125-cadf71fbc716",
   "metadata": {},
   "source": [
    "<h3 style='font-size:30px;font-style:italic'> Example X</h3>\n",
    "<div> \n",
    "    <ul style='font-size:20px'> \n",
    "        <li> \n",
    "            Encontre: $\\lim_{x \\to \\infty} \\frac{x^{2}+x}{3-x}$ \n",
    "        </li>\n",
    "    </ul>\n",
    "</div>"
   ]
  },
  {
   "cell_type": "code",
   "execution_count": null,
   "id": "789d1f13-4274-4151-bce3-337bacdedb7f",
   "metadata": {},
   "outputs": [],
   "source": [
    "inf = np.logspace(0,10,11)\n",
    "y_inf = (inf**2 + inf) / (3 - inf)\n",
    "\n",
    "# -oo\n",
    "y_inf"
   ]
  },
  {
   "cell_type": "markdown",
   "id": "cd2acef4-3aa3-498c-8b44-0b5a2a8f086b",
   "metadata": {},
   "source": [
    "<h3 style='font-size:30px;font-style:italic'> Example XI</h3>\n",
    "<div> \n",
    "    <ul style='font-size:20px'> \n",
    "        <li> \n",
    "            Faça o gráfico de: $y=(x-2)^{4}(x+1)^{3}(x-1)$ \n",
    "        </li>\n",
    "    </ul>\n",
    "</div>"
   ]
  },
  {
   "cell_type": "code",
   "execution_count": null,
   "id": "a48734af-8f67-42f0-b01b-eeed0d63923c",
   "metadata": {},
   "outputs": [],
   "source": [
    "xs = np.linspace(-5, 5, 101)\n",
    "ys = ((xs - 2)**4) * ((xs+1)**3) * (xs - 1)\n",
    "\n",
    "\n",
    "plt.plot(xs, ys)\n",
    "plt.ylim([-20, 20])"
   ]
  },
  {
   "cell_type": "markdown",
   "id": "a19094e6-3978-481e-b464-15f588c4d53a",
   "metadata": {},
   "source": [
    "<h3 style='font-size:30px;font-style:italic'> 2.6 Exercises (p.140)</h3>"
   ]
  },
  {
   "cell_type": "markdown",
   "id": "d68233f6-6f30-4e19-a6ed-ffb6ca29258a",
   "metadata": {},
   "source": [
    "<h4 style='font-size:30px;font-style:italic;text-decoration:underline'> 37</h4>"
   ]
  },
  {
   "cell_type": "code",
   "execution_count": null,
   "id": "45df204d-f6e7-4918-95a0-35d9caddd833",
   "metadata": {},
   "outputs": [],
   "source": [
    "#a.\n",
    "xs = np.linspace(-20, 20, 1001)\n",
    "ys = np.sqrt(xs**2 + xs +1) + xs\n",
    "\n",
    "plt.plot(xs, ys)\n",
    "plt.ylim([-5, 5])\n",
    "\n",
    "# b.\n",
    "left = -np.logspace(0, 10, 11)\n",
    "ys = np.sqrt(left**2 + left +1) + left\n",
    "print(ys)\n",
    "\n",
    "# c.\n",
    "x = symbols('x')\n",
    "y = sqrt(x**2 + x + 1) + x\n",
    "limit(y, x, -oo)"
   ]
  },
  {
   "cell_type": "markdown",
   "id": "5640fdf6-0d52-4a23-9b98-2d36be8fb4c8",
   "metadata": {},
   "source": [
    "<h4 style='font-size:30px;font-style:italic;text-decoration:underline'> 45</h4>"
   ]
  },
  {
   "cell_type": "code",
   "execution_count": null,
   "id": "e1e94bc6-668c-4949-afe0-f599f3a2d4e2",
   "metadata": {},
   "outputs": [],
   "source": [
    "xs = np.linspace(-10, 10, 1001)\n",
    "ys = (3*(xs**3) + 500 * (xs**2)) / ((xs**3)+ 500*(xs**2) + 100*xs + 2000)\n",
    "plt.plot(xs,ys)"
   ]
  },
  {
   "cell_type": "code",
   "execution_count": null,
   "id": "c724c2eb-8d27-45d0-add2-7f38979be0df",
   "metadata": {},
   "outputs": [],
   "source": [
    "# Será que a assintota é y=1?\n",
    "print(ys[[-1, 1]])"
   ]
  },
  {
   "cell_type": "code",
   "execution_count": null,
   "id": "648b258d-d06f-4da6-aabc-29cca9fbb90c",
   "metadata": {},
   "outputs": [],
   "source": [
    "# Não! Precisávamos de um intervalo de valores de x maior!\n",
    "x = symbols('x')\n",
    "y = (3*(x**3) + 500 * (x**2)) / ((x**3)+ 500*(x**2) + 100*x + 2000)\n",
    "limit(y, x, oo), limit(y, x, -oo)"
   ]
  },
  {
   "cell_type": "markdown",
   "id": "705058f1-d5c6-4ea3-a8f2-422e3d598b5f",
   "metadata": {},
   "source": [
    "<h4 style='font-size:30px;font-style:italic;text-decoration:underline'> 59</h4>\n",
    "<div> \n",
    "    <ul style='font-size:20px'> \n",
    "        <li> \n",
    "            a. Com t tendendo ao infinito, $e^{\\frac{-gt}{v^{*}}}$ se torna um valor ínfimo, próximo de 0. Portanto, podemos simplificar a expressão como: $\\lim_{t \\to \\infty}v(t)=v^{*}(1-e^{\\frac{-gt}{v^{*}}})=v^{*}(1-0)=v^{*} \\times 1 = v^{*}$\n",
    "        </li>\n",
    "    </ul>\n",
    "</div>"
   ]
  },
  {
   "cell_type": "markdown",
   "id": "6e37e259-c7ab-4802-a29d-d8d1733eb97f",
   "metadata": {
    "tags": []
   },
   "source": [
    "<h2 style='font-size:30px'> 2.7 Derivatives and Rates of Change</h2>\n",
    "<h3 style='font-size:30px;font-style:italic'> Tangents</h3>\n",
    "<div> \n",
    "    <ul style='font-size:20px'> \n",
    "        <li> \n",
    "            Em uma curva, a inclinação da linha tangente à curva y=f(x) no ponto P(a, f(a)) é obtida por meio de: $\\lim_{x \\to a} \\frac{f(x)-f(a)}{x-a}$, em que x é a abscissa demasiadamente próxima de a. No caso, esse tipo de limite é conhecido como derivada.\n",
    "        </li>\n",
    "    </ul>\n",
    "</div>"
   ]
  },
  {
   "cell_type": "markdown",
   "id": "31d7b340-5b78-40e1-9674-2653f0da2a0c",
   "metadata": {},
   "source": [
    "<h3 style='font-size:30px;font-style:italic'> Example I</h3>\n",
    "<div> \n",
    "    <ul style='font-size:20px'> \n",
    "        <li> \n",
    "            Encontre a equação da reta tangente à $f(x)=x^{2}$ no ponto P(1,1).\n",
    "        </li>\n",
    "    </ul>\n",
    "</div>"
   ]
  },
  {
   "cell_type": "code",
   "execution_count": null,
   "id": "da2ddb50-492b-4e0a-8b90-be73da07ddc3",
   "metadata": {},
   "outputs": [],
   "source": [
    "xs = np.linspace(0.98, 1, 50, endpoint=False)\n",
    "ys = (1**2 - xs **2) / (1 - xs) \n",
    "\n",
    "# A inclinação da reta tendencia a 2.\n",
    "ys"
   ]
  },
  {
   "cell_type": "code",
   "execution_count": null,
   "id": "04c71451-14fc-4177-9518-0c0ce7986e7c",
   "metadata": {},
   "outputs": [],
   "source": [
    "# A equação da reta, em função de x é de:\n",
    "x, y = symbols('x y')\n",
    "eq = Eq(y-1, 2*(x-1))\n",
    "solve(eq, y)"
   ]
  },
  {
   "cell_type": "code",
   "execution_count": null,
   "id": "aab9fec2-c2c0-4662-b3a6-941a36a29b59",
   "metadata": {},
   "outputs": [],
   "source": [
    "from sympy import diff\n",
    "x, y = symbols('x y')\n",
    "eq = Eq(y-1, 2*(x-1))\n",
    "diff(eq, x)"
   ]
  },
  {
   "cell_type": "markdown",
   "id": "731093e7-cd92-43cf-8bbd-d3ef5f200162",
   "metadata": {},
   "source": [
    "<div> \n",
    "    <ul style='font-size:20px'> \n",
    "        <li> \n",
    "            Note que com $h=x-a$, podemos escrever que a inclinação da tangente é: $m=\\lim_{h \\to 0}\\frac{f(a+h)-f(a)}{h}$\n",
    "        </li>\n",
    "    </ul>\n",
    "</div>"
   ]
  },
  {
   "cell_type": "markdown",
   "id": "0a06ff98-009f-4a8e-952c-df3cedbabeb5",
   "metadata": {},
   "source": [
    "<h3 style='font-size:30px;font-style:italic'> Example II</h3>\n",
    "<div> \n",
    "    <ul style='font-size:20px'> \n",
    "        <li> \n",
    "            Encontre a equação da reta tangente à $f(x)=\\frac{3}{x}$ no ponto P(3,1).\n",
    "        </li>\n",
    "    </ul>\n",
    "</div>"
   ]
  },
  {
   "cell_type": "code",
   "execution_count": null,
   "id": "ced66557-405f-43ff-a869-7439a5ebac19",
   "metadata": {},
   "outputs": [],
   "source": [
    "h = np.logspace(0, -10, num=11)\n",
    "ys = ((3/(3+h)) - (3/3)) / h\n",
    "\n",
    "# A inclinação é de aproximadamente -1/3.\n",
    "print(ys)\n",
    "\n",
    "x, y = symbols('x,y')\n",
    "eq = Eq(y-1, ys[-1]*(x-3))\n",
    "solve(eq, y)"
   ]
  },
  {
   "cell_type": "markdown",
   "id": "3a64c28d-384b-4bd4-9043-95d6c96d2372",
   "metadata": {},
   "source": [
    "<h3 style='font-size:30px;font-style:italic'> Velocities</h3>\n",
    "<div> \n",
    "    <ul style='font-size:20px'> \n",
    "        <li> \n",
    "            Encontrar a velocidade instantânea de um objeto é, também, uma tarefa de derivação. No caso, estaríamos derivando uma função que mede o deslocamento em função do tempo.\n",
    "        </li>\n",
    "    </ul>\n",
    "</div>"
   ]
  },
  {
   "cell_type": "markdown",
   "id": "4081fff7-f9f1-4a9d-b6b4-41beebb626f4",
   "metadata": {},
   "source": [
    "<h4 style='font-size:30px;font-style:italic;text-decoration:underline'> Example III</h4>"
   ]
  },
  {
   "cell_type": "code",
   "execution_count": null,
   "id": "cd739d79-6241-404b-9436-bda6fe16ce4c",
   "metadata": {},
   "outputs": [],
   "source": [
    "# a.\n",
    "v = lambda x: 4.9 * (x**2)\n",
    "h = np.logspace(0, -10, num=11)\n",
    "lima = (v(5 + h) - v(5)) / h\n",
    "\n",
    "# 49 m/s.\n",
    "print(lima)\n",
    "\n",
    "# b.\n",
    "t = symbols('t')\n",
    "eq = Eq(4.9*(t**2), 450)\n",
    "t1 = solve(eq)[1]\n",
    "limb = (v(t1 + h) - v(t1)) / h\n",
    "\n",
    "# aprox. 94 m/s.\n",
    "print(limb)"
   ]
  },
  {
   "cell_type": "markdown",
   "id": "cba6a2b0-28fb-476d-9547-d811980af07a",
   "metadata": {},
   "source": [
    "<h3 style='font-size:30px;font-style:italic'> Derivatives</h3>\n",
    "<div> \n",
    "    <ul style='font-size:20px'> \n",
    "        <li> \n",
    "            Segue a notação para derivadas: $$\n",
    "            f'(a)=\\lim_{h \\to 0}=\\frac{f(a+h)-f(a)}{h}\n",
    "            $$\n",
    "            <center><strong> ou</strong></center>\n",
    "            $$\n",
    "            f'(a)=\\lim_{x \\to a}=\\frac{f(x)-f(a)}{x-a}\n",
    "            $$\n",
    "        </li>\n",
    "    </ul>\n",
    "</div>"
   ]
  },
  {
   "cell_type": "markdown",
   "id": "0558c7d3-e872-4eca-980d-68090e5426dc",
   "metadata": {},
   "source": [
    "<h4 style='font-size:30px;font-style:italic;text-decoration:underline'> Example IV</h4>"
   ]
  },
  {
   "cell_type": "code",
   "execution_count": null,
   "id": "cd817362-dbde-4fa2-b4d6-1fe58c052719",
   "metadata": {},
   "outputs": [],
   "source": [
    "# De forma escrita, era só fazer a regra do tombo ou usar a demonstração forma do livro...\n",
    "x = symbols('x')\n",
    "eq = x**2 - 8*x + 9\n",
    "\n",
    "eq.diff()"
   ]
  },
  {
   "cell_type": "markdown",
   "id": "fabbe0b9-8bb0-4b67-add1-77f31c8972ec",
   "metadata": {},
   "source": [
    "<h4 style='font-size:30px;font-style:italic;text-decoration:underline'> Example V</h4>"
   ]
  },
  {
   "cell_type": "code",
   "execution_count": null,
   "id": "1828203a-6033-4428-9f0e-13928d728e42",
   "metadata": {},
   "outputs": [],
   "source": [
    "px, py = (3, -6)\n",
    "x, y = symbols('x y')\n",
    "\n",
    "# Nós já sabemos, da questão anterior, a inclinação da reta.\n",
    "m = 2*px - 8\n",
    "\n",
    "eq = Eq(y-py, m*(x - px))\n",
    "solve(eq, y)"
   ]
  },
  {
   "cell_type": "markdown",
   "id": "827240a0-f193-4195-a8da-7379e752c1b4",
   "metadata": {},
   "source": [
    "<h3 style='font-size:30px;font-style:italic'> Rates of Change</h3>\n",
    "<div> \n",
    "    <ul style='font-size:20px'> \n",
    "        <li> \n",
    "            Nesta seção, o autor explica que a derivada de uma função é reconhecida, também, como a taxa de mudança instantânea de y em função de x.\n",
    "        </li>\n",
    "    </ul>\n",
    "</div>"
   ]
  },
  {
   "cell_type": "markdown",
   "id": "af4bf38a-2ceb-49c4-b806-41bb9ad8afe3",
   "metadata": {},
   "source": [
    "<h4 style='font-size:30px;font-style:italic;text-decoration:underline'> Example VI</h4>"
   ]
  },
  {
   "cell_type": "code",
   "execution_count": null,
   "id": "4763b261-168f-41a5-a697-7ca1df57c84b",
   "metadata": {},
   "outputs": [],
   "source": [
    "# a.\n",
    "print('a: f\\'(x) indica a taxa de mudança instantânea do custo de fabricação por yard.', end='\\n\\n')\n",
    "\n",
    "# b.\n",
    "print('b: Isso significa que, quando x=1000, a taxa de variação instantânea do preço é de 9 vezes a variação de yards.', end='\\n\\n')\n",
    "\n",
    "# c.\n",
    "print('c: f\\'(50) ')"
   ]
  },
  {
   "cell_type": "markdown",
   "id": "7d17a0b8-d050-46c6-ad36-f23ee494a676",
   "metadata": {},
   "source": [
    "<h4 style='font-size:30px;font-style:italic;text-decoration:underline'> Example VII</h4>"
   ]
  },
  {
   "cell_type": "code",
   "execution_count": null,
   "id": "5bdda049-b6e1-4288-a790-4300e9f19eef",
   "metadata": {},
   "outputs": [],
   "source": [
    "# Não conseguimos fazer uma medição muito precisa com os dados fornecidos.\n",
    "D_1995 = 4974\n",
    "D_1985 = 1945.9\n",
    "D_1990 = 3233.3\n",
    "\n",
    "chg_95_90 = (D_1995 - D_1990) / (1995 - 1990)\n",
    "chg_85_90 = (D_1985 - D_1990) / (1985 - 1990)\n",
    "\n",
    "print(f'A derivada provavelmente está entre {chg_95_90} e {chg_85_90}')"
   ]
  },
  {
   "cell_type": "markdown",
   "id": "b41de1ba-e1ae-470d-9eed-3333ea25dd64",
   "metadata": {},
   "source": [
    "<h3 style='font-size:30px;font-style:italic'> 2.7 Exercises (p.150)</h3>"
   ]
  },
  {
   "cell_type": "markdown",
   "id": "d9e8163f-8fab-4a5e-97ce-80c08815902d",
   "metadata": {},
   "source": [
    "<h4 style='font-size:30px;font-style:italic;text-decoration:underline'> 13</h4>"
   ]
  },
  {
   "cell_type": "code",
   "execution_count": null,
   "id": "dc9ef687-5acf-4cb1-86ea-cb58ac6e58c8",
   "metadata": {},
   "outputs": [],
   "source": [
    "# Em derivação, não é necessário usar o objeto 'Eq'.\n",
    "from sympy import symbols\n",
    "x = symbols('x')\n",
    "eq = 40*x - 16*(x**2)\n",
    "\n",
    "# Use 'subs' para trocar a variável por um número.\n",
    "eq.diff(x).subs({x:2})"
   ]
  },
  {
   "cell_type": "markdown",
   "id": "c5644e12-0c1b-4656-8ed8-80fb8313fa8c",
   "metadata": {},
   "source": [
    "<h4 style='font-size:30px;font-style:italic;text-decoration:underline'> 43</h4>"
   ]
  },
  {
   "cell_type": "code",
   "execution_count": null,
   "id": "b044bd3f-6f7d-430c-97bb-a538b6619aa0",
   "metadata": {},
   "outputs": [],
   "source": [
    "x = symbols('x')\n",
    "y = 5000 + 10*x + 0.05*(x**2)\n",
    "y_diff = y.diff()\n",
    "\n",
    "# a.\n",
    "print(f'a: I - {np.array([y_diff.subs({x:n}) for n in range(100, 106)]).mean()}')\n",
    "print(f'a: II - {np.array([y_diff.subs({x:n}) for n in range(100, 102)]).mean()}')\n",
    "\n",
    "# b.\n",
    "print(f'b: {y_diff.subs({x:100})}')"
   ]
  },
  {
   "cell_type": "markdown",
   "id": "a4cd72ff-c4d4-4f2e-88c5-e3887532ac62",
   "metadata": {},
   "source": [
    "<h4 style='font-size:30px;font-style:italic;text-decoration:underline'> 47</h4>"
   ]
  },
  {
   "cell_type": "code",
   "execution_count": null,
   "id": "acbb309d-d0ac-4926-961b-269f592c25f8",
   "metadata": {},
   "outputs": [],
   "source": [
    "print('T\\'(10) é a taxa na qual a temperatura está variando 10 horas após a meia-noite.')"
   ]
  },
  {
   "cell_type": "markdown",
   "id": "051f2bd1-f82f-4f50-b98f-227c01fa610e",
   "metadata": {},
   "source": [
    "<h2 style='font-size:30px'> 2.8 The Derivative As A Function</h2>\n",
    "<div> \n",
    "    <ul style='font-size:20px'> \n",
    "        <li> \n",
    "            Nesta seção, exploraremos as derivadas de uma função como uma função em si. Se trocarmos a letra \"a\" por \"x\" na equação formal de f'(x), obteremos o seguinte:\n",
    "            $$\n",
    "            f'(x)=\\lim_{h \\to 0}=\\frac{f(x+h)-f(x)}{h}\n",
    "            $$\n",
    "        </li>\n",
    "        <li> \n",
    "            Neste caso, o domínio de f' será todo x para o qual f'(x) existe.\n",
    "        </li>\n",
    "    </ul>\n",
    "</div>"
   ]
  },
  {
   "cell_type": "markdown",
   "id": "a6df18f1-3ae0-4a51-a9ec-10bd9df84454",
   "metadata": {},
   "source": [
    "<h4 style='font-size:30px;font-style:italic;text-decoration:underline'> Example I</h4>"
   ]
  },
  {
   "cell_type": "code",
   "execution_count": null,
   "id": "79eb8e7d-9a4b-4268-9c5a-611cc5730e85",
   "metadata": {},
   "outputs": [],
   "source": [
    "# A função da imagem não tem fórmula, então criei essa outra de maneira aleatória para treinar...\n",
    "xs = np.linspace(-20, 20, 1001)\n",
    "ys =  5*xs**3 + 10*xs**2 + 90\n",
    "\n",
    "x = symbols('x')\n",
    "y =  np.array([(5*x**3 + 10*x**2 + 90).diff().subs({x:n}) for n in xs ])\n",
    "\n",
    "plt.plot(xs, ys)\n",
    "plt.plot(xs, y)"
   ]
  },
  {
   "cell_type": "markdown",
   "id": "9decdba1-a868-49f5-a62e-1afc9219b3ce",
   "metadata": {},
   "source": [
    "<h4 style='font-size:30px;font-style:italic;text-decoration:underline'> Example II</h4>"
   ]
  },
  {
   "cell_type": "code",
   "execution_count": null,
   "id": "f7313956-1eb2-4dcd-bd5f-589c3714e88f",
   "metadata": {},
   "outputs": [],
   "source": [
    "# a.\n",
    "x = symbols('x')\n",
    "y = x**3 -x\n",
    "\n",
    "print(y.diff())\n",
    "\n",
    "# b.\n",
    "xs = np.linspace(-2, 2, 1001)\n",
    "ys = np.array([y.subs({x:n}) for n in xs])\n",
    "ys_diff = np.array([y.diff().subs({x:n}) for n in xs])\n",
    "\n",
    "plt.plot(xs, ys)\n",
    "plt.plot(xs, ys_diff)"
   ]
  },
  {
   "cell_type": "markdown",
   "id": "9784f458-be41-4c10-80aa-5726054cc6c3",
   "metadata": {},
   "source": [
    "<h4 style='font-size:30px;font-style:italic;text-decoration:underline'> Example III</h4>"
   ]
  },
  {
   "cell_type": "code",
   "execution_count": null,
   "id": "efcf7528-4108-4494-9f67-aca3bffbee6d",
   "metadata": {},
   "outputs": [],
   "source": [
    "from sympy import symbols, sqrt\n",
    "x = symbols('x')\n",
    "y = sqrt(x)\n",
    "\n",
    "y.diff()"
   ]
  },
  {
   "cell_type": "markdown",
   "id": "8e9d202b-2591-49fa-8075-a95e5f82c29b",
   "metadata": {},
   "source": [
    "<h4 style='font-size:30px;font-style:italic;text-decoration:underline'> Example IV</h4>"
   ]
  },
  {
   "cell_type": "code",
   "execution_count": null,
   "id": "8a4be3ed-dd75-4fea-9afe-7b093343961e",
   "metadata": {},
   "outputs": [],
   "source": [
    "x = symbols('x')\n",
    "y = (1-x)/(2+x)\n",
    "\n",
    "y.diff()"
   ]
  },
  {
   "cell_type": "markdown",
   "id": "50e5303f-a372-4203-af6d-46a3fb576ee7",
   "metadata": {},
   "source": [
    "<h3 style='font-size:30px;font-style:italic'> Other Notations</h3>\n",
    "<div> \n",
    "    <ul style='font-size:20px'> \n",
    "        <li> \n",
    "            Nesta seção, somos apresentados a outras notações de derivadas.\n",
    "        </li>\n",
    "    </ul>\n",
    "</div>\n",
    "<center>\n",
    "<img src='diff_notations.png'>\n",
    "</center>"
   ]
  },
  {
   "cell_type": "markdown",
   "id": "39f635df-2827-4e6c-9831-8bd1051f81fb",
   "metadata": {},
   "source": [
    "<h4 style='font-size:30px;font-style:italic;text-decoration:underline'> Example V</h4>\n",
    "<div> \n",
    "    <ul style='font-size:20px'> \n",
    "        <li> \n",
    "            Onde $f(x)=|x|$ é diferenciável?\n",
    "        </li>\n",
    "    </ul>\n",
    "</div>"
   ]
  },
  {
   "cell_type": "code",
   "execution_count": null,
   "id": "5ee668c1-9bd8-46a2-b204-0c0f286e3704",
   "metadata": {},
   "outputs": [],
   "source": [
    "from sympy import Abs\n",
    "x = symbols('x')\n",
    "y = Abs(x)\n",
    "y.diff()"
   ]
  },
  {
   "cell_type": "markdown",
   "id": "f9adfb9b-8ea2-4f44-b0a6-565f4e7cb982",
   "metadata": {},
   "source": [
    "<h3 style='font-size:30px;font-style:italic'> Theorem</h3>\n",
    "<div> \n",
    "    <ul style='font-size:20px'> \n",
    "        <li> \n",
    "            Se uma função é diferenciável em a, ela também é contínua em a. O inverso dessa frase não é necessariamente verdadeiro!\n",
    "        </li>\n",
    "    </ul>\n",
    "</div>"
   ]
  },
  {
   "cell_type": "markdown",
   "id": "44b641e3-a245-41d8-ab52-82ea4df75309",
   "metadata": {},
   "source": [
    "<h3 style='font-size:30px;font-style:italic'> Higher Derivatives</h3>\n",
    "<div> \n",
    "    <ul style='font-size:20px'> \n",
    "        <li> \n",
    "            Podemos extrair derivadas de derivadas! A notação mais apropriada, nesse caso seria $\\frac{d^{(n)}}{dx^{(n)}}$, em que n é o número de derivações feitas.\n",
    "        </li>\n",
    "    </ul>\n",
    "</div>"
   ]
  },
  {
   "cell_type": "markdown",
   "id": "bc700277-d0bc-4919-99ea-75e1deb16c03",
   "metadata": {},
   "source": [
    "<h4 style='font-size:30px;font-style:italic;text-decoration:underline'> Example VI</h4>\n",
    "<div> \n",
    "    <ul style='font-size:20px'> \n",
    "        <li> \n",
    "            Encontre f''(x) tendo $f(x)=x^{3}-x$\n",
    "        </li>\n",
    "    </ul>\n",
    "</div>"
   ]
  },
  {
   "cell_type": "code",
   "execution_count": null,
   "id": "70d9bac6-5d8f-48aa-b2c8-5f00418f00c2",
   "metadata": {},
   "outputs": [],
   "source": [
    "from sympy import diff\n",
    "x = symbols('x')\n",
    "\n",
    "# Para derivações múltiplas, utilize o método 'diff'.\n",
    "diff(x**3 - x, x, 2)"
   ]
  },
  {
   "cell_type": "markdown",
   "id": "df4fe491-35dc-42e1-9cc4-f5e56b711494",
   "metadata": {},
   "source": [
    "<div> \n",
    "    <ul style='font-size:20px'> \n",
    "        <li> \n",
    "            A função que expressa a aceleração de um objeto é uma derivada múltipla, já que essa é a derivada da função velocidade, que, por sua vez, é a derivada da função que mede o deslocamento com respeito ao tempo.\n",
    "        </li>\n",
    "        <li> \n",
    "            A derivada da aceleração (a terceira derivada de s(t)) é conhecida como jerk. Ela expressa a mudança de aceleração de algo. Um alto jerk pode ser sentido quando, em movimento, pisamos ainda mais fundo no pedal do carro. A sensação de empurrão experimentada se decorre do crescimento repentino da aceleração do veículo.\n",
    "        </li>\n",
    "    </ul>\n",
    "</div>"
   ]
  },
  {
   "cell_type": "markdown",
   "id": "62fc13c1-f360-4ad3-89aa-81d6935493c3",
   "metadata": {},
   "source": [
    "<h4 style='font-size:30px;font-style:italic;text-decoration:underline'> Example VII</h4>\n",
    "<div> \n",
    "    <ul style='font-size:20px'> \n",
    "        <li> \n",
    "            Tendo $f(x)=x^{3}-x$, encontre $f(x)^{(3)}$ e $f(x)^{(4)}$.\n",
    "        </li>\n",
    "    </ul>\n",
    "</div>"
   ]
  },
  {
   "cell_type": "code",
   "execution_count": 3,
   "id": "e3429b2e-149d-4304-aba2-4de29a18bd3a",
   "metadata": {},
   "outputs": [
    {
     "data": {
      "text/plain": [
       "(6, 0)"
      ]
     },
     "execution_count": 3,
     "metadata": {},
     "output_type": "execute_result"
    }
   ],
   "source": [
    "from sympy import Symbol, diff\n",
    "x = Symbol('x')\n",
    "y = x**3 - x\n",
    "\n",
    "diff(y, x,3), diff(y, x,4)"
   ]
  },
  {
   "cell_type": "markdown",
   "id": "3f1ae8f5-b6c1-4234-882d-39056756238a",
   "metadata": {},
   "source": [
    "<h3 style='font-size:30px;font-style:italic'> 2.8 Exercises (p.162)</h3>\n",
    "<h4 style='font-size:30px;font-style:italic;text-decoration:underline'> 33</h4>"
   ]
  },
  {
   "cell_type": "code",
   "execution_count": 32,
   "id": "fc106854-3033-4e38-9031-eaa263a8ce0b",
   "metadata": {},
   "outputs": [
    {
     "name": "stdout",
     "output_type": "stream",
     "text": [
      "U'(t) é a taxa de mudança da taxa de desemprego no decorrer dos anos.\n"
     ]
    },
    {
     "data": {
      "text/html": [
       "<div>\n",
       "<style scoped>\n",
       "    .dataframe tbody tr th:only-of-type {\n",
       "        vertical-align: middle;\n",
       "    }\n",
       "\n",
       "    .dataframe tbody tr th {\n",
       "        vertical-align: top;\n",
       "    }\n",
       "\n",
       "    .dataframe thead th {\n",
       "        text-align: right;\n",
       "    }\n",
       "</style>\n",
       "<table border=\"1\" class=\"dataframe\">\n",
       "  <thead>\n",
       "    <tr style=\"text-align: right;\">\n",
       "      <th></th>\n",
       "      <th>U'(t)</th>\n",
       "    </tr>\n",
       "  </thead>\n",
       "  <tbody>\n",
       "    <tr>\n",
       "      <th>0</th>\n",
       "      <td>-0.8</td>\n",
       "    </tr>\n",
       "    <tr>\n",
       "      <th>1</th>\n",
       "      <td>-0.5</td>\n",
       "    </tr>\n",
       "    <tr>\n",
       "      <th>2</th>\n",
       "      <td>-0.2</td>\n",
       "    </tr>\n",
       "    <tr>\n",
       "      <th>3</th>\n",
       "      <td>-0.5</td>\n",
       "    </tr>\n",
       "    <tr>\n",
       "      <th>4</th>\n",
       "      <td>-0.4</td>\n",
       "    </tr>\n",
       "    <tr>\n",
       "      <th>5</th>\n",
       "      <td>-0.3</td>\n",
       "    </tr>\n",
       "    <tr>\n",
       "      <th>6</th>\n",
       "      <td>-0.2</td>\n",
       "    </tr>\n",
       "    <tr>\n",
       "      <th>7</th>\n",
       "      <td>0.7</td>\n",
       "    </tr>\n",
       "    <tr>\n",
       "      <th>8</th>\n",
       "      <td>1.1</td>\n",
       "    </tr>\n",
       "  </tbody>\n",
       "</table>\n",
       "</div>"
      ],
      "text/plain": [
       "   U'(t)\n",
       "0   -0.8\n",
       "1   -0.5\n",
       "2   -0.2\n",
       "3   -0.5\n",
       "4   -0.4\n",
       "5   -0.3\n",
       "6   -0.2\n",
       "7    0.7\n",
       "8    1.1"
      ]
     },
     "execution_count": 32,
     "metadata": {},
     "output_type": "execute_result"
    }
   ],
   "source": [
    "import pandas as pd\n",
    "import numpy as np\n",
    "\n",
    "unp = pd.DataFrame({'U(t)':[6.9, 6.1, 5.6, 5.4, 4.9, 4.5, 4.2, 4, 4.7, 5.8]}, index=range(1993, 2003))\n",
    "\n",
    "# a.\n",
    "print('U\\'(t) é a taxa de mudança da taxa de desemprego no decorrer dos anos.')\n",
    "\n",
    "# b.\n",
    "unp_diff = pd.DataFrame({'U\\'(t)':[round(unp.iloc[i+1] - unp.iloc[i],4)[0] for i in range(len(unp)-1)]})\n",
    "unp_diff"
   ]
  },
  {
   "cell_type": "markdown",
   "id": "e6decccc-b2dd-4d62-9173-7dd695ffaad7",
   "metadata": {},
   "source": [
    "<h4 style='font-size:30px;font-style:italic;text-decoration:underline'> 39</h4>"
   ]
  },
  {
   "cell_type": "code",
   "execution_count": 51,
   "id": "337d81d5-681f-40fa-8679-5904c954e9d1",
   "metadata": {},
   "outputs": [
    {
     "name": "stdout",
     "output_type": "stream",
     "text": [
      "A taxa de mudança entre x=-1 e x=0 é 0.\n"
     ]
    },
    {
     "data": {
      "image/png": "[encoded data removed]",
      "text/plain": [
       "<Figure size 432x288 with 1 Axes>"
      ]
     },
     "metadata": {
      "needs_background": "light"
     },
     "output_type": "display_data"
    }
   ],
   "source": [
    "from sympy import Abs, sqrt\n",
    "import matplotlib.pyplot as plt\n",
    "x = Symbol('x')\n",
    "y = x + sqrt(Abs(x))\n",
    "\n",
    "xs = np.linspace(-20, 20)\n",
    "ys = xs + np.sqrt(np.abs(xs))\n",
    "\n",
    "plt.plot(xs, ys)\n",
    "plt.xlim([-1,0])\n",
    "\n",
    "print('A taxa de mudança entre x=-1 e x=0 é 0.')\n",
    "#plt.ylim([-2, 2])"
   ]
  },
  {
   "cell_type": "markdown",
   "id": "88238970-905e-4a1b-92ca-57aa80f30918",
   "metadata": {},
   "source": [
    "<h4 style='font-size:30px;font-style:italic;text-decoration:underline'> 47</h4>"
   ]
  },
  {
   "cell_type": "code",
   "execution_count": 81,
   "id": "c625f3f0-2ec7-4028-a84b-9d07ab3a9147",
   "metadata": {},
   "outputs": [
    {
     "name": "stdout",
     "output_type": "stream",
     "text": [
      "Sim, os gráficos respeitam as interpretações geométricas de suas derivadas.\n"
     ]
    },
    {
     "data": {
      "image/png": "[encoded data removed]",
      "text/plain": [
       "<Figure size 432x288 with 1 Axes>"
      ]
     },
     "metadata": {
      "needs_background": "light"
     },
     "output_type": "display_data"
    }
   ],
   "source": [
    "x = Symbol('x')\n",
    "y = 2*x**2 - x**3\n",
    "\n",
    "for i in range(5):\n",
    "    xs = np.linspace(-10, 10, 101)\n",
    "    ys = [diff(y, x, i).subs({x:n}) for n in xs]\n",
    "    plt.plot(xs, ys, label = f'f(x){i}')\n",
    "    plt.legend()\n",
    "print('Sim, os gráficos respeitam as interpretações geométricas de suas derivadas.')"
   ]
  },
  {
   "cell_type": "markdown",
   "id": "cbdfeaca-7763-449b-aa0a-fee479fbc614",
   "metadata": {},
   "source": [
    "<p style='color:red'> Fazer uns 5 exercicios da seção da página 167/p>"
   ]
  }
 ],
 "metadata": {
  "kernelspec": {
   "display_name": "Python 3 (ipykernel)",
   "language": "python",
   "name": "python3"
  },
  "language_info": {
   "codemirror_mode": {
    "name": "ipython",
    "version": 3
   },
   "file_extension": ".py",
   "mimetype": "text/x-python",
   "name": "python",
   "nbconvert_exporter": "python",
   "pygments_lexer": "ipython3",
   "version": "3.8.10"
  }
 },
 "nbformat": 4,
 "nbformat_minor": 5
}
