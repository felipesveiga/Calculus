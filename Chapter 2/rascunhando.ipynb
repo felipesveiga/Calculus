{
 "cells": [
  {
   "cell_type": "markdown",
   "id": "5b42888c-9777-46f4-b300-ea92ae11ceaf",
   "metadata": {},
   "source": [
    "<h1 style='font-size:40px'> Limits and Derivatives</h1>"
   ]
  },
  {
   "cell_type": "markdown",
   "id": "a5eb6a46-8328-485f-9ac6-8610496dcb44",
   "metadata": {},
   "source": [
    "$$\n",
    "  \\int_0^\\infty \\frac{x^3}{e^x-1}\\,dx = \\frac{\\pi^4}{15}\n",
    "$$"
   ]
  },
  {
   "cell_type": "markdown",
   "id": "2a9cba6c-1fca-4926-843a-678667c0f7a4",
   "metadata": {},
   "source": [
    "$$\n",
    "  \\int_0^\\infty \\frac{x^3}{e^x-1}\\,dx = \\frac{\\pi^4}{15}\n",
    "$$"
   ]
  },
  {
   "cell_type": "markdown",
   "id": "adea467d-9a55-4de0-9402-c6975f771abb",
   "metadata": {},
   "source": [
    "$$\n",
    "\\lim_{x \\to a} =\n",
    "$$"
   ]
  }
 ],
 "metadata": {
  "kernelspec": {
   "display_name": "Python 3 (ipykernel)",
   "language": "python",
   "name": "python3"
  },
  "language_info": {
   "codemirror_mode": {
    "name": "ipython",
    "version": 3
   },
   "file_extension": ".py",
   "mimetype": "text/x-python",
   "name": "python",
   "nbconvert_exporter": "python",
   "pygments_lexer": "ipython3",
   "version": "3.8.10"
  }
 },
 "nbformat": 4,
 "nbformat_minor": 5
}
