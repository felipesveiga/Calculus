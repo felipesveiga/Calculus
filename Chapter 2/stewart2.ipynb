{
 "cells": [
  {
   "cell_type": "markdown",
   "id": "9d2493fa-3cb0-4438-bf0b-365244842512",
   "metadata": {},
   "source": [
    "<h1 style='font-size:40px'>Limits & Derivatives </h1>\n",
    "<div> \n",
    "    <ul style='font-size:20px'> \n",
    "        <li> \n",
    "            O limite consiste no valor máximo (limite) retornado por uma função conforme o valor de suas variáveis se aproxima de um número específico.\n",
    "        </li>\n",
    "    </ul>\n",
    "</div>"
   ]
  },
  {
   "cell_type": "code",
   "execution_count": 12,
   "id": "3516f2d1-d469-484e-8ab3-66947bcca7e7",
   "metadata": {},
   "outputs": [
    {
     "data": {
      "text/html": [
       "<div>\n",
       "<style scoped>\n",
       "    .dataframe tbody tr th:only-of-type {\n",
       "        vertical-align: middle;\n",
       "    }\n",
       "\n",
       "    .dataframe tbody tr th {\n",
       "        vertical-align: top;\n",
       "    }\n",
       "\n",
       "    .dataframe thead th {\n",
       "        text-align: right;\n",
       "    }\n",
       "</style>\n",
       "<table border=\"1\" class=\"dataframe\">\n",
       "  <thead>\n",
       "    <tr style=\"text-align: right;\">\n",
       "      <th></th>\n",
       "      <th>x</th>\n",
       "      <th>m</th>\n",
       "    </tr>\n",
       "  </thead>\n",
       "  <tbody>\n",
       "    <tr>\n",
       "      <th>0</th>\n",
       "      <td>3.0000</td>\n",
       "      <td>4.0000</td>\n",
       "    </tr>\n",
       "    <tr>\n",
       "      <th>1</th>\n",
       "      <td>2.0000</td>\n",
       "      <td>3.0000</td>\n",
       "    </tr>\n",
       "    <tr>\n",
       "      <th>2</th>\n",
       "      <td>1.5000</td>\n",
       "      <td>2.5000</td>\n",
       "    </tr>\n",
       "    <tr>\n",
       "      <th>3</th>\n",
       "      <td>1.1000</td>\n",
       "      <td>2.1000</td>\n",
       "    </tr>\n",
       "    <tr>\n",
       "      <th>4</th>\n",
       "      <td>1.0100</td>\n",
       "      <td>2.0100</td>\n",
       "    </tr>\n",
       "    <tr>\n",
       "      <th>5</th>\n",
       "      <td>1.0001</td>\n",
       "      <td>2.0001</td>\n",
       "    </tr>\n",
       "  </tbody>\n",
       "</table>\n",
       "</div>"
      ],
      "text/plain": [
       "        x       m\n",
       "0  3.0000  4.0000\n",
       "1  2.0000  3.0000\n",
       "2  1.5000  2.5000\n",
       "3  1.1000  2.1000\n",
       "4  1.0100  2.0100\n",
       "5  1.0001  2.0001"
      ]
     },
     "execution_count": 12,
     "metadata": {},
     "output_type": "execute_result"
    }
   ],
   "source": [
    "# Um caso-base para o aprendizado de limite é calcular a inclinação da reta tangente à parábola (x^2) no ponto (1,1).\n",
    "import pandas as pd\n",
    "import numpy as np\n",
    "i = 0\n",
    "ms = pd.DataFrame({'x':[], 'm':[]})\n",
    "for x in [3,2,1.5, 1.1, 1.01, 1.0001]:\n",
    "    # Calculando a tangente.\n",
    "    m = ((x ** 2) - 1) / (x - 1)\n",
    "    ms.loc[i] = (x,m)\n",
    "    i+=1\n",
    "    \n",
    "ms"
   ]
  },
  {
   "cell_type": "markdown",
   "id": "d5be3f71-7834-4dac-aec1-e276143ed7c5",
   "metadata": {},
   "source": [
    "<div> \n",
    "    <ul style='font-size:20px'> \n",
    "        <li> \n",
    "            Observe que quanto mais x se aproxima de 1 - o que faz com que &#8710;x fique perto de 0 - a tangente também passa a ter um valor cada vez mais próximo de 2.\n",
    "        </li>\n",
    "    </ul>\n",
    "</div>"
   ]
  },
  {
   "cell_type": "code",
   "execution_count": 21,
   "id": "2d99ec78-d9ee-41f8-aaed-c5d170a7fed2",
   "metadata": {},
   "outputs": [
    {
     "data": {
      "text/plain": [
       "[2*x - 1]"
      ]
     },
     "execution_count": 21,
     "metadata": {},
     "output_type": "execute_result"
    }
   ],
   "source": [
    "# Descobrindo a equação da tangente. \n",
    "from sympy import Eq, symbols, solve\n",
    "x,y = symbols('x,y')\n",
    "eq = Eq(2*(x-1),y-1)\n",
    "solve(eq, y)"
   ]
  },
  {
   "cell_type": "code",
   "execution_count": 29,
   "id": "ae9b7ef9-9cd6-4497-8ca0-c7eab8532d5b",
   "metadata": {},
   "outputs": [
    {
     "data": {
      "text/plain": [
       "Text(0.5, 10, 'Ponto de Tangência')"
      ]
     },
     "execution_count": 29,
     "metadata": {},
     "output_type": "execute_result"
    },
    {
     "data": {
      "image/png": "[encoded data removed]",
      "text/plain": [
       "<Figure size 432x288 with 1 Axes>"
      ]
     },
     "metadata": {
      "needs_background": "light"
     },
     "output_type": "display_data"
    }
   ],
   "source": [
    "import matplotlib.pyplot as plt\n",
    "x = np.linspace(0,10, 101)\n",
    "y1 = x ** 2\n",
    "y2 = 2*x -1\n",
    "\n",
    "plt.plot(x, y1)\n",
    "plt.plot(x,y2)\n",
    "plt.scatter(1,1)\n",
    "plt.text(0.5,10, 'Ponto de Tangência')"
   ]
  },
  {
   "cell_type": "markdown",
   "id": "189340b2-50d5-46b5-8d20-50e407a1a70e",
   "metadata": {},
   "source": [
    "<h2 style='font-size:30px'> Exercícios página 87</h2>"
   ]
  },
  {
   "cell_type": "code",
   "execution_count": 61,
   "id": "dc892653-5132-425d-b11d-8c08cb6246fa",
   "metadata": {},
   "outputs": [
    {
     "name": "stdout",
     "output_type": "stream",
     "text": [
      "a:\n",
      "t=5; slope=-44.4\n",
      "t=10; slope=-38.8\n",
      "t=20; slope=-27.8\n",
      "t=25; slope=-22.2\n",
      "t=30; slope=-16.666666666666668\n",
      "\n",
      "\n",
      "b: Tangente = -33.3\n"
     ]
    },
    {
     "data": {
      "text/plain": [
       "<AxesSubplot:>"
      ]
     },
     "execution_count": 61,
     "metadata": {},
     "output_type": "execute_result"
    },
    {
     "data": {
      "image/png": "[encoded data removed]",
      "text/plain": [
       "<Figure size 432x288 with 1 Axes>"
      ]
     },
     "metadata": {
      "needs_background": "light"
     },
     "output_type": "display_data"
    }
   ],
   "source": [
    "# 1.\n",
    "tank = pd.DataFrame({'t (min)':[i*5 for i in range(1,7)],\n",
    "                    'V (gal)':[694, 444, 250, 111, 28,0]})\n",
    "\n",
    "# a.\n",
    "xp = 15\n",
    "yp = 250\n",
    "print('a:')\n",
    "for i in range(len(tank)):\n",
    "    if i != 2:\n",
    "        m = (tank.iloc[i,1] - yp) / (tank.iloc[i,0] - xp)\n",
    "        print(f't={tank.iloc[i,0]}; slope={m}')\n",
    "        \n",
    "# b.\n",
    "# Vamos calcular a média das inclinações quando t do ponto Q é 10 e 20.\n",
    "t10 = (tank.iloc[1,1] - yp) / (tank.iloc[1,0] - xp)\n",
    "t20 = (tank.iloc[3,1] - yp) / (tank.iloc[3,0] - xp)\n",
    "print('\\n')\n",
    "print(f'b: Tangente = {(t10 + t20)/2}')\n",
    "\n",
    "# c.\n",
    "tank['V (gal)'].plot()"
   ]
  },
  {
   "cell_type": "code",
   "execution_count": 68,
   "id": "05217317-53e5-4569-8f48-eb2820cd944e",
   "metadata": {},
   "outputs": [
    {
     "name": "stdout",
     "output_type": "stream",
     "text": [
      "a\n",
      "-32.0\n",
      "-25.600000000000023\n",
      "-24.799999999999898\n",
      "-24.159999999999116\n",
      "\n",
      "\n",
      "b: -24.000001985768904\n"
     ]
    }
   ],
   "source": [
    "# 5.\n",
    "# a.\n",
    "print('a')\n",
    "x = np.array([0.5, 0.1, 0.05, 0.01])\n",
    "t = 2\n",
    "height_i = 40 * t - 16 * (t**2)\n",
    "for delta in x:\n",
    "    time_elapsed = t + delta\n",
    "    height_f = (40 * time_elapsed) - (16 * (time_elapsed**2))\n",
    "    m = (height_f - height_i) / (delta)\n",
    "    print(m)\n",
    "    \n",
    "print('\\n')\n",
    "# b.\n",
    "delta = 10 ** -10\n",
    "time_elapsed = t+delta\n",
    "height_f = (40 * time_elapsed) - (16 * (time_elapsed **2))\n",
    "m = (height_f - height_i) / delta\n",
    "print(f'b: {m}')"
   ]
  },
  {
   "cell_type": "code",
   "execution_count": 114,
   "id": "8b667c04-603d-4a96-9a3f-f128e03d6eb2",
   "metadata": {},
   "outputs": [
    {
     "name": "stdout",
     "output_type": "stream",
     "text": [
      "a:\n",
      "x=2.0; m = 0.0\n",
      "x=1.5; m = 1.7321\n",
      "x=1.4; m = -1.0847\n",
      "x=1.3; m = -2.7433\n",
      "x=1.2; m = 4.3301\n",
      "x=1.1; m = -2.8173\n",
      "x=0.9; m = 3.4202\n",
      "x=0.8; m = -5.0\n",
      "x=0.7; m = -2.6061\n",
      "x=0.6; m = -2.1651\n",
      "x=0.5; m = 0.0\n",
      "\n",
      "b:\n"
     ]
    },
    {
     "data": {
      "image/png": "[encoded data removed]",
      "text/plain": [
       "<Figure size 432x288 with 1 Axes>"
      ]
     },
     "metadata": {
      "needs_background": "light"
     },
     "output_type": "display_data"
    },
    {
     "name": "stdout",
     "output_type": "stream",
     "text": [
      "\n",
      "c:\n",
      "-31.415946165998022\n"
     ]
    }
   ],
   "source": [
    "# 9.\n",
    "px = 1\n",
    "py = 0\n",
    "ys = []\n",
    "#a.\n",
    "print('a:')\n",
    "xs = sorted(np.array([i/10 for i in range(15, 4,-1) if i !=10] + [2]), reverse=True)\n",
    "for x in xs:\n",
    "    y = np.sin(10 * np.pi / x)\n",
    "    # Colocando os y's e uma lista para agilizar a resolução do item b.\n",
    "    ys.append(y)\n",
    "    m = round((y - py) / (x - px),4)\n",
    "    print(f'x={x}; m = {m}')\n",
    "\n",
    "# As inclinações não estão chegando em um limite!\n",
    "print('\\nb:')\n",
    "# b.\n",
    "xs_b = np.linspace(0.5,1.5, 100)\n",
    "ys_b = np.sin(10*np.pi / xs_b)\n",
    "plt.plot(xs_b, ys_b)\n",
    "plt.show()\n",
    "# Pois ora o valor de y é maior do que 0, ora menor, o que faz com que a secante possa ter inclinações tanto positivas, quanto negativas.\n",
    "print('\\nc:')\n",
    "# c.\n",
    "delta = 10 ** -10\n",
    "x = px +delta\n",
    "y = np.sin(10*np.pi / x)\n",
    "m = (y - py) / (x - px)\n",
    "print(m)"
   ]
  },
  {
   "cell_type": "markdown",
   "id": "51a45f07-2e08-46bd-8aaf-df95c9ea2fcb",
   "metadata": {},
   "source": [
    "<h2 style='font-size:30px'> The Limit of a Function</h2>\n",
    "<div>\n",
    "    <ul style='font-size:20px'> \n",
    "        <li>\n",
    "            Vamos aprender um pouco sobre notações. Digamos que nós temos a função quadrática e quiséssemos saber qual valor ela retornará usando valores cada vez mais próximos de 2.\n",
    "            $$\n",
    "            f(x) = x^2 - x + 2\n",
    "            $$\n",
    "        </li>\n",
    "    </ul>\n",
    "</div>"
   ]
  },
  {
   "cell_type": "code",
   "execution_count": 121,
   "id": "8d3000ea-228a-41ea-98cc-de9726ef7e4f",
   "metadata": {},
   "outputs": [
    {
     "name": "stdout",
     "output_type": "stream",
     "text": [
      "8.0\n",
      "5.75\n",
      "4.8125\n",
      "4.3100000000000005\n",
      "4.030099999999999\n",
      "4.003000999999999\n",
      "4.00030001\n",
      "\n",
      "\n",
      "2.0\n",
      "2.75\n",
      "3.3125\n",
      "3.71\n",
      "3.9701000000000004\n",
      "3.9970010000000005\n",
      "3.9997000099999998\n"
     ]
    }
   ],
   "source": [
    "# Vamos investigar isso.\n",
    "deltas = np.array([1, 0.5, 0.25, 0.1, 0.01, 0.001, 0.0001])\n",
    "for delta in deltas:\n",
    "    x = 2+delta\n",
    "    y = (x**2) - x +2\n",
    "    print(y)\n",
    "print('\\n')   \n",
    "for delta in -deltas:\n",
    "    x = 2+delta\n",
    "    y = (x**2) - x +2\n",
    "    print(y)"
   ]
  },
  {
   "cell_type": "markdown",
   "id": "9b523b3a-ed29-4354-8c2d-c8f539bcdf69",
   "metadata": {},
   "source": [
    "<ul style='font-size:20px'> \n",
    "        <li>\n",
    "            Note que quanto mais x se aproxima de 2, (seja pelo lado positivo, quanto pelo negativo) mais y fica próximo de 4. Portanto, podemos falar que, conforme a abscissa se aproxima de 2, a função alcança um valor limite de 4. Isso pode ser expresso, matematicamente, como:\n",
    "            $$\n",
    "            \\lim_{x \\to 2} (x^2 - x + 2) = 4\n",
    "            $$\n",
    "        </li>\n",
    "    <li> \n",
    "        O uso dessa notação é bastante importante para funções com restrição de valores de abscissas.\n",
    "    </li>\n",
    "    </ul>"
   ]
  },
  {
   "cell_type": "code",
   "execution_count": 138,
   "id": "55419118-bcd9-4876-ba2b-3f953eddef36",
   "metadata": {},
   "outputs": [
    {
     "data": {
      "image/png": "[encoded data removed]",
      "text/plain": [
       "<Figure size 432x288 with 2 Axes>"
      ]
     },
     "metadata": {
      "needs_background": "light"
     },
     "output_type": "display_data"
    }
   ],
   "source": [
    "x = np.linspace(0,7, 100)\n",
    "plt.subplot(121)\n",
    "plt.plot(x,np.sin(x))\n",
    "plt.scatter(np.pi/2,np.sin(np.pi/2), color='white', edgecolors='k')\n",
    "\n",
    "plt.subplot(122)\n",
    "plt.plot(x,np.sin(x))\n",
    "plt.scatter(np.pi/2,np.sin(np.pi/2), color='white', edgecolors='k')\n",
    "plt.scatter(np.pi/2,0.5, color='k', edgecolors='k')\n",
    "plt.tight_layout()"
   ]
  },
  {
   "cell_type": "markdown",
   "id": "f3f7ee25-ce92-451d-8e72-9a90365b3634",
   "metadata": {},
   "source": [
    "<div> \n",
    "    <ul style='font-size:20px'> \n",
    "        <li> \n",
    "            No caso dos dois gráficos acima (funções seno modificadas), mesmo que o valor da função quando x=90º não seja 1, não podemos negar que o seu limite conforme x se aproxima de 90 graus é 1.\n",
    "            $$\n",
    "            \\lim_{x \\to \\pi/2} f(x) = 1\n",
    "            $$\n",
    "        </li>\n",
    "    </ul>\n",
    "</div>"
   ]
  },
  {
   "cell_type": "markdown",
   "id": "d8d9d0ac-4b46-416d-9314-e2ea383647de",
   "metadata": {},
   "source": [
    "<h3 style='font-size:30px;font-style:italic'> Example I</h3>\n",
    "<div> \n",
    "    <ul style='font-size:20px'> \n",
    "        <li> \n",
    "            Encontre o valor de:$$\\lim_{x \\to 1} \\frac{x-1}{x^2-1}$$\n",
    "        </li>\n",
    "    </ul>\n",
    "</div>"
   ]
  },
  {
   "cell_type": "code",
   "execution_count": 145,
   "id": "049ca41d-b197-4e0d-80d5-5d3a41a2c759",
   "metadata": {},
   "outputs": [
    {
     "name": "stdout",
     "output_type": "stream",
     "text": [
      "Backwards:\n",
      "0.0 --> 1.0\n",
      "0.2 --> 0.8333333333333334\n",
      "0.5 --> 0.6666666666666666\n",
      "0.9 --> 0.5263157894736843\n",
      "0.99 --> 0.5025125628140701\n",
      "0.999 --> 0.5002501250625384\n",
      "\n",
      "Forward:\n",
      "2.0 --> 0.3333333333333333\n",
      "1.5 --> 0.4\n",
      "1.2 --> 0.4545454545454545\n",
      "1.1 --> 0.47619047619047616\n",
      "1.01 --> 0.49751243781094556\n",
      "1.001 --> 0.4997501249375518\n",
      "1.0001 --> 0.4999750012500894\n"
     ]
    },
    {
     "name": "stderr",
     "output_type": "stream",
     "text": [
      "<ipython-input-145-179efb64d18e>:18: RuntimeWarning: invalid value encountered in true_divide\n",
      "  plt.plot(xs, (xs-1)/(xs**2-1))\n"
     ]
    },
    {
     "data": {
      "image/png": "[encoded data removed]",
      "text/plain": [
       "<Figure size 432x288 with 1 Axes>"
      ]
     },
     "metadata": {
      "needs_background": "light"
     },
     "output_type": "display_data"
    }
   ],
   "source": [
    "# Observe que não podemos ter x=1 por conta da divisão. Portanto, teremos que descobrir esse limite iterativamente.\n",
    "backwards = np.array([0, 0.2, 0.5, 0.9, 0.99, 0.999])\n",
    "forward = np.array([2, 1.5, 1.2, 1.1, 1.01, 1.001, 1.0001])\n",
    "\n",
    "\n",
    "# Limite por trás.\n",
    "print('Backwards:')\n",
    "for number in backwards:\n",
    "    exp = (number-1)/((number**2)-1)\n",
    "    print(number,'-->', exp)\n",
    "    \n",
    "print('\\nForward:')\n",
    "for number in forward:\n",
    "    exp = (number-1)/((number**2)-1)\n",
    "    print(number,'-->', exp)\n",
    "    \n",
    "xs = np.linspace(0,2,101)\n",
    "plt.plot(xs, (xs-1)/(xs**2-1))\n",
    "plt.show()"
   ]
  },
  {
   "cell_type": "markdown",
   "id": "548f2009-b27f-46b6-af2e-027f50809093",
   "metadata": {},
   "source": [
    "<div> \n",
    "    <ul style='font-size:20px'> \n",
    "        <li> \n",
    "            Observe que, tanto de trás pra frente, quanto de frente para trás, o valor limite alcançado é 0.5.\n",
    "        </li>\n",
    "    </ul>\n",
    "</div>"
   ]
  },
  {
   "cell_type": "code",
   "execution_count": 148,
   "id": "36955fb6-be38-427d-bf82-07eef91ecd6d",
   "metadata": {},
   "outputs": [
    {
     "name": "stdout",
     "output_type": "stream",
     "text": [
      "Backwards:\n",
      "0.0 --> 1.0\n",
      "0.2 --> 0.8333333333333334\n",
      "0.5 --> 0.6666666666666666\n",
      "0.9 --> 0.5263157894736843\n",
      "0.99 --> 0.5025125628140701\n",
      "0.999 --> 0.5002501250625384\n",
      "\n",
      "Forward:\n",
      "2.0 --> 0.3333333333333333\n",
      "1.5 --> 0.4\n",
      "1.2 --> 0.4545454545454545\n",
      "1.1 --> 0.47619047619047616\n",
      "1.01 --> 0.49751243781094556\n",
      "1.001 --> 0.4997501249375518\n",
      "1.0001 --> 0.4999750012500894\n"
     ]
    },
    {
     "name": "stderr",
     "output_type": "stream",
     "text": [
      "<ipython-input-148-d3508f409541>:18: RuntimeWarning: invalid value encountered in true_divide\n",
      "  plt.plot(xs, (xs-1)/(xs**2-1))\n"
     ]
    },
    {
     "data": {
      "image/png": "[encoded data removed]",
      "text/plain": [
       "<Figure size 432x288 with 1 Axes>"
      ]
     },
     "metadata": {
      "needs_background": "light"
     },
     "output_type": "display_data"
    }
   ],
   "source": [
    "# Agora, se conferíssemos uma condição extra à função? Se x=1, y=2, por exemplo.\n",
    "backwards = np.array([0, 0.2, 0.5, 0.9, 0.99, 0.999])\n",
    "forward = np.array([2, 1.5, 1.2, 1.1, 1.01, 1.001, 1.0001])\n",
    "\n",
    "\n",
    "# Limite por trás.\n",
    "print('Backwards:')\n",
    "for number in backwards:\n",
    "    exp = (number-1)/((number**2)-1)\n",
    "    print(number,'-->', exp)\n",
    "    \n",
    "print('\\nForward:')\n",
    "for number in forward:\n",
    "    exp = (number-1)/((number**2)-1)\n",
    "    print(number,'-->', exp)\n",
    "    \n",
    "xs = np.linspace(0,2,101)\n",
    "plt.plot(xs, (xs-1)/(xs**2-1))\n",
    "plt.scatter(1,2, color='k')\n",
    "plt.show()"
   ]
  },
  {
   "cell_type": "markdown",
   "id": "05e12020-6f96-4b9e-8e2d-ea4151d74e71",
   "metadata": {},
   "source": [
    "<div> \n",
    "    <ul style='font-size:20px'> \n",
    "        <li> \n",
    "            Como o limite consiste em um valor que a função <strong> tendencia</strong> a ter, não podemos dizer que 2 é o resultado.\n",
    "        </li>\n",
    "    </ul>\n",
    "</div>"
   ]
  },
  {
   "cell_type": "markdown",
   "id": "7e6f7eae-7a95-4a8b-a57f-a8a9c3ed4667",
   "metadata": {},
   "source": [
    "<h3 style='font-size:30px;font-style:italic'> Example II</h3>\n",
    "<div> \n",
    "    <ul style='font-size:20px'> \n",
    "        <li> \n",
    "            Encontre o valor de:$$\\lim_{t \\to 0} \\frac{\\sqrt{t^2+9}-3}{t^2}$$\n",
    "        </li>\n",
    "    </ul>\n",
    "</div>"
   ]
  },
  {
   "cell_type": "code",
   "execution_count": 167,
   "id": "78fb6ad2-6a2a-4757-90d9-59e4d234ad64",
   "metadata": {},
   "outputs": [
    {
     "name": "stdout",
     "output_type": "stream",
     "text": [
      "Backwards: [0.15138782 0.16227766 0.16552506 0.1666204  0.1666662  0.16666666]\n",
      "Forward: [0.15138782 0.16227766 0.16552506 0.1666204  0.1666662  0.16666666]\n"
     ]
    }
   ],
   "source": [
    "# Novamente, essa função tem a restrição de que x!=0.\n",
    "backwards=np.array([-2,-1,-0.5, -1e-1, -1e-2, -1e-3])\n",
    "forward = -backwards\n",
    "\n",
    "y_back = (np.sqrt((backwards**2)+9) - 3)/(backwards**2)\n",
    "y_fwd = (np.sqrt((forward**2)+9) - 3)/(forward**2)\n",
    "\n",
    "print(f'Backwards: {y_back}')\n",
    "print(f'Forward: {y_fwd}')\n",
    "\n",
    "# O limite, dessa maneira, é 0.167 (ou 1/6)."
   ]
  },
  {
   "cell_type": "code",
   "execution_count": 168,
   "id": "a9a5e129-511e-4518-bfd5-4ece110b1fd4",
   "metadata": {},
   "outputs": [
    {
     "name": "stdout",
     "output_type": "stream",
     "text": [
      "Backwards: [0.15138782 0.16227766 0.16552506 0.1666204  0.1666662  0.        ]\n",
      "Forward: [0.15138782 0.16227766 0.16552506 0.1666204  0.1666662  0.        ]\n"
     ]
    }
   ],
   "source": [
    "# Mas se colocássemos um valor de t muito pequeno?\n",
    "backwards=np.array([-2,-1,-0.5, -1e-1, -1e-2, -1e-10])\n",
    "forward = -backwards\n",
    "\n",
    "y_back = (np.sqrt((backwards**2)+9) - 3)/(backwards**2)\n",
    "y_fwd = (np.sqrt((forward**2)+9) - 3)/(forward**2)\n",
    "\n",
    "print(f'Backwards: {y_back}')\n",
    "print(f'Forward: {y_fwd}')"
   ]
  },
  {
   "cell_type": "markdown",
   "id": "58dbaa6b-6e68-4b32-acf5-a1ea49ab394d",
   "metadata": {},
   "source": [
    "<div> \n",
    "    <ul style='font-size:20px'> \n",
    "        <li> \n",
    "            Veja, com $10^{-10}$, o limite declarado é 0. Isso significa que o resultado deve ser 0, e não 1/6? Não, como o autor explicará na próxima seção.\n",
    "        </li>\n",
    "    </ul>\n",
    "</div>"
   ]
  },
  {
   "cell_type": "markdown",
   "id": "cbdfeaca-7763-449b-aa0a-fee479fbc614",
   "metadata": {},
   "source": [
    "<p style='color:red'> Example III"
   ]
  }
 ],
 "metadata": {
  "kernelspec": {
   "display_name": "Python 3",
   "language": "python",
   "name": "python3"
  },
  "language_info": {
   "codemirror_mode": {
    "name": "ipython",
    "version": 3
   },
   "file_extension": ".py",
   "mimetype": "text/x-python",
   "name": "python",
   "nbconvert_exporter": "python",
   "pygments_lexer": "ipython3",
   "version": "3.8.8"
  }
 },
 "nbformat": 4,
 "nbformat_minor": 5
}
