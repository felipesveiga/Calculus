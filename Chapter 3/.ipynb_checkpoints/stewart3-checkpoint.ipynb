{
 "cells": [
  {
   "cell_type": "markdown",
   "id": "3acc7280-c781-4ba3-9c1d-803c8d2f9c53",
   "metadata": {},
   "source": [
    "<h1 style='font-size:40px'> Differentiation Rules</h1>"
   ]
  },
  {
   "cell_type": "markdown",
   "id": "e5b9470c-bb81-48c6-ba72-5e0251f9712b",
   "metadata": {},
   "source": [
    "<h2 style='font-size:30px'> Derivatives of Polynomials and Exponential Functions</h2>\n",
    "<div> \n",
    "    <ul style='font-size:20px'> \n",
    "        <li> \n",
    "            O autor começa a seção demonstrando o teorema do tombo para diferenciações. É importante recordar que isso é válido para todos os expoentes reais!\n",
    "        </li>\n",
    "    </ul>\n",
    "</div>"
   ]
  },
  {
   "cell_type": "markdown",
   "id": "f3029805-eea6-41fc-b99c-9beecef068d8",
   "metadata": {},
   "source": [
    "<h3 style='font-size:30px;font-style:italic'> Example II</h3>\n",
    "<div> \n",
    "    <ul style='font-size:20px'> \n",
    "        <li> \n",
    "            Diferencie (a): $f(x)=\\frac{1}{x^{2}}$; (b) : $y=\\sqrt[3]{x^{2}}$\n",
    "        </li>\n",
    "    </ul>\n",
    "</div>"
   ]
  },
  {
   "cell_type": "code",
   "execution_count": 9,
   "id": "ef4d5163-a159-43a5-96d0-c6cf63450ec4",
   "metadata": {},
   "outputs": [
    {
     "name": "stdout",
     "output_type": "stream",
     "text": [
      "a: -2/x**3\n",
      "b: 2*(x**2)**(1/3)/(3*x)\n"
     ]
    }
   ],
   "source": [
    "from sympy import Symbol, diff, root\n",
    "x = Symbol('x')\n",
    "ya = 1/(x**2)\n",
    "\n",
    "# Use 'root' para raízes não-quadradas!\n",
    "yb = root(x**2, 3)\n",
    "print(f'a: {diff(ya,x)}')\n",
    "print(f'b: {diff(yb,x)}')"
   ]
  },
  {
   "cell_type": "markdown",
   "id": "37714e4a-5d7e-45e7-872c-7f01ca105030",
   "metadata": {},
   "source": [
    "<p style='color:red'>Trecho grifado (p. 175)"
   ]
  }
 ],
 "metadata": {
  "kernelspec": {
   "display_name": "Python 3 (ipykernel)",
   "language": "python",
   "name": "python3"
  },
  "language_info": {
   "codemirror_mode": {
    "name": "ipython",
    "version": 3
   },
   "file_extension": ".py",
   "mimetype": "text/x-python",
   "name": "python",
   "nbconvert_exporter": "python",
   "pygments_lexer": "ipython3",
   "version": "3.8.10"
  }
 },
 "nbformat": 4,
 "nbformat_minor": 5
}
