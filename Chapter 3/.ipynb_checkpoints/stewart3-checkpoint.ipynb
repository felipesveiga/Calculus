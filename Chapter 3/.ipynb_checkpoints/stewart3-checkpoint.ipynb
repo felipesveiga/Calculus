{
 "cells": [
  {
   "cell_type": "markdown",
   "id": "3acc7280-c781-4ba3-9c1d-803c8d2f9c53",
   "metadata": {},
   "source": [
    "<h1 style='font-size:40px'> Differentiation Rules</h1>"
   ]
  },
  {
   "cell_type": "markdown",
   "id": "e5b9470c-bb81-48c6-ba72-5e0251f9712b",
   "metadata": {},
   "source": [
    "<h2 style='font-size:30px'> 3.1 Derivatives of Polynomials and Exponential Functions</h2>\n",
    "<div> \n",
    "    <ul style='font-size:20px'> \n",
    "        <li> \n",
    "            O autor começa a seção demonstrando o teorema do tombo para diferenciações. É importante recordar que isso é válido para todos os expoentes reais!\n",
    "        </li>\n",
    "    </ul>\n",
    "</div>"
   ]
  },
  {
   "cell_type": "markdown",
   "id": "f3029805-eea6-41fc-b99c-9beecef068d8",
   "metadata": {},
   "source": [
    "<h4 style='font-size:30px;font-style:italic;text-decoration:underline'> Example II</h4>\n",
    "<div> \n",
    "    <ul style='font-size:20px'> \n",
    "        <li> \n",
    "            Diferencie (a): $f(x)=\\frac{1}{x^{2}}$; (b) : $y=\\sqrt[3]{x^{2}}$\n",
    "        </li>\n",
    "    </ul>\n",
    "</div>"
   ]
  },
  {
   "cell_type": "code",
   "execution_count": 9,
   "id": "ef4d5163-a159-43a5-96d0-c6cf63450ec4",
   "metadata": {},
   "outputs": [
    {
     "name": "stdout",
     "output_type": "stream",
     "text": [
      "a: -2/x**3\n",
      "b: 2*(x**2)**(1/3)/(3*x)\n"
     ]
    }
   ],
   "source": [
    "from sympy import Symbol, diff, root\n",
    "x = Symbol('x')\n",
    "ya = 1/(x**2)\n",
    "\n",
    "# Use 'root' para raízes não-quadradas!\n",
    "yb = root(x**2, 3)\n",
    "print(f'a: {diff(ya,x)}')\n",
    "print(f'b: {diff(yb,x)}')"
   ]
  },
  {
   "cell_type": "markdown",
   "id": "c1d83245-7157-4030-b458-fe70ac68b462",
   "metadata": {},
   "source": [
    "<div> \n",
    "    <ul style='font-size:20px'> \n",
    "        <li> \n",
    "            A Regra do Tombo também nos auxilia a encontrar a Reta Normal. Essa consiste na reta perpendicular à tangente de uma curva em um certo ponto.\n",
    "        </li>\n",
    "    </ul>\n",
    "</div>"
   ]
  },
  {
   "cell_type": "markdown",
   "id": "87fe1429-6509-4b6b-ae6f-169d3b8a5587",
   "metadata": {},
   "source": [
    "<h4 style='font-size:30px;font-style:italic;text-decoration:underline'> Example III</h4>\n",
    "<div> \n",
    "    <ul style='font-size:20px'> \n",
    "        <li> \n",
    "            Encontre a tangente e reta normal à função: $f(x)=x\\sqrt{x}$ em (1,1)\n",
    "        </li>\n",
    "    </ul>\n",
    "</div>"
   ]
  },
  {
   "cell_type": "code",
   "execution_count": 12,
   "id": "e4de0659-4771-4f1f-95c3-bfda8404a9e5",
   "metadata": {},
   "outputs": [
    {
     "name": "stdout",
     "output_type": "stream",
     "text": [
      "Tangente: [3*x/2 - 1/2]\n",
      "Normal: [5/3 - 2*x/3]\n"
     ]
    }
   ],
   "source": [
    "from sympy import Symbol, diff, sqrt, Eq, solve\n",
    "x = Symbol('x')\n",
    "y = Symbol('y')\n",
    "yt = x*sqrt(x)\n",
    "\n",
    "# Tangente\n",
    "eqt = Eq(y - 1, diff(yt,x).subs(x, 1)*(x-1))\n",
    "print(f'Tangente: {solve(eqt, y)}')\n",
    "\n",
    "# Normal\n",
    "eqn = Eq(y - 1, (-diff(yt,x).subs(x, 1)**-1)*(x-1))\n",
    "print(f'Normal: {solve(eqn, y)}')"
   ]
  },
  {
   "cell_type": "markdown",
   "id": "b3365748-15aa-4f9b-889c-b1e2bb472879",
   "metadata": {},
   "source": [
    "<h2 style='font-size:30px'> New Derivatives From Old</h2>\n",
    "<h3 style='font-size:30px;font-style:italic;'> The Constant Multiple Rule</h3>\n",
    "<div> \n",
    "    <ul style='font-size:20px'> \n",
    "        <li> \n",
    "            Se c é uma constante e f uma função diferenciável, tem-se\n",
    "            $$\n",
    "                \\frac{d}{dx}[cf(x)]=c \\frac{d}{dx}f(x)\n",
    "            $$\n",
    "        </li>\n",
    "    </ul>\n",
    "</div>"
   ]
  },
  {
   "cell_type": "markdown",
   "id": "2ef6886f-d10d-42b3-a058-faddfc5e066c",
   "metadata": {},
   "source": [
    "<h3 style='font-size:30px;font-style:italic;'>  The Sum Rule</h3>\n",
    "<div> \n",
    "    <ul style='font-size:20px'> \n",
    "        <li> \n",
    "            Se f e g são funções diferenciáveis, então:\n",
    "            $$\n",
    "                \\frac{d}{dx}[f(x)+g(x)]=\\frac{d}{dx}f(x) + \\frac{d}{dx}g(x)\n",
    "            $$\n",
    "        </li>\n",
    "    </ul>\n",
    "</div>"
   ]
  },
  {
   "cell_type": "markdown",
   "id": "f56f166a-8259-4b0f-8dca-144004b25445",
   "metadata": {},
   "source": [
    "<h3 style='font-size:30px;font-style:italic;'>The Difference Rule</h3>\n",
    "<div> \n",
    "    <ul style='font-size:20px'> \n",
    "        <li> \n",
    "            Se f e g são funções diferenciáveis, então:\n",
    "            $$\n",
    "                \\frac{d}{dx}[f(x)-g(x)]=\\frac{d}{dx}f(x) - \\frac{d}{dx}g(x)\n",
    "            $$\n",
    "        </li>\n",
    "    </ul>\n",
    "</div>"
   ]
  },
  {
   "cell_type": "markdown",
   "id": "073c1291-d013-4185-92bc-d129ce945273",
   "metadata": {},
   "source": [
    "<h4 style='font-size:30px;font-style:italic;text-decoration:underline'> Example VI</h4>\n",
    "<div> \n",
    "    <ul style='font-size:20px'> \n",
    "        <li> \n",
    "            Encontre os pontos da função: $f(x)=x^{4}-6x^{2}+4$ em que a reta tangente é horizontal.\n",
    "        </li>\n",
    "    </ul>\n",
    "</div>"
   ]
  },
  {
   "cell_type": "code",
   "execution_count": 20,
   "id": "756dcc15-9b0b-4dfb-87ed-0b8dea6463b2",
   "metadata": {},
   "outputs": [
    {
     "data": {
      "text/plain": [
       "[(0, 4), (-sqrt(3), -5), (sqrt(3), -5)]"
      ]
     },
     "execution_count": 20,
     "metadata": {},
     "output_type": "execute_result"
    }
   ],
   "source": [
    "# Os pontos são aqueles em que o valor da derivada é 0 (lembre-se: a derivada em um ponto é a inclinação da reta tangente).\n",
    "x = Symbol('x')\n",
    "y = x**4 - 6*(x**2)+4\n",
    "pxs = solve(Eq(diff(y), 0))\n",
    "[(px, y.subs(x, px)) for px in pxs]"
   ]
  },
  {
   "cell_type": "markdown",
   "id": "6775ff74-17ca-4373-9d15-d2eb3e970e24",
   "metadata": {},
   "source": [
    "<h4 style='font-size:30px;font-style:italic;text-decoration:underline'> Example VII</h4>\n",
    "<div> \n",
    "    <ul style='font-size:20px'> \n",
    "        <li> \n",
    "            Se a função: $s(t)=2t^{3}-5t^{2}+3t+4$ mede o deslocamento de uma partícula (em cms) em função do tempo (em segundos), encontre a sua aceleração quanto t=2.\n",
    "        </li>\n",
    "    </ul>\n",
    "</div>"
   ]
  },
  {
   "cell_type": "code",
   "execution_count": 30,
   "id": "35352cab-a1a2-4c88-bd44-cbbba650b005",
   "metadata": {},
   "outputs": [
    {
     "name": "stdout",
     "output_type": "stream",
     "text": [
      "14 cm/s^2\n"
     ]
    }
   ],
   "source": [
    "# Isso é um simples problema de derivação múltipla.\n",
    "t = Symbol('t')\n",
    "y = 2*(t**3) - 5*(t**2) + 3*t +4\n",
    "print(f'{diff(y,t,2).subs(t,2)} cm/s^2')"
   ]
  },
  {
   "cell_type": "markdown",
   "id": "4cebf425-f8a9-41b4-ab49-f4d3b1e4d585",
   "metadata": {},
   "source": [
    "<h3 style='font-size:30px;font-style:italic'> Exponential Functions</h3>\n",
    "<div> \n",
    "    <ul style='font-size:20px'> \n",
    "        <li> \n",
    "            Somos apresentados nesta seção ao número de Euler e (não confundir com a constante de Euler). Uma de suas principais características é $\\frac{d}{dx}(e^{x})=e^{x}$. Ou seja, em uma abscissa x, a derivada de $e^{x}$ sempre será igual a $e^{x}$.\n",
    "        </li>\n",
    "    </ul>\n",
    "</div>"
   ]
  },
  {
   "cell_type": "markdown",
   "id": "d15acf4a-f7c9-4fa2-9a3a-96f8622b2deb",
   "metadata": {},
   "source": [
    "<h4 style='font-size:30px;font-style:italic;text-decoration:underline'> Example VIII</h4>\n",
    "<div> \n",
    "    <ul style='font-size:20px'> \n",
    "        <li> \n",
    "            Se $f(x)=e^{x}-x$, descubura f'(x) e f''(x).\n",
    "        </li>\n",
    "    </ul>\n",
    "</div>"
   ]
  },
  {
   "cell_type": "code",
   "execution_count": 35,
   "id": "4aaa7c1b-d2dc-4e5d-b180-092d025adc63",
   "metadata": {},
   "outputs": [
    {
     "data": {
      "text/plain": [
       "(1.0*2.71828182845905**x - 1, 1.0*2.71828182845905**x)"
      ]
     },
     "execution_count": 35,
     "metadata": {},
     "output_type": "execute_result"
    }
   ],
   "source": [
    "from sympy import Symbol, diff\n",
    "from numpy import e\n",
    "x = Symbol('x')\n",
    "y = e**x - x\n",
    "\n",
    "diff(y,x), diff(y,x,2)"
   ]
  },
  {
   "cell_type": "markdown",
   "id": "adb438a7-f069-450d-a454-dc6094ff26b3",
   "metadata": {},
   "source": [
    "<h4 style='font-size:30px;font-style:italic;text-decoration:underline'> Example IX</h4>\n",
    "<div> \n",
    "    <ul style='font-size:20px'> \n",
    "        <li> \n",
    "            Descubra o ponto em que a tangente de $f(x)=e^{x}$ é paralela a $g(x)=2x$\n",
    "        </li>\n",
    "    </ul>\n",
    "</div>"
   ]
  },
  {
   "cell_type": "code",
   "execution_count": 38,
   "id": "24e14e0c-916e-4bdd-9c6e-0dd2cb8ddc64",
   "metadata": {},
   "outputs": [
    {
     "name": "stdout",
     "output_type": "stream",
     "text": [
      "O ponto é: (([0.693147180559944], 2))\n"
     ]
    }
   ],
   "source": [
    "# Como a derivada de e**x é e**x, podemos resolver o problema com uma simples equação.\n",
    "from sympy import Eq, Symbol, solve\n",
    "from numpy import e\n",
    "x = Symbol('x')\n",
    "print(f'O ponto é: ({solve(Eq(e**x, 2)), 2})')"
   ]
  },
  {
   "cell_type": "markdown",
   "id": "4e2d55d3-2be6-4e0e-be6c-3506271b4629",
   "metadata": {},
   "source": [
    "<div> \n",
    "    <ul style='font-size:20px'> \n",
    "        <li> \n",
    "            O livro define o valor da abscissa como $e^{x}=2$ &rarr; $x=ln(2)$\n",
    "        </li>\n",
    "    </ul>\n",
    "</div>"
   ]
  },
  {
   "cell_type": "markdown",
   "id": "e42f353a-a2d3-4d94-bed2-52a053b6a761",
   "metadata": {},
   "source": [
    "<h3 style='font-size:30px;font-style:italic'> 3.1 Exercises </h3>\n",
    "<h4 style='font-size:30px;font-style:italic;text-decoration:underline'> 35</h4>"
   ]
  },
  {
   "cell_type": "code",
   "execution_count": 51,
   "id": "d25eddeb-7d6a-4c80-9436-9cd59ad9c676",
   "metadata": {},
   "outputs": [
    {
     "name": "stdout",
     "output_type": "stream",
     "text": [
      "Tangente: y=2.0*x + 2.0\n",
      "Normal: y=2.0 - 0.5*x\n"
     ]
    }
   ],
   "source": [
    "from sympy import Symbol, diff, Eq, solve\n",
    "from numpy import e\n",
    "x = Symbol('x')\n",
    "y = Symbol('y')\n",
    "m = diff(x**4 + 2*e**x).subs(x, 0)\n",
    "print(f'Tangente: y={solve(Eq(y - 2, m*(x-0)),y)[0]}')\n",
    "print(f'Normal: y={solve(Eq(y - 2, (-m**-1)*(x-0)),y)[0]}')"
   ]
  },
  {
   "cell_type": "markdown",
   "id": "16c4c7ea-036e-467c-8f4e-ca2b423182f5",
   "metadata": {},
   "source": [
    "<h4 style='font-size:30px;font-style:italic;text-decoration:underline'> 49</h4>"
   ]
  },
  {
   "cell_type": "code",
   "execution_count": 59,
   "id": "330b10f6-d10c-44ee-a777-42bc0e86a9c6",
   "metadata": {},
   "outputs": [
    {
     "name": "stdout",
     "output_type": "stream",
     "text": [
      "a: Velocidade: 3*t**2 - 3; Aceleração: 6*t\n",
      "b: 12 m/s^2\n",
      "c: 6 m/s^2\n"
     ]
    }
   ],
   "source": [
    "t = Symbol('t')\n",
    "s = t**3 - 3*t\n",
    "\n",
    "# a.\n",
    "print(f'a: Velocidade: {diff(s,t)}; Aceleração: {diff(s,t,2)}')\n",
    "\n",
    "# b.\n",
    "print(f'b: {diff(s,t,2).subs(t, 2)} m/s^2')\n",
    "\n",
    "# c.\n",
    "t_v0 = solve(Eq(diff(s,t), 0))\n",
    "print(f'c: {diff(s,t,2).subs(t, t_v0[1])} m/s^2')"
   ]
  },
  {
   "cell_type": "markdown",
   "id": "9fc74a8d-fb02-479e-a41d-58cacc9827f9",
   "metadata": {},
   "source": [
    "<h4 style='font-size:30px;font-style:italic;text-decoration:underline'> 73</h4>"
   ]
  },
  {
   "cell_type": "code",
   "execution_count": 86,
   "id": "a61d6718-de32-409b-9117-2d4572595119",
   "metadata": {},
   "outputs": [
    {
     "data": {
      "text/plain": [
       "(-1, 0)"
      ]
     },
     "execution_count": 86,
     "metadata": {},
     "output_type": "execute_result"
    }
   ],
   "source": [
    "# Errei!\n",
    "x = Symbol('x')\n",
    "y = Symbol('y')\n",
    "a = Symbol('a')\n",
    "b = Symbol('b')\n",
    "parab_tang_m = diff(a*x**2, x).subs(x,2)\n",
    "'''\n",
    "y_ = solve(Eq(2*x,-y),y)[0].subs(x,2)\n",
    "\n",
    "# Encontrando o valor de a.\n",
    "a_solution = solve(Eq(parab_diff.subs(x,2), y_))\n",
    "\n",
    "print(f'a={a_solution[0]}, b=0')'''\n",
    "\n",
    "# a= -2*2, já que a equação da tangente também pode ser escrita como y=-2*x + b\n",
    "a_solution = solve(Eq(parab_tang_m, -2*2))[0]\n",
    "y_encontro = a_solution * 2**2\n",
    "\n",
    "b_solution = solve(Eq(y_encontro, (-2*2)+b))[0]\n",
    "a_solution, b_solution"
   ]
  },
  {
   "cell_type": "markdown",
   "id": "40de78a0-30e0-4221-9e6d-9fffa6212477",
   "metadata": {},
   "source": [
    "<h2 style='font-size:30px'> 3.2 The Product and Quotient Rules</h2>\n",
    "<h3 style='font-size:30px;font-style:italic'> The Product Rule</h3>"
   ]
  },
  {
   "cell_type": "markdown",
   "id": "6944036d-8dc5-4590-b0f5-27fd4a50b0e9",
   "metadata": {},
   "source": [
    "<div> \n",
    "    <ul style='font-size:20px'> \n",
    "        <li> \n",
    "            Nesta seção, somos apresentados à regra de diferenciação do produto entre duas funções:\n",
    "            $$\n",
    "                \\frac{d}{dx}[f(x)g(x)]=f(x) \\frac{d}{dx}[g(x)] + g(x) \\frac{d}{dx}[f(x)]\n",
    "            $$\n",
    "        </li>\n",
    "    </ul>\n",
    "</div>"
   ]
  },
  {
   "cell_type": "markdown",
   "id": "fd95ee40-b8d7-405a-8df7-65ebce4cbbfa",
   "metadata": {},
   "source": [
    "<h4 style='font-size:30px;font-style:italic;text-decoration:underline'> Example I</h4>\n",
    "<div> \n",
    "    <ul style='font-size:20px'> \n",
    "        <li> \n",
    "            Se $f(x)=xe^{x}$\n",
    "            <ul style='list-style-type:lower-alpha'> \n",
    "                <li> Encontre f'</li>\n",
    "                <li> Encontre a i-ésima derivada $f^{(i)}(x)$</li>\n",
    "            </ul>\n",
    "        </li>\n",
    "    </ul>\n",
    "</div>"
   ]
  },
  {
   "cell_type": "code",
   "execution_count": 88,
   "id": "6985080f-2a1a-4633-97eb-f205e32ffab6",
   "metadata": {},
   "outputs": [
    {
     "data": {
      "text/latex": [
       "$\\displaystyle 1.0 \\cdot 2.71828182845905^{x} x + 2.71828182845905^{x}$"
      ],
      "text/plain": [
       "1.0*2.71828182845905**x*x + 2.71828182845905**x"
      ]
     },
     "execution_count": 88,
     "metadata": {},
     "output_type": "execute_result"
    }
   ],
   "source": [
    "from sympy import Symbol, diff\n",
    "from numpy import e\n",
    "\n",
    "x = Symbol('x')\n",
    "y = x*e**x\n",
    "\n",
    "# Aqui vemos explicitamente que a derivada da função respeito a Lei do Produto.\n",
    "diff(y,x,1)"
   ]
  },
  {
   "cell_type": "markdown",
   "id": "978bc58f-0c5c-4600-81b0-9f3e1e1677fd",
   "metadata": {},
   "source": [
    "<h4 style='font-size:30px;font-style:italic;text-decoration:underline'> Example II</h4>\n",
    "<div> \n",
    "    <ul style='font-size:20px'> \n",
    "        <li> \n",
    "            Diferencie $f(t)=\\sqrt{t}(a+bt)$\n",
    "        </li>\n",
    "    </ul>\n",
    "</div>"
   ]
  },
  {
   "cell_type": "code",
   "execution_count": 93,
   "id": "710a3659-9c7f-4f34-8037-9aa5eb7a7d2c",
   "metadata": {},
   "outputs": [
    {
     "data": {
      "text/latex": [
       "$\\displaystyle b \\sqrt{t} + \\frac{a + b t}{2 \\sqrt{t}}$"
      ],
      "text/plain": [
       "b*sqrt(t) + (a + b*t)/(2*sqrt(t))"
      ]
     },
     "execution_count": 93,
     "metadata": {},
     "output_type": "execute_result"
    }
   ],
   "source": [
    "from sympy import root\n",
    "a = Symbol('a')\n",
    "b = Symbol('b')\n",
    "t = Symbol('t')\n",
    "y = root(t, 2)*(a+b*t)\n",
    "diff(y,t)"
   ]
  },
  {
   "cell_type": "markdown",
   "id": "2045d107-6c81-4672-8359-e6a3efde4464",
   "metadata": {},
   "source": [
    "<h4 style='font-size:30px;font-style:italic;text-decoration:underline'> Example III</h4>\n",
    "<div> \n",
    "    <ul style='font-size:20px'> \n",
    "        <li> \n",
    "            Se $f(x)=\\sqrt{x}g(x)$ em que g(4)=2 e g'(4)=3, encontre f'(4).\n",
    "        </li>\n",
    "    </ul>\n",
    "</div>"
   ]
  },
  {
   "cell_type": "code",
   "execution_count": 105,
   "id": "fee504f9-1879-452b-8263-19ec88aee2ee",
   "metadata": {},
   "outputs": [
    {
     "data": {
      "text/latex": [
       "$\\displaystyle \\frac{13}{2}$"
      ],
      "text/plain": [
       "13/2"
      ]
     },
     "execution_count": 105,
     "metadata": {},
     "output_type": "execute_result"
    }
   ],
   "source": [
    "from sympy import Eq, solve\n",
    "x = Symbol('x')\n",
    "a = root(x,2)\n",
    "\n",
    "(a.subs(x,4)*3) + (diff(a, x).subs(x,4)*2)"
   ]
  },
  {
   "cell_type": "markdown",
   "id": "4c4cd6da-b9ab-44e3-be52-a7e0f1d0c05b",
   "metadata": {},
   "source": [
    "<h3 style='font-size:30px;font-style:italic'> The Quotient Rule</h3>"
   ]
  },
  {
   "cell_type": "markdown",
   "id": "bc7e594f-4f2a-40ce-b2df-07780c5f0008",
   "metadata": {},
   "source": [
    "<div> \n",
    "    <ul style='font-size:20px'> \n",
    "        <li> \n",
    "            Agora, o autor nos revela a Lei de diferenciação do quociente entre duas funções.\n",
    "            $$\n",
    "                \\frac{d}{dx}[\\frac{f(x)}{g(x)}]= \\frac{g(x) \\frac{d}{dx}[f(x)] - f(x) \\frac{d}{dx}[g(x)]}{[g(x)]^{2}}\n",
    "            $$\n",
    "        </li>\n",
    "    </ul>\n",
    "</div>"
   ]
  },
  {
   "cell_type": "markdown",
   "id": "28564046-4702-4a3a-944e-de608cbf439d",
   "metadata": {},
   "source": [
    "<h4 style='font-size:30px;font-style:italic;text-decoration:underline'> Example V</h4>\n",
    "<div> \n",
    "    <ul style='font-size:20px'> \n",
    "        <li> \n",
    "            Encontre a equação da tangente de $f(x)=\\frac{e^{x}}{(1+x^{2})}$ no ponto $P(1, \\frac{1e}{2})$\n",
    "        </li>\n",
    "    </ul>\n",
    "</div>"
   ]
  },
  {
   "cell_type": "code",
   "execution_count": 115,
   "id": "94ff0a98-850e-4587-8805-8050ce8e2321",
   "metadata": {},
   "outputs": [
    {
     "data": {
      "text/plain": [
       "[E/2]"
      ]
     },
     "execution_count": 115,
     "metadata": {},
     "output_type": "execute_result"
    }
   ],
   "source": [
    "# 'exp' é a função e^x\n",
    "from sympy import Symbol, diff, exp\n",
    "x = Symbol('x')\n",
    "y = Symbol('y')\n",
    "f = exp(x) / (1+x**2)\n",
    "m = diff(f,x).subs(x,1)\n",
    "solve(Eq(y- exp(1)/2, m*(1 - x)),y)"
   ]
  },
  {
   "cell_type": "markdown",
   "id": "0ba72231-b479-4224-9652-166aebbeb603",
   "metadata": {},
   "source": [
    "<h3 style='font-size:30px;font-style:italic'> 3.2 Exercises</h3>"
   ]
  },
  {
   "cell_type": "markdown",
   "id": "d0c38668-439b-4843-990b-341b619328f8",
   "metadata": {},
   "source": [
    "<h4 style='font-size:30px;font-style:italic;text-decoration:underline'> 35</h4>"
   ]
  },
  {
   "cell_type": "code",
   "execution_count": 127,
   "id": "76bc8193-316d-4cdf-b2c5-a27c7dc6aa73",
   "metadata": {},
   "outputs": [
    {
     "data": {
      "text/plain": [
       "[0.5*x + 1.0]"
      ]
     },
     "execution_count": 127,
     "metadata": {},
     "output_type": "execute_result"
    }
   ],
   "source": [
    "from sympy import Eq, solve, diff, Symbol\n",
    "x = Symbol('x')\n",
    "y = Symbol('y')\n",
    "y_ = 1/(1+x**2)\n",
    "m = diff(y_,x).subs(x,-1)\n",
    "\n",
    "solve(Eq(y-0.5, m*(x+1)),y)"
   ]
  },
  {
   "cell_type": "markdown",
   "id": "ece13e67-a790-446f-a6ef-5d2f91aa88ce",
   "metadata": {},
   "source": [
    "<h4 style='font-size:30px;font-style:italic;text-decoration:underline'> 45</h4>"
   ]
  },
  {
   "cell_type": "code",
   "execution_count": 123,
   "id": "3d1b5717-f8e3-44cd-8c4c-6495252a8d22",
   "metadata": {},
   "outputs": [
    {
     "data": {
      "text/latex": [
       "$\\displaystyle 7$"
      ],
      "text/plain": [
       "7"
      ]
     },
     "execution_count": 123,
     "metadata": {},
     "output_type": "execute_result"
    }
   ],
   "source": [
    "from sympy import exp, diff, Symbol\n",
    "x = Symbol('x')\n",
    "y = (exp(0)*5) + (diff(exp(x)).subs(x,0)  *2)\n",
    "y"
   ]
  },
  {
   "cell_type": "markdown",
   "id": "2ec6b670-c6cd-4ac2-aa51-ecbb28e86a44",
   "metadata": {},
   "source": [
    "<h2 style='font-size:30px'> 3.3 Derivatives of Trigonometric Functions</h2>"
   ]
  },
  {
   "cell_type": "markdown",
   "id": "a6fddaa8-2c9b-45dd-b026-2eefa8de50d2",
   "metadata": {},
   "source": [
    "<center> \n",
    "    <img src='trig-derivatives.png'>\n",
    "</center>"
   ]
  },
  {
   "cell_type": "markdown",
   "id": "d60be6d9-92ef-44a7-be29-de97c34e268c",
   "metadata": {},
   "source": [
    "<h4 style='font-size:30px;font-style:italic;text-decoration:underline'> Example I</h4>\n",
    "<div> \n",
    "    <ul style='font-size:20px'> \n",
    "        <li> \n",
    "            Diferencie $y=x^{2}\\sin x$\n",
    "        </li>\n",
    "    </ul>\n",
    "</div>"
   ]
  },
  {
   "cell_type": "code",
   "execution_count": 129,
   "id": "88a9a067-c058-40cd-849a-1dc24602e6c3",
   "metadata": {},
   "outputs": [
    {
     "data": {
      "text/latex": [
       "$\\displaystyle x^{2} \\cos{\\left(x \\right)} + 2 x \\sin{\\left(x \\right)}$"
      ],
      "text/plain": [
       "x**2*cos(x) + 2*x*sin(x)"
      ]
     },
     "execution_count": 129,
     "metadata": {},
     "output_type": "execute_result"
    }
   ],
   "source": [
    "from sympy import sin\n",
    "x = Symbol('x')\n",
    "y = x**2 * sin(x)\n",
    "diff(y,x)"
   ]
  },
  {
   "cell_type": "markdown",
   "id": "0c267366-f97c-4791-bfc9-71b31f616a86",
   "metadata": {},
   "source": [
    "<h4 style='font-size:30px;font-style:italic;text-decoration:underline'> Example II</h4>\n",
    "<div> \n",
    "    <ul style='font-size:20px'> \n",
    "        <li> \n",
    "            Diferencie $f(x)=\\frac{\\sec{x}}{1+ \\tan{x}}$\n",
    "        </li>\n",
    "    </ul>\n",
    "</div>"
   ]
  },
  {
   "cell_type": "code",
   "execution_count": 131,
   "id": "dc7b1c02-2c43-4b75-a889-b978d551a2de",
   "metadata": {},
   "outputs": [
    {
     "data": {
      "text/latex": [
       "$\\displaystyle \\frac{\\tan{\\left(x \\right)} \\sec{\\left(x \\right)}}{\\tan{\\left(x \\right)} + 1} + \\frac{\\left(- \\tan^{2}{\\left(x \\right)} - 1\\right) \\sec{\\left(x \\right)}}{\\left(\\tan{\\left(x \\right)} + 1\\right)^{2}}$"
      ],
      "text/plain": [
       "tan(x)*sec(x)/(tan(x) + 1) + (-tan(x)**2 - 1)*sec(x)/(tan(x) + 1)**2"
      ]
     },
     "execution_count": 131,
     "metadata": {},
     "output_type": "execute_result"
    }
   ],
   "source": [
    "from sympy import sec, tan\n",
    "x = Symbol('x')\n",
    "y = sec(x) / (1+tan(x))\n",
    "diff(y,x)"
   ]
  },
  {
   "cell_type": "markdown",
   "id": "c77792cd-cf5b-4ebe-b1aa-fe83fa205d90",
   "metadata": {},
   "source": [
    "<h4 style='font-size:30px;font-style:italic;text-decoration:underline'> Example III</h4>\n",
    "<div> \n",
    "    <ul style='font-size:20px'> \n",
    "        <li> \n",
    "            Um objeto amarrado a uma mola tem a sua posição em função do tempo como $s(t)=4 \\cos{t}$.\n",
    "        </li>\n",
    "        <li> \n",
    "            Descubra as funções de velocidade e aceleração.\n",
    "        </li>\n",
    "    </ul>\n",
    "</div>"
   ]
  },
  {
   "cell_type": "code",
   "execution_count": 134,
   "id": "f12939a1-b5c1-4dda-a24e-d849854631dc",
   "metadata": {},
   "outputs": [
    {
     "data": {
      "text/latex": [
       "$\\displaystyle - 4 \\sin{\\left(t \\right)}$"
      ],
      "text/plain": [
       "-4*sin(t)"
      ]
     },
     "execution_count": 134,
     "metadata": {},
     "output_type": "execute_result"
    }
   ],
   "source": [
    "from sympy import cos\n",
    "t = Symbol('t')\n",
    "s = 4*cos(t)\n",
    "\n",
    "# Funções de velocidade e aceleração.\n",
    "v = diff(s,t)\n",
    "a = diff(s,t,2)\n",
    "v"
   ]
  },
  {
   "cell_type": "markdown",
   "id": "d7f546dd-922d-4bea-96a6-a700c852baf6",
   "metadata": {},
   "source": [
    "<h4 style='font-size:30px;font-style:italic;text-decoration:underline'> Example IV</h4>\n",
    "<div> \n",
    "    <ul style='font-size:20px'> \n",
    "        <li> \n",
    "            Descubra a vigésima sétima derivada de $f(x)= \\cos{x}$.\n",
    "        </li>\n",
    "    </ul>\n",
    "</div>"
   ]
  },
  {
   "cell_type": "code",
   "execution_count": 135,
   "id": "db970133-8cd6-40ab-bb42-6263191954f8",
   "metadata": {},
   "outputs": [
    {
     "data": {
      "text/latex": [
       "$\\displaystyle \\sin{\\left(x \\right)}$"
      ],
      "text/plain": [
       "sin(x)"
      ]
     },
     "execution_count": 135,
     "metadata": {},
     "output_type": "execute_result"
    }
   ],
   "source": [
    "from sympy import cos\n",
    "x = Symbol('x')\n",
    "y = cos(x)\n",
    "\n",
    "diff(y,x,27)"
   ]
  },
  {
   "cell_type": "markdown",
   "id": "97779d68-fc25-4233-98d5-a3af16d92877",
   "metadata": {},
   "source": [
    "<h4 style='font-size:30px;font-style:italic;text-decoration:underline'> Example V</h4>\n",
    "<div> \n",
    "    <ul style='font-size:20px'> \n",
    "        <li> \n",
    "            Descubra $\\lim_{x \\to 0} \\frac{\\sin{7x}}{4x}$.\n",
    "        </li>\n",
    "    </ul>\n",
    "</div>"
   ]
  },
  {
   "cell_type": "code",
   "execution_count": 136,
   "id": "db1743b4-443e-4ac9-8a23-d7477b4344c3",
   "metadata": {},
   "outputs": [
    {
     "data": {
      "text/latex": [
       "$\\displaystyle \\frac{7}{4}$"
      ],
      "text/plain": [
       "7/4"
      ]
     },
     "execution_count": 136,
     "metadata": {},
     "output_type": "execute_result"
    }
   ],
   "source": [
    "from sympy import sin, limit\n",
    "x = Symbol('x')\n",
    "y = sin(7*x)/(4*x)\n",
    "\n",
    "limit(y,x,0)"
   ]
  },
  {
   "cell_type": "markdown",
   "id": "076a08e2-b9b9-4e36-8cd4-ea7405ab5346",
   "metadata": {},
   "source": [
    "<h4 style='font-size:30px;font-style:italic;text-decoration:underline'> Example VI</h4>\n",
    "<div> \n",
    "    <ul style='font-size:20px'> \n",
    "        <li> \n",
    "            Descubra $\\lim_{x \\to 0} x\\cot{x}$.\n",
    "        </li>\n",
    "    </ul>\n",
    "</div>"
   ]
  },
  {
   "cell_type": "code",
   "execution_count": 137,
   "id": "7e9c1e40-2363-46f1-b980-a5fba5e4c2d4",
   "metadata": {},
   "outputs": [
    {
     "data": {
      "text/latex": [
       "$\\displaystyle 1$"
      ],
      "text/plain": [
       "1"
      ]
     },
     "execution_count": 137,
     "metadata": {},
     "output_type": "execute_result"
    }
   ],
   "source": [
    "from sympy import cot\n",
    "x = Symbol('x')\n",
    "y = x*cot(x)\n",
    "\n",
    "limit(y,x,0)"
   ]
  },
  {
   "cell_type": "markdown",
   "id": "b3ee9692-a5a7-4ce3-bb7a-f20738995830",
   "metadata": {},
   "source": [
    "<h3 style='font-size:30px;font-style:italic'> 3.3 Exercises</h3>"
   ]
  },
  {
   "cell_type": "markdown",
   "id": "23cc56a5-c2c5-4329-b2a3-b87c3e2aa4df",
   "metadata": {},
   "source": [
    "<h4 style='font-size:30px;font-style:italic;text-decoration:underline'> 29</h4>"
   ]
  },
  {
   "cell_type": "code",
   "execution_count": 138,
   "id": "17bcb1b5-840e-4548-9afa-37952f78a1c1",
   "metadata": {},
   "outputs": [
    {
     "data": {
      "text/plain": [
       "(x*cos(x) + sin(x), -x*sin(x) + 2*cos(x))"
      ]
     },
     "execution_count": 138,
     "metadata": {},
     "output_type": "execute_result"
    }
   ],
   "source": [
    "x = Symbol('x')\n",
    "y = x*sin(x)\n",
    "\n",
    "diff(y,x), diff(y,x,2)"
   ]
  },
  {
   "cell_type": "markdown",
   "id": "341cd5d6-e636-4000-a7f6-3cce9cad58aa",
   "metadata": {},
   "source": [
    "<h4 style='font-size:30px;font-style:italic;text-decoration:underline'> 33</h4>"
   ]
  },
  {
   "cell_type": "code",
   "execution_count": 139,
   "id": "e5d3a578-ea12-46f1-ab46-8c8aa809c5c6",
   "metadata": {},
   "outputs": [
    {
     "data": {
      "text/plain": [
       "[2*pi/3, 4*pi/3]"
      ]
     },
     "execution_count": 139,
     "metadata": {},
     "output_type": "execute_result"
    }
   ],
   "source": [
    "x = Symbol('x')\n",
    "y = x + 2*sin(x)\n",
    "\n",
    "solve(Eq(diff(y),0))"
   ]
  },
  {
   "cell_type": "markdown",
   "id": "5e214d32-6218-4b20-a8c0-58ec1335bd89",
   "metadata": {},
   "source": [
    "<h4 style='font-size:30px;font-style:italic;text-decoration:underline'> 35</h4>"
   ]
  },
  {
   "cell_type": "code",
   "execution_count": 148,
   "id": "d994675d-120a-45f1-8097-407702087ef1",
   "metadata": {},
   "outputs": [
    {
     "name": "stdout",
     "output_type": "stream",
     "text": [
      "a: (8*cos(t), -8*sin(t))\n",
      "(4*sqrt(3), -4, -4*sqrt(3))\n"
     ]
    }
   ],
   "source": [
    "from sympy import pi\n",
    "t = Symbol('t')\n",
    "y = 8*sin(t)\n",
    "\n",
    "# a.\n",
    "print(f'a: {(diff(y,t) ,diff(y,t,2))}')\n",
    "\n",
    "# b.\n",
    "print(f'{(y.subs(t,2*pi/3), diff(y,t).subs(t, 2*pi/3), diff(y,t,2).subs(t, 2*pi/3))}')"
   ]
  },
  {
   "cell_type": "markdown",
   "id": "c519e14a-89c9-44ff-9c47-bb0411f8fc36",
   "metadata": {},
   "source": [
    "<h2 style='font-size:30px'> 3.4 The Chain Rule</h2>\n",
    "<div> \n",
    "    <ul style='font-size:20px'> \n",
    "        <li> \n",
    "            Aqui, aprendemos a diferenciar funções compostas.\n",
    "        </li>\n",
    "        <li> \n",
    "            Podemos desmembrar $F(x)=\\sqrt{x^{2}+1}$ em  $y=f(u)=\\sqrt{u}$ e $u=g(x)=x^{2}+1$.\n",
    "        </li>\n",
    "        <li> \n",
    "            A derivada de F(x) ficaria como $F'(x)=f'(x)\\times g'(x)$\n",
    "        </li>\n",
    "        <li> \n",
    "            Na notação de Leibniz: $\\frac{dy}{dx}=\\frac{dy}{du}\\frac{du}{dx}$\n",
    "        </li>\n",
    "    </ul>\n",
    "</div>"
   ]
  },
  {
   "cell_type": "markdown",
   "id": "3cb53576-e1f7-4877-bf7b-103858ce13b2",
   "metadata": {},
   "source": [
    "<h4 style='font-size:30px;font-style:italic;text-decoration:underline'> Example I</h4>\n",
    "<div> \n",
    "    <ul style='font-size:20px'> \n",
    "        <li> \n",
    "            Encontre F'(x) de $F(x)=\\sqrt{x^{2}+1}$.\n",
    "        </li>\n",
    "    </ul>\n",
    "</div>"
   ]
  },
  {
   "cell_type": "code",
   "execution_count": 149,
   "id": "00fc00ce-800d-4a6a-bcc7-1cfacffe16b9",
   "metadata": {},
   "outputs": [
    {
     "data": {
      "text/latex": [
       "$\\displaystyle \\frac{x}{\\sqrt{x^{2} + 1}}$"
      ],
      "text/plain": [
       "x/sqrt(x**2 + 1)"
      ]
     },
     "execution_count": 149,
     "metadata": {},
     "output_type": "execute_result"
    }
   ],
   "source": [
    "from sympy import diff, Symbol, sqrt\n",
    "x = Symbol('x')\n",
    "y = sqrt(x**2 + 1)\n",
    "diff(y,x)"
   ]
  },
  {
   "cell_type": "markdown",
   "id": "dabc8e36-07b6-4c76-9a72-b729031e4f52",
   "metadata": {},
   "source": [
    "<h4 style='font-size:30px;font-style:italic;text-decoration:underline'> Example II</h4>\n",
    "<div> \n",
    "    <ul style='font-size:20px'> \n",
    "        <li> \n",
    "            Diferencie $y=\\sin{x^{2}}$ e $y=\\sin^{2}{x}$.\n",
    "        </li>\n",
    "    </ul>\n",
    "</div>"
   ]
  },
  {
   "cell_type": "code",
   "execution_count": 152,
   "id": "f8392483-8733-4087-b72c-4ac58d24aee3",
   "metadata": {},
   "outputs": [
    {
     "data": {
      "text/plain": [
       "(2*x*cos(x**2), 2*sin(x)*cos(x))"
      ]
     },
     "execution_count": 152,
     "metadata": {},
     "output_type": "execute_result"
    }
   ],
   "source": [
    "from sympy import sin\n",
    "x = Symbol('x')\n",
    "y1 = sin(x**2)\n",
    "y2 = (sin(x))**2\n",
    "\n",
    "diff(y1, x), diff(y2,x)"
   ]
  },
  {
   "cell_type": "markdown",
   "id": "918e4dcf-a5c6-427b-a4e7-07c29520006c",
   "metadata": {},
   "source": [
    "<h4 style='font-size:30px;font-style:italic;text-decoration:underline'> Example III</h4>\n",
    "<div> \n",
    "    <ul style='font-size:20px'> \n",
    "        <li> \n",
    "            Diferencie $y=(x^{3}-1)^{100}$.\n",
    "        </li>\n",
    "    </ul>\n",
    "</div>"
   ]
  },
  {
   "cell_type": "code",
   "execution_count": 153,
   "id": "97bf58e5-ebe7-4df9-aa07-d464a267b65f",
   "metadata": {},
   "outputs": [
    {
     "data": {
      "text/latex": [
       "$\\displaystyle 300 x^{2} \\left(x^{3} - 1\\right)^{99}$"
      ],
      "text/plain": [
       "300*x**2*(x**3 - 1)**99"
      ]
     },
     "execution_count": 153,
     "metadata": {},
     "output_type": "execute_result"
    }
   ],
   "source": [
    "x = Symbol('x')\n",
    "y = (x**3 -1)**100\n",
    "\n",
    "diff(y,x)"
   ]
  },
  {
   "cell_type": "markdown",
   "id": "871cb60a-ed59-494d-8be3-2855c492afb6",
   "metadata": {},
   "source": [
    "<h4 style='font-size:30px;font-style:italic;text-decoration:underline'> Example IV</h4>\n",
    "<div> \n",
    "    <ul style='font-size:20px'> \n",
    "        <li> \n",
    "            Diferencie $f(x)=\\frac{1}{\\sqrt[3]{x^{2}+x+1}}$.\n",
    "        </li>\n",
    "    </ul>\n",
    "</div>"
   ]
  },
  {
   "cell_type": "code",
   "execution_count": 154,
   "id": "3806824b-96b5-41e7-b6e9-06668e38a2fe",
   "metadata": {},
   "outputs": [
    {
     "data": {
      "text/latex": [
       "$\\displaystyle \\frac{- \\frac{2 x}{3} - \\frac{1}{3}}{\\left(x^{2} + x + 1\\right)^{\\frac{4}{3}}}$"
      ],
      "text/plain": [
       "(-2*x/3 - 1/3)/(x**2 + x + 1)**(4/3)"
      ]
     },
     "execution_count": 154,
     "metadata": {},
     "output_type": "execute_result"
    }
   ],
   "source": [
    "from sympy import root\n",
    "x = Symbol('x')\n",
    "y = 1/(root(x**2 + x+1, 3))\n",
    "\n",
    "diff(y,x)"
   ]
  },
  {
   "cell_type": "markdown",
   "id": "14d093cc-dfa3-420c-92e0-b497d3ec8ce9",
   "metadata": {},
   "source": [
    "<h4 style='font-size:30px;font-style:italic;text-decoration:underline'> Example V</h4>\n",
    "<div> \n",
    "    <ul style='font-size:20px'> \n",
    "        <li> \n",
    "            Diferencie $g(t)=(\\frac{t-2}{2t+1})^{9}$.\n",
    "        </li>\n",
    "    </ul>\n",
    "</div>"
   ]
  },
  {
   "cell_type": "code",
   "execution_count": 161,
   "id": "b0648f77-78cb-4772-9994-b4dfd292ab27",
   "metadata": {},
   "outputs": [
    {
     "data": {
      "text/latex": [
       "$\\displaystyle - \\frac{18 \\left(t - 2\\right)^{9}}{\\left(2 t + 1\\right)^{10}} + \\frac{9 \\left(t - 2\\right)^{8}}{\\left(2 t + 1\\right)^{9}}$"
      ],
      "text/plain": [
       "-18*(t - 2)**9/(2*t + 1)**10 + 9*(t - 2)**8/(2*t + 1)**9"
      ]
     },
     "execution_count": 161,
     "metadata": {},
     "output_type": "execute_result"
    }
   ],
   "source": [
    "t = Symbol('t')\n",
    "y = (((t-2)/(2*t + 1)))**9\n",
    "\n",
    "diff(y,t)"
   ]
  },
  {
   "cell_type": "markdown",
   "id": "6568d955-37bd-476c-b7b5-de0dacfd096b",
   "metadata": {},
   "source": [
    "<h4 style='font-size:30px;font-style:italic;text-decoration:underline'> Example VI</h4>\n",
    "<div> \n",
    "    <ul style='font-size:20px'> \n",
    "        <li> \n",
    "            Diferencie $y=(2x+1)^{5}(x^{3}-x+1)^{4}$.\n",
    "        </li>\n",
    "    </ul>\n",
    "</div>"
   ]
  },
  {
   "cell_type": "code",
   "execution_count": 163,
   "id": "57c3d63c-d509-4224-89ac-b3c4b463b079",
   "metadata": {},
   "outputs": [
    {
     "data": {
      "text/latex": [
       "$\\displaystyle \\left(2 x + 1\\right)^{5} \\cdot \\left(12 x^{2} - 4\\right) \\left(x^{3} - x + 1\\right)^{3} + 10 \\left(2 x + 1\\right)^{4} \\left(x^{3} - x + 1\\right)^{4}$"
      ],
      "text/plain": [
       "(2*x + 1)**5*(12*x**2 - 4)*(x**3 - x + 1)**3 + 10*(2*x + 1)**4*(x**3 - x + 1)**4"
      ]
     },
     "execution_count": 163,
     "metadata": {},
     "output_type": "execute_result"
    }
   ],
   "source": [
    "x = Symbol('x')\n",
    "y = (2*x+1)**5 * (x**3 - x +1)**4\n",
    "diff(y,x)"
   ]
  },
  {
   "cell_type": "markdown",
   "id": "d81c9dad-0c43-46f5-b908-a5e83713525d",
   "metadata": {},
   "source": [
    "<h4 style='font-size:30px;font-style:italic;text-decoration:underline'> Example VII</h4>\n",
    "<div> \n",
    "    <ul style='font-size:20px'> \n",
    "        <li> \n",
    "            Diferencie $y=e^{\\sin{x}}$.\n",
    "        </li>\n",
    "    </ul>\n",
    "</div>"
   ]
  },
  {
   "cell_type": "code",
   "execution_count": 165,
   "id": "93d0dc6b-ed82-4c66-a316-805ee2df31fa",
   "metadata": {},
   "outputs": [
    {
     "data": {
      "text/latex": [
       "$\\displaystyle e^{\\sin{\\left(x \\right)}} \\cos{\\left(x \\right)}$"
      ],
      "text/plain": [
       "exp(sin(x))*cos(x)"
      ]
     },
     "execution_count": 165,
     "metadata": {},
     "output_type": "execute_result"
    }
   ],
   "source": [
    "from sympy import exp, sin\n",
    "x = Symbol('x')\n",
    "y = exp(sin(x))\n",
    "diff(y,x)"
   ]
  },
  {
   "cell_type": "markdown",
   "id": "13c7c759-4965-4791-b210-c281184bb5f3",
   "metadata": {},
   "source": [
    "<h3 style='font-size:30px;font-style:italic'> Diferenciando funções exponenciais</h3>\n",
    "<div> \n",
    "    <ul style='font-size:20px'> \n",
    "        <li> \n",
    "            Se a>0: $\\frac{d}{dx}a^{x}=a^{x}\\ln{a}$\n",
    "        </li>\n",
    "    </ul>\n",
    "</div>"
   ]
  },
  {
   "cell_type": "markdown",
   "id": "0668e8ab-d0e6-4bb3-9262-0fe086d8ec6e",
   "metadata": {},
   "source": [
    "<h4 style='font-size:30px;font-style:italic;text-decoration:underline'> Example VIII</h4>\n",
    "<div> \n",
    "    <ul style='font-size:20px'> \n",
    "        <li> \n",
    "            Diferencie $f(x)=\\sin(\\cos(\\tan{x}))$.\n",
    "        </li>\n",
    "    </ul>\n",
    "</div>"
   ]
  },
  {
   "cell_type": "code",
   "execution_count": 167,
   "id": "0674fa78-fd8a-45d9-9353-87b334f04097",
   "metadata": {},
   "outputs": [
    {
     "data": {
      "text/latex": [
       "$\\displaystyle - \\left(\\tan^{2}{\\left(x \\right)} + 1\\right) \\sin{\\left(\\tan{\\left(x \\right)} \\right)} \\cos{\\left(\\cos{\\left(\\tan{\\left(x \\right)} \\right)} \\right)}$"
      ],
      "text/plain": [
       "-(tan(x)**2 + 1)*sin(tan(x))*cos(cos(tan(x)))"
      ]
     },
     "execution_count": 167,
     "metadata": {},
     "output_type": "execute_result"
    }
   ],
   "source": [
    "from sympy import sin, cos, tan\n",
    "x = Symbol('x')\n",
    "y = sin(cos(tan(x)))\n",
    "\n",
    "diff(y,x)"
   ]
  },
  {
   "cell_type": "markdown",
   "id": "3eb6d1b9-f184-429f-b553-971db53f3b4a",
   "metadata": {},
   "source": [
    "<h4 style='font-size:30px;font-style:italic;text-decoration:underline'> Example IX</h4>\n",
    "<div> \n",
    "    <ul style='font-size:20px'> \n",
    "        <li> \n",
    "            Diferencie $f(x)=e^{\\sec{3x}}$.\n",
    "        </li>\n",
    "    </ul>\n",
    "</div>"
   ]
  },
  {
   "cell_type": "code",
   "execution_count": 168,
   "id": "db3b8a6c-5b11-4cc6-9fdf-1388badbb5d1",
   "metadata": {},
   "outputs": [
    {
     "data": {
      "text/latex": [
       "$\\displaystyle 3 e^{\\sec{\\left(3 x \\right)}} \\tan{\\left(3 x \\right)} \\sec{\\left(3 x \\right)}$"
      ],
      "text/plain": [
       "3*exp(sec(3*x))*tan(3*x)*sec(3*x)"
      ]
     },
     "execution_count": 168,
     "metadata": {},
     "output_type": "execute_result"
    }
   ],
   "source": [
    "from sympy import sec\n",
    "x = Symbol('x')\n",
    "y = exp(sec(3*x))\n",
    "\n",
    "diff(y,x)"
   ]
  },
  {
   "cell_type": "markdown",
   "id": "eb98d063-d223-4a77-9d3c-77cd3487077d",
   "metadata": {},
   "source": [
    "<h3 style='font-size:30px;font-style:italic'> 3.4 Exercises</h3>"
   ]
  },
  {
   "cell_type": "markdown",
   "id": "1d26dc14-5ce9-4650-bcaf-46b3f8b07a88",
   "metadata": {},
   "source": [
    "<h4 style='font-size:30px;font-style:italic;text-decoration:underline'> 55</h4>"
   ]
  },
  {
   "cell_type": "code",
   "execution_count": 182,
   "id": "b126898e-2a0f-49e6-8158-b05ea3ca6a4a",
   "metadata": {},
   "outputs": [
    {
     "name": "stdout",
     "output_type": "stream",
     "text": [
      "a: x/2 + 1\n"
     ]
    },
    {
     "data": {
      "text/plain": [
       "[<matplotlib.lines.Line2D at 0x7f93bd4e9700>]"
      ]
     },
     "execution_count": 182,
     "metadata": {},
     "output_type": "execute_result"
    },
    {
     "data": {
      "image/png": "[encoded data removed]",
      "text/plain": [
       "<Figure size 432x288 with 1 Axes>"
      ]
     },
     "metadata": {
      "needs_background": "light"
     },
     "output_type": "display_data"
    }
   ],
   "source": [
    "from sympy import Eq, solve\n",
    "import numpy as np\n",
    "from matplotlib.pyplot import plot\n",
    "x = Symbol('x')\n",
    "y = Symbol('y')\n",
    "y = 2/(1+exp(-x))\n",
    "\n",
    "# a.\n",
    "m = diff(y,x).subs(x,0)\n",
    "eq = solve(Eq(y-1, m*(x-0)),y)[0]\n",
    "print(f'a: {eq}')\n",
    "\n",
    "# b.\n",
    "xs = np.linspace(-10,10,101)\n",
    "ys = 2/(1+np.exp(-xs))\n",
    "\n",
    "plot(xs,ys)\n",
    "plot(xs, [eq.subs(x, xi) for xi in xs])"
   ]
  },
  {
   "cell_type": "markdown",
   "id": "eee1d798-6aa5-46fb-86e2-b3cc210391fd",
   "metadata": {},
   "source": [
    "<h4 style='font-size:30px;font-style:italic;text-decoration:underline'> 81</h4>"
   ]
  },
  {
   "cell_type": "code",
   "execution_count": 192,
   "id": "c78e00b7-d477-4fd1-b333-4909582382f5",
   "metadata": {},
   "outputs": [
    {
     "name": "stdout",
     "output_type": "stream",
     "text": [
      "a: Velocity = -3.0*exp(-1.5*t)*sin(2*pi*t) + 4*pi*exp(-1.5*t)*cos(2*pi*t)\n"
     ]
    },
    {
     "data": {
      "text/plain": [
       "<matplotlib.legend.Legend at 0x7f93bd28f6a0>"
      ]
     },
     "execution_count": 192,
     "metadata": {},
     "output_type": "execute_result"
    },
    {
     "data": {
      "image/png": "[encoded data removed]",
      "text/plain": [
       "<Figure size 432x288 with 1 Axes>"
      ]
     },
     "metadata": {
      "needs_background": "light"
     },
     "output_type": "display_data"
    }
   ],
   "source": [
    "from sympy import pi\n",
    "from matplotlib.pyplot import legend\n",
    "t = Symbol('t')\n",
    "s = 2*exp(-1.5*t)*sin(2*pi*t)\n",
    "\n",
    "print(f'a: Velocity = {diff(s,t)}')\n",
    "\n",
    "ts = np.linspace(0,10, 101)\n",
    "ys = 2*np.exp(-1.5*ts)*np.sin(2*np.pi*ts)\n",
    "\n",
    "plot(ts, ys, label='Position')\n",
    "plot(ts, [diff(s,t).subs(t,ti) for ti in ts], label='Velocity')\n",
    "legend()"
   ]
  },
  {
   "cell_type": "markdown",
   "id": "37714e4a-5d7e-45e7-872c-7f01ca105030",
   "metadata": {},
   "source": [
    "<p style='color:red'> Implicit Differentiation"
   ]
  }
 ],
 "metadata": {
  "kernelspec": {
   "display_name": "Python 3 (ipykernel)",
   "language": "python",
   "name": "python3"
  },
  "language_info": {
   "codemirror_mode": {
    "name": "ipython",
    "version": 3
   },
   "file_extension": ".py",
   "mimetype": "text/x-python",
   "name": "python",
   "nbconvert_exporter": "python",
   "pygments_lexer": "ipython3",
   "version": "3.8.10"
  }
 },
 "nbformat": 4,
 "nbformat_minor": 5
}
