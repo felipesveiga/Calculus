{
 "cells": [
  {
   "cell_type": "markdown",
   "id": "3acc7280-c781-4ba3-9c1d-803c8d2f9c53",
   "metadata": {},
   "source": [
    "<h1 style='font-size:40px'> Differentiation Rules</h1>"
   ]
  },
  {
   "cell_type": "markdown",
   "id": "e5b9470c-bb81-48c6-ba72-5e0251f9712b",
   "metadata": {},
   "source": [
    "<h2 style='font-size:30px'> 3.1 Derivatives of Polynomials and Exponential Functions</h2>\n",
    "<div> \n",
    "    <ul style='font-size:20px'> \n",
    "        <li> \n",
    "            O autor começa a seção demonstrando o teorema do tombo para diferenciações. É importante recordar que isso é válido para todos os expoentes reais!\n",
    "        </li>\n",
    "    </ul>\n",
    "</div>"
   ]
  },
  {
   "cell_type": "markdown",
   "id": "f3029805-eea6-41fc-b99c-9beecef068d8",
   "metadata": {},
   "source": [
    "<h4 style='font-size:30px;font-style:italic;text-decoration:underline'> Example II</h4>\n",
    "<div> \n",
    "    <ul style='font-size:20px'> \n",
    "        <li> \n",
    "            Diferencie (a): $f(x)=\\frac{1}{x^{2}}$; (b) : $y=\\sqrt[3]{x^{2}}$\n",
    "        </li>\n",
    "    </ul>\n",
    "</div>"
   ]
  },
  {
   "cell_type": "code",
   "execution_count": 9,
   "id": "ef4d5163-a159-43a5-96d0-c6cf63450ec4",
   "metadata": {},
   "outputs": [
    {
     "name": "stdout",
     "output_type": "stream",
     "text": [
      "a: -2/x**3\n",
      "b: 2*(x**2)**(1/3)/(3*x)\n"
     ]
    }
   ],
   "source": [
    "from sympy import Symbol, diff, root\n",
    "x = Symbol('x')\n",
    "ya = 1/(x**2)\n",
    "\n",
    "# Use 'root' para raízes não-quadradas!\n",
    "yb = root(x**2, 3)\n",
    "print(f'a: {diff(ya,x)}')\n",
    "print(f'b: {diff(yb,x)}')"
   ]
  },
  {
   "cell_type": "markdown",
   "id": "c1d83245-7157-4030-b458-fe70ac68b462",
   "metadata": {},
   "source": [
    "<div> \n",
    "    <ul style='font-size:20px'> \n",
    "        <li> \n",
    "            A Regra do Tombo também nos auxilia a encontrar a Reta Normal. Essa consiste na reta perpendicular à tangente de uma curva em um certo ponto.\n",
    "        </li>\n",
    "    </ul>\n",
    "</div>"
   ]
  },
  {
   "cell_type": "markdown",
   "id": "87fe1429-6509-4b6b-ae6f-169d3b8a5587",
   "metadata": {},
   "source": [
    "<h4 style='font-size:30px;font-style:italic;text-decoration:underline'> Example III</h4>\n",
    "<div> \n",
    "    <ul style='font-size:20px'> \n",
    "        <li> \n",
    "            Encontre a tangente e reta normal à função: $f(x)=x\\sqrt{x}$ em (1,1)\n",
    "        </li>\n",
    "    </ul>\n",
    "</div>"
   ]
  },
  {
   "cell_type": "code",
   "execution_count": 12,
   "id": "e4de0659-4771-4f1f-95c3-bfda8404a9e5",
   "metadata": {},
   "outputs": [
    {
     "name": "stdout",
     "output_type": "stream",
     "text": [
      "Tangente: [3*x/2 - 1/2]\n",
      "Normal: [5/3 - 2*x/3]\n"
     ]
    }
   ],
   "source": [
    "from sympy import Symbol, diff, sqrt, Eq, solve\n",
    "x = Symbol('x')\n",
    "y = Symbol('y')\n",
    "yt = x*sqrt(x)\n",
    "\n",
    "# Tangente\n",
    "eqt = Eq(y - 1, diff(yt,x).subs(x, 1)*(x-1))\n",
    "print(f'Tangente: {solve(eqt, y)}')\n",
    "\n",
    "# Normal\n",
    "eqn = Eq(y - 1, (-diff(yt,x).subs(x, 1)**-1)*(x-1))\n",
    "print(f'Normal: {solve(eqn, y)}')"
   ]
  },
  {
   "cell_type": "markdown",
   "id": "b3365748-15aa-4f9b-889c-b1e2bb472879",
   "metadata": {},
   "source": [
    "<h2 style='font-size:30px'> New Derivatives From Old</h2>\n",
    "<h3 style='font-size:30px;font-style:italic;'> The Constant Multiple Rule</h3>\n",
    "<div> \n",
    "    <ul style='font-size:20px'> \n",
    "        <li> \n",
    "            Se c é uma constante e f uma função diferenciável, tem-se\n",
    "            $$\n",
    "                \\frac{d}{dx}[cf(x)]=c \\frac{d}{dx}f(x)\n",
    "            $$\n",
    "        </li>\n",
    "    </ul>\n",
    "</div>"
   ]
  },
  {
   "cell_type": "markdown",
   "id": "2ef6886f-d10d-42b3-a058-faddfc5e066c",
   "metadata": {},
   "source": [
    "<h3 style='font-size:30px;font-style:italic;'>  The Sum Rule</h3>\n",
    "<div> \n",
    "    <ul style='font-size:20px'> \n",
    "        <li> \n",
    "            Se f e g são funções diferenciáveis, então:\n",
    "            $$\n",
    "                \\frac{d}{dx}[f(x)+g(x)]=\\frac{d}{dx}f(x) + \\frac{d}{dx}g(x)\n",
    "            $$\n",
    "        </li>\n",
    "    </ul>\n",
    "</div>"
   ]
  },
  {
   "cell_type": "markdown",
   "id": "f56f166a-8259-4b0f-8dca-144004b25445",
   "metadata": {},
   "source": [
    "<h3 style='font-size:30px;font-style:italic;'>The Difference Rule</h3>\n",
    "<div> \n",
    "    <ul style='font-size:20px'> \n",
    "        <li> \n",
    "            Se f e g são funções diferenciáveis, então:\n",
    "            $$\n",
    "                \\frac{d}{dx}[f(x)-g(x)]=\\frac{d}{dx}f(x) - \\frac{d}{dx}g(x)\n",
    "            $$\n",
    "        </li>\n",
    "    </ul>\n",
    "</div>"
   ]
  },
  {
   "cell_type": "markdown",
   "id": "073c1291-d013-4185-92bc-d129ce945273",
   "metadata": {},
   "source": [
    "<h4 style='font-size:30px;font-style:italic;text-decoration:underline'> Example VI</h4>\n",
    "<div> \n",
    "    <ul style='font-size:20px'> \n",
    "        <li> \n",
    "            Encontre os pontos da função: $f(x)=x^{4}-6x^{2}+4$ em que a reta tangente é horizontal.\n",
    "        </li>\n",
    "    </ul>\n",
    "</div>"
   ]
  },
  {
   "cell_type": "code",
   "execution_count": 20,
   "id": "756dcc15-9b0b-4dfb-87ed-0b8dea6463b2",
   "metadata": {},
   "outputs": [
    {
     "data": {
      "text/plain": [
       "[(0, 4), (-sqrt(3), -5), (sqrt(3), -5)]"
      ]
     },
     "execution_count": 20,
     "metadata": {},
     "output_type": "execute_result"
    }
   ],
   "source": [
    "# Os pontos são aqueles em que o valor da derivada é 0 (lembre-se: a derivada em um ponto é a inclinação da reta tangente).\n",
    "x = Symbol('x')\n",
    "y = x**4 - 6*(x**2)+4\n",
    "pxs = solve(Eq(diff(y), 0))\n",
    "[(px, y.subs(x, px)) for px in pxs]"
   ]
  },
  {
   "cell_type": "markdown",
   "id": "6775ff74-17ca-4373-9d15-d2eb3e970e24",
   "metadata": {},
   "source": [
    "<h4 style='font-size:30px;font-style:italic;text-decoration:underline'> Example VII</h4>\n",
    "<div> \n",
    "    <ul style='font-size:20px'> \n",
    "        <li> \n",
    "            Se a função: $s(t)=2t^{3}-5t^{2}+3t+4$ mede o deslocamento de uma partícula (em cms) em função do tempo (em segundos), encontre a sua aceleração quanto t=2.\n",
    "        </li>\n",
    "    </ul>\n",
    "</div>"
   ]
  },
  {
   "cell_type": "code",
   "execution_count": 30,
   "id": "35352cab-a1a2-4c88-bd44-cbbba650b005",
   "metadata": {},
   "outputs": [
    {
     "name": "stdout",
     "output_type": "stream",
     "text": [
      "14 cm/s^2\n"
     ]
    }
   ],
   "source": [
    "# Isso é um simples problema de derivação múltipla.\n",
    "t = Symbol('t')\n",
    "y = 2*(t**3) - 5*(t**2) + 3*t +4\n",
    "print(f'{diff(y,t,2).subs(t,2)} cm/s^2')"
   ]
  },
  {
   "cell_type": "markdown",
   "id": "4cebf425-f8a9-41b4-ab49-f4d3b1e4d585",
   "metadata": {},
   "source": [
    "<h3 style='font-size:30px;font-style:italic'> Exponential Functions</h3>\n",
    "<div> \n",
    "    <ul style='font-size:20px'> \n",
    "        <li> \n",
    "            Somos apresentados nesta seção ao número de Euler e (não confundir com a constante de Euler). Uma de suas principais características é $\\frac{d}{dx}(e^{x})=e^{x}$. Ou seja, em uma abscissa x, a derivada de $e^{x}$ sempre será igual a $e^{x}$.\n",
    "        </li>\n",
    "    </ul>\n",
    "</div>"
   ]
  },
  {
   "cell_type": "markdown",
   "id": "d15acf4a-f7c9-4fa2-9a3a-96f8622b2deb",
   "metadata": {},
   "source": [
    "<h4 style='font-size:30px;font-style:italic;text-decoration:underline'> Example VIII</h4>\n",
    "<div> \n",
    "    <ul style='font-size:20px'> \n",
    "        <li> \n",
    "            Se $f(x)=e^{x}-x$, descubura f'(x) e f''(x).\n",
    "        </li>\n",
    "    </ul>\n",
    "</div>"
   ]
  },
  {
   "cell_type": "code",
   "execution_count": 35,
   "id": "4aaa7c1b-d2dc-4e5d-b180-092d025adc63",
   "metadata": {},
   "outputs": [
    {
     "data": {
      "text/plain": [
       "(1.0*2.71828182845905**x - 1, 1.0*2.71828182845905**x)"
      ]
     },
     "execution_count": 35,
     "metadata": {},
     "output_type": "execute_result"
    }
   ],
   "source": [
    "from sympy import Symbol, diff\n",
    "from numpy import e\n",
    "x = Symbol('x')\n",
    "y = e**x - x\n",
    "\n",
    "diff(y,x), diff(y,x,2)"
   ]
  },
  {
   "cell_type": "markdown",
   "id": "adb438a7-f069-450d-a454-dc6094ff26b3",
   "metadata": {},
   "source": [
    "<h4 style='font-size:30px;font-style:italic;text-decoration:underline'> Example IX</h4>\n",
    "<div> \n",
    "    <ul style='font-size:20px'> \n",
    "        <li> \n",
    "            Descubra o ponto em que a tangente de $f(x)=e^{x}$ é paralela a $g(x)=2x$\n",
    "        </li>\n",
    "    </ul>\n",
    "</div>"
   ]
  },
  {
   "cell_type": "code",
   "execution_count": 38,
   "id": "24e14e0c-916e-4bdd-9c6e-0dd2cb8ddc64",
   "metadata": {},
   "outputs": [
    {
     "name": "stdout",
     "output_type": "stream",
     "text": [
      "O ponto é: (([0.693147180559944], 2))\n"
     ]
    }
   ],
   "source": [
    "# Como a derivada de e**x é e**x, podemos resolver o problema com uma simples equação.\n",
    "from sympy import Eq, Symbol, solve\n",
    "from numpy import e\n",
    "x = Symbol('x')\n",
    "print(f'O ponto é: ({solve(Eq(e**x, 2)), 2})')"
   ]
  },
  {
   "cell_type": "markdown",
   "id": "4e2d55d3-2be6-4e0e-be6c-3506271b4629",
   "metadata": {},
   "source": [
    "<div> \n",
    "    <ul style='font-size:20px'> \n",
    "        <li> \n",
    "            O livro define o valor da abscissa como $e^{x}=2$ &rarr; $x=ln(2)$\n",
    "        </li>\n",
    "    </ul>\n",
    "</div>"
   ]
  },
  {
   "cell_type": "markdown",
   "id": "e42f353a-a2d3-4d94-bed2-52a053b6a761",
   "metadata": {},
   "source": [
    "<h3 style='font-size:30px;font-style:italic'> 3.1 Exercises </h3>\n",
    "<h4 style='font-size:30px;font-style:italic;text-decoration:underline'> 35</h4>"
   ]
  },
  {
   "cell_type": "code",
   "execution_count": 51,
   "id": "d25eddeb-7d6a-4c80-9436-9cd59ad9c676",
   "metadata": {},
   "outputs": [
    {
     "name": "stdout",
     "output_type": "stream",
     "text": [
      "Tangente: y=2.0*x + 2.0\n",
      "Normal: y=2.0 - 0.5*x\n"
     ]
    }
   ],
   "source": [
    "from sympy import Symbol, diff, Eq, solve\n",
    "from numpy import e\n",
    "x = Symbol('x')\n",
    "y = Symbol('y')\n",
    "m = diff(x**4 + 2*e**x).subs(x, 0)\n",
    "print(f'Tangente: y={solve(Eq(y - 2, m*(x-0)),y)[0]}')\n",
    "print(f'Normal: y={solve(Eq(y - 2, (-m**-1)*(x-0)),y)[0]}')"
   ]
  },
  {
   "cell_type": "markdown",
   "id": "16c4c7ea-036e-467c-8f4e-ca2b423182f5",
   "metadata": {},
   "source": [
    "<h4 style='font-size:30px;font-style:italic;text-decoration:underline'> 49</h4>"
   ]
  },
  {
   "cell_type": "code",
   "execution_count": 59,
   "id": "330b10f6-d10c-44ee-a777-42bc0e86a9c6",
   "metadata": {},
   "outputs": [
    {
     "name": "stdout",
     "output_type": "stream",
     "text": [
      "a: Velocidade: 3*t**2 - 3; Aceleração: 6*t\n",
      "b: 12 m/s^2\n",
      "c: 6 m/s^2\n"
     ]
    }
   ],
   "source": [
    "t = Symbol('t')\n",
    "s = t**3 - 3*t\n",
    "\n",
    "# a.\n",
    "print(f'a: Velocidade: {diff(s,t)}; Aceleração: {diff(s,t,2)}')\n",
    "\n",
    "# b.\n",
    "print(f'b: {diff(s,t,2).subs(t, 2)} m/s^2')\n",
    "\n",
    "# c.\n",
    "t_v0 = solve(Eq(diff(s,t), 0))\n",
    "print(f'c: {diff(s,t,2).subs(t, t_v0[1])} m/s^2')"
   ]
  },
  {
   "cell_type": "markdown",
   "id": "9fc74a8d-fb02-479e-a41d-58cacc9827f9",
   "metadata": {},
   "source": [
    "<h4 style='font-size:30px;font-style:italic;text-decoration:underline'> 73</h4>"
   ]
  },
  {
   "cell_type": "code",
   "execution_count": 86,
   "id": "a61d6718-de32-409b-9117-2d4572595119",
   "metadata": {},
   "outputs": [
    {
     "data": {
      "text/plain": [
       "(-1, 0)"
      ]
     },
     "execution_count": 86,
     "metadata": {},
     "output_type": "execute_result"
    }
   ],
   "source": [
    "# Errei!\n",
    "x = Symbol('x')\n",
    "y = Symbol('y')\n",
    "a = Symbol('a')\n",
    "b = Symbol('b')\n",
    "parab_tang_m = diff(a*x**2, x).subs(x,2)\n",
    "'''\n",
    "y_ = solve(Eq(2*x,-y),y)[0].subs(x,2)\n",
    "\n",
    "# Encontrando o valor de a.\n",
    "a_solution = solve(Eq(parab_diff.subs(x,2), y_))\n",
    "\n",
    "print(f'a={a_solution[0]}, b=0')'''\n",
    "\n",
    "# a= -2*2, já que a equação da tangente também pode ser escrita como y=-2*x + b\n",
    "a_solution = solve(Eq(parab_tang_m, -2*2))[0]\n",
    "y_encontro = a_solution * 2**2\n",
    "\n",
    "b_solution = solve(Eq(y_encontro, (-2*2)+b))[0]\n",
    "a_solution, b_solution"
   ]
  },
  {
   "cell_type": "markdown",
   "id": "40de78a0-30e0-4221-9e6d-9fffa6212477",
   "metadata": {},
   "source": [
    "<h2 style='font-size:30px'> 3.2 The Product and Quotient Rules</h2>\n",
    "<h3 style='font-size:30px;font-style:italic'> The Product Rule</h3>"
   ]
  },
  {
   "cell_type": "markdown",
   "id": "6944036d-8dc5-4590-b0f5-27fd4a50b0e9",
   "metadata": {},
   "source": [
    "<div> \n",
    "    <ul style='font-size:20px'> \n",
    "        <li> \n",
    "            Nesta seção, somos apresentados à regra de diferenciação do produto entre duas funções:\n",
    "            $$\n",
    "                \\frac{d}{dx}[f(x)g(x)]=f(x) \\frac{d}{dx}[g(x)] + g(x) \\frac{d}{dx}[f(x)]\n",
    "            $$\n",
    "        </li>\n",
    "    </ul>\n",
    "</div>"
   ]
  },
  {
   "cell_type": "markdown",
   "id": "fd95ee40-b8d7-405a-8df7-65ebce4cbbfa",
   "metadata": {},
   "source": [
    "<h4 style='font-size:30px;font-style:italic;text-decoration:underline'> Example I</h4>\n",
    "<div> \n",
    "    <ul style='font-size:20px'> \n",
    "        <li> \n",
    "            Se $f(x)=xe^{x}$\n",
    "            <ul style='list-style-type:lower-alpha'> \n",
    "                <li> Encontre f'</li>\n",
    "                <li> Encontre a i-ésima derivada $f^{(i)}(x)$</li>\n",
    "            </ul>\n",
    "        </li>\n",
    "    </ul>\n",
    "</div>"
   ]
  },
  {
   "cell_type": "code",
   "execution_count": 88,
   "id": "6985080f-2a1a-4633-97eb-f205e32ffab6",
   "metadata": {},
   "outputs": [
    {
     "data": {
      "text/latex": [
       "$\\displaystyle 1.0 \\cdot 2.71828182845905^{x} x + 2.71828182845905^{x}$"
      ],
      "text/plain": [
       "1.0*2.71828182845905**x*x + 2.71828182845905**x"
      ]
     },
     "execution_count": 88,
     "metadata": {},
     "output_type": "execute_result"
    }
   ],
   "source": [
    "from sympy import Symbol, diff\n",
    "from numpy import e\n",
    "\n",
    "x = Symbol('x')\n",
    "y = x*e**x\n",
    "\n",
    "# Aqui vemos explicitamente que a derivada da função respeito a Lei do Produto.\n",
    "diff(y,x,1)"
   ]
  },
  {
   "cell_type": "markdown",
   "id": "978bc58f-0c5c-4600-81b0-9f3e1e1677fd",
   "metadata": {},
   "source": [
    "<h4 style='font-size:30px;font-style:italic;text-decoration:underline'> Example II</h4>\n",
    "<div> \n",
    "    <ul style='font-size:20px'> \n",
    "        <li> \n",
    "            Diferencie $f(t)=\\sqrt{t}(a+bt)$\n",
    "        </li>\n",
    "    </ul>\n",
    "</div>"
   ]
  },
  {
   "cell_type": "code",
   "execution_count": 93,
   "id": "710a3659-9c7f-4f34-8037-9aa5eb7a7d2c",
   "metadata": {},
   "outputs": [
    {
     "data": {
      "text/latex": [
       "$\\displaystyle b \\sqrt{t} + \\frac{a + b t}{2 \\sqrt{t}}$"
      ],
      "text/plain": [
       "b*sqrt(t) + (a + b*t)/(2*sqrt(t))"
      ]
     },
     "execution_count": 93,
     "metadata": {},
     "output_type": "execute_result"
    }
   ],
   "source": [
    "from sympy import root\n",
    "a = Symbol('a')\n",
    "b = Symbol('b')\n",
    "t = Symbol('t')\n",
    "y = root(t, 2)*(a+b*t)\n",
    "diff(y,t)"
   ]
  },
  {
   "cell_type": "markdown",
   "id": "2045d107-6c81-4672-8359-e6a3efde4464",
   "metadata": {},
   "source": [
    "<h4 style='font-size:30px;font-style:italic;text-decoration:underline'> Example III</h4>\n",
    "<div> \n",
    "    <ul style='font-size:20px'> \n",
    "        <li> \n",
    "            Se $f(x)=\\sqrt{x}g(x)$ em que g(4)=2 e g'(4)=3, encontre f'(4).\n",
    "        </li>\n",
    "    </ul>\n",
    "</div>"
   ]
  },
  {
   "cell_type": "code",
   "execution_count": 105,
   "id": "fee504f9-1879-452b-8263-19ec88aee2ee",
   "metadata": {},
   "outputs": [
    {
     "data": {
      "text/latex": [
       "$\\displaystyle \\frac{13}{2}$"
      ],
      "text/plain": [
       "13/2"
      ]
     },
     "execution_count": 105,
     "metadata": {},
     "output_type": "execute_result"
    }
   ],
   "source": [
    "from sympy import Eq, solve\n",
    "x = Symbol('x')\n",
    "a = root(x,2)\n",
    "\n",
    "(a.subs(x,4)*3) + (diff(a, x).subs(x,4)*2)"
   ]
  },
  {
   "cell_type": "markdown",
   "id": "4c4cd6da-b9ab-44e3-be52-a7e0f1d0c05b",
   "metadata": {},
   "source": [
    "<h3 style='font-size:30px;font-style:italic'> The Quotient Rule</h3>"
   ]
  },
  {
   "cell_type": "markdown",
   "id": "bc7e594f-4f2a-40ce-b2df-07780c5f0008",
   "metadata": {},
   "source": [
    "<div> \n",
    "    <ul style='font-size:20px'> \n",
    "        <li> \n",
    "            Agora, o autor nos revela a Lei de diferenciação do quociente entre duas funções.\n",
    "            $$\n",
    "                \\frac{d}{dx}[\\frac{f(x)}{g(x)}]= \\frac{g(x) \\frac{d}{dx}[f(x)] - f(x) \\frac{d}{dx}[g(x)]}{[g(x)]^{2}}\n",
    "            $$\n",
    "        </li>\n",
    "    </ul>\n",
    "</div>"
   ]
  },
  {
   "cell_type": "markdown",
   "id": "28564046-4702-4a3a-944e-de608cbf439d",
   "metadata": {},
   "source": [
    "<h4 style='font-size:30px;font-style:italic;text-decoration:underline'> Example V</h4>\n",
    "<div> \n",
    "    <ul style='font-size:20px'> \n",
    "        <li> \n",
    "            Encontre a equação da tangente de $f(x)=\\frac{e^{x}}{(1+x^{2})}$ no ponto $P(1, \\frac{1e}{2})$\n",
    "        </li>\n",
    "    </ul>\n",
    "</div>"
   ]
  },
  {
   "cell_type": "code",
   "execution_count": 115,
   "id": "94ff0a98-850e-4587-8805-8050ce8e2321",
   "metadata": {},
   "outputs": [
    {
     "data": {
      "text/plain": [
       "[E/2]"
      ]
     },
     "execution_count": 115,
     "metadata": {},
     "output_type": "execute_result"
    }
   ],
   "source": [
    "# 'exp' é a função e^x\n",
    "from sympy import Symbol, diff, exp\n",
    "x = Symbol('x')\n",
    "y = Symbol('y')\n",
    "f = exp(x) / (1+x**2)\n",
    "m = diff(f,x).subs(x,1)\n",
    "solve(Eq(y- exp(1)/2, m*(1 - x)),y)"
   ]
  },
  {
   "cell_type": "markdown",
   "id": "0ba72231-b479-4224-9652-166aebbeb603",
   "metadata": {},
   "source": [
    "<h3 style='font-size:30px;font-style:italic'> 3.2 Exercises</h3>"
   ]
  },
  {
   "cell_type": "markdown",
   "id": "d0c38668-439b-4843-990b-341b619328f8",
   "metadata": {},
   "source": [
    "<h4 style='font-size:30px;font-style:italic;text-decoration:underline'> 35</h4>"
   ]
  },
  {
   "cell_type": "code",
   "execution_count": 127,
   "id": "76bc8193-316d-4cdf-b2c5-a27c7dc6aa73",
   "metadata": {},
   "outputs": [
    {
     "data": {
      "text/plain": [
       "[0.5*x + 1.0]"
      ]
     },
     "execution_count": 127,
     "metadata": {},
     "output_type": "execute_result"
    }
   ],
   "source": [
    "from sympy import Eq, solve, diff, Symbol\n",
    "x = Symbol('x')\n",
    "y = Symbol('y')\n",
    "y_ = 1/(1+x**2)\n",
    "m = diff(y_,x).subs(x,-1)\n",
    "\n",
    "solve(Eq(y-0.5, m*(x+1)),y)"
   ]
  },
  {
   "cell_type": "markdown",
   "id": "ece13e67-a790-446f-a6ef-5d2f91aa88ce",
   "metadata": {},
   "source": [
    "<h4 style='font-size:30px;font-style:italic;text-decoration:underline'> 45</h4>"
   ]
  },
  {
   "cell_type": "code",
   "execution_count": 123,
   "id": "3d1b5717-f8e3-44cd-8c4c-6495252a8d22",
   "metadata": {},
   "outputs": [
    {
     "data": {
      "text/latex": [
       "$\\displaystyle 7$"
      ],
      "text/plain": [
       "7"
      ]
     },
     "execution_count": 123,
     "metadata": {},
     "output_type": "execute_result"
    }
   ],
   "source": [
    "from sympy import exp, diff, Symbol\n",
    "x = Symbol('x')\n",
    "y = (exp(0)*5) + (diff(exp(x)).subs(x,0)  *2)\n",
    "y"
   ]
  },
  {
   "cell_type": "markdown",
   "id": "2ec6b670-c6cd-4ac2-aa51-ecbb28e86a44",
   "metadata": {},
   "source": [
    "<h2 style='font-size:30px'> 3.3 Derivatives of Trigonometric Functions</h2>"
   ]
  },
  {
   "cell_type": "markdown",
   "id": "a6fddaa8-2c9b-45dd-b026-2eefa8de50d2",
   "metadata": {},
   "source": [
    "<center> \n",
    "    <img src='trig-derivatives.png'>\n",
    "</center>"
   ]
  },
  {
   "cell_type": "markdown",
   "id": "d60be6d9-92ef-44a7-be29-de97c34e268c",
   "metadata": {},
   "source": [
    "<h4 style='font-size:30px;font-style:italic;text-decoration:underline'> Example I</h4>\n",
    "<div> \n",
    "    <ul style='font-size:20px'> \n",
    "        <li> \n",
    "            Diferencie $y=x^{2}\\sin x$\n",
    "        </li>\n",
    "    </ul>\n",
    "</div>"
   ]
  },
  {
   "cell_type": "code",
   "execution_count": 129,
   "id": "88a9a067-c058-40cd-849a-1dc24602e6c3",
   "metadata": {},
   "outputs": [
    {
     "data": {
      "text/latex": [
       "$\\displaystyle x^{2} \\cos{\\left(x \\right)} + 2 x \\sin{\\left(x \\right)}$"
      ],
      "text/plain": [
       "x**2*cos(x) + 2*x*sin(x)"
      ]
     },
     "execution_count": 129,
     "metadata": {},
     "output_type": "execute_result"
    }
   ],
   "source": [
    "from sympy import sin\n",
    "x = Symbol('x')\n",
    "y = x**2 * sin(x)\n",
    "diff(y,x)"
   ]
  },
  {
   "cell_type": "markdown",
   "id": "0c267366-f97c-4791-bfc9-71b31f616a86",
   "metadata": {},
   "source": [
    "<h4 style='font-size:30px;font-style:italic;text-decoration:underline'> Example II</h4>\n",
    "<div> \n",
    "    <ul style='font-size:20px'> \n",
    "        <li> \n",
    "            Diferencie $f(x)=\\frac{\\sec{x}}{1+ \\tan{x}}$\n",
    "        </li>\n",
    "    </ul>\n",
    "</div>"
   ]
  },
  {
   "cell_type": "code",
   "execution_count": 131,
   "id": "dc7b1c02-2c43-4b75-a889-b978d551a2de",
   "metadata": {},
   "outputs": [
    {
     "data": {
      "text/latex": [
       "$\\displaystyle \\frac{\\tan{\\left(x \\right)} \\sec{\\left(x \\right)}}{\\tan{\\left(x \\right)} + 1} + \\frac{\\left(- \\tan^{2}{\\left(x \\right)} - 1\\right) \\sec{\\left(x \\right)}}{\\left(\\tan{\\left(x \\right)} + 1\\right)^{2}}$"
      ],
      "text/plain": [
       "tan(x)*sec(x)/(tan(x) + 1) + (-tan(x)**2 - 1)*sec(x)/(tan(x) + 1)**2"
      ]
     },
     "execution_count": 131,
     "metadata": {},
     "output_type": "execute_result"
    }
   ],
   "source": [
    "from sympy import sec, tan\n",
    "x = Symbol('x')\n",
    "y = sec(x) / (1+tan(x))\n",
    "diff(y,x)"
   ]
  },
  {
   "cell_type": "markdown",
   "id": "c77792cd-cf5b-4ebe-b1aa-fe83fa205d90",
   "metadata": {},
   "source": [
    "<h4 style='font-size:30px;font-style:italic;text-decoration:underline'> Example III</h4>\n",
    "<div> \n",
    "    <ul style='font-size:20px'> \n",
    "        <li> \n",
    "            Um objeto amarrado a uma mola tem a sua posição em função do tempo como $s(t)=4 \\cos{t}$.\n",
    "        </li>\n",
    "        <li> \n",
    "            Descubra as funções de velocidade e aceleração.\n",
    "        </li>\n",
    "    </ul>\n",
    "</div>"
   ]
  },
  {
   "cell_type": "code",
   "execution_count": 134,
   "id": "f12939a1-b5c1-4dda-a24e-d849854631dc",
   "metadata": {},
   "outputs": [
    {
     "data": {
      "text/latex": [
       "$\\displaystyle - 4 \\sin{\\left(t \\right)}$"
      ],
      "text/plain": [
       "-4*sin(t)"
      ]
     },
     "execution_count": 134,
     "metadata": {},
     "output_type": "execute_result"
    }
   ],
   "source": [
    "from sympy import cos\n",
    "t = Symbol('t')\n",
    "s = 4*cos(t)\n",
    "\n",
    "# Funções de velocidade e aceleração.\n",
    "v = diff(s,t)\n",
    "a = diff(s,t,2)\n",
    "v"
   ]
  },
  {
   "cell_type": "markdown",
   "id": "d7f546dd-922d-4bea-96a6-a700c852baf6",
   "metadata": {},
   "source": [
    "<h4 style='font-size:30px;font-style:italic;text-decoration:underline'> Example IV</h4>\n",
    "<div> \n",
    "    <ul style='font-size:20px'> \n",
    "        <li> \n",
    "            Descubra a vigésima sétima derivada de $f(x)= \\cos{x}$.\n",
    "        </li>\n",
    "    </ul>\n",
    "</div>"
   ]
  },
  {
   "cell_type": "code",
   "execution_count": 135,
   "id": "db970133-8cd6-40ab-bb42-6263191954f8",
   "metadata": {},
   "outputs": [
    {
     "data": {
      "text/latex": [
       "$\\displaystyle \\sin{\\left(x \\right)}$"
      ],
      "text/plain": [
       "sin(x)"
      ]
     },
     "execution_count": 135,
     "metadata": {},
     "output_type": "execute_result"
    }
   ],
   "source": [
    "from sympy import cos\n",
    "x = Symbol('x')\n",
    "y = cos(x)\n",
    "\n",
    "diff(y,x,27)"
   ]
  },
  {
   "cell_type": "markdown",
   "id": "97779d68-fc25-4233-98d5-a3af16d92877",
   "metadata": {},
   "source": [
    "<h4 style='font-size:30px;font-style:italic;text-decoration:underline'> Example V</h4>\n",
    "<div> \n",
    "    <ul style='font-size:20px'> \n",
    "        <li> \n",
    "            Descubra $\\lim_{x \\to 0} \\frac{\\sin{7x}}{4x}$.\n",
    "        </li>\n",
    "    </ul>\n",
    "</div>"
   ]
  },
  {
   "cell_type": "code",
   "execution_count": 136,
   "id": "db1743b4-443e-4ac9-8a23-d7477b4344c3",
   "metadata": {},
   "outputs": [
    {
     "data": {
      "text/latex": [
       "$\\displaystyle \\frac{7}{4}$"
      ],
      "text/plain": [
       "7/4"
      ]
     },
     "execution_count": 136,
     "metadata": {},
     "output_type": "execute_result"
    }
   ],
   "source": [
    "from sympy import sin, limit\n",
    "x = Symbol('x')\n",
    "y = sin(7*x)/(4*x)\n",
    "\n",
    "limit(y,x,0)"
   ]
  },
  {
   "cell_type": "markdown",
   "id": "076a08e2-b9b9-4e36-8cd4-ea7405ab5346",
   "metadata": {},
   "source": [
    "<h4 style='font-size:30px;font-style:italic;text-decoration:underline'> Example VI</h4>\n",
    "<div> \n",
    "    <ul style='font-size:20px'> \n",
    "        <li> \n",
    "            Descubra $\\lim_{x \\to 0} x\\cot{x}$.\n",
    "        </li>\n",
    "    </ul>\n",
    "</div>"
   ]
  },
  {
   "cell_type": "code",
   "execution_count": 137,
   "id": "7e9c1e40-2363-46f1-b980-a5fba5e4c2d4",
   "metadata": {},
   "outputs": [
    {
     "data": {
      "text/latex": [
       "$\\displaystyle 1$"
      ],
      "text/plain": [
       "1"
      ]
     },
     "execution_count": 137,
     "metadata": {},
     "output_type": "execute_result"
    }
   ],
   "source": [
    "from sympy import cot\n",
    "x = Symbol('x')\n",
    "y = x*cot(x)\n",
    "\n",
    "limit(y,x,0)"
   ]
  },
  {
   "cell_type": "markdown",
   "id": "b3ee9692-a5a7-4ce3-bb7a-f20738995830",
   "metadata": {},
   "source": [
    "<h3 style='font-size:30px;font-style:italic'> 3.3 Exercises</h3>"
   ]
  },
  {
   "cell_type": "markdown",
   "id": "23cc56a5-c2c5-4329-b2a3-b87c3e2aa4df",
   "metadata": {},
   "source": [
    "<h4 style='font-size:30px;font-style:italic;text-decoration:underline'> 29</h4>"
   ]
  },
  {
   "cell_type": "code",
   "execution_count": 138,
   "id": "17bcb1b5-840e-4548-9afa-37952f78a1c1",
   "metadata": {},
   "outputs": [
    {
     "data": {
      "text/plain": [
       "(x*cos(x) + sin(x), -x*sin(x) + 2*cos(x))"
      ]
     },
     "execution_count": 138,
     "metadata": {},
     "output_type": "execute_result"
    }
   ],
   "source": [
    "x = Symbol('x')\n",
    "y = x*sin(x)\n",
    "\n",
    "diff(y,x), diff(y,x,2)"
   ]
  },
  {
   "cell_type": "markdown",
   "id": "341cd5d6-e636-4000-a7f6-3cce9cad58aa",
   "metadata": {},
   "source": [
    "<h4 style='font-size:30px;font-style:italic;text-decoration:underline'> 33</h4>"
   ]
  },
  {
   "cell_type": "code",
   "execution_count": 139,
   "id": "e5d3a578-ea12-46f1-ab46-8c8aa809c5c6",
   "metadata": {},
   "outputs": [
    {
     "data": {
      "text/plain": [
       "[2*pi/3, 4*pi/3]"
      ]
     },
     "execution_count": 139,
     "metadata": {},
     "output_type": "execute_result"
    }
   ],
   "source": [
    "x = Symbol('x')\n",
    "y = x + 2*sin(x)\n",
    "\n",
    "solve(Eq(diff(y),0))"
   ]
  },
  {
   "cell_type": "markdown",
   "id": "5e214d32-6218-4b20-a8c0-58ec1335bd89",
   "metadata": {},
   "source": [
    "<h4 style='font-size:30px;font-style:italic;text-decoration:underline'> 35</h4>"
   ]
  },
  {
   "cell_type": "code",
   "execution_count": 148,
   "id": "d994675d-120a-45f1-8097-407702087ef1",
   "metadata": {},
   "outputs": [
    {
     "name": "stdout",
     "output_type": "stream",
     "text": [
      "a: (8*cos(t), -8*sin(t))\n",
      "(4*sqrt(3), -4, -4*sqrt(3))\n"
     ]
    }
   ],
   "source": [
    "from sympy import pi\n",
    "t = Symbol('t')\n",
    "y = 8*sin(t)\n",
    "\n",
    "# a.\n",
    "print(f'a: {(diff(y,t) ,diff(y,t,2))}')\n",
    "\n",
    "# b.\n",
    "print(f'{(y.subs(t,2*pi/3), diff(y,t).subs(t, 2*pi/3), diff(y,t,2).subs(t, 2*pi/3))}')"
   ]
  },
  {
   "cell_type": "markdown",
   "id": "c519e14a-89c9-44ff-9c47-bb0411f8fc36",
   "metadata": {},
   "source": [
    "<h2 style='font-size:30px'> 3.4 The Chain Rule</h2>\n",
    "<div> \n",
    "    <ul style='font-size:20px'> \n",
    "        <li> \n",
    "            Aqui, aprendemos a diferenciar funções compostas.\n",
    "        </li>\n",
    "        <li> \n",
    "            Podemos desmembrar $F(x)=\\sqrt{x^{2}+1}$ em  $y=f(u)=\\sqrt{u}$ e $u=g(x)=x^{2}+1$.\n",
    "        </li>\n",
    "        <li> \n",
    "            A derivada de F(x) ficaria como $F'(x)=f'(x)\\times g'(x)$\n",
    "        </li>\n",
    "        <li> \n",
    "            Na notação de Leibniz: $\\frac{dy}{dx}=\\frac{dy}{du}\\frac{du}{dx}$\n",
    "        </li>\n",
    "    </ul>\n",
    "</div>"
   ]
  },
  {
   "cell_type": "markdown",
   "id": "3cb53576-e1f7-4877-bf7b-103858ce13b2",
   "metadata": {},
   "source": [
    "<h4 style='font-size:30px;font-style:italic;text-decoration:underline'> Example I</h4>\n",
    "<div> \n",
    "    <ul style='font-size:20px'> \n",
    "        <li> \n",
    "            Encontre F'(x) de $F(x)=\\sqrt{x^{2}+1}$.\n",
    "        </li>\n",
    "    </ul>\n",
    "</div>"
   ]
  },
  {
   "cell_type": "code",
   "execution_count": 149,
   "id": "00fc00ce-800d-4a6a-bcc7-1cfacffe16b9",
   "metadata": {},
   "outputs": [
    {
     "data": {
      "text/latex": [
       "$\\displaystyle \\frac{x}{\\sqrt{x^{2} + 1}}$"
      ],
      "text/plain": [
       "x/sqrt(x**2 + 1)"
      ]
     },
     "execution_count": 149,
     "metadata": {},
     "output_type": "execute_result"
    }
   ],
   "source": [
    "from sympy import diff, Symbol, sqrt\n",
    "x = Symbol('x')\n",
    "y = sqrt(x**2 + 1)\n",
    "diff(y,x)"
   ]
  },
  {
   "cell_type": "markdown",
   "id": "dabc8e36-07b6-4c76-9a72-b729031e4f52",
   "metadata": {},
   "source": [
    "<h4 style='font-size:30px;font-style:italic;text-decoration:underline'> Example II</h4>\n",
    "<div> \n",
    "    <ul style='font-size:20px'> \n",
    "        <li> \n",
    "            Diferencie $y=\\sin{x^{2}}$ e $y=\\sin^{2}{x}$.\n",
    "        </li>\n",
    "    </ul>\n",
    "</div>"
   ]
  },
  {
   "cell_type": "code",
   "execution_count": 152,
   "id": "f8392483-8733-4087-b72c-4ac58d24aee3",
   "metadata": {},
   "outputs": [
    {
     "data": {
      "text/plain": [
       "(2*x*cos(x**2), 2*sin(x)*cos(x))"
      ]
     },
     "execution_count": 152,
     "metadata": {},
     "output_type": "execute_result"
    }
   ],
   "source": [
    "from sympy import sin\n",
    "x = Symbol('x')\n",
    "y1 = sin(x**2)\n",
    "y2 = (sin(x))**2\n",
    "\n",
    "diff(y1, x), diff(y2,x)"
   ]
  },
  {
   "cell_type": "markdown",
   "id": "918e4dcf-a5c6-427b-a4e7-07c29520006c",
   "metadata": {},
   "source": [
    "<h4 style='font-size:30px;font-style:italic;text-decoration:underline'> Example III</h4>\n",
    "<div> \n",
    "    <ul style='font-size:20px'> \n",
    "        <li> \n",
    "            Diferencie $y=(x^{3}-1)^{100}$.\n",
    "        </li>\n",
    "    </ul>\n",
    "</div>"
   ]
  },
  {
   "cell_type": "code",
   "execution_count": 153,
   "id": "97bf58e5-ebe7-4df9-aa07-d464a267b65f",
   "metadata": {},
   "outputs": [
    {
     "data": {
      "text/latex": [
       "$\\displaystyle 300 x^{2} \\left(x^{3} - 1\\right)^{99}$"
      ],
      "text/plain": [
       "300*x**2*(x**3 - 1)**99"
      ]
     },
     "execution_count": 153,
     "metadata": {},
     "output_type": "execute_result"
    }
   ],
   "source": [
    "x = Symbol('x')\n",
    "y = (x**3 -1)**100\n",
    "\n",
    "diff(y,x)"
   ]
  },
  {
   "cell_type": "markdown",
   "id": "871cb60a-ed59-494d-8be3-2855c492afb6",
   "metadata": {},
   "source": [
    "<h4 style='font-size:30px;font-style:italic;text-decoration:underline'> Example IV</h4>\n",
    "<div> \n",
    "    <ul style='font-size:20px'> \n",
    "        <li> \n",
    "            Diferencie $f(x)=\\frac{1}{\\sqrt[3]{x^{2}+x+1}}$.\n",
    "        </li>\n",
    "    </ul>\n",
    "</div>"
   ]
  },
  {
   "cell_type": "code",
   "execution_count": 154,
   "id": "3806824b-96b5-41e7-b6e9-06668e38a2fe",
   "metadata": {},
   "outputs": [
    {
     "data": {
      "text/latex": [
       "$\\displaystyle \\frac{- \\frac{2 x}{3} - \\frac{1}{3}}{\\left(x^{2} + x + 1\\right)^{\\frac{4}{3}}}$"
      ],
      "text/plain": [
       "(-2*x/3 - 1/3)/(x**2 + x + 1)**(4/3)"
      ]
     },
     "execution_count": 154,
     "metadata": {},
     "output_type": "execute_result"
    }
   ],
   "source": [
    "from sympy import root\n",
    "x = Symbol('x')\n",
    "y = 1/(root(x**2 + x+1, 3))\n",
    "\n",
    "diff(y,x)"
   ]
  },
  {
   "cell_type": "markdown",
   "id": "14d093cc-dfa3-420c-92e0-b497d3ec8ce9",
   "metadata": {},
   "source": [
    "<h4 style='font-size:30px;font-style:italic;text-decoration:underline'> Example V</h4>\n",
    "<div> \n",
    "    <ul style='font-size:20px'> \n",
    "        <li> \n",
    "            Diferencie $g(t)=(\\frac{t-2}{2t+1})^{9}$.\n",
    "        </li>\n",
    "    </ul>\n",
    "</div>"
   ]
  },
  {
   "cell_type": "code",
   "execution_count": 161,
   "id": "b0648f77-78cb-4772-9994-b4dfd292ab27",
   "metadata": {},
   "outputs": [
    {
     "data": {
      "text/latex": [
       "$\\displaystyle - \\frac{18 \\left(t - 2\\right)^{9}}{\\left(2 t + 1\\right)^{10}} + \\frac{9 \\left(t - 2\\right)^{8}}{\\left(2 t + 1\\right)^{9}}$"
      ],
      "text/plain": [
       "-18*(t - 2)**9/(2*t + 1)**10 + 9*(t - 2)**8/(2*t + 1)**9"
      ]
     },
     "execution_count": 161,
     "metadata": {},
     "output_type": "execute_result"
    }
   ],
   "source": [
    "t = Symbol('t')\n",
    "y = (((t-2)/(2*t + 1)))**9\n",
    "\n",
    "diff(y,t)"
   ]
  },
  {
   "cell_type": "markdown",
   "id": "6568d955-37bd-476c-b7b5-de0dacfd096b",
   "metadata": {},
   "source": [
    "<h4 style='font-size:30px;font-style:italic;text-decoration:underline'> Example VI</h4>\n",
    "<div> \n",
    "    <ul style='font-size:20px'> \n",
    "        <li> \n",
    "            Diferencie $y=(2x+1)^{5}(x^{3}-x+1)^{4}$.\n",
    "        </li>\n",
    "    </ul>\n",
    "</div>"
   ]
  },
  {
   "cell_type": "code",
   "execution_count": 163,
   "id": "57c3d63c-d509-4224-89ac-b3c4b463b079",
   "metadata": {},
   "outputs": [
    {
     "data": {
      "text/latex": [
       "$\\displaystyle \\left(2 x + 1\\right)^{5} \\cdot \\left(12 x^{2} - 4\\right) \\left(x^{3} - x + 1\\right)^{3} + 10 \\left(2 x + 1\\right)^{4} \\left(x^{3} - x + 1\\right)^{4}$"
      ],
      "text/plain": [
       "(2*x + 1)**5*(12*x**2 - 4)*(x**3 - x + 1)**3 + 10*(2*x + 1)**4*(x**3 - x + 1)**4"
      ]
     },
     "execution_count": 163,
     "metadata": {},
     "output_type": "execute_result"
    }
   ],
   "source": [
    "x = Symbol('x')\n",
    "y = (2*x+1)**5 * (x**3 - x +1)**4\n",
    "diff(y,x)"
   ]
  },
  {
   "cell_type": "markdown",
   "id": "d81c9dad-0c43-46f5-b908-a5e83713525d",
   "metadata": {},
   "source": [
    "<h4 style='font-size:30px;font-style:italic;text-decoration:underline'> Example VII</h4>\n",
    "<div> \n",
    "    <ul style='font-size:20px'> \n",
    "        <li> \n",
    "            Diferencie $y=e^{\\sin{x}}$.\n",
    "        </li>\n",
    "    </ul>\n",
    "</div>"
   ]
  },
  {
   "cell_type": "code",
   "execution_count": 165,
   "id": "93d0dc6b-ed82-4c66-a316-805ee2df31fa",
   "metadata": {},
   "outputs": [
    {
     "data": {
      "text/latex": [
       "$\\displaystyle e^{\\sin{\\left(x \\right)}} \\cos{\\left(x \\right)}$"
      ],
      "text/plain": [
       "exp(sin(x))*cos(x)"
      ]
     },
     "execution_count": 165,
     "metadata": {},
     "output_type": "execute_result"
    }
   ],
   "source": [
    "from sympy import exp, sin\n",
    "x = Symbol('x')\n",
    "y = exp(sin(x))\n",
    "diff(y,x)"
   ]
  },
  {
   "cell_type": "markdown",
   "id": "13c7c759-4965-4791-b210-c281184bb5f3",
   "metadata": {},
   "source": [
    "<h3 style='font-size:30px;font-style:italic'> Diferenciando funções exponenciais</h3>\n",
    "<div> \n",
    "    <ul style='font-size:20px'> \n",
    "        <li> \n",
    "            Se a>0: $\\frac{d}{dx}a^{x}=a^{x}\\ln{a}$\n",
    "        </li>\n",
    "    </ul>\n",
    "</div>"
   ]
  },
  {
   "cell_type": "markdown",
   "id": "0668e8ab-d0e6-4bb3-9262-0fe086d8ec6e",
   "metadata": {},
   "source": [
    "<h4 style='font-size:30px;font-style:italic;text-decoration:underline'> Example VIII</h4>\n",
    "<div> \n",
    "    <ul style='font-size:20px'> \n",
    "        <li> \n",
    "            Diferencie $f(x)=\\sin(\\cos(\\tan{x}))$.\n",
    "        </li>\n",
    "    </ul>\n",
    "</div>"
   ]
  },
  {
   "cell_type": "code",
   "execution_count": 167,
   "id": "0674fa78-fd8a-45d9-9353-87b334f04097",
   "metadata": {},
   "outputs": [
    {
     "data": {
      "text/latex": [
       "$\\displaystyle - \\left(\\tan^{2}{\\left(x \\right)} + 1\\right) \\sin{\\left(\\tan{\\left(x \\right)} \\right)} \\cos{\\left(\\cos{\\left(\\tan{\\left(x \\right)} \\right)} \\right)}$"
      ],
      "text/plain": [
       "-(tan(x)**2 + 1)*sin(tan(x))*cos(cos(tan(x)))"
      ]
     },
     "execution_count": 167,
     "metadata": {},
     "output_type": "execute_result"
    }
   ],
   "source": [
    "from sympy import sin, cos, tan\n",
    "x = Symbol('x')\n",
    "y = sin(cos(tan(x)))\n",
    "\n",
    "diff(y,x)"
   ]
  },
  {
   "cell_type": "markdown",
   "id": "3eb6d1b9-f184-429f-b553-971db53f3b4a",
   "metadata": {},
   "source": [
    "<h4 style='font-size:30px;font-style:italic;text-decoration:underline'> Example IX</h4>\n",
    "<div> \n",
    "    <ul style='font-size:20px'> \n",
    "        <li> \n",
    "            Diferencie $f(x)=e^{\\sec{3x}}$.\n",
    "        </li>\n",
    "    </ul>\n",
    "</div>"
   ]
  },
  {
   "cell_type": "code",
   "execution_count": 168,
   "id": "db3b8a6c-5b11-4cc6-9fdf-1388badbb5d1",
   "metadata": {},
   "outputs": [
    {
     "data": {
      "text/latex": [
       "$\\displaystyle 3 e^{\\sec{\\left(3 x \\right)}} \\tan{\\left(3 x \\right)} \\sec{\\left(3 x \\right)}$"
      ],
      "text/plain": [
       "3*exp(sec(3*x))*tan(3*x)*sec(3*x)"
      ]
     },
     "execution_count": 168,
     "metadata": {},
     "output_type": "execute_result"
    }
   ],
   "source": [
    "from sympy import sec\n",
    "x = Symbol('x')\n",
    "y = exp(sec(3*x))\n",
    "\n",
    "diff(y,x)"
   ]
  },
  {
   "cell_type": "markdown",
   "id": "eb98d063-d223-4a77-9d3c-77cd3487077d",
   "metadata": {},
   "source": [
    "<h3 style='font-size:30px;font-style:italic'> 3.4 Exercises</h3>"
   ]
  },
  {
   "cell_type": "markdown",
   "id": "1d26dc14-5ce9-4650-bcaf-46b3f8b07a88",
   "metadata": {},
   "source": [
    "<h4 style='font-size:30px;font-style:italic;text-decoration:underline'> 55</h4>"
   ]
  },
  {
   "cell_type": "code",
   "execution_count": 182,
   "id": "b126898e-2a0f-49e6-8158-b05ea3ca6a4a",
   "metadata": {},
   "outputs": [
    {
     "name": "stdout",
     "output_type": "stream",
     "text": [
      "a: x/2 + 1\n"
     ]
    },
    {
     "data": {
      "text/plain": [
       "[<matplotlib.lines.Line2D at 0x7f93bd4e9700>]"
      ]
     },
     "execution_count": 182,
     "metadata": {},
     "output_type": "execute_result"
    },
    {
     "data": {
      "image/png": "[encoded data removed]",
      "text/plain": [
       "<Figure size 432x288 with 1 Axes>"
      ]
     },
     "metadata": {
      "needs_background": "light"
     },
     "output_type": "display_data"
    }
   ],
   "source": [
    "from sympy import Eq, solve\n",
    "import numpy as np\n",
    "from matplotlib.pyplot import plot\n",
    "x = Symbol('x')\n",
    "y = Symbol('y')\n",
    "y = 2/(1+exp(-x))\n",
    "\n",
    "# a.\n",
    "m = diff(y,x).subs(x,0)\n",
    "eq = solve(Eq(y-1, m*(x-0)),y)[0]\n",
    "print(f'a: {eq}')\n",
    "\n",
    "# b.\n",
    "xs = np.linspace(-10,10,101)\n",
    "ys = 2/(1+np.exp(-xs))\n",
    "\n",
    "plot(xs,ys)\n",
    "plot(xs, [eq.subs(x, xi) for xi in xs])"
   ]
  },
  {
   "cell_type": "markdown",
   "id": "eee1d798-6aa5-46fb-86e2-b3cc210391fd",
   "metadata": {},
   "source": [
    "<h4 style='font-size:30px;font-style:italic;text-decoration:underline'> 81</h4>"
   ]
  },
  {
   "cell_type": "code",
   "execution_count": 192,
   "id": "c78e00b7-d477-4fd1-b333-4909582382f5",
   "metadata": {},
   "outputs": [
    {
     "name": "stdout",
     "output_type": "stream",
     "text": [
      "a: Velocity = -3.0*exp(-1.5*t)*sin(2*pi*t) + 4*pi*exp(-1.5*t)*cos(2*pi*t)\n"
     ]
    },
    {
     "data": {
      "text/plain": [
       "<matplotlib.legend.Legend at 0x7f93bd28f6a0>"
      ]
     },
     "execution_count": 192,
     "metadata": {},
     "output_type": "execute_result"
    },
    {
     "data": {
      "image/png": "[encoded data removed]",
      "text/plain": [
       "<Figure size 432x288 with 1 Axes>"
      ]
     },
     "metadata": {
      "needs_background": "light"
     },
     "output_type": "display_data"
    }
   ],
   "source": [
    "from sympy import pi\n",
    "from matplotlib.pyplot import legend\n",
    "t = Symbol('t')\n",
    "s = 2*exp(-1.5*t)*sin(2*pi*t)\n",
    "\n",
    "print(f'a: Velocity = {diff(s,t)}')\n",
    "\n",
    "ts = np.linspace(0,10, 101)\n",
    "ys = 2*np.exp(-1.5*ts)*np.sin(2*np.pi*ts)\n",
    "\n",
    "plot(ts, ys, label='Position')\n",
    "plot(ts, [diff(s,t).subs(t,ti) for ti in ts], label='Velocity')\n",
    "legend()"
   ]
  },
  {
   "cell_type": "markdown",
   "id": "e057be83-9d52-4460-a047-6a0270555678",
   "metadata": {},
   "source": [
    "<h2 style='font-size:30px'> 3.5 Implicit Differentiation</h2>\n",
    "<div> \n",
    "    <ul style='font-size:20px'> \n",
    "        <li> \n",
    "            A diferenciação implícita é um método de derivação de equações que possuem uma relação implícita entre as variáveis.\n",
    "            $$\n",
    "            x^{3}+y^{3}=6xy\n",
    "            $$\n",
    "        </li>\n",
    "        <li> \n",
    "            A equação acima é conhecida como o folium de Descartes. Dificilmente conseguiremos isolar y de x e extrair a derivada. Nesse caso, é mais apropriado prosseguirmos com o método da diferenciação implícita - diferenciar ambos os lados e, assim, isolar y.\n",
    "        </li>\n",
    "    </ul>\n",
    "</div>"
   ]
  },
  {
   "cell_type": "markdown",
   "id": "e40bde09-2ad4-4e2a-81f1-3b8145200458",
   "metadata": {},
   "source": [
    "<h4 style='font-size:30px;font-style:italic;text-decoration:underline'> Example I</h4>\n",
    "<div> \n",
    "    <ul style='font-size:20px'> \n",
    "        <li> \n",
    "            Derive $x^{2}+y^{2}=25$\n",
    "        </li>\n",
    "    </ul>\n",
    "</div>"
   ]
  },
  {
   "cell_type": "code",
   "execution_count": 245,
   "id": "141a96c4-b96f-49eb-a750-0b4837b3e137",
   "metadata": {},
   "outputs": [
    {
     "data": {
      "text/latex": [
       "$\\displaystyle 2 x + 2 y = 0$"
      ],
      "text/plain": [
       "Eq(2*x + 2*y, 0)"
      ]
     },
     "execution_count": 245,
     "metadata": {},
     "output_type": "execute_result"
    }
   ],
   "source": [
    "# O Sympy muito bem poderia fazer a derivação automaticamente, mas vamos montar o código demonstrando a diferenciação implícita.\n",
    "from sympy import diff, symbols, Eq, solve\n",
    "x,y = symbols('x y')\n",
    "left = diff(x**2 + y**2, y)\n",
    "right = diff(25)\n",
    "\n",
    "# Depois, basta isolar o y de x.\n",
    "Eq(diff(x**2) + diff(y**2), diff(25))"
   ]
  },
  {
   "cell_type": "code",
   "execution_count": 217,
   "id": "2fea3da0-3cc2-48bd-bee0-edb4dd9fe0f8",
   "metadata": {},
   "outputs": [
    {
     "data": {
      "text/latex": [
       "$\\displaystyle - \\frac{x}{y}$"
      ],
      "text/plain": [
       "-x/y"
      ]
     },
     "execution_count": 217,
     "metadata": {},
     "output_type": "execute_result"
    }
   ],
   "source": [
    "# A classe idiff lida com diferenciações implícitas, mas o Sympy nos exige isolar todos os valores para o lado esquerdo da equação.\n",
    "from sympy import idiff\n",
    "idiff(x**2 + y**2 - 25, y,x)"
   ]
  },
  {
   "cell_type": "markdown",
   "id": "9f7f8859-0d88-4c72-84aa-a48bc9da22a5",
   "metadata": {},
   "source": [
    "<h4 style='font-size:30px;font-style:italic;text-decoration:underline'> Example II</h4>\n",
    "<div> \n",
    "    <ul style='font-size:20px'> \n",
    "        <li> \n",
    "            Dada a equação do Folium de Descartes $ x^{3}+y^{3}=6xy$:\n",
    "            <ul style='list-style-type:lower-alpha'> \n",
    "                <li> \n",
    "                    Derive-a\n",
    "                </li>\n",
    "                <li> \n",
    "                    Descubra o valor da tangente no ponto (3,3)\n",
    "                </li>\n",
    "                <li> \n",
    "                    Em quais pontos do primeiro quandrante a linha tangente é horizontal?\n",
    "                </li>\n",
    "            </ul>\n",
    "        </li>\n",
    "    </ul>\n",
    "</div>"
   ]
  },
  {
   "cell_type": "code",
   "execution_count": 296,
   "id": "92eae96b-c2b5-4635-8181-3f713a0a6bb6",
   "metadata": {},
   "outputs": [
    {
     "name": "stdout",
     "output_type": "stream",
     "text": [
      "a: (x**2 - 2*y)/(2*x - y**2)\n",
      "b: -1\n",
      "c: (2*2**(1/3), 2*2**(2/3))\n"
     ]
    }
   ],
   "source": [
    "from sympy import symbols, idiff, Eq, solve\n",
    "x,y = symbols('x y',real=True)\n",
    "folium = x**3 +y**3 - 6*x*y\n",
    "# a.\n",
    "folium_diff = idiff(folium, y,x)\n",
    "print(f'a: {folium_diff}')\n",
    "\n",
    "# b.\n",
    "m = folium_diff.subs({x:3, y:3})\n",
    "print(f'b: {m}')\n",
    "\n",
    "# c.\n",
    "# Igualar a parte de cima da fração (x^2 - 2y) a zero, desde que (y^2 - 2x !=0).\n",
    "\n",
    "# x_tan_0 nos mostra que y = (1/2) * x^2 quando a inclinação da tangente é 0. \n",
    "x_tan_0 = solve(Eq(x**2 - 2*y,0),y)[0]\n",
    "\n",
    "for x_ in solve(Eq(folium.subs(y,x_tan_0),0)):\n",
    "    y_ = x_tan_0.subs(x, x_)\n",
    "    # C.E: (y^2 - 2x !=0)\n",
    "    if y_ ** 2 - 2*x_ !=0:\n",
    "        print(f'c: ({x_}, {y_})')"
   ]
  },
  {
   "cell_type": "markdown",
   "id": "1b9c936d-7771-4136-91a6-222a594c972c",
   "metadata": {},
   "source": [
    "<h4 style='font-size:30px;font-style:italic;text-decoration:underline'> Example III</h4>\n",
    "<div> \n",
    "    <ul style='font-size:20px'> \n",
    "        <li> \n",
    "            Diferencie $\\sin{(x+y)}=y^{2}\\cos{x}$\n",
    "        </li>\n",
    "    </ul>\n",
    "</div>"
   ]
  },
  {
   "cell_type": "code",
   "execution_count": 299,
   "id": "4b32c483-e3e3-4e31-a505-a4293a11d1e2",
   "metadata": {},
   "outputs": [
    {
     "data": {
      "text/latex": [
       "$\\displaystyle \\frac{y^{2} \\sin{\\left(x \\right)} + \\cos{\\left(x + y \\right)}}{2 y \\cos{\\left(x \\right)} - \\cos{\\left(x + y \\right)}}$"
      ],
      "text/plain": [
       "(y**2*sin(x) + cos(x + y))/(2*y*cos(x) - cos(x + y))"
      ]
     },
     "execution_count": 299,
     "metadata": {},
     "output_type": "execute_result"
    }
   ],
   "source": [
    "from sympy import symbols, idiff, sin, cos\n",
    "x,y = symbols('x y')\n",
    "idiff(sin(x+y)-(y**2 * cos(x)),y,x)"
   ]
  },
  {
   "cell_type": "markdown",
   "id": "2c15a8e6-2eaa-41d5-b7bc-3533f8855c8b",
   "metadata": {},
   "source": [
    "<h4 style='font-size:30px;font-style:italic;text-decoration:underline'> Example IV</h4>\n",
    "<div> \n",
    "    <ul style='font-size:20px'> \n",
    "        <li> \n",
    "            Diferencie $x^{4}+y^{4}=16$\n",
    "        </li>\n",
    "    </ul>\n",
    "</div>"
   ]
  },
  {
   "cell_type": "code",
   "execution_count": 302,
   "id": "fd3f20a4-8c5c-46fe-bcbe-40f1763030d1",
   "metadata": {},
   "outputs": [
    {
     "data": {
      "text/latex": [
       "$\\displaystyle \\frac{3 x^{2} \\left(- \\frac{x^{4}}{y^{3}} - y\\right)}{y^{4}}$"
      ],
      "text/plain": [
       "3*x**2*(-x**4/y**3 - y)/y**4"
      ]
     },
     "execution_count": 302,
     "metadata": {},
     "output_type": "execute_result"
    }
   ],
   "source": [
    "idiff(x**4 + y**4 -16, y,x, 2)"
   ]
  },
  {
   "cell_type": "markdown",
   "id": "436d154d-0342-470f-82d6-a0fabba70bbb",
   "metadata": {},
   "source": [
    "<h3 style='font-size:30px;font-style:italic'> Derivatives of Inverse Trigonometric Functions</h3>"
   ]
  },
  {
   "cell_type": "markdown",
   "id": "853113f6-197b-4756-bb18-21d089a014d6",
   "metadata": {},
   "source": [
    "<h4 style='font-size:30px;font-style:italic;text-decoration:underline'> Example V</h4>\n",
    "<div> \n",
    "    <ul style='font-size:20px'> \n",
    "        <li> \n",
    "            Diferencie (a): $y=\\frac{1}{(\\sin^{-1}{x})}$; (b): $f(x)=x\\arctan{\\sqrt{x}}$\n",
    "        </li>\n",
    "    </ul>\n",
    "</div>"
   ]
  },
  {
   "cell_type": "code",
   "execution_count": 307,
   "id": "536c50df-bc1b-4a20-a376-13286bbd028f",
   "metadata": {},
   "outputs": [
    {
     "data": {
      "text/latex": [
       "$\\displaystyle - \\frac{1}{\\sqrt{1 - x^{2}} \\operatorname{asin}^{2}{\\left(x \\right)}}$"
      ],
      "text/plain": [
       "-1/(sqrt(1 - x**2)*asin(x)**2)"
      ]
     },
     "execution_count": 307,
     "metadata": {},
     "output_type": "execute_result"
    }
   ],
   "source": [
    "from sympy import asin,atan\n",
    "# a\n",
    "diff(1/asin(x),x)"
   ]
  },
  {
   "cell_type": "code",
   "execution_count": 308,
   "id": "d4c38ce0-e036-482f-a332-c4afca735810",
   "metadata": {},
   "outputs": [
    {
     "data": {
      "text/latex": [
       "$\\displaystyle \\frac{\\sqrt{x}}{2 \\left(x + 1\\right)} + \\operatorname{atan}{\\left(\\sqrt{x} \\right)}$"
      ],
      "text/plain": [
       "sqrt(x)/(2*(x + 1)) + atan(sqrt(x))"
      ]
     },
     "execution_count": 308,
     "metadata": {},
     "output_type": "execute_result"
    }
   ],
   "source": [
    "# b.\n",
    "diff(x*atan(sqrt(x)))"
   ]
  },
  {
   "cell_type": "markdown",
   "id": "a292b28a-e5fa-4e64-97cb-890bf22228a2",
   "metadata": {},
   "source": [
    "<h3 style='font-size:30px;font-style:italic'> 3.5 Exercises</h3>\n",
    "<h4 style='font-size:30px;font-style:italic;text-decoration:underline'> 31</h4>"
   ]
  },
  {
   "cell_type": "code",
   "execution_count": 339,
   "id": "1fca0415-b5fa-47a0-871b-54975256a1df",
   "metadata": {},
   "outputs": [
    {
     "name": "stdout",
     "output_type": "stream",
     "text": [
      "a: 9*x/2 - 5/2\n"
     ]
    },
    {
     "data": {
      "text/plain": [
       "(-50.0, 50.0)"
      ]
     },
     "execution_count": 339,
     "metadata": {},
     "output_type": "execute_result"
    },
    {
     "data": {
      "image/png": "[encoded data removed]",
      "text/plain": [
       "<Figure size 432x288 with 1 Axes>"
      ]
     },
     "metadata": {
      "needs_background": "light"
     },
     "output_type": "display_data"
    }
   ],
   "source": [
    "from sympy import symbols, idiff, Eq, solve\n",
    "x,y = symbols('x y', real=True)\n",
    "# a.\n",
    "m = idiff(5*x**4 - x**2 - y**2,y,x).subs({x:1, y:2})\n",
    "print(f'a: {solve(Eq(y-2, m*(x-1)),y)[0]}')\n",
    "\n",
    "# b.\n",
    "xs = np.linspace(-20, 20, 101)\n",
    "eqs = solve(5*x**4 - x**2 - y**2,y)\n",
    "for eq in eqs:\n",
    "    plt.plot([xi for xi in xs if isinstance(eq.subs(x,xi), float)], [eq.subs(x,xi) for xi in xs if isinstance(eq.subs(x,xi), float)])\n"
   ]
  },
  {
   "cell_type": "markdown",
   "id": "7e8fe354-40af-4825-a073-be7c530a5f7f",
   "metadata": {},
   "source": [
    "<h2 style='font-size:30px'> 3.6 Derivatives of Logarithmic Functions</h2>\n",
    "<div> \n",
    "    <ul style='font-size:20px'> \n",
    "        <li> \n",
    "            $\\frac{d}{dx}(\\log_{a}x)=\\frac{1}{x \\ln{a}}$\n",
    "        </li>\n",
    "        <li style='margin-top:15px'> \n",
    "            Quando a=e: $\\frac{d}{dx}(\\ln{x})=\\frac{1}{x}$\n",
    "        </li>\n",
    "    </ul>\n",
    "</div>"
   ]
  },
  {
   "cell_type": "markdown",
   "id": "2968fce9-fd46-4e6d-85cb-a9e60a98ca8d",
   "metadata": {},
   "source": [
    "<h4 style='font-size:30px;font-style:italic;text-decoration:underline'> Example I</h4>\n",
    "<div> \n",
    "    <ul style='font-size:20px'> \n",
    "        <li> \n",
    "            Encontre $\\frac{d}{dx} \\ln({x^{3}+1})$ \n",
    "        </li>\n",
    "    </ul>\n",
    "</div>"
   ]
  },
  {
   "cell_type": "code",
   "execution_count": 344,
   "id": "83e3dd5a-1cc7-40da-9a1b-3f04a1437240",
   "metadata": {},
   "outputs": [
    {
     "data": {
      "text/latex": [
       "$\\displaystyle \\frac{3 x^{2}}{x^{3} + 1}$"
      ],
      "text/plain": [
       "3*x**2/(x**3 + 1)"
      ]
     },
     "execution_count": 344,
     "metadata": {},
     "output_type": "execute_result"
    }
   ],
   "source": [
    "from sympy import symbols, ln, diff\n",
    "x = symbols('x')\n",
    "diff(ln(x**3 + 1))"
   ]
  },
  {
   "cell_type": "markdown",
   "id": "cc496846-cc6d-4eb0-8b5d-9af963237077",
   "metadata": {},
   "source": [
    "<h4 style='font-size:30px;font-style:italic;text-decoration:underline'> Example II</h4>\n",
    "<div> \n",
    "    <ul style='font-size:20px'> \n",
    "        <li> \n",
    "            Encontre $\\frac{d}{dx} \\ln({\\sin{x}})$ \n",
    "        </li>\n",
    "    </ul>\n",
    "</div>"
   ]
  },
  {
   "cell_type": "code",
   "execution_count": 343,
   "id": "929031aa-6fb5-4123-9fcb-b9ab54ccf480",
   "metadata": {},
   "outputs": [
    {
     "data": {
      "text/latex": [
       "$\\displaystyle \\frac{\\cos{\\left(x \\right)}}{\\sin{\\left(x \\right)}}$"
      ],
      "text/plain": [
       "cos(x)/sin(x)"
      ]
     },
     "execution_count": 343,
     "metadata": {},
     "output_type": "execute_result"
    }
   ],
   "source": [
    "from sympy import sin\n",
    "x = symbols('x')\n",
    "diff(ln(sin(x)))"
   ]
  },
  {
   "cell_type": "markdown",
   "id": "5d5d3178-6c7d-400b-b5cf-229cc1a91385",
   "metadata": {},
   "source": [
    "<h4 style='font-size:30px;font-style:italic;text-decoration:underline'> Example III</h4>\n",
    "<div> \n",
    "    <ul style='font-size:20px'> \n",
    "        <li> \n",
    "            Encontre $\\frac{d}{dx} \\sqrt{\\ln{x}}$ \n",
    "        </li>\n",
    "    </ul>\n",
    "</div>"
   ]
  },
  {
   "cell_type": "code",
   "execution_count": 347,
   "id": "806946fc-b4dd-4d1d-966d-253c7188675e",
   "metadata": {},
   "outputs": [
    {
     "data": {
      "text/latex": [
       "$\\displaystyle \\frac{1}{2 x \\sqrt{\\log{\\left(x \\right)}}}$"
      ],
      "text/plain": [
       "1/(2*x*sqrt(log(x)))"
      ]
     },
     "execution_count": 347,
     "metadata": {},
     "output_type": "execute_result"
    }
   ],
   "source": [
    "from sympy import root\n",
    "\n",
    "# 'log', sem uma base no sympy é equivalente a 'ln'.\n",
    "diff(root(ln(x),2))"
   ]
  },
  {
   "cell_type": "markdown",
   "id": "f658e7e7-9b28-4e6c-bee9-b2856022442a",
   "metadata": {},
   "source": [
    "<h4 style='font-size:30px;font-style:italic;text-decoration:underline'> Example IV</h4>\n",
    "<div> \n",
    "    <ul style='font-size:20px'> \n",
    "        <li> \n",
    "            Encontre $\\frac{d}{dx} \\log({2 + \\sin{x}})$ \n",
    "        </li>\n",
    "    </ul>\n",
    "</div>"
   ]
  },
  {
   "cell_type": "code",
   "execution_count": 353,
   "id": "74a263d2-0c2a-47ae-888a-acb2f5493e91",
   "metadata": {},
   "outputs": [
    {
     "data": {
      "text/latex": [
       "$\\displaystyle \\frac{\\cos{\\left(x \\right)}}{\\left(\\sin{\\left(x \\right)} + 2\\right) \\log{\\left(10 \\right)}}$"
      ],
      "text/plain": [
       "cos(x)/((sin(x) + 2)*log(10))"
      ]
     },
     "execution_count": 353,
     "metadata": {},
     "output_type": "execute_result"
    }
   ],
   "source": [
    "from sympy import log\n",
    "diff(log(2 + sin(x), 10))"
   ]
  },
  {
   "cell_type": "markdown",
   "id": "b4f42816-1192-453e-a462-a6f293c4ab4b",
   "metadata": {},
   "source": [
    "<h4 style='font-size:30px;font-style:italic;text-decoration:underline'> Example V</h4>\n",
    "<div> \n",
    "    <ul style='font-size:20px'> \n",
    "        <li> \n",
    "            Encontre $\\frac{d}{dx} \\ln{(\\frac{x+1}{\\sqrt{x-2}})}$ \n",
    "        </li>\n",
    "    </ul>\n",
    "</div>"
   ]
  },
  {
   "cell_type": "code",
   "execution_count": 359,
   "id": "f92400af-73b1-4271-8e1f-aa3a447cf51c",
   "metadata": {},
   "outputs": [
    {
     "data": {
      "text/latex": [
       "$\\displaystyle \\frac{\\sqrt{x - 2} \\cdot \\left(\\frac{1}{\\sqrt{x - 2}} - \\frac{x + 1}{2 \\left(x - 2\\right)^{\\frac{3}{2}}}\\right)}{x + 1}$"
      ],
      "text/plain": [
       "sqrt(x - 2)*(1/sqrt(x - 2) - (x + 1)/(2*(x - 2)**(3/2)))/(x + 1)"
      ]
     },
     "execution_count": 359,
     "metadata": {},
     "output_type": "execute_result"
    }
   ],
   "source": [
    "diff(ln((x+1)/sqrt(x-2)))"
   ]
  },
  {
   "cell_type": "markdown",
   "id": "f490d44e-19cc-4214-b2ea-d29a8092ee85",
   "metadata": {},
   "source": [
    "<h4 style='font-size:30px;font-style:italic;text-decoration:underline'> Example VI</h4>\n",
    "<div> \n",
    "    <ul style='font-size:20px'> \n",
    "        <li> \n",
    "            Encontre $\\frac{d}{dx} \\ln{|x|}$ \n",
    "        </li>\n",
    "    </ul>\n",
    "</div>"
   ]
  },
  {
   "cell_type": "code",
   "execution_count": 363,
   "id": "32a39a31-c7f5-4eae-9f45-02996e14cac2",
   "metadata": {},
   "outputs": [
    {
     "data": {
      "text/plain": [
       "(1/x, 1/x)"
      ]
     },
     "execution_count": 363,
     "metadata": {},
     "output_type": "execute_result"
    }
   ],
   "source": [
    "from sympy import Abs\n",
    "\n",
    "# Como trata-se de uma função com módulo, é interessante analisá-la com x positivo e negativo.\n",
    "xp = symbols('x', real=True, positive=True)\n",
    "xn =  symbols('x', real=True, negative=True)\n",
    "\n",
    "# Não há derivada para x=0, pois a conta ficaria como 1/0.\n",
    "diff(ln(Abs(xp))), diff(ln(Abs(xn)))"
   ]
  },
  {
   "cell_type": "markdown",
   "id": "1484c0f4-c011-4953-b14e-9bb5e78f6ba2",
   "metadata": {},
   "source": [
    "<h3 style='font-size:30px;font-style:italic'> Logarithmic Differentiation</h3>"
   ]
  },
  {
   "cell_type": "markdown",
   "id": "1d12890b-04ac-47e7-b660-777002bf5877",
   "metadata": {},
   "source": [
    "<h4 style='font-size:30px;font-style:italic;text-decoration:underline'> Example VIII</h4>\n",
    "<div> \n",
    "    <ul style='font-size:20px'> \n",
    "        <li> \n",
    "            Encontre $\\frac{d}{dx} x^{\\sqrt{x}}$ \n",
    "        </li>\n",
    "    </ul>\n",
    "</div>"
   ]
  },
  {
   "cell_type": "code",
   "execution_count": 364,
   "id": "045e361d-9402-4fc5-a974-ea7d6bbb51f4",
   "metadata": {},
   "outputs": [
    {
     "data": {
      "text/latex": [
       "$\\displaystyle x^{\\sqrt{x}} \\left(\\frac{\\log{\\left(x \\right)}}{2 \\sqrt{x}} + \\frac{1}{\\sqrt{x}}\\right)$"
      ],
      "text/plain": [
       "x**(sqrt(x))*(log(x)/(2*sqrt(x)) + 1/sqrt(x))"
      ]
     },
     "execution_count": 364,
     "metadata": {},
     "output_type": "execute_result"
    }
   ],
   "source": [
    "diff(x**(sqrt(x)))"
   ]
  },
  {
   "cell_type": "markdown",
   "id": "ce250127-19c6-47ae-bb19-dc0539a12115",
   "metadata": {},
   "source": [
    "<h3 style='font-size:30px;font-style:italic'> The Number $e$ As A Limit</h3>\n",
    "<div> \n",
    "    <ul style='font-size:20px'> \n",
    "        <li> \n",
    "            Esta seção demonstra que $e=\\lim_{n \\to \\infty}(1 + \\frac{1}{n})^{n}$ \n",
    "        </li>\n",
    "    </ul>\n",
    "</div>"
   ]
  },
  {
   "cell_type": "markdown",
   "id": "61eb95a6-8994-45e7-8176-5c78887ebc70",
   "metadata": {},
   "source": [
    "<h3 style='font-size:30px;font-style:italic'> 3.6 Exercises</h3>\n",
    "<h4 style='font-size:30px;font-style:italic;text-decoration:underline'> 27</h4>"
   ]
  },
  {
   "cell_type": "code",
   "execution_count": 4,
   "id": "91d35785-eaa1-4524-b234-f02875f4159f",
   "metadata": {},
   "outputs": [
    {
     "data": {
      "text/plain": [
       "(x/((1 - log(x - 1))**2*(x - 1)) + 1/(1 - log(x - 1)),\n",
       " Union(Interval.open(1, 1 + E), Interval.open(1 + E, oo)))"
      ]
     },
     "execution_count": 4,
     "metadata": {},
     "output_type": "execute_result"
    }
   ],
   "source": [
    "from sympy.calculus.util import continuous_domain\n",
    "from sympy import S, diff, symbols,ln\n",
    "x = symbols('x')\n",
    "y_diff= diff(x/(1 - ln(x-1)))\n",
    "y_diff, continuous_domain(y_diff, x, S.Reals)"
   ]
  },
  {
   "cell_type": "markdown",
   "id": "a74a415b-314b-4c3e-897f-bc13da31ec90",
   "metadata": {},
   "source": [
    "<h4 style='font-size:30px;font-style:italic;text-decoration:underline'> 35</h4>"
   ]
  },
  {
   "cell_type": "code",
   "execution_count": 5,
   "id": "987e71c1-3559-49ff-8a64-89f06d977e4f",
   "metadata": {},
   "outputs": [
    {
     "data": {
      "text/plain": [
       "[<matplotlib.lines.Line2D at 0x7f9a81f8c520>]"
      ]
     },
     "execution_count": 5,
     "metadata": {},
     "output_type": "execute_result"
    },
    {
     "data": {
      "image/png": "[encoded data removed]",
      "text/plain": [
       "<Figure size 432x288 with 1 Axes>"
      ]
     },
     "metadata": {
      "needs_background": "light"
     },
     "output_type": "display_data"
    }
   ],
   "source": [
    "from sympy import symbols, sin, ln, diff\n",
    "import numpy as np\n",
    "import matplotlib.pyplot as plt\n",
    "x = symbols('x', real=True)\n",
    "xs = np.linspace(1, 20, 1001)\n",
    "y = sin(x) + ln(x)\n",
    "y_diff = diff(y, x)\n",
    "\n",
    "plt.plot(xs, [y.subs(x, xi) for xi in xs])\n",
    "plt.plot(xs, [y_diff.subs(x, xi) for xi in xs])"
   ]
  },
  {
   "cell_type": "markdown",
   "id": "935aed31-12e0-4f52-aaa2-c7e442926743",
   "metadata": {},
   "source": [
    "<h2 style='font-size:30px'> 3.7 Rates of Change In The Natural and Social Sciences</h2>\n",
    "<div> \n",
    "    <ul style='font-size:20px'> \n",
    "        <li> \n",
    "            Esta seção é dedicada à aplicação dos conceitos de derivação nas mais diversas ciências.\n",
    "        </li>\n",
    "    </ul>\n",
    "</div>"
   ]
  },
  {
   "cell_type": "markdown",
   "id": "2a5dad9f-5beb-460a-8fc6-bef34c32bbdf",
   "metadata": {},
   "source": [
    "<h3 style='font-size:30px;font-style:italic'> 3.7 Exercises</h3>"
   ]
  },
  {
   "cell_type": "markdown",
   "id": "e750f7b4-0443-4939-b3dd-e501f5dacdfd",
   "metadata": {},
   "source": [
    "<h4 style='font-size:30px;font-style:italic;text-decoration:underline'> 19</h4>"
   ]
  },
  {
   "cell_type": "code",
   "execution_count": 6,
   "id": "2fbae40e-00a2-45c2-ba87-0c6ff9149e9f",
   "metadata": {},
   "outputs": [
    {
     "name": "stdout",
     "output_type": "stream",
     "text": [
      "a: 4.75000000000000\n",
      "b: 5\n",
      "c: t=0\n"
     ]
    },
    {
     "data": {
      "image/png": "[encoded data removed]",
      "text/plain": [
       "<Figure size 432x288 with 1 Axes>"
      ]
     },
     "metadata": {
      "needs_background": "light"
     },
     "output_type": "display_data"
    }
   ],
   "source": [
    "t = symbols('t')\n",
    "amp = diff(t**3 - 2*t**2 + 6*t + 2)\n",
    "\n",
    "# a.\n",
    "print(f'a: {amp.subs(t,0.5)}')\n",
    "\n",
    "# b.\n",
    "print(f'b: {amp.subs(t,1)}')\n",
    "\n",
    "# c.\n",
    "ts = np.linspace(0, 60, 1001)\n",
    "plt.plot(ts, [amp.subs(t, ti) for ti in ts])\n",
    "print('c: t=0')"
   ]
  },
  {
   "cell_type": "markdown",
   "id": "fc22d5eb-5765-452b-96e2-6128eb7ed82f",
   "metadata": {},
   "source": [
    "<h4 style='font-size:30px;font-style:italic;text-decoration:underline'> 23</h4>"
   ]
  },
  {
   "cell_type": "code",
   "execution_count": 7,
   "id": "d88cf878-fb88-44fd-b4b5-f36d8e4d3f41",
   "metadata": {},
   "outputs": [
    {
     "data": {
      "text/plain": [
       "6850.268286453691"
      ]
     },
     "execution_count": 7,
     "metadata": {},
     "output_type": "execute_result"
    }
   ],
   "source": [
    "t = symbols('t')\n",
    "pop = 400* 3 **t\n",
    "float(diff(pop).subs(t, 2.5))"
   ]
  },
  {
   "cell_type": "markdown",
   "id": "f237b3cc-b4fa-44d1-91f8-6f5594768fcd",
   "metadata": {},
   "source": [
    "<h4 style='font-size:30px;font-style:italic;text-decoration:underline'> 29</h4>"
   ]
  },
  {
   "cell_type": "code",
   "execution_count": 8,
   "id": "b7a97a13-efc0-48d9-a27b-17c7f5fdd674",
   "metadata": {},
   "outputs": [
    {
     "name": "stdout",
     "output_type": "stream",
     "text": [
      "a: 0.0015*x**2 - 0.2*x + 12\n",
      "b: 32.0000000000000; custo da 201a yard.\n",
      "c: 32.2004999999999\n"
     ]
    }
   ],
   "source": [
    "x = symbols('x')\n",
    "C = 1200 + 12*x - 0.1*x**2 + 5e-4*x**3\n",
    "\n",
    "# a.\n",
    "C_diff = diff(C,x)\n",
    "print(f'a: {C_diff}')\n",
    "\n",
    "# b.\n",
    "print(f'b: {C_diff.subs(x, 200)}; custo da 201a yard.')\n",
    "\n",
    "# c.\n",
    "print(f'c: {C.subs(x, 201) - C.subs(x, 200)}')"
   ]
  },
  {
   "cell_type": "markdown",
   "id": "42033373-3930-4070-8c76-5be371ab3529",
   "metadata": {},
   "source": [
    "<h2 style='font-size:30px'> Related Rates</h2>\n",
    "<div> \n",
    "    <ul style='font-size:20px'> \n",
    "        <li> \n",
    "            Existem situações em que queremos mensurar as derivadas de duas informações que se relacionam entre si (por exemplo: o volume e o raio de uma bexiga enquanto a enxemos de ar).\n",
    "        </li>\n",
    "        <li> \n",
    "            Nesse caso, é aconselhável descobrir a derivada de uma das informações para se encontrar a da outra com o uso da Diferenciação em Cadeia.\n",
    "        </li>\n",
    "    </ul>\n",
    "</div>"
   ]
  },
  {
   "cell_type": "markdown",
   "id": "a26ed367-4f66-4139-96e8-e10f5b9961c6",
   "metadata": {},
   "source": [
    "<h4 style='font-size:30px;font-style:italic;text-decoration:underline'> Example I</h4>\n",
    "<div> \n",
    "    <ul style='font-size:20px'> \n",
    "        <li> \n",
    "            Sendo o volume da esfera $V=\\frac{4}{3}\\pi r^{3}$, sua derivada em função do raio é $\\frac{dV}{dr}=4\\pi r^{2}$.\n",
    "        </li>\n",
    "        <li> \n",
    "            A derivada do volume em função do tempo pode ser dada, com a regra da cadeia, como: $\\frac{dV}{dt}=\\frac{dV}{dr} \\frac{dr}{dt}$\n",
    "        </li>\n",
    "        <li> \n",
    "            Como já descobrimos que $\\frac{dV}{dr}=4\\pi r^{2}$, vamos escrever $\\frac{dV}{dt}=4\\pi r^{2} \\frac{dr}{dt}$\n",
    "        </li>\n",
    "        <li> \n",
    "            Passando a derivada do volume em função do raio para o outro lado: $\\frac{dr}{dt}=\\frac{1}{4\\pi r^{2}} \\frac{dV}{dt}$\n",
    "        </li>\n",
    "        <li> \n",
    "            Com $\\frac{dV}{dt}=100$ e $r=25$, finalmente: $\\frac{dr}{dt} = \\frac{1}{4\\pi (25)^{2}} 100 = \\frac{1}{25\\pi}$\n",
    "        </li>\n",
    "    </ul>\n",
    "</div>"
   ]
  },
  {
   "cell_type": "markdown",
   "id": "b8c91e51-bb02-4d42-989c-d1de3f01bdd8",
   "metadata": {},
   "source": [
    "<h4 style='font-size:30px;font-style:italic;text-decoration:underline'> Example II</h4>\n"
   ]
  },
  {
   "cell_type": "markdown",
   "id": "6181f891-bd22-4c75-85ad-5591b5386aef",
   "metadata": {},
   "source": [
    "<div> \n",
    "    <ul style='font-size:20px'> \n",
    "        <li> \n",
    "        Com x a distância horizontal da escada ao muro e y a distância do topo dessa ao chão.\n",
    "        </li>\n",
    "        <li> \n",
    "            Vamos recorrer ao Teorema de Pitágoras: $x^{2} + y^{2}=100$. Em seguida, diferenciaremos ambos os lados da equação por t: $2x \\frac{dx}{dt} + 2y \\frac{dy}{dt}=0 \\rightarrow$ $ \\frac{dy}{dt}=-\\frac{x}{y} \\frac{dx}{dt}$\n",
    "        </li> \n",
    "        <li> \n",
    "            Como x=6 e o comprimento da escada 10, y=8. O enunciado já nos informou que $\\frac{dx}{dt}=1$.\n",
    "            Portanto $\\frac{dy}{dt}=-\\frac{6}{8}\\times 1=-\\frac{3}{4}$\n",
    "        </li>\n",
    "    </ul>\n",
    "</div>"
   ]
  },
  {
   "cell_type": "markdown",
   "id": "a58481fc-e092-4942-be85-f915af12822f",
   "metadata": {},
   "source": [
    "<h4 style='font-size:30px;font-style:italic;text-decoration:underline'> Boas Práticas em Problemas de Derivação com Related Rates</h4>\n",
    "<div> \n",
    "    <ul style='font-size:20px'> \n",
    "        <li> \n",
    "            Encontrar uma fórmula cuja derivada possibilite o uso de ums das taxas de mudança fornecidas (ex: se te derem $\\frac{dV}{dt}$, busque usar uma fórmula para volume).\n",
    "        </li>\n",
    "        <li> \n",
    "            Caso a fórmula usada tenha múltiplas variáveis, reduza essa quantidade para uma única apenas. Isso pode ser feito descobrindo relações entre elas (geométrica, por exemplo).\n",
    "        </li>\n",
    "    </ul>\n",
    "</div>"
   ]
  },
  {
   "cell_type": "markdown",
   "id": "acb6eac7-3f28-4a85-91ce-fb90fe590d05",
   "metadata": {},
   "source": [
    "<center> \n",
    "    <h1> Derivação por variáveis inexistentes</h1>\n",
    "    <img src='related_rates.png'>\n",
    "</center>"
   ]
  },
  {
   "cell_type": "markdown",
   "id": "48f2beb6-94d6-4539-8e3c-70ec39f95b1a",
   "metadata": {},
   "source": [
    "<center> \n",
    "    <h1> Derivação de uma fórmula matemática</h1>\n",
    "    <img src='related_rates2.png'>\n",
    "</center>"
   ]
  },
  {
   "cell_type": "markdown",
   "id": "638fdf6d-e8e8-423f-8050-204fef300e16",
   "metadata": {},
   "source": [
    "<center> \n",
    "    <h1> O under the hood de uma diferenciação comum</h1>\n",
    "    <img src='related_rates3.png'>\n",
    "</center>"
   ]
  },
  {
   "cell_type": "markdown",
   "id": "7e26a4b2-4928-46db-bef0-849e47cfe944",
   "metadata": {},
   "source": [
    "<h2 style='font-size:30px'> 3.10 Linear Approximations and Differentials</h2>"
   ]
  },
  {
   "cell_type": "markdown",
   "id": "e4b62497-0e66-43f8-96da-fa2a3a0ac23a",
   "metadata": {},
   "source": [
    "<div> \n",
    "    <ul style='font-size:20px'> \n",
    "        <li> \n",
    "            Existem situações em que podemos querer medir vários valores para f(x) com x's de pouco espaçamento entre si. Nesse contexto, é possível recorrermos à técnica de Aproximação Linear da função, usando a sua derivada em certo ponto para extrairmos os números desejados de maneira aproximada. A diferenciação obtida é denominada como \"linearização\".\n",
    "        </li>\n",
    "        <li> \n",
    "            A Linearização de f(x) com a abscissa de tangência a é $L(x)=f'(a)(x-a) + f(a)$.\n",
    "        </li>\n",
    "    </ul>\n",
    "</div>"
   ]
  },
  {
   "cell_type": "markdown",
   "id": "de671001-4a92-45b2-9193-aa6d84d22f22",
   "metadata": {},
   "source": [
    "<h4 style='font-size:30px;font-style:italic;text-decoration:underline'> Example I</h4>\n",
    "<div> \n",
    "    <ul style='font-size:20px'> \n",
    "        <li> \n",
    "            Tendo $f(x)=\\sqrt{x+3}$, use a derivada da função em x=1 para medir $\\sqrt{3.98}$ e $\\sqrt{4.05}$.\n",
    "        </li>\n",
    "    </ul>\n",
    "</div>"
   ]
  },
  {
   "cell_type": "code",
   "execution_count": 154,
   "id": "ea799e81-7b1e-42c1-a73f-f9b2ac8c1f0b",
   "metadata": {},
   "outputs": [
    {
     "name": "stdout",
     "output_type": "stream",
     "text": [
      "[1.99500000000000]\n",
      "[2.01250000000000]\n"
     ]
    }
   ],
   "source": [
    "from sympy import symbols, sqrt, Eq, solve\n",
    "x,y = symbols('x y', reals=True)\n",
    "f = sqrt(x+3)\n",
    "\n",
    "# Obtendo a derivada da função no ponto x=1.\n",
    "a = diff(f).subs(x,1)\n",
    "\n",
    "# Equacionado a função da linha tangente (ou seja, a linearização).\n",
    "linearization = Eq(y-f.subs(x,1), a*(x-1))\n",
    "\n",
    "# Retornando os valores almejados com x=0.98 e x=1.05.\n",
    "print(solve(linearization.subs(x, .98)))\n",
    "print(solve(linearization.subs(x, 1.05)))"
   ]
  },
  {
   "cell_type": "markdown",
   "id": "f60fc51b-44ce-4366-84a7-c86ac83e1cb4",
   "metadata": {},
   "source": [
    "<h4 style='font-size:30px;font-style:italic;text-decoration:underline'> Example II</h4>\n",
    "<div> \n",
    "    <ul style='font-size:20px'> \n",
    "        <li> \n",
    "            Para quais valores de x a diferença entre a função do último exercício e sua linearização é menor do que 0.5?\n",
    "        </li>\n",
    "    </ul>\n",
    "</div>"
   ]
  },
  {
   "cell_type": "code",
   "execution_count": 163,
   "id": "b6443e4d-4a25-49a1-98ef-fff1aa3e7906",
   "metadata": {},
   "outputs": [
    {
     "name": "stdout",
     "output_type": "stream",
     "text": [
      "[-2.65685424949238, 8.65685424949238]\n",
      "[-1.0 - 5.65685424949238*I, -1.0 + 5.65685424949238*I]\n"
     ]
    }
   ],
   "source": [
    "# Isso pode ser buscado encontrando os valores de x em que a linearização coincide com a função menos 5 ou mais 5.\n",
    "f_plus_5 = Eq(f + 0.5, solve(linearization,y)[0])\n",
    "f_minus_5 = Eq(f - 0.5, solve(linearization,y)[0])\n",
    "\n",
    "print(solve(f_plus_5, x))\n",
    "# Observe que a linearização não se iguala com f-0.5 no conjunto Real. Assim, devemos considerar apenas os resultados do primeiro print\n",
    "print(solve(f_minus_5, x))"
   ]
  },
  {
   "cell_type": "markdown",
   "id": "1c66a54c-1697-48ad-b917-f9e42666e641",
   "metadata": {},
   "source": [
    "<h3 style='font-size:30px;font-style:italic'> Differentials</h3>\n",
    "<div> \n",
    "    <ul style='font-size:20px'> \n",
    "        <li> \n",
    "            As diferenciais são registros das distâncias entre os pontos de uma linearização e o de tangência. dy equivale à distância vertical; x, à horizontal - note que, com isso, este equivalerá a $\\Delta x$.\n",
    "        </li>\n",
    "        <li> \n",
    "            Diferenciais são muito usadas para se medir a qualidade das aproximações feitas por uma linearização.\n",
    "        </li>\n",
    "        <li> \n",
    "            $dy=f'(x)dx$\n",
    "        </li>\n",
    "    </ul>\n",
    "</div>"
   ]
  },
  {
   "cell_type": "markdown",
   "id": "1004f5ff-2d11-4453-a7e8-984e59cfca05",
   "metadata": {},
   "source": [
    "<center> \n",
    "    <img src='differentials1.png'>\n",
    "</center>"
   ]
  },
  {
   "cell_type": "markdown",
   "id": "f1185dc3-70e6-4e85-b980-623a248d6ebe",
   "metadata": {},
   "source": [
    "<h3 style='font-size:30px;font-style:italic'> 3.10 Exercises</h3>"
   ]
  },
  {
   "cell_type": "markdown",
   "id": "14219f87-6b36-4f0a-840f-a349fda7a617",
   "metadata": {},
   "source": [
    "<h4 style='font-size:30px;font-style:italic;text-decoration:underline'> 29</h4>"
   ]
  },
  {
   "cell_type": "code",
   "execution_count": 16,
   "id": "e9408aa4-0a37-4388-b943-4af9258a9637",
   "metadata": {},
   "outputs": [
    {
     "data": {
      "text/plain": [
       "0.0032085556005354565"
      ]
     },
     "execution_count": 16,
     "metadata": {},
     "output_type": "execute_result"
    }
   ],
   "source": [
    "import numpy as np\n",
    "real_value = 1/np.cos(0.08)\n",
    "\n",
    "# O erro é menos do que 1%.\n",
    "real_value / 1 - 1 "
   ]
  },
  {
   "cell_type": "markdown",
   "id": "c03eb1f4-1a69-4ee6-8a5d-9e260fcb5f26",
   "metadata": {},
   "source": [
    "<h4 style='font-size:30px;font-style:italic;text-decoration:underline'> 43</h4>"
   ]
  },
  {
   "cell_type": "code",
   "execution_count": 13,
   "id": "aacd0dec-f327-4b26-8471-e40f1097e848",
   "metadata": {},
   "outputs": [
    {
     "name": "stdout",
     "output_type": "stream",
     "text": [
      "Muito grandes\n"
     ]
    }
   ],
   "source": [
    "# A.\n",
    "# Encontrando L(x) para a=1\n",
    "\n",
    "lx = lambda: 2*(symbols('x') - 1) + 5  \n",
    "lx().subs(x,.09), lx().subs(x, 1.1)\n",
    "\n",
    "# B.\n",
    "print('Muito grandes')"
   ]
  },
  {
   "cell_type": "markdown",
   "id": "5a9c8396-7b4e-4f02-8af9-5bf01bf47ddf",
   "metadata": {},
   "source": [
    "<h2 style='font-size:30px'> 3.11 Hyperbolic Functions</h2>"
   ]
  },
  {
   "cell_type": "markdown",
   "id": "81ea615e-697e-4dfa-a7ee-99c9fd24c577",
   "metadata": {},
   "source": [
    "<div> \n",
    "    <ul style='font-size:20px'> \n",
    "        <li> \n",
    "             As funções hiperbólicas surgem de maneira bastante similar que as trigonométricas. Nestas, as medidas como seno e conseno aparecem quando uma reta com origem em (0,0) atravessa a circunferência $x^{2} + y^{2}=1$ em um ponto ($\\cos{t}, \\sin{t}$).\n",
    "        </li>\n",
    "        <li> \n",
    "             O campo de estudo das funções hiperbólicas começa na análise da secância de uma reta com origem também em (0,0), mas que agora atravessa a hipérbole $x^{2}-y^{2}=1$ em sua seção direita ($x \\geq 0$). O ponto de contato será ($\\cosh{t}, \\sinh{t}$), mas t não mais representará um ângulo, mas o dobro da área entre a reta secante, o eixo x e hipérbole.\n",
    "        </li>\n",
    "        <li> \n",
    "            Vale lembrar que o ângulo t, na trigonometria, não só equivale ao ângulo de abertura da circunferência, como também ao dobro da área entre a secante e o eixo x dentro da figura.\n",
    "        </li>\n",
    "    </ul>\n",
    "</div>\n",
    "<center> \n",
    "    <img src='hyper1.png'>\n",
    "</center>"
   ]
  },
  {
   "cell_type": "markdown",
   "id": "43ab671f-b1b8-4d14-b6bf-503a4def5774",
   "metadata": {},
   "source": [
    "<h3 style='font-size:30px;font-style:italic'> Equações Hiperbólicas </h3>\n",
    "<div> \n",
    "    <ul style='font-size:20px'> \n",
    "        <li> \n",
    "            Diferentemente da trigonometria circular, conseguimos encontrar o seno e cosseno de qualquer valor de t com equações. Seguem elas abaixo.\n",
    "            <p style='margin-left:300px'>$\\sinh{t}=\\frac{e^{t}-e^{-t}}{2}$ |  $\\cosh{t}=\\frac{e^{t}+e^{-t}}{2}$</p>\n",
    "        </li>\n",
    "        <li> \n",
    "            Todas as demais equações são equivalentes aos seus pares circulares, por exemplo:\n",
    "             <p style='margin-left:300px'>$\\tanh{t}=\\frac{\\sinh{t}}{\\cosh{t}}$|$sech t=\\frac{1}{\\cosh{t}}$</p>\n",
    "        </li>\n",
    "    </ul>\n",
    "</div>"
   ]
  },
  {
   "cell_type": "markdown",
   "id": "65adec06-265c-4ec6-869c-1596c7af68e4",
   "metadata": {},
   "source": [
    "<h3 style='font-size:30px;font-style:italic'> Identidades Hiperbólicas </h3>\n",
    "<div> \n",
    "    <ul style='font-size:20px'> \n",
    "        <li> \n",
    "            Muitas identidades hiperbólicas se assemelham a seus equivalentes circulares:\n",
    "        </li>\n",
    "    </ul>\n",
    "    <center> \n",
    "        <img src='hyper2.png'>\n",
    "    </center>\n",
    "</div>"
   ]
  },
  {
   "cell_type": "markdown",
   "id": "eae066f0-c12e-424d-8055-fddf669fee58",
   "metadata": {},
   "source": [
    "<h3 style='font-size:30px;font-style:italic'> Derivadas de Funções Hiperbólicas </h3>\n",
    "<div> \n",
    "    <ul style='font-size:20px'> \n",
    "        <li> \n",
    "            Essas similaridades também acontecem com as derivadas de funções hipergeométricas:\n",
    "        </li>\n",
    "    </ul>\n",
    "    <center> \n",
    "        <img src='hyper3.jpg'>\n",
    "    </center>\n",
    "</div>"
   ]
  },
  {
   "cell_type": "markdown",
   "id": "4d607e5f-0111-42fb-9310-1cf0d13d3da7",
   "metadata": {},
   "source": [
    "<h3 style='font-size:30px;font-style:italic'> Funções Hiperbólicas Inversas </h3>\n",
    "<div> \n",
    "    <ul style='font-size:20px'> \n",
    "        <li> \n",
    "             Por possuírem uma função exponencial em suas fórmulas, não é supreendente que as equações hiperbólicas inversas apresentem um logarítmo:\n",
    "        </li>\n",
    "    </ul>\n",
    "    <center> \n",
    "        <img src='hyper4.png'>\n",
    "    </center>\n",
    "</div>"
   ]
  },
  {
   "cell_type": "markdown",
   "id": "cd96f905-c94b-428a-be4e-1583351fc44b",
   "metadata": {},
   "source": [
    "<h3 style='font-size:30px;font-style:italic'> Derivadas das Hiperbólicas Inversas </h3>\n",
    "<div> \n",
    "    <center> \n",
    "        <img src='hyper5.png'>\n",
    "    </center>\n",
    "</div>"
   ]
  },
  {
   "cell_type": "markdown",
   "id": "ab714ff6-9305-46f0-8d81-87ec468ccb24",
   "metadata": {},
   "source": [
    "<h3 style='font-size:30px;font-style:italic'> 3.11 Exercises</h3>"
   ]
  },
  {
   "cell_type": "markdown",
   "id": "740b6270-e0a6-4159-b26f-fade10d67a3e",
   "metadata": {},
   "source": [
    "<h4 style='font-size:30px;font-style:italic;text-decoration:underline'> 51</h4>"
   ]
  },
  {
   "cell_type": "code",
   "execution_count": 9,
   "id": "6ce4afcc-36ef-4fb6-9c26-3777bb069bcb",
   "metadata": {},
   "outputs": [
    {
     "data": {
      "text/latex": [
       "$\\displaystyle \\sinh{\\left(\\frac{7}{10} \\right)}$"
      ],
      "text/plain": [
       "sinh(7/10)"
      ]
     },
     "execution_count": 9,
     "metadata": {},
     "output_type": "execute_result"
    }
   ],
   "source": [
    "from sympy import cosh, symbols, diff\n",
    "x = symbols('x')\n",
    "line = 20 * cosh(x/20) - 15\n",
    "\n",
    "# A inclinação do cabo no nas proximidades do poste direito é sinh(7/10), mas quanto isso equivale?\n",
    "diff(line).subs(x, 14)"
   ]
  },
  {
   "cell_type": "code",
   "execution_count": 8,
   "id": "1a3bbb81-b64a-4d2f-997c-02ab032417c2",
   "metadata": {},
   "outputs": [
    {
     "data": {
      "text/latex": [
       "$\\displaystyle 0.758583701839533$"
      ],
      "text/plain": [
       "0.758583701839533"
      ]
     },
     "execution_count": 8,
     "metadata": {},
     "output_type": "execute_result"
    }
   ],
   "source": [
    "from sympy import sinh\n",
    "sinh(7/10)"
   ]
  },
  {
   "cell_type": "code",
   "execution_count": 96,
   "id": "c69fe677-c269-4965-bc9b-04b7fd34e193",
   "metadata": {},
   "outputs": [],
   "source": [
    "! mv /Users/felipeveiga/Desktop/Screen\\ Shot\\ 2022-07-25\\ at\\ 09.26.40.png ./related_rates3.png"
   ]
  },
  {
   "cell_type": "markdown",
   "id": "37714e4a-5d7e-45e7-872c-7f01ca105030",
   "metadata": {},
   "source": [
    "<p style='color:red'> Construir as anotações de Hyperbolic Functions com o conteúdo do capítulo e esse vídeo: https://www.youtube.com/watch?v=aC5cYc7XhIs"
   ]
  }
 ],
 "metadata": {
  "kernelspec": {
   "display_name": "Python 3 (ipykernel)",
   "language": "python",
   "name": "python3"
  },
  "language_info": {
   "codemirror_mode": {
    "name": "ipython",
    "version": 3
   },
   "file_extension": ".py",
   "mimetype": "text/x-python",
   "name": "python",
   "nbconvert_exporter": "python",
   "pygments_lexer": "ipython3",
   "version": "3.8.10"
  }
 },
 "nbformat": 4,
 "nbformat_minor": 5
}
