{
 "cells": [
  {
   "cell_type": "markdown",
   "id": "33913ca5-4ab9-419d-8c84-aa147e4f2131",
   "metadata": {},
   "source": [
    "<h1 style='font-size:40px'> Integrals</h1>"
   ]
  },
  {
   "cell_type": "markdown",
   "id": "980d3b74-5d68-4d2e-8d93-e690c32d0972",
   "metadata": {},
   "source": [
    "<div> \n",
    "    <ul style='font-size:20px'> \n",
    "        <li> \n",
    "            Extraímos integrais de uma função quando desejamos saber a área sob a sua curva dentro de um intervalo. A intuição seria traçarmos vários retângulos na região e somarmos as suas áreas.\n",
    "        </li>\n",
    "    </ul>\n",
    "</div>"
   ]
  },
  {
   "cell_type": "code",
   "execution_count": 71,
   "id": "3081f4bb-9b37-4ba5-a679-474136f250c7",
   "metadata": {},
   "outputs": [
    {
     "data": {
      "text/plain": [
       "<BarContainer object of 10 artists>"
      ]
     },
     "execution_count": 71,
     "metadata": {},
     "output_type": "execute_result"
    },
    {
     "data": {
      "image/png": "[encoded data removed]",
      "text/plain": [
       "<Figure size 1080x360 with 3 Axes>"
      ]
     },
     "metadata": {
      "needs_background": "light"
     },
     "output_type": "display_data"
    }
   ],
   "source": [
    "import matplotlib.pyplot as plt\n",
    "import numpy as np\n",
    "\n",
    "x = np.linspace(-10, 0, 101)\n",
    "y = x**2\n",
    "\n",
    "# Área x^2.\n",
    "plt.figure(figsize=(15,5))\n",
    "plt.subplot(131)\n",
    "plt.plot(x,y)\n",
    "plt.title('$y=x^{2}$')\n",
    "plt.fill_between(x,y, color='lightblue')\n",
    "\n",
    "# Ŕetângulos sob a curva.\n",
    "x_bar = np.linspace(-10, 0, 11)\n",
    "y_bar = x_bar**2\n",
    "plt.subplot(132)\n",
    "plt.plot(x,y)\n",
    "plt.bar(x_bar,y_bar, width=1, color='lightblue', edgecolor='k', align='edge')\n",
    "\n",
    "# Segundo tipo de aproximação (curva tangenciando vértice superior direito).\n",
    "x_bar2 = np.linspace(-9, 0, 10)\n",
    "y_bar2 = x_bar2**2\n",
    "plt.subplot(133)\n",
    "plt.plot(x,y)\n",
    "plt.bar(x_bar2,y_bar2, width=-1, color='lightblue', edgecolor='k', align='edge')"
   ]
  },
  {
   "cell_type": "markdown",
   "id": "b67ec0c8-4a9e-4ba8-a659-ea6f20069ffc",
   "metadata": {},
   "source": [
    "<div> \n",
    "    <ul style='font-size:20px'> \n",
    "        <li> \n",
    "            Note que os retângulos podem ter a sua altura definida a partir do valor da abscissa esquerda ou direita. Com isso, obtemos duas aproximações ($L_{n}; R_{n}$) em que n é a quantidade de retângulos.\n",
    "        </li>\n",
    "        <li> \n",
    "            Conforme aumentamos o número de barras, $L_{n}$ e $R_{n}$ se aproximam a um valor comum, que seria a área verdadeira da seção.\n",
    "            $$\n",
    "                L_{n}<A<R_{n}\n",
    "            $$\n",
    "        </li>\n",
    "    </ul>\n",
    "</div>"
   ]
  },
  {
   "cell_type": "code",
   "execution_count": 78,
   "id": "abf79976-fcd7-460d-b2dd-84c2a6a3ba40",
   "metadata": {},
   "outputs": [
    {
     "data": {
      "text/plain": [
       "(385.0, 285.0)"
      ]
     },
     "execution_count": 78,
     "metadata": {},
     "output_type": "execute_result"
    }
   ],
   "source": [
    "# Medindo a área aproximada sob a curva em [-10, 0].\n",
    "\n",
    "# Podemos concluir que R_10>A>L_10.\n",
    "np.dot(np.diff(x_bar), y_bar[:-1]), np.dot(np.diff(x_bar2), y_bar2[:-1])"
   ]
  },
  {
   "cell_type": "markdown",
   "id": "d7e7b7f6-ca10-4c4d-8d5f-abcc0457f6b3",
   "metadata": {},
   "source": [
    "<div> \n",
    "    <ul style='font-size:20px'> \n",
    "        <li> \n",
    "            Ao dividirmos a área sob a curva em n retângulos dentro do intervalo [a,b], a largura de cada um deles será tida como $\\Delta{x}=\\frac{b-a}{n}$.\n",
    "        </li>\n",
    "        <li> \n",
    "            A fórmula da aproximação pelo vértice esquerdo pode ser dada como $L=\\lim_{n \\to \\infty}{\\sum_{i=1}^{n}f(x_{i-1})\\Delta{x}}$\n",
    "        </li>\n",
    "        <li> \n",
    "            Já a do pelo direito: $R=\\lim_{n \\to \\infty}{\\sum_{i=1}^{n}f(x_{i})\\Delta{x}}$\n",
    "        </li>\n",
    "    </ul>\n",
    "</div>"
   ]
  },
  {
   "cell_type": "markdown",
   "id": "8aeb90a4-20fa-4551-b717-ee82447996bf",
   "metadata": {},
   "source": [
    "<h2 style='font-size:30px'> Sample Points</h2>\n",
    "<div> \n",
    "    <ul style='font-size:20px'> \n",
    "        <li> \n",
    "            É ainda possível utilizar um ponto intermediário entre $x_{i-1}$ e $x_{i}$ como abscissa a definir a altura da barra. O livro o chama de sample point, sendo esse denotado como $x_{i}^{*}$. \n",
    "            $$\n",
    "                S=\\lim_{n \\to \\infty}\\sum_{i=1}^{n}f(x_{i}^{*})\\Delta{x}\n",
    "            $$\n",
    "        </li>\n",
    "    </ul>\n",
    "</div>"
   ]
  },
  {
   "cell_type": "markdown",
   "id": "4e127b49-aa4e-44a9-b3b3-91ad00e3200f",
   "metadata": {},
   "source": [
    "<h4 style='font-size:30px;font-style:italic;text-decoration:underline'> Example III</h4>"
   ]
  },
  {
   "cell_type": "code",
   "execution_count": 110,
   "id": "7de40294-54ee-469d-bd5f-e5b03e73b343",
   "metadata": {},
   "outputs": [
    {
     "name": "stdout",
     "output_type": "stream",
     "text": [
      "b (4 Intervalos): 0.8557230380615274\n",
      "b (10 Intervalos): 0.8632252884236424\n"
     ]
    }
   ],
   "source": [
    "print(f'b (4 Intervalos): {sum([.5*np.exp( -(1/4 + (i-1)/2) ) for i in range(1,5)])}')\n",
    "print(f'b (10 Intervalos): {sum([.2*np.exp( -(1/10 + (i-1)/5) ) for i in range(1,11)])}')"
   ]
  },
  {
   "cell_type": "markdown",
   "id": "52161290-1d4c-41c1-bd4b-6fa1b21c5877",
   "metadata": {},
   "source": [
    "<p style='color:red'> The Distance Problem</p>"
   ]
  }
 ],
 "metadata": {
  "kernelspec": {
   "display_name": "Python 3 (ipykernel)",
   "language": "python",
   "name": "python3"
  },
  "language_info": {
   "codemirror_mode": {
    "name": "ipython",
    "version": 3
   },
   "file_extension": ".py",
   "mimetype": "text/x-python",
   "name": "python",
   "nbconvert_exporter": "python",
   "pygments_lexer": "ipython3",
   "version": "3.8.10"
  }
 },
 "nbformat": 4,
 "nbformat_minor": 5
}
