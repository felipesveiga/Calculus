{
 "cells": [
  {
   "cell_type": "markdown",
   "id": "33913ca5-4ab9-419d-8c84-aa147e4f2131",
   "metadata": {},
   "source": [
    "<h1 style='font-size:40px'> Integrals</h1>"
   ]
  },
  {
   "cell_type": "markdown",
   "id": "980d3b74-5d68-4d2e-8d93-e690c32d0972",
   "metadata": {},
   "source": [
    "<div> \n",
    "    <ul style='font-size:20px'> \n",
    "        <li> \n",
    "            Extraímos integrais de uma função quando desejamos saber a área sob a sua curva dentro de um intervalo. A intuição seria traçarmos vários retângulos na região e somarmos as suas áreas.\n",
    "        </li>\n",
    "    </ul>\n",
    "</div>"
   ]
  },
  {
   "cell_type": "code",
   "execution_count": 17,
   "id": "99f4756f-b2a8-486d-b799-fb10ca0987f9",
   "metadata": {},
   "outputs": [
    {
     "data": {
      "text/plain": [
       "array([-10. ,  -9.9,  -9.8,  -9.7,  -9.6,  -9.5,  -9.4,  -9.3,  -9.2,\n",
       "        -9.1,  -9. ,  -8.9,  -8.8,  -8.7,  -8.6,  -8.5,  -8.4,  -8.3,\n",
       "        -8.2,  -8.1,  -8. ,  -7.9,  -7.8,  -7.7,  -7.6,  -7.5,  -7.4,\n",
       "        -7.3,  -7.2,  -7.1,  -7. ,  -6.9,  -6.8,  -6.7,  -6.6,  -6.5,\n",
       "        -6.4,  -6.3,  -6.2,  -6.1,  -6. ,  -5.9,  -5.8,  -5.7,  -5.6,\n",
       "        -5.5,  -5.4,  -5.3,  -5.2,  -5.1,  -5. ,  -4.9,  -4.8,  -4.7,\n",
       "        -4.6,  -4.5,  -4.4,  -4.3,  -4.2,  -4.1,  -4. ,  -3.9,  -3.8,\n",
       "        -3.7,  -3.6,  -3.5,  -3.4,  -3.3,  -3.2,  -3.1,  -3. ,  -2.9,\n",
       "        -2.8,  -2.7,  -2.6,  -2.5,  -2.4,  -2.3,  -2.2,  -2.1,  -2. ,\n",
       "        -1.9,  -1.8,  -1.7,  -1.6,  -1.5,  -1.4,  -1.3,  -1.2,  -1.1,\n",
       "        -1. ,  -0.9,  -0.8,  -0.7,  -0.6,  -0.5,  -0.4,  -0.3,  -0.2,\n",
       "        -0.1,   0. ])"
      ]
     },
     "execution_count": 17,
     "metadata": {},
     "output_type": "execute_result"
    }
   ],
   "source": [
    "x"
   ]
  },
  {
   "cell_type": "code",
   "execution_count": 27,
   "id": "3081f4bb-9b37-4ba5-a679-474136f250c7",
   "metadata": {},
   "outputs": [
    {
     "data": {
      "text/plain": [
       "<BarContainer object of 11 artists>"
      ]
     },
     "execution_count": 27,
     "metadata": {},
     "output_type": "execute_result"
    },
    {
     "data": {
      "image/png": "[encoded data removed]",
      "text/plain": [
       "<Figure size 720x360 with 2 Axes>"
      ]
     },
     "metadata": {
      "needs_background": "light"
     },
     "output_type": "display_data"
    }
   ],
   "source": [
    "import matplotlib.pyplot as plt\n",
    "import numpy as np\n",
    "\n",
    "x = np.linspace(-10, 0, 101)\n",
    "y = x**2\n",
    "\n",
    "# Área x^2.\n",
    "plt.figure(figsize=(10,5))\n",
    "plt.subplot(121)\n",
    "plt.plot(x,y)\n",
    "plt.title('$y=x^{2}$')\n",
    "plt.fill_between(x,y)\n",
    "\n",
    "# Ŕetângulos sob a curva.\n",
    "x_bar = np.linspace(-10, 0, 11)\n",
    "y_bar = x_bar**2\n",
    "plt.subplot(122)\n",
    "plt.plot(x,y)\n",
    "plt.bar(x_bar,y_bar, width=1,edgecolor='k')"
   ]
  },
  {
   "cell_type": "code",
   "execution_count": 41,
   "id": "abf79976-fcd7-460d-b2dd-84c2a6a3ba40",
   "metadata": {},
   "outputs": [
    {
     "data": {
      "text/plain": [
       "385.0"
      ]
     },
     "execution_count": 41,
     "metadata": {},
     "output_type": "execute_result"
    }
   ],
   "source": [
    "# Medindo a área aproximada sob a curva em [-10, 0].\n",
    "np.dot(np.diff(x_bar), y_bar[:-1])"
   ]
  },
  {
   "cell_type": "markdown",
   "id": "52161290-1d4c-41c1-bd4b-6fa1b21c5877",
   "metadata": {},
   "source": [
    "<p style='color:red'> Example I</p>"
   ]
  }
 ],
 "metadata": {
  "kernelspec": {
   "display_name": "Python 3 (ipykernel)",
   "language": "python",
   "name": "python3"
  },
  "language_info": {
   "codemirror_mode": {
    "name": "ipython",
    "version": 3
   },
   "file_extension": ".py",
   "mimetype": "text/x-python",
   "name": "python",
   "nbconvert_exporter": "python",
   "pygments_lexer": "ipython3",
   "version": "3.8.10"
  }
 },
 "nbformat": 4,
 "nbformat_minor": 5
}
