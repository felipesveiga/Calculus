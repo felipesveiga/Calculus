{
 "cells": [
  {
   "cell_type": "markdown",
   "id": "33913ca5-4ab9-419d-8c84-aa147e4f2131",
   "metadata": {},
   "source": [
    "<h1 style='font-size:40px'> Integrals</h1>"
   ]
  },
  {
   "cell_type": "markdown",
   "id": "980d3b74-5d68-4d2e-8d93-e690c32d0972",
   "metadata": {},
   "source": [
    "<div> \n",
    "    <ul style='font-size:20px'> \n",
    "        <li> \n",
    "            Extraímos integrais de uma função quando desejamos saber a área sob a sua curva dentro de um intervalo. A intuição seria traçarmos vários retângulos na região e somarmos as suas áreas.\n",
    "        </li>\n",
    "    </ul>\n",
    "</div>"
   ]
  },
  {
   "cell_type": "code",
   "execution_count": 71,
   "id": "3081f4bb-9b37-4ba5-a679-474136f250c7",
   "metadata": {},
   "outputs": [
    {
     "data": {
      "text/plain": [
       "<BarContainer object of 10 artists>"
      ]
     },
     "execution_count": 71,
     "metadata": {},
     "output_type": "execute_result"
    },
    {
     "data": {
      "image/png": "[encoded data removed]",
      "text/plain": [
       "<Figure size 1080x360 with 3 Axes>"
      ]
     },
     "metadata": {
      "needs_background": "light"
     },
     "output_type": "display_data"
    }
   ],
   "source": [
    "import matplotlib.pyplot as plt\n",
    "import numpy as np\n",
    "\n",
    "x = np.linspace(-10, 0, 101)\n",
    "y = x**2\n",
    "\n",
    "# Área x^2.\n",
    "plt.figure(figsize=(15,5))\n",
    "plt.subplot(131)\n",
    "plt.plot(x,y)\n",
    "plt.title('$y=x^{2}$')\n",
    "plt.fill_between(x,y, color='lightblue')\n",
    "\n",
    "# Ŕetângulos sob a curva.\n",
    "x_bar = np.linspace(-10, 0, 11)\n",
    "y_bar = x_bar**2\n",
    "plt.subplot(132)\n",
    "plt.plot(x,y)\n",
    "plt.bar(x_bar,y_bar, width=1, color='lightblue', edgecolor='k', align='edge')\n",
    "\n",
    "# Segundo tipo de aproximação (curva tangenciando vértice superior direito).\n",
    "x_bar2 = np.linspace(-9, 0, 10)\n",
    "y_bar2 = x_bar2**2\n",
    "plt.subplot(133)\n",
    "plt.plot(x,y)\n",
    "plt.bar(x_bar2,y_bar2, width=-1, color='lightblue', edgecolor='k', align='edge')"
   ]
  },
  {
   "cell_type": "markdown",
   "id": "b67ec0c8-4a9e-4ba8-a659-ea6f20069ffc",
   "metadata": {},
   "source": [
    "<div> \n",
    "    <ul style='font-size:20px'> \n",
    "        <li> \n",
    "            Note que os retângulos podem ter a sua altura definida a partir do valor da abscissa esquerda ou direita. Com isso, obtemos duas aproximações ($L_{n}; R_{n}$) em que n é a quantidade de retângulos.\n",
    "        </li>\n",
    "        <li> \n",
    "            Conforme aumentamos o número de barras, $L_{n}$ e $R_{n}$ se aproximam a um valor comum, que seria a área verdadeira da seção.\n",
    "            $$\n",
    "                L_{n}<A<R_{n}\n",
    "            $$\n",
    "        </li>\n",
    "    </ul>\n",
    "</div>"
   ]
  },
  {
   "cell_type": "code",
   "execution_count": 78,
   "id": "abf79976-fcd7-460d-b2dd-84c2a6a3ba40",
   "metadata": {},
   "outputs": [
    {
     "data": {
      "text/plain": [
       "(385.0, 285.0)"
      ]
     },
     "execution_count": 78,
     "metadata": {},
     "output_type": "execute_result"
    }
   ],
   "source": [
    "# Medindo a área aproximada sob a curva em [-10, 0].\n",
    "\n",
    "# Podemos concluir que R_10>A>L_10.\n",
    "np.dot(np.diff(x_bar), y_bar[:-1]), np.dot(np.diff(x_bar2), y_bar2[:-1])"
   ]
  },
  {
   "cell_type": "markdown",
   "id": "d7e7b7f6-ca10-4c4d-8d5f-abcc0457f6b3",
   "metadata": {},
   "source": [
    "<div> \n",
    "    <ul style='font-size:20px'> \n",
    "        <li> \n",
    "            Ao dividirmos a área sob a curva em n retângulos dentro do intervalo [a,b], a largura de cada um deles será tida como $\\Delta{x}=\\frac{b-a}{n}$.\n",
    "        </li>\n",
    "        <li> \n",
    "            A fórmula da aproximação pelo vértice esquerdo pode ser dada como $L=\\lim_{n \\to \\infty}{\\sum_{i=1}^{n}f(x_{i-1})\\Delta{x}}$\n",
    "        </li>\n",
    "        <li> \n",
    "            Já a do pelo direito: $R=\\lim_{n \\to \\infty}{\\sum_{i=1}^{n}f(x_{i})\\Delta{x}}$\n",
    "        </li>\n",
    "    </ul>\n",
    "</div>"
   ]
  },
  {
   "cell_type": "markdown",
   "id": "8aeb90a4-20fa-4551-b717-ee82447996bf",
   "metadata": {},
   "source": [
    "<h2 style='font-size:30px'> Sample Points</h2>\n",
    "<div> \n",
    "    <ul style='font-size:20px'> \n",
    "        <li> \n",
    "            É ainda possível utilizar um ponto intermediário entre $x_{i-1}$ e $x_{i}$ como abscissa a definir a altura da barra. O livro o chama de sample point, sendo esse denotado como $x_{i}^{*}$. \n",
    "            $$\n",
    "                S=\\lim_{n \\to \\infty}\\sum_{i=1}^{n}f(x_{i}^{*})\\Delta{x}\n",
    "            $$\n",
    "        </li>\n",
    "    </ul>\n",
    "</div>"
   ]
  },
  {
   "cell_type": "markdown",
   "id": "4e127b49-aa4e-44a9-b3b3-91ad00e3200f",
   "metadata": {},
   "source": [
    "<h4 style='font-size:30px;font-style:italic;text-decoration:underline'> Example III</h4>"
   ]
  },
  {
   "cell_type": "code",
   "execution_count": 110,
   "id": "7de40294-54ee-469d-bd5f-e5b03e73b343",
   "metadata": {},
   "outputs": [
    {
     "name": "stdout",
     "output_type": "stream",
     "text": [
      "b (4 Intervalos): 0.8557230380615274\n",
      "b (10 Intervalos): 0.8632252884236424\n"
     ]
    }
   ],
   "source": [
    "print(f'b (4 Intervalos): {sum([.5*np.exp( -(1/4 + (i-1)/2) ) for i in range(1,5)])}')\n",
    "print(f'b (10 Intervalos): {sum([.2*np.exp( -(1/10 + (i-1)/5) ) for i in range(1,11)])}')"
   ]
  },
  {
   "cell_type": "markdown",
   "id": "f47c3db3-6187-4bb5-91bd-d1e2edf35d97",
   "metadata": {},
   "source": [
    "<h2 style='font-size:30px'> The Distance Problem</h2>\n",
    "<div> \n",
    "    <ul style='font-size:20px'> \n",
    "        <li> \n",
    "            O cálculo da distância percorrida por um objeto dada a sua velocidade é um problema clássico de medidas de áreas sub curvas.\n",
    "        </li>\n",
    "        <li> \n",
    "            Para esse fim, designamos a cada intervalo de tempo uma velocidade que será usada como altura do retângulo. O ideial seria fazermos inúmeras medições da velocidade durante o tempo para nos permitir gerar um número maior de barras.\n",
    "        </li>\n",
    "    </ul>\n",
    "</div>"
   ]
  },
  {
   "cell_type": "code",
   "execution_count": 262,
   "id": "d67991fe-7b34-44d1-8e13-2f7994271e81",
   "metadata": {},
   "outputs": [
    {
     "data": {
      "text/plain": [
       "Text(0.5, 1.0, 'Velocidade x Tempo')"
      ]
     },
     "execution_count": 262,
     "metadata": {},
     "output_type": "execute_result"
    },
    {
     "data": {
      "image/png": "[encoded data removed]",
      "text/plain": [
       "<Figure size 720x360 with 1 Axes>"
      ]
     },
     "metadata": {
      "needs_background": "light"
     },
     "output_type": "display_data"
    }
   ],
   "source": [
    "# Uma pequena função velocidade em função do tempo v(t)=-t**2 + 2\n",
    "t = np.linspace(0, 1, 21) \n",
    "v = -t** 2 + 2\n",
    "\n",
    "# Expressando a função como gráfico de linha e barras.\n",
    "plt.figure(figsize=(10,5))\n",
    "plt.plot(t, v, lw=2.5)\n",
    "plt.bar(t[1:], v[1:], width=-.05,align='edge', color='yellow',edgecolor='k')\n",
    "plt.title('Velocidade x Tempo')"
   ]
  },
  {
   "cell_type": "markdown",
   "id": "1b77df0b-6f32-45ab-a26b-2c14a634c126",
   "metadata": {},
   "source": [
    "<h3 style='font-size:30px;font-style:italic'> 5.1 Exercises</h3>"
   ]
  },
  {
   "cell_type": "markdown",
   "id": "07e89cb1-2e1e-441b-95fe-36d567b0f752",
   "metadata": {},
   "source": [
    "<h4 style='font-size:30px;font-style:italic;text-decoration:underline'> 5</h4>"
   ]
  },
  {
   "cell_type": "code",
   "execution_count": 400,
   "id": "e74f31a7-59fc-4063-b363-b1790d1b9c66",
   "metadata": {},
   "outputs": [
    {
     "data": {
      "text/plain": [
       "5.9375"
      ]
     },
     "execution_count": 400,
     "metadata": {},
     "output_type": "execute_result"
    }
   ],
   "source": [
    "def ex5(x:float):\n",
    "    return 1 + x**2\n",
    "\n",
    "def integral(func:'function', interval:list, n:int, height_type:str):\n",
    "    assert height_type in ('left', 'right', 'midpoint'), '`height_type` deve ser \\'left\\', \\'right\\' ou \\'midpoint\\''\n",
    "    # Delta x da função\n",
    "    delta = abs(interval[1] - interval[0]) / n\n",
    "    # Lógica caso usarmos o left-endpoint.\n",
    "    if height_type == 'left':\n",
    "        # Abscissas onde medir a função (altura das barras).\n",
    "        x = np.linspace(interval[0], interval[1], n+1)[:-1]\n",
    "        # Altura das barras.\n",
    "        height = np.array([func(i) for i in x])\n",
    "        return sum(delta *  height)\n",
    "    \n",
    "    # Lógica caso usarmos o right-endpoint.\n",
    "    elif height_type == 'right':\n",
    "        # Abscissas onde medir a função (altura das barras).\n",
    "        x = np.linspace(interval[0]+delta, interval[1]+delta, n+1)[:-1]\n",
    "        # Altura das barras.s\n",
    "        height = np.array([func(i) for i in x])\n",
    "        return sum(delta * height)\n",
    "    \n",
    "    # Lógica usando midpoints.\n",
    "    else:\n",
    "        x = np.linspace(interval[0], interval[1], n+1)\n",
    "        x = [np.mean([x[i-1], x[i]]) for i in range(1, len(x))]\n",
    "        height = np.array([func(i) for i in x])\n",
    "        return sum(delta * height)\n",
    "        \n",
    "integral(ex5, [-1, 2], 6, 'midpoint')"
   ]
  },
  {
   "cell_type": "markdown",
   "id": "08d74170-9042-4c20-9ab8-54d69f7e4a33",
   "metadata": {},
   "source": [
    "<h4 style='font-size:30px;font-style:italic;text-decoration:underline'> 11</h4>"
   ]
  },
  {
   "cell_type": "code",
   "execution_count": 302,
   "id": "b2a04f41-974b-4a6a-af27-c46a8a6a5a16",
   "metadata": {},
   "outputs": [
    {
     "name": "stdout",
     "output_type": "stream",
     "text": [
      "L: 34.70\n",
      "R: 44.80\n"
     ]
    }
   ],
   "source": [
    "t = np.linspace(0, 3, 7)\n",
    "v = [0, 6.2, 10.8, 14.9, 18.1, 19.4, 20.2]\n",
    "\n",
    "# Medindo AUC pelo vértice esquerdo dos retângulos.\n",
    "L = np.dot(np.diff(t), v[:-1])\n",
    "print(f'L: {L :.2f}')\n",
    "\n",
    "# Agora, pelo direito.\n",
    "R = np.dot(np.diff(t), v[1:])\n",
    "\n",
    "print(f'R: {R :.2f}')"
   ]
  },
  {
   "cell_type": "markdown",
   "id": "dd590175-6fa6-48b3-9268-e37ce7ea2de2",
   "metadata": {},
   "source": [
    "<h2 style='font-size:30px'> 5.2 The Definite Integral</h2>\n",
    "<div> \n",
    "    <ul style='font-size:20px'> \n",
    "        <li> \n",
    "            A operação feita na última seção, em que estimamos a área sob uma curva com o uso de infinitos retângulos de bases iguais, é conhecida como integralização. Portanto, ao medirmos tal valor, extraímos a integral da função.\n",
    "        </li>\n",
    "        <li> \n",
    "            A notação de uma integral de f(x) no intervalo [a,b] é:\n",
    "            $$\n",
    "                \\int_{a}^{b}f(x)dx=\\lim_{n \\to \\infty}\\sum_{i=1}^{n}f(x_{i}^{*})\\Delta{x}\n",
    "            $$\n",
    "        </li>\n",
    "    </ul>\n",
    "</div>"
   ]
  },
  {
   "cell_type": "code",
   "execution_count": 344,
   "id": "6b84c5d4-8d30-4f27-a3ca-9a7fed75f7c6",
   "metadata": {},
   "outputs": [
    {
     "data": {
      "image/png": "[encoded data removed]",
      "text/plain": [
       "<Figure size 432x288 with 1 Axes>"
      ]
     },
     "metadata": {
      "needs_background": "light"
     },
     "output_type": "display_data"
    }
   ],
   "source": [
    "# Mas observe: seções do gráfico em ordenadas negativas subtraem as áreas das regiões positivas da figura. \n",
    "x = np.linspace(0, np.pi, 101)\n",
    "y = np.cos(x)\n",
    "\n",
    "# Eixo x.\n",
    "plt.axhline(0, lw=2/3, c='k')\n",
    "\n",
    "# Gráfico da função cosseno [0, pi].\n",
    "plot = plt.plot(x,y)\n",
    "\n",
    "# Área posivita da função.\n",
    "plt.fill_between(x, y, where=x<np.pi/2)\n",
    "plt.text(.4, .45, '+', fontdict={'size':20})\n",
    "\n",
    "# Área negativa.\n",
    "plt.fill_between(x, y, where=x>np.pi/2, color='r')\n",
    "plt.text(2.5 , -.5, '-', fontdict={'size':25})\n",
    "\n",
    "for side in ['top', 'right', 'bottom']:\n",
    "    plt.gca().spines[side].set_visible(False)"
   ]
  },
  {
   "cell_type": "markdown",
   "id": "95993cf5-4b3b-4941-9ee3-6d38945b7a34",
   "metadata": {},
   "source": [
    "<div> \n",
    "    <ul style='font-size:20px'> \n",
    "        <li> \n",
    "            É importante salientar que as bases dos triângulos ($\\Delta{x_{i}^{*}}$) não precisam ser do mesmo tamanho! Existem situações em que não usufruiremos de intervalos equidistantes.\n",
    "        </li>\n",
    "        <li> \n",
    "            Um exemplo acessível a nós é o objeto `roc_curve`, do `sklearn.metrics`. Esse não retorna intervalos de FPR igualmente espaçados para medirmos a AUC. \n",
    "        </li>\n",
    "    </ul>\n",
    "</div>"
   ]
  },
  {
   "cell_type": "code",
   "execution_count": 358,
   "id": "b88a17ff-0219-4695-90fd-92786a4cd2fe",
   "metadata": {},
   "outputs": [],
   "source": [
    "# Criando uma Regressão Logística.\n",
    "from sklearn.datasets import load_breast_cancer\n",
    "from sklearn.preprocessing import StandardScaler\n",
    "from sklearn.model_selection import train_test_split\n",
    "from sklearn.linear_model import LogisticRegression\n",
    "from sklearn.metrics import roc_curve, roc_auc_score\n",
    "\n",
    "# Segregação dados.\n",
    "X,y = load_breast_cancer(return_X_y=True, as_frame=True)\n",
    "X_train, X_test, y_train, y_test = train_test_split(X,y, random_state=42)\n",
    "\n",
    "# Padronização.\n",
    "scaler = StandardScaler().fit(X_train)\n",
    "X_train_scaled = scaler.transform(X_train) \n",
    "X_test_scaled = scaler.transform(X_test)\n",
    "\n",
    "# Treinamento.\n",
    "lr = LogisticRegression().fit(X_train_scaled, y_train)"
   ]
  },
  {
   "cell_type": "code",
   "execution_count": 375,
   "id": "224a8d36-bcca-4874-a939-20ddec1ccaf8",
   "metadata": {},
   "outputs": [
    {
     "data": {
      "text/plain": [
       "array([0.03636364, 0.96363636])"
      ]
     },
     "execution_count": 375,
     "metadata": {},
     "output_type": "execute_result"
    }
   ],
   "source": [
    "fpr,tpr,_ = roc_curve(lr.predict(X_test_scaled), y_test)\n",
    "\n",
    "# Veja: há uma grande diferença entre as marcações de FPR retornadas.\n",
    "np.diff(fpr)"
   ]
  },
  {
   "cell_type": "markdown",
   "id": "605d0db5-4dc3-4cf8-a7ed-4883fd0acba1",
   "metadata": {},
   "source": [
    "<div> \n",
    "    <ul style='font-size:20px'> \n",
    "        <li> \n",
    "            Nessa situação, teremos que assegurar que todos os intervalos tendam a 0.\n",
    "            $$\n",
    "                \\int_{a}^{b}f(x)dx=\\lim_{\\max{\\Delta{x_{i}} \\to 0}}\\sum_{i=1}^{n}\\Delta{x_{i}}f(x_{i}^{*})\n",
    "            $$\n",
    "        </li>\n",
    "    </ul>\n",
    "</div>"
   ]
  },
  {
   "cell_type": "markdown",
   "id": "daf1709a-b312-4281-b0df-e7b09233583a",
   "metadata": {},
   "source": [
    "<h3 style='font-size:30px;font-style:italic'> Teorema</h3>\n",
    "<div> \n",
    "    <ul style='font-size:20px'> \n",
    "        <li> \n",
    "            Um função é integrável em um intervalo [a,b], essa deve ser contínua e apresentar uma quantidade finita de \"jump discontinuities\" em [a,b].\n",
    "        </li>\n",
    "    </ul>\n",
    "</div>"
   ]
  },
  {
   "cell_type": "markdown",
   "id": "c568a3f8-1d55-4e2c-bf75-efbef269d053",
   "metadata": {},
   "source": [
    "<h3 style='font-size:30px;font-style:italic'> Evaluating Integrals</h3>\n",
    "<div> \n",
    "    <ul style='font-size:20px'> \n",
    "        <li> \n",
    "            Seguem aqui fórmulas voltadas à soma de elementos de ordenações numéricas.\n",
    "            <center>\n",
    "                <img src='sum_powers.jpeg'>\n",
    "                <img src='sigma_prop.jpg'>\n",
    "            </center>\n",
    "        </li>\n",
    "    </ul>\n",
    "</div>"
   ]
  },
  {
   "cell_type": "markdown",
   "id": "8e54cc73-3366-475b-a1ac-a52d4703ef28",
   "metadata": {},
   "source": [
    "<h4 style='font-size:30px;font-style:italic;text-decoration:underline'> Example II</h4>"
   ]
  },
  {
   "cell_type": "code",
   "execution_count": 394,
   "id": "26787bc1-8533-4f96-93f6-2544ce176e87",
   "metadata": {},
   "outputs": [
    {
     "name": "stdout",
     "output_type": "stream",
     "text": [
      "a: -3.93750\n",
      "b: -6.74865\n"
     ]
    }
   ],
   "source": [
    "# a.\n",
    "def exampleII(x):\n",
    "    return x**3 - 6*x\n",
    "print('a: {:.5f}'.format(integral(exampleII, [0,3], 6, 'right')))\n",
    "\n",
    "# b.\n",
    "print('b: {:.5f}'.format(integral(exampleII, [0,3], 10000, 'right')))"
   ]
  },
  {
   "cell_type": "markdown",
   "id": "c0ff540b-edfa-4feb-ac03-77e628c98b83",
   "metadata": {},
   "source": [
    "<h3 style='font-size:30px;font-style:italic'> Midpoint Rule</h3>\n",
    "<div> \n",
    "    <ul style='font-size:20px'> \n",
    "        <li> \n",
    "            O livro afirma que, muitas vezes, é melhor usarmos o ponto intermediário dos subintervalos como altura dos retângulos. Esse, por sua vez, é denotado como $\\overline{x}_{i}$. Com isso, soma de Riemann ficaria como:\n",
    "            $$\n",
    "                \\lim_{n \\to \\infty} \\sum_{i=1}^{n} f(\\overline{x}_{i})\\Delta{x}\n",
    "            $$\n",
    "        </li>\n",
    "        <li style='margin-top:10px'> \n",
    "            $\\overline{x}_{i}$ ficaria como $\\frac{x_{i-1}+x_{i}}{2}$\n",
    "        </li>\n",
    "    </ul>\n",
    "</div>"
   ]
  },
  {
   "cell_type": "markdown",
   "id": "36aba81c-dece-4b5a-b278-45e584f2905d",
   "metadata": {},
   "source": [
    "<h4 style='font-size:30px;font-style:italic;text-decoration:underline'> Example V</h4>"
   ]
  },
  {
   "cell_type": "code",
   "execution_count": 395,
   "id": "d2f6f830-6bae-4892-9723-a4061649b43b",
   "metadata": {},
   "outputs": [
    {
     "data": {
      "text/plain": [
       "0.6919078857159353"
      ]
     },
     "execution_count": 395,
     "metadata": {},
     "output_type": "execute_result"
    }
   ],
   "source": [
    "def exampleV(x):\n",
    "    return 1/x\n",
    "\n",
    "integral(exampleV, [1,2], 5, 'midpoint')"
   ]
  },
  {
   "cell_type": "markdown",
   "id": "a03c4021-e687-4632-be56-000df6adaf89",
   "metadata": {},
   "source": [
    "<h3 style='font-size:30px;font-style:italic'> Properties of the Definite Integral</h3>\n",
    "<div> \n",
    "    <ul style='font-size:20px'> \n",
    "        <li> \n",
    "            Seguem abaixo propriedades úteis no cálculo de integrais. Elas são validas se $a\\lt b$, $a=b$, ou $a\\gt b$:\n",
    "            <ul style='list-style-type:decimal;margin-top:10px'> \n",
    "                <li style='margin-top:10px'> \n",
    "                    $\\int_{a}^{b}c\\times{dx}=c(b-a)$\n",
    "                </li>\n",
    "                <li style='margin-top:20px'> \n",
    "                    $\\int_{a}^{b}[f(x)+g(x)]dx=\\int_{a}^{b}f(x)dx+\\int_{a}^{b}g(x)dx$\n",
    "                </li>\n",
    "                <li style='margin-top:20px'> \n",
    "                    $\\int_{a}^{b}cf(x)dx=c\\int_{a}^{b}f(x)dx$\n",
    "                </li>\n",
    "                <li style='margin-top:20px'> \n",
    "                    $\\int_{a}^{b}[f(x)-g(x)]dx=\\int_{a}^{b}f(x)dx-\\int_{a}^{b}g(x)dx$\n",
    "                </li>\n",
    "                <li style='margin-top:20px'> \n",
    "                    $\\int_{a}^{c}f(x)dx+\\int_{c}^{b}f(x)dx=\\int_{a}^{b}f(x)dx$\n",
    "                </li>\n",
    "            </ul>\n",
    "        </li>\n",
    "    </ul>\n",
    "</div>"
   ]
  },
  {
   "cell_type": "markdown",
   "id": "fc2dc440-0800-428e-ab40-92296ab831bc",
   "metadata": {},
   "source": [
    "<div> \n",
    "    <ul style='font-size:20px'> \n",
    "        <li> \n",
    "            Demonstração visual da propriedade 5: Meça $\\int_{0}^{\\frac{\\pi}{2}}\\cos(x)dx+\\int_{\\frac{\\pi}{2}}^{\\pi}\\cos(x)dx$.\n",
    "        </li>\n",
    "        <li> \n",
    "            Note que era possível medir uma única integral $\\int_{0}^{\\pi}\\cos(x)dx$.\n",
    "        </li>\n",
    "    </ul>\n",
    "</div>"
   ]
  },
  {
   "cell_type": "code",
   "execution_count": 411,
   "id": "6111a403-6481-49bc-bd24-5b7277bbcf4b",
   "metadata": {},
   "outputs": [
    {
     "data": {
      "text/plain": [
       "<matplotlib.collections.PolyCollection at 0x7fdd7e691550>"
      ]
     },
     "execution_count": 411,
     "metadata": {},
     "output_type": "execute_result"
    },
    {
     "data": {
      "image/png": "[encoded data removed]",
      "text/plain": [
       "<Figure size 432x288 with 1 Axes>"
      ]
     },
     "metadata": {
      "needs_background": "light"
     },
     "output_type": "display_data"
    }
   ],
   "source": [
    "x = np.linspace(0, np.pi, 101)\n",
    "y = np.cos(x)\n",
    "\n",
    "plt.plot(x, y)\n",
    "plt.fill_between(x, y, where=x<=np.pi/2) # Área da primeira integral\n",
    "plt.fill_between(x, y, where=x>=np.pi/2) # Área da segunda integral"
   ]
  },
  {
   "cell_type": "markdown",
   "id": "dbf8daa3-9a21-4bc9-8e44-a0d7d02efdd8",
   "metadata": {},
   "source": [
    "<h3 style='font-size:30px;font-style:italic'> Comparison Properties of the Integral</h3>\n",
    "<div> \n",
    "    <ul style='font-size:20px'> \n",
    "        <li> \n",
    "            As demais propriedades abaixo são apenas satisfeitas quando $a \\geq b$:\n",
    "            <ol start='6'> \n",
    "                <li style='margin-top:10px'> \n",
    "                    Se $f(x)\\geq 0$ em [a,b], então $\\int_{a}^{b}f(x)dx\\geq 0$\n",
    "                </li>\n",
    "                <li style='margin-top:20px'> \n",
    "                    Se $f(x) \\geq g(x)$ em [a,b], então $\\int_{a}^{b}f(x)dx \\geq \\int_{a}^{b}g(x)dx$.\n",
    "                </li>\n",
    "                <li style='margin-top:20px'> \n",
    "                    Se $m\\leq f(x) \\leq M$ em [a,b], então $\\int_{a}^{b}mdx \\leq \\int_{a}^{b}f(x)dx \\leq \\int_{a}^{b}Mdx$. \n",
    "                    <p> A meu entender, m e M podem ser tanto constantes, quanto funções.</p>\n",
    "                </li>\n",
    "            </ol>\n",
    "        </li>\n",
    "    </ul>\n",
    "</div>"
   ]
  },
  {
   "cell_type": "markdown",
   "id": "ed4137be-8a2e-4a87-9475-951ecf145511",
   "metadata": {},
   "source": [
    "<h2 style='font-size:30px'> 5.3 The Fundamental Theorem of Calculus</h2>\n",
    "<div> \n",
    "    <ul style='font-size:20px'> \n",
    "        <li> \n",
    "            O Teorema Fundamental do Cálculo expõe a relação inversa entre a diferenciação e integralização. A sua primeira parte lida com equações da seguinte forma:\n",
    "            <center style='margin-top:20px'> \n",
    "                $g(x)=\\int_{a}^{x}f(t)dt$\n",
    "            </center>\n",
    "        </li>\n",
    "        <li style='margin-top:20px'> \n",
    "            Observe que a função g(x) corresponde ao valor da integral de f(t) no intervalo [a,x]. Como x é uma variável, a área sob a curva não tem valor fixo.\n",
    "        </li>\n",
    "    </ul>\n",
    "</div>"
   ]
  },
  {
   "cell_type": "markdown",
   "id": "a008a63b-783c-4f9b-8af9-73c2de938bee",
   "metadata": {},
   "source": [
    "<h3 style='font-size:30px;font-style:italic'> g'(x)=f(x)</h3>\n",
    "<div> \n",
    "    <ul style='font-size:20px'> \n",
    "        <li> \n",
    "            Uma propriedade importante da primeira parte do Teorema é que $g(x)$ é uma antiderivada de $f(x)$. Para isso, faremos uma breve demonstração.\n",
    "        </li>\n",
    "        <li> \n",
    "            Com $g(x)=\\int_{0}^{x}f(t)dt$ | $g(x+h)=\\int_{0}^{x+h}f(t)dt$ | $h \\to 0$:\n",
    "            <center style='margin-top:20px'> \n",
    "                $g(x+h)-g(x)=\\int_{x}^{x+h}f(t)dt$\n",
    "            </center>\n",
    "        </li>\n",
    "        <li style='margin-top:20px'> \n",
    "            Como h é um valor muito pequeno, podemos usar o comprimento de $[x, x+h]$ para medir a AUC. Portanto, estaremos usando um único retângulo na operação.\n",
    "            <center style='margin-top:20px'> \n",
    "                $\\therefore g(x+h)-g(x)=\\int_{x}^{x+h}f(t)dt=f(x)[(x+h)-x]=f(x)h$\n",
    "            </center>\n",
    "        </li>\n",
    "        <li style='margin-top:20px'> \n",
    "            Conseguimos dividir ambas as extremidades da última equação por $h$. Ficaremos, assim, com:\n",
    "            <center style='margin-top:20px'>\n",
    "                $\\frac{g(x+h)-g(x)}{h}=f(x)$\n",
    "            </center>\n",
    "        </li>\n",
    "        <li style='margin-top:20px'> \n",
    "            Como $h \\to 0$, acabamos de medir a derivada de $g(x)$ em qualquer ponto $x$, reconhecendo que essa é igual a $f(x)$. \n",
    "            <center style='margin-top:20px'>\n",
    "                $g'(x)=\\frac{g(x+h)-g(x)}{h}=f(x)$\n",
    "            </center>\n",
    "        </li>\n",
    "    </ul>\n",
    "</div>"
   ]
  },
  {
   "cell_type": "code",
   "execution_count": 524,
   "id": "f3d7cbda-38e8-4b37-b486-8fe38c4a764f",
   "metadata": {},
   "outputs": [
    {
     "data": {
      "text/plain": [
       "(0.0, 1.2)"
      ]
     },
     "execution_count": 524,
     "metadata": {},
     "output_type": "execute_result"
    },
    {
     "data": {
      "image/png": "[encoded data removed]",
      "text/plain": [
       "<Figure size 432x288 with 1 Axes>"
      ]
     },
     "metadata": {
      "needs_background": "light"
     },
     "output_type": "display_data"
    }
   ],
   "source": [
    "import matplotlib.pyplot as plt\n",
    "import numpy as np\n",
    "\n",
    "x = np.linspace(0, np.pi, 101)\n",
    "y = np.sin(x)\n",
    "\n",
    "plt.plot(x,y)\n",
    "plt.bar(2, np.sin(2), align='edge', alpha=.5, width=.15, )\n",
    "\n",
    "plt.text(1.2, 0.15, '{', fontdict={'size':'185', 'weight':'100'})\n",
    "plt.text(1.2, .48, '$f(x)$', fontdict={'size':'15'})\n",
    "plt.text(2.025, .95, 'h', fontdict={'size':'15'})\n",
    "plt.text(1.95, .9, '{', fontdict={'size':'20', 'weight':'200'}, rotation=270)\n",
    "plt.text(1.9, .05, '$x$')\n",
    "plt.text(2.15, .05, '$x+h$')\n",
    "\n",
    "plt.ylim([0, 1.2])"
   ]
  },
  {
   "cell_type": "markdown",
   "id": "ca7fbcd6-b715-4d0d-9805-3526b5d959df",
   "metadata": {},
   "source": [
    "<h3 style='font-size:30px;font-style:italic'> FTC1</h3>\n",
    "<div> \n",
    "    <ul style='font-size:20px'> \n",
    "        <li> \n",
    "            Considerando o que foi visto, Primeira Pate do Teorema Fundamental do Cálculo (FTC1) pode ser entendida da seguinte maneira:\n",
    "            <div style='border-style:solid;padding:10px'> \n",
    "                Se f é contínua em [a,b], a função $g(x)=\\int_{a}^{x}f(t)dt$, em que $a\\leq x \\leq b$:\n",
    "                <ul> \n",
    "                    <li>É contínua em [a,b]</li> \n",
    "                    <li>É diferenciável em (a,b)</li>\n",
    "                    <li>Tem a sua derivada $g'(x)=f(x)$.</li>\n",
    "                </ul>\n",
    "            </div>\n",
    "        </li>\n",
    "        <li style='margin-top:20px'>\n",
    "            Na notação de Leibniz, podemos afirmar que $\\frac{d}{dx}\\int_{a}^{x}f(t)dt=f(x)$;\n",
    "        </li>\n",
    "    </ul>\n",
    "</div>"
   ]
  },
  {
   "cell_type": "markdown",
   "id": "d230904c-c499-4f0a-bcba-a9351d7cf8a0",
   "metadata": {},
   "source": [
    "<h3 style='font-size:30px;font-style:italic'> FTC2</h3>\n",
    "<div> \n",
    "    <ul style='font-size:20px'> \n",
    "        <li> \n",
    "            A Segunda Parte do Teorema Fundamental lida com a medida de integrais em si. Essa diz que:\n",
    "            <div style='border-style:solid;padding:10px'> \n",
    "                $g(x)=\\int_{a}^{x}f(t)dt=F(x)-F(a)$, em que F é qualquer antiderivada de f.\n",
    "            </div>\n",
    "        </li>\n",
    "    </ul>\n",
    "</div>"
   ]
  },
  {
   "cell_type": "markdown",
   "id": "342389e4-cc4b-420b-b351-8742ef49327e",
   "metadata": {
    "tags": []
   },
   "source": [
    "<h4 style='font-size:30px;font-style:italic;text-decoration:underline'> Prova do FTC2</h4>\n",
    "<div> \n",
    "    <ul style='font-size:20px'> \n",
    "        <li> \n",
    "            Pelo Corollary 4.2.7, entende-se que $F(x)=g(x)+C$, uma vez que ambas as funções são antiderivadas de $f(x)$.\n",
    "            <center style='margin-top:20px'> \n",
    "                $F(x)-F(a)=[g(x)+C]-[g(a)+C]$\n",
    "            </center>\n",
    "            <center style='margin-top:20px'> \n",
    "                $F(x)-F(a)=g(x)-g(a)=g(x)$ \n",
    "            </center>\n",
    "            <center style='margin-top:20px'> \n",
    "                $\\therefore F(x)-F(a)=\\int_{a}^{x}f(t)dt$ \n",
    "            </center>\n",
    "        </li>\n",
    "        <li style='margin-top:20px'>\n",
    "            Lembrando que $g(a)=\\int_{a}^{a}f(t)dt=0$\n",
    "        </li>\n",
    "    </ul>\n",
    "</div>"
   ]
  },
  {
   "cell_type": "markdown",
   "id": "5530ac19-2b98-44ed-9817-5516b7925133",
   "metadata": {
    "tags": []
   },
   "source": [
    "<h4 style='font-size:30px;font-style:italic;text-decoration:underline'> Notações</h4>\n",
    "<div> \n",
    "    <ul style='font-size:20px'> \n",
    "        <li> \n",
    "            Podemos abreviar a subtração da antiderivada como $F(x)]_{a}^{b}$, $F(x)|_{a}^{b}$ ou $[F(x)]_{a}^{b}$\n",
    "        </li>\n",
    "        <li> \n",
    "            $\\int_{a}^{b}\\frac{dx}{x}$ é uma abreviação de $\\int_{a}^{b}\\frac{1}{x}dx$.\n",
    "        </li>\n",
    "    </ul>\n",
    "</div>"
   ]
  },
  {
   "cell_type": "markdown",
   "id": "0a7cdc77-6693-44e5-adb9-deeb7d9d0666",
   "metadata": {
    "tags": []
   },
   "source": [
    "<h4 style='font-size:30px;font-style:italic;text-decoration:underline'> Example IX</h4>\n",
    "<div> \n",
    "    <ul style='font-size:20px'> \n",
    "        <li> \n",
    "            Qual o problema de $\\int_{-1}^{3}\\frac{1}{x^{2}}dx$?\n",
    "            <ul style='list-style-type:square'> \n",
    "                <li> \n",
    "                    O FTC é válido apenas para funções que são contínuas no intervalo dado. $\\frac{1}{x^{2}}$ tem uma descontinuidade em x=0.\n",
    "                </li>\n",
    "            </ul>\n",
    "        </li>\n",
    "    </ul>\n",
    "</div>"
   ]
  },
  {
   "cell_type": "markdown",
   "id": "d593c451-82af-4eb6-9761-45133551ef86",
   "metadata": {},
   "source": [
    "<h2 style='font-size:30px'> 5.4 Indefinite Integrals and The Net Change Problem</h2>\n",
    "<div> \n",
    "    <ul style='font-size:20px'> \n",
    "        <li> \n",
    "            Quando trabalhamos com Antiderivadas, não chegamos a usar uma notação para representá-las. Por isso, aprenderemos aqui que, para informar que uma função é antiderivada de outra, escrevemos:\n",
    "            <center style='margin-top:20px'> \n",
    "                $\\int{f(x)dx}=F(x)$\n",
    "            </center>\n",
    "        </li>\n",
    "        <li style='margin-top:20px'> \n",
    "            Podemos chamar uma antiderivada de integral indefinida de $f(x)$. Isso não é válido para todas as antiderivadas, já que $\\int_{a}^{b}f(x)dx$, mesmo tendo essa relação com $f(x)$, é a sua integral definida - AUC.\n",
    "        </li>\n",
    "    </ul>\n",
    "</div>"
   ]
  },
  {
   "cell_type": "markdown",
   "id": "30698a6a-0111-4961-8ce8-75ff200527e2",
   "metadata": {},
   "source": [
    "<h3 style='font-size:30px;font-style:italic'> Applications</h3>\n",
    "<div> \n",
    "    <ul style='font-size:20px'> \n",
    "        <li> \n",
    "            Como usamos antiderivadas na mensuração de integrais, podemos escrever o FTC2 da seguinte maneira:\n",
    "            <center> \n",
    "                $\\int_{a}^{b}F'(x)dx=F(x)]_{a}^{b}$\n",
    "            </center>\n",
    "        </li>\n",
    "        <li style='margin-top:20px'> \n",
    "            Fomos apresentados aqui a casos reais de aplicação do FTC2. É importante, por exemplo, lembrarmos a diferença entre deslocamento e distância percorrida:\n",
    "            <center style='margin-top:20px'> \n",
    "                Deslocamento: $\\int_{a}^{b}v(t)dt$\n",
    "            </center> \n",
    "            <center style='margin-top:20px'> \n",
    "                Distância Percorrida: $\\int_{a}^{b}|v(t)|dt$\n",
    "            </center> \n",
    "        </li>\n",
    "        <li style='margin-top:20px'> \n",
    "            A unidade de medida da integral de uma função é o produto da unidade de medida de $f(x)$ pela de $\\Delta{x}$. Por exemplo, a AUC da função velocidade será $\\frac{m}{s}\\times s=m$.\n",
    "        </li>\n",
    "    </ul>\n",
    "</div>"
   ]
  },
  {
   "cell_type": "markdown",
   "id": "346bbc1b-74e4-4e86-898c-7cb4a726d2a0",
   "metadata": {},
   "source": [
    "<h2 style='font-size:30px'> 5.5 The Substitution Rule</h2>\n",
    "<div> \n",
    "    <ul style='font-size:20px'> \n",
    "        <li> \n",
    "            Quando lidamos com integrais de funções compostas, podemos associar uma das equações a uma variável (tipicamente denotada como \"u\").\n",
    "            <center> \n",
    "                <img src='substitution.jpeg'> \n",
    "            </center>\n",
    "        </li>\n",
    "        <li style='margin-top:20px'> \n",
    "            Essa regra costuma funcionar para funções da forma $F'(g(x))g'(x)$. O que acabamos por fazer é anular a composição ao associar $g(x)$ à variável \"u\".\n",
    "            <center>$\\int{F'(g(x))g'(x)dx}=F(g(x))+C=F(u)+C=\\int{F'(u)du}$</center>\n",
    "        </li>\n",
    "    </ul>\n",
    "</div>"
   ]
  },
  {
   "cell_type": "markdown",
   "id": "a4475828-428f-43d3-b924-208c3165a9d2",
   "metadata": {},
   "source": [
    "<h3 style='font-size:30px;font-style:italic'> Definite Integrals</h3>\n",
    "<div> \n",
    "    <ul style='font-size:20px'> \n",
    "        <li> \n",
    "            Há uma versão da Regra da Substituição para Integrais Definidas.\n",
    "            <div style='border-style:solid;padding:10px'> \n",
    "                Se $g'(x)$ é contínua em $[a,b]$ e $f(x)$ no alcance de $u=g(x)$:\n",
    "                 <ul> \n",
    "                    <li style='margin-top:10px'>$\\int_{a}^{b}f(g(x))g'(x)dx=\\int_{g(a)}^{g(b)}f(u)du$.</li>\n",
    "                </ul>\n",
    "            </div>\n",
    "        </li>\n",
    "        <li style='margin-top:20px'> \n",
    "            Prova: Medindo a integral da derivada da composta, temos que:\n",
    "            <center style='margin-top:20px'>\n",
    "                $\\int_{a}^{b}f(g(x))g'(x)dx=F(g(x))]_{a}^{b}=F(g(b))-F(g(a))$\n",
    "            </center>\n",
    "        </li>\n",
    "        <li style='margin-top:20px'> \n",
    "            Agora, vamos definir $g(x)=u$ e trocar os limites por $[g(a), g(b)]$:\n",
    "            <center style='margin-top:20px'>\n",
    "                $\\int_{g(a)}^{g(b)}f(u)du=F(u)]_{g(a)}^{g(b)}=F(g(b))-F(g(a))$\n",
    "            </center>\n",
    "        </li>\n",
    "        <li style='margin-top:20px'> \n",
    "            Com isso, fica comprovado que:\n",
    "            <center style='margin-top:20px'>\n",
    "                $ \\int_{a}^{b}f(g(x))g'(x)dx=\\int_{g(a)}^{g(b)}f(u)du$\n",
    "            </center>\n",
    "        </li>\n",
    "    </ul>\n",
    "</div>"
   ]
  },
  {
   "cell_type": "markdown",
   "id": "e8beaf5f-1ac0-4755-bc0d-35a24ce809d7",
   "metadata": {},
   "source": [
    "<h3 style='font-size:30px;font-style:italic'> Symmetry</h3>\n",
    "<div> \n",
    "    <ul style='font-size:20px'> \n",
    "        <li> \n",
    "            As integrais de funções simétricas têm certas propriedades em limites $[-a, a]$. \n",
    "            <ul> \n",
    "                <li style='margin-top:20px'> Quando a função é par: $\\int_{-a}^{a}f(x)dx=2\\int_{0}^{a}f(x)dx$</li>\n",
    "                <li style='margin-top:20px'> Quando a função é ímpar: $\\int_{-a}^{a}f(x)dx=0$</li>\n",
    "            </ul>\n",
    "        </li>\n",
    "    </ul>\n",
    "</div>"
   ]
  },
  {
   "cell_type": "markdown",
   "id": "35a5c0e9-6791-4bc0-8706-c0696f0a6d53",
   "metadata": {},
   "source": [
    "<h4 style='font-size:30px;font-style:italic;text-decoration:underline'> Demonstração</h4>\n",
    "<div> \n",
    "    <ul style='font-size:20px'> \n",
    "        <li> \n",
    "            A AUC de uma função simétrica de $[-a, a]$ pode ser escrita como: \n",
    "            <center style='margin-top:20px'> $\\int_{-a}^{0}f(x)dx+\\int_{0}^{a}f(x)dx=-\\int_{0}^{-a}f(x)dx+\\int_{0}^{a}f(x)dx$</center>\n",
    "        </li>\n",
    "        <li style='margin-top:20px'> \n",
    "            Agora, vamos aplicar a regra da substituição na primeira integral da parte direita da equação ($u=-x$ e $du=-dx$)\n",
    "            <center style='margin-top:20px'> $\\int_{-a}^{0}f(x)dx+\\int_{0}^{a}f(x)dx=\\int_{0}^{a}f(-u)du+\\int_{0}^{a}f(x)dx$</center>\n",
    "        </li>\n",
    "    </ul>\n",
    "</div>"
   ]
  },
  {
   "cell_type": "markdown",
   "id": "4e54fc4a-3e05-4107-957e-25e79ff8d705",
   "metadata": {},
   "source": [
    "<h5 style='font-size:25px;font-style:italic;text-decoration:underline'> Funções Pares</h5>\n",
    "<div> \n",
    "    <ul style='font-size:20px'> \n",
    "        <li> \n",
    "            Como $f(-u)=f(u)$, conseguimos escrever a equação da AUC como:\n",
    "            <center style='margin-top:20px'> $\\int_{-a}^{a}f(x)dx=\\int_{0}^{a}f(u)du+\\int_{0}^{a}f(x)dx=2\\int_{0}^{a}f(x)dx$</center>\n",
    "        </li>\n",
    "    </ul>\n",
    "</div>"
   ]
  },
  {
   "cell_type": "markdown",
   "id": "fafaca52-f0c0-4d33-a1eb-9115f7667a76",
   "metadata": {},
   "source": [
    "<h5 style='font-size:25px;font-style:italic;text-decoration:underline'> Funções Ímpares</h5>\n",
    "<div> \n",
    "    <ul style='font-size:20px'> \n",
    "        <li> \n",
    "            Como $f(-u)=-f(u)$, conseguimos escrever a equação da AUC como:\n",
    "            <center style='margin-top:20px'> $\\int_{-a}^{a}f(x)dx=-\\int_{0}^{a}f(u)du+\\int_{0}^{a}f(x)dx=0$</center>\n",
    "        </li>\n",
    "    </ul>\n",
    "</div>"
   ]
  },
  {
   "cell_type": "markdown",
   "id": "5cacaf72-7f89-45ad-be16-8b3225a58b22",
   "metadata": {},
   "source": [
    "<h3 style='font-size:30px;font-style:italic'> Demonstrando $\\int{\\tan{x}}$</h3>\n",
    " <center style='margin-top:20px'> \n",
    "            <img src='int_tan.png'>\n",
    "    </center>"
   ]
  }
 ],
 "metadata": {
  "kernelspec": {
   "display_name": "Python 3 (ipykernel)",
   "language": "python",
   "name": "python3"
  },
  "language_info": {
   "codemirror_mode": {
    "name": "ipython",
    "version": 3
   },
   "file_extension": ".py",
   "mimetype": "text/x-python",
   "name": "python",
   "nbconvert_exporter": "python",
   "pygments_lexer": "ipython3",
   "version": "3.10.12"
  }
 },
 "nbformat": 4,
 "nbformat_minor": 5
}
