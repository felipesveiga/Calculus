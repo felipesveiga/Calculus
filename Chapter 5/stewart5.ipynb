{
 "cells": [
  {
   "cell_type": "markdown",
   "id": "33913ca5-4ab9-419d-8c84-aa147e4f2131",
   "metadata": {},
   "source": [
    "<h1 style='font-size:40px'> Integrals</h1>"
   ]
  },
  {
   "cell_type": "markdown",
   "id": "980d3b74-5d68-4d2e-8d93-e690c32d0972",
   "metadata": {},
   "source": [
    "<div> \n",
    "    <ul style='font-size:20px'> \n",
    "        <li> \n",
    "            Extraímos integrais de uma função quando desejamos saber a área sob a sua curva dentro de um intervalo. A intuição seria traçarmos vários retângulos na região e somarmos as suas áreas.\n",
    "        </li>\n",
    "    </ul>\n",
    "</div>"
   ]
  },
  {
   "cell_type": "code",
   "execution_count": 71,
   "id": "3081f4bb-9b37-4ba5-a679-474136f250c7",
   "metadata": {},
   "outputs": [
    {
     "data": {
      "text/plain": [
       "<BarContainer object of 10 artists>"
      ]
     },
     "execution_count": 71,
     "metadata": {},
     "output_type": "execute_result"
    },
    {
     "data": {
      "image/png": "[encoded data removed]",
      "text/plain": [
       "<Figure size 1080x360 with 3 Axes>"
      ]
     },
     "metadata": {
      "needs_background": "light"
     },
     "output_type": "display_data"
    }
   ],
   "source": [
    "import matplotlib.pyplot as plt\n",
    "import numpy as np\n",
    "\n",
    "x = np.linspace(-10, 0, 101)\n",
    "y = x**2\n",
    "\n",
    "# Área x^2.\n",
    "plt.figure(figsize=(15,5))\n",
    "plt.subplot(131)\n",
    "plt.plot(x,y)\n",
    "plt.title('$y=x^{2}$')\n",
    "plt.fill_between(x,y, color='lightblue')\n",
    "\n",
    "# Ŕetângulos sob a curva.\n",
    "x_bar = np.linspace(-10, 0, 11)\n",
    "y_bar = x_bar**2\n",
    "plt.subplot(132)\n",
    "plt.plot(x,y)\n",
    "plt.bar(x_bar,y_bar, width=1, color='lightblue', edgecolor='k', align='edge')\n",
    "\n",
    "# Segundo tipo de aproximação (curva tangenciando vértice superior direito).\n",
    "x_bar2 = np.linspace(-9, 0, 10)\n",
    "y_bar2 = x_bar2**2\n",
    "plt.subplot(133)\n",
    "plt.plot(x,y)\n",
    "plt.bar(x_bar2,y_bar2, width=-1, color='lightblue', edgecolor='k', align='edge')"
   ]
  },
  {
   "cell_type": "markdown",
   "id": "b67ec0c8-4a9e-4ba8-a659-ea6f20069ffc",
   "metadata": {},
   "source": [
    "<div> \n",
    "    <ul style='font-size:20px'> \n",
    "        <li> \n",
    "            Note que os retângulos podem ter a sua altura definida a partir do valor da abscissa esquerda ou direita. Com isso, obtemos duas aproximações ($L_{n}; R_{n}$) em que n é a quantidade de retângulos.\n",
    "        </li>\n",
    "        <li> \n",
    "            Conforme aumentamos o número de barras, $L_{n}$ e $R_{n}$ se aproximam a um valor comum, que seria a área verdadeira da seção.\n",
    "            $$\n",
    "                L_{n}<A<R_{n}\n",
    "            $$\n",
    "        </li>\n",
    "    </ul>\n",
    "</div>"
   ]
  },
  {
   "cell_type": "code",
   "execution_count": 78,
   "id": "abf79976-fcd7-460d-b2dd-84c2a6a3ba40",
   "metadata": {},
   "outputs": [
    {
     "data": {
      "text/plain": [
       "(385.0, 285.0)"
      ]
     },
     "execution_count": 78,
     "metadata": {},
     "output_type": "execute_result"
    }
   ],
   "source": [
    "# Medindo a área aproximada sob a curva em [-10, 0].\n",
    "\n",
    "# Podemos concluir que R_10>A>L_10.\n",
    "np.dot(np.diff(x_bar), y_bar[:-1]), np.dot(np.diff(x_bar2), y_bar2[:-1])"
   ]
  },
  {
   "cell_type": "markdown",
   "id": "d7e7b7f6-ca10-4c4d-8d5f-abcc0457f6b3",
   "metadata": {},
   "source": [
    "<div> \n",
    "    <ul style='font-size:20px'> \n",
    "        <li> \n",
    "            Ao dividirmos a área sob a curva em n retângulos dentro do intervalo [a,b], a largura de cada um deles será tida como $\\Delta{x}=\\frac{b-a}{n}$.\n",
    "        </li>\n",
    "        <li> \n",
    "            A fórmula da aproximação pelo vértice esquerdo pode ser dada como $L=\\lim_{n \\to \\infty}{\\sum_{i=1}^{n}f(x_{i-1})\\Delta{x}}$\n",
    "        </li>\n",
    "        <li> \n",
    "            Já a do pelo direito: $R=\\lim_{n \\to \\infty}{\\sum_{i=1}^{n}f(x_{i})\\Delta{x}}$\n",
    "        </li>\n",
    "    </ul>\n",
    "</div>"
   ]
  },
  {
   "cell_type": "markdown",
   "id": "8aeb90a4-20fa-4551-b717-ee82447996bf",
   "metadata": {},
   "source": [
    "<h2 style='font-size:30px'> Sample Points</h2>\n",
    "<div> \n",
    "    <ul style='font-size:20px'> \n",
    "        <li> \n",
    "            É ainda possível utilizar um ponto intermediário entre $x_{i-1}$ e $x_{i}$ como abscissa a definir a altura da barra. O livro o chama de sample point, sendo esse denotado como $x_{i}^{*}$. \n",
    "            $$\n",
    "                S=\\lim_{n \\to \\infty}\\sum_{i=1}^{n}f(x_{i}^{*})\\Delta{x}\n",
    "            $$\n",
    "        </li>\n",
    "    </ul>\n",
    "</div>"
   ]
  },
  {
   "cell_type": "markdown",
   "id": "4e127b49-aa4e-44a9-b3b3-91ad00e3200f",
   "metadata": {},
   "source": [
    "<h4 style='font-size:30px;font-style:italic;text-decoration:underline'> Example III</h4>"
   ]
  },
  {
   "cell_type": "code",
   "execution_count": 110,
   "id": "7de40294-54ee-469d-bd5f-e5b03e73b343",
   "metadata": {},
   "outputs": [
    {
     "name": "stdout",
     "output_type": "stream",
     "text": [
      "b (4 Intervalos): 0.8557230380615274\n",
      "b (10 Intervalos): 0.8632252884236424\n"
     ]
    }
   ],
   "source": [
    "print(f'b (4 Intervalos): {sum([.5*np.exp( -(1/4 + (i-1)/2) ) for i in range(1,5)])}')\n",
    "print(f'b (10 Intervalos): {sum([.2*np.exp( -(1/10 + (i-1)/5) ) for i in range(1,11)])}')"
   ]
  },
  {
   "cell_type": "markdown",
   "id": "f47c3db3-6187-4bb5-91bd-d1e2edf35d97",
   "metadata": {},
   "source": [
    "<h2 style='font-size:30px'> The Distance Problem</h2>\n",
    "<div> \n",
    "    <ul style='font-size:20px'> \n",
    "        <li> \n",
    "            O cálculo da distância percorrida por um objeto dada a sua velocidade é um problema clássico de medidas de áreas sub curvas.\n",
    "        </li>\n",
    "        <li> \n",
    "            Para esse fim, designamos a cada intervalo de tempo uma velocidade que será usada como altura do retângulo. O ideial seria fazermos inúmeras medições da velocidade durante o tempo para nos permitir gerar um número maior de barras.\n",
    "        </li>\n",
    "    </ul>\n",
    "</div>"
   ]
  },
  {
   "cell_type": "code",
   "execution_count": 262,
   "id": "d67991fe-7b34-44d1-8e13-2f7994271e81",
   "metadata": {},
   "outputs": [
    {
     "data": {
      "text/plain": [
       "Text(0.5, 1.0, 'Velocidade x Tempo')"
      ]
     },
     "execution_count": 262,
     "metadata": {},
     "output_type": "execute_result"
    },
    {
     "data": {
      "image/png": "[encoded data removed]",
      "text/plain": [
       "<Figure size 720x360 with 1 Axes>"
      ]
     },
     "metadata": {
      "needs_background": "light"
     },
     "output_type": "display_data"
    }
   ],
   "source": [
    "# Uma pequena função velocidade em função do tempo v(t)=-t**2 + 2\n",
    "t = np.linspace(0, 1, 21) \n",
    "v = -t** 2 + 2\n",
    "\n",
    "# Expressando a função como gráfico de linha e barras.\n",
    "plt.figure(figsize=(10,5))\n",
    "plt.plot(t, v, lw=2.5)\n",
    "plt.bar(t[1:], v[1:], width=-.05,align='edge', color='yellow',edgecolor='k')\n",
    "plt.title('Velocidade x Tempo')"
   ]
  },
  {
   "cell_type": "markdown",
   "id": "1b77df0b-6f32-45ab-a26b-2c14a634c126",
   "metadata": {},
   "source": [
    "<h3 style='font-size:30px;font-style:italic'> 5.1 Integrals</h3>"
   ]
  },
  {
   "cell_type": "markdown",
   "id": "07e89cb1-2e1e-441b-95fe-36d567b0f752",
   "metadata": {},
   "source": [
    "<h4 style='font-size:30px;font-style:italic;text-decoration:underline'> 5</h4>"
   ]
  },
  {
   "cell_type": "code",
   "execution_count": 282,
   "id": "e74f31a7-59fc-4063-b363-b1790d1b9c66",
   "metadata": {},
   "outputs": [
    {
     "name": "stdout",
     "output_type": "stream",
     "text": [
      "[-0.75, -0.25, 0.25, 0.75, 1.25, 1.75]\n"
     ]
    },
    {
     "data": {
      "text/plain": [
       "5.9375"
      ]
     },
     "execution_count": 282,
     "metadata": {},
     "output_type": "execute_result"
    }
   ],
   "source": [
    "def ex5(x:float):\n",
    "    return 1 + x**2\n",
    "\n",
    "def integral(func:'function', interval:list, n:int, height_type:str):\n",
    "    assert height_type in ('left', 'right', 'midpoint')\n",
    "    # Delta x da função\n",
    "    delta = abs(interval[1] - interval[0]) / n\n",
    "    # Lógica caso usarmos o left-endpoint.\n",
    "    if height_type == 'left':\n",
    "        # Abscissas onde medir a função (altura das barras).\n",
    "        x = np.linspace(interval[0], interval[1], n+1)[:-1]\n",
    "        print(x)\n",
    "        # Altura das barras.\n",
    "        height = np.array([func(i) for i in x])\n",
    "        return sum(delta *  height)\n",
    "    \n",
    "    # Lógica caso usarmos o right-endpoint.\n",
    "    elif height_type == 'right':\n",
    "        # Abscissas onde medir a função (altura das barras).\n",
    "        x = np.linspace(interval[0]+delta, interval[1]+delta, n+1)[:-1]\n",
    "        print(x)\n",
    "        # Altura das barras.s\n",
    "        height = np.array([func(i) for i in x])\n",
    "        return sum(delta * height)\n",
    "    \n",
    "    # Lógica usando midpoints.\n",
    "    else:\n",
    "        x = np.linspace(interval[0], interval[1], n+1)\n",
    "        x = [np.mean([x[i-1], x[i]]) for i in range(1, len(x))]\n",
    "        print(x)\n",
    "        height = np.array([func(i) for i in x])\n",
    "        return sum(delta * height)\n",
    "        \n",
    "integral(ex5, [-1, 2], 6, 'midpoint')"
   ]
  },
  {
   "cell_type": "markdown",
   "id": "08d74170-9042-4c20-9ab8-54d69f7e4a33",
   "metadata": {},
   "source": [
    "<h4 style='font-size:30px;font-style:italic;text-decoration:underline'> 11</h4>"
   ]
  },
  {
   "cell_type": "code",
   "execution_count": 302,
   "id": "b2a04f41-974b-4a6a-af27-c46a8a6a5a16",
   "metadata": {},
   "outputs": [
    {
     "name": "stdout",
     "output_type": "stream",
     "text": [
      "L: 34.70\n",
      "R: 44.80\n"
     ]
    }
   ],
   "source": [
    "t = np.linspace(0, 3, 7)\n",
    "v = [0, 6.2, 10.8, 14.9, 18.1, 19.4, 20.2]\n",
    "\n",
    "# Medindo AUC pelo vértice esquerdo dos retângulos.\n",
    "L = np.dot(np.diff(t), v[:-1])\n",
    "print(f'L: {L :.2f}')\n",
    "\n",
    "# Agora, pelos direitos.\n",
    "R = np.dot(np.diff(t), v[1:])\n",
    "\n",
    "print(f'R: {R :.2f}')"
   ]
  },
  {
   "cell_type": "markdown",
   "id": "52161290-1d4c-41c1-bd4b-6fa1b21c5877",
   "metadata": {},
   "source": [
    "<p style='color:red'> 5.2 The Definite Integral</p>"
   ]
  }
 ],
 "metadata": {
  "kernelspec": {
   "display_name": "Python 3 (ipykernel)",
   "language": "python",
   "name": "python3"
  },
  "language_info": {
   "codemirror_mode": {
    "name": "ipython",
    "version": 3
   },
   "file_extension": ".py",
   "mimetype": "text/x-python",
   "name": "python",
   "nbconvert_exporter": "python",
   "pygments_lexer": "ipython3",
   "version": "3.8.10"
  }
 },
 "nbformat": 4,
 "nbformat_minor": 5
}
