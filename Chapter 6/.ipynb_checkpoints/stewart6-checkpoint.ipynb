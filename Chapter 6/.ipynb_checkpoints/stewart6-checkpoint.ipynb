{
 "cells": [
  {
   "cell_type": "markdown",
   "id": "42e19cb4-5c6c-4298-bebc-35cc092dc188",
   "metadata": {},
   "source": [
    "<h1 style='font-size:40px'> Applications of Integration </h1>"
   ]
  },
  {
   "cell_type": "markdown",
   "id": "003b001d-d628-4830-b5ea-8ac95253e252",
   "metadata": {},
   "source": [
    "<div> \n",
    "    <ul style='font-size:20px'> \n",
    "        <li> \n",
    "            Assim como fizemos com derivadas, aprenderemos aqui algumas aplicações do conceito de integrais.\n",
    "        </li>\n",
    "    </ul>\n",
    "</div>"
   ]
  },
  {
   "cell_type": "markdown",
   "id": "90de5c02-798f-458b-becb-3202fe887b7c",
   "metadata": {},
   "source": [
    "<h2 style='font-size:30px'> 6.1 Areas Between Curves</h2>\n",
    "<div> \n",
    "    <ul style='font-size:20px'> \n",
    "        <li> \n",
    "            Caso, em um intervalo $[a,b]$, tivermos uma função $f(x)$ e outra $g(x)$, em que $f(x)\\geq g(x)$ em $[a,b]$, podemos expressar a área entre as suas curvas como uma Soma de Riemann de $f(x)-g(x)$ ou a Integral Definida dessa mesma diferença.\n",
    "            <center style='margin-top:20px'> \n",
    "                $$A=\\lim_{n \\to \\infty}\\sum_{i=1}^{n}{[f(x^{*})-g(x^{*})]\\Delta{x}}$$\n",
    "            </center>\n",
    "            <center style='margin-top:20px'> \n",
    "                $$A=\\int_{a}^{b}[f(x)-g(x)]dx$$\n",
    "            </center>\n",
    "        </li>\n",
    "    </ul>\n",
    "</div>"
   ]
  },
  {
   "cell_type": "markdown",
   "id": "ce7baba1-bfc6-473d-8cd7-aeb628846ab7",
   "metadata": {},
   "source": [
    "<h4 style='font-size:30px;font-style:italic;text-decoration:underline'> Example II</h4>"
   ]
  },
  {
   "cell_type": "code",
   "execution_count": 14,
   "id": "bfaf2d41-29f8-45ac-befa-b781ea4e35c1",
   "metadata": {},
   "outputs": [
    {
     "data": {
      "text/plain": [
       "<matplotlib.collections.PolyCollection at 0x7fb45ef0ae80>"
      ]
     },
     "execution_count": 14,
     "metadata": {},
     "output_type": "execute_result"
    },
    {
     "data": {
      "image/png": "[encoded data removed]",
      "text/plain": [
       "<Figure size 432x288 with 1 Axes>"
      ]
     },
     "metadata": {
      "needs_background": "light"
     },
     "output_type": "display_data"
    }
   ],
   "source": [
    "import numpy as np\n",
    "import matplotlib.pyplot as plt\n",
    "\n",
    "x = np.linspace(-1, 2, 1001)\n",
    "fx =  x**2\n",
    "gx = 2*x - x**2\n",
    "\n",
    "plt.plot(x, fx)\n",
    "plt.plot(x, gx)\n",
    "plt.fill_between(x, fx, gx, where=gx>fx, alpha=.5, color='orange') # Essa é a área cujo tamanho temos que medir."
   ]
  },
  {
   "cell_type": "markdown",
   "id": "464a377b-3c87-4d02-8eed-4f7131c4b587",
   "metadata": {},
   "source": [
    "<h3 style='font-size:30px;font-style:italic'> Casos Especiais</h3>\n",
    "<div> \n",
    "    <ul style='font-size:20px'> \n",
    "        <li> \n",
    "            É possível que tenhamos que medir áreas entre curvas em que ora $f(x)\\geq g(x)$, ora $g(x)\\geq f(x)$. Para isso, vamos ter que medir $\\int_{a}^{b}|f(x)-g(x)|dx$.\n",
    "        </li>\n",
    "        <li> \n",
    "            Há situações em que é melhor considerarmos x como uma função de y. Isso, por exemplo, quando $f(x)$ apresentar dois resultados para uma mesma variável.\n",
    "        </li>\n",
    "    </ul>\n",
    "</div>"
   ]
  },
  {
   "cell_type": "markdown",
   "id": "dacd4250-acba-4e76-a823-9c0b9157a452",
   "metadata": {},
   "source": [
    "<p style='color:red'> Example VI</p>"
   ]
  }
 ],
 "metadata": {
  "kernelspec": {
   "display_name": "Python 3 (ipykernel)",
   "language": "python",
   "name": "python3"
  },
  "language_info": {
   "codemirror_mode": {
    "name": "ipython",
    "version": 3
   },
   "file_extension": ".py",
   "mimetype": "text/x-python",
   "name": "python",
   "nbconvert_exporter": "python",
   "pygments_lexer": "ipython3",
   "version": "3.8.10"
  }
 },
 "nbformat": 4,
 "nbformat_minor": 5
}
