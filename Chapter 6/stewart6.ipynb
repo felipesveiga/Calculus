{
 "cells": [
  {
   "cell_type": "markdown",
   "id": "42e19cb4-5c6c-4298-bebc-35cc092dc188",
   "metadata": {},
   "source": [
    "<h1 style='font-size:40px'> Applications of Integration </h1>"
   ]
  },
  {
   "cell_type": "markdown",
   "id": "003b001d-d628-4830-b5ea-8ac95253e252",
   "metadata": {},
   "source": [
    "<div> \n",
    "    <ul style='font-size:20px'> \n",
    "        <li> \n",
    "            Assim como fizemos com derivadas, aprenderemos aqui algumas aplicações do conceito de integrais.\n",
    "        </li>\n",
    "    </ul>\n",
    "</div>"
   ]
  },
  {
   "cell_type": "markdown",
   "id": "90de5c02-798f-458b-becb-3202fe887b7c",
   "metadata": {},
   "source": [
    "<h2 style='font-size:30px'> 6.1 Areas Between Curves</h2>\n",
    "<div> \n",
    "    <ul style='font-size:20px'> \n",
    "        <li> \n",
    "            Caso, em um intervalo $[a,b]$, tivermos uma função $f(x)$ e outra $g(x)$, em que $f(x)\\geq g(x)$ em $[a,b]$, podemos expressar a área entre as suas curvas como uma Soma de Riemann de $f(x)-g(x)$ ou a Integral Definida dessa mesma diferença.\n",
    "        </li>\n",
    "    </ul>\n",
    "</div>"
   ]
  },
  {
   "cell_type": "markdown",
   "id": "dacd4250-acba-4e76-a823-9c0b9157a452",
   "metadata": {},
   "source": [
    "<p style='color:red'> Fórmulas da Soma de Riemann e Integral Definida</p>"
   ]
  }
 ],
 "metadata": {
  "kernelspec": {
   "display_name": "Python 3 (ipykernel)",
   "language": "python",
   "name": "python3"
  },
  "language_info": {
   "codemirror_mode": {
    "name": "ipython",
    "version": 3
   },
   "file_extension": ".py",
   "mimetype": "text/x-python",
   "name": "python",
   "nbconvert_exporter": "python",
   "pygments_lexer": "ipython3",
   "version": "3.8.10"
  }
 },
 "nbformat": 4,
 "nbformat_minor": 5
}
