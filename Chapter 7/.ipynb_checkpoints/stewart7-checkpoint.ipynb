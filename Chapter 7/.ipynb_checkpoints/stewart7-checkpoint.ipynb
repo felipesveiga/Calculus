{
 "cells": [
  {
   "cell_type": "markdown",
   "id": "2d29ca80-4552-4081-8fe8-fecc42137be3",
   "metadata": {},
   "source": [
    "###### <h1 style='font-size:40px'> Techniques Of Integration </h1>\n",
    "<div> \n",
    "    <ul style='font-size:20px'> \n",
    "        <li> \n",
    "            Lidaremos neste capítulo com as principais técnicas de integração. \n",
    "        </li>\n",
    "        <li> \n",
    "            Às vezes, obter a antiderivada de algumas funções pode não ser um trabalho tão intuitivo. Por isso, certos algoritmos podem ser bastante pertinentes em situações específicas.\n",
    "        </li>\n",
    "        <li> \n",
    "            Veremos também que cada regra de integração mencionada está vinculada a uma regra de diferenciação. Por exemplo, a Lei de Integração por Partes é ligada à Lei do Produto.\n",
    "        </li>\n",
    "    </ul>\n",
    "</div>"
   ]
  },
  {
   "cell_type": "markdown",
   "id": "40b1ff06-9ce6-4b56-90cd-10764eb62dac",
   "metadata": {},
   "source": [
    "<h2 style='font-size:30px'> 7.1 Integration By Parts</h2>\n",
    "<div> \n",
    "    <ul style='font-size:20px'> \n",
    "        <li> \n",
    "            Seja a Lei do Produto:\n",
    "            <center style='margin-top:20px'> \n",
    "                $\\frac{d}{dx}[f(x)g(x)]=f'(x)g(x)+f(x)g'(x)$\n",
    "            </center>\n",
    "        </li>\n",
    "        <li style='margin-top:20px'> \n",
    "            Vamos extrair a antiderivada de $f'(x)g(x)+f(x)g'(x)$:\n",
    "            <center style='margin-top:20px'> \n",
    "                $\\int{[f'(x)g(x)+f(x)g'(x)]dx}=f(x)g(x)$\n",
    "            </center>\n",
    "            <center style='margin-top:20px'> \n",
    "                $\\int{f'(x)g(x)dx}+\\int{f(x)g'(x)dx}=f(x)g(x)$\n",
    "            </center>\n",
    "        </li>\n",
    "        <li style='margin-top:20px'> \n",
    "            Podemos reordenar a última equação como:\n",
    "            <div style='border-style:solid;padding:10px'> \n",
    "                <center style='margin-top:20px'> \n",
    "                    $\\int{f'(x)g(x)dx}=f(x)g(x)-\\int{f(x)g'(x)dx}$\n",
    "                </center>\n",
    "            </div>\n",
    "        </li>\n",
    "        <li style='margin-top:20px'> \n",
    "            Assim, somos capazes de sempre resolver um problema de antiderivação com a equação acima. Seja sapiente ao escolher quem será $f'(x)$ e $g(x)$.\n",
    "        </li>\n",
    "    </ul>\n",
    "</div>"
   ]
  },
  {
   "cell_type": "markdown",
   "id": "574533ac-0262-4b21-b9d3-255c1c6392ab",
   "metadata": {},
   "source": [
    "<div> \n",
    "    <ul style='font-size:20px'> \n",
    "        <li> \n",
    "            Podemos aproveitar a Integração por Partes na Segunda Parte do FTC. Dessa forma, vamos estar extraindo a integral definida por partes.\n",
    "            <center style='margin-top:20px'> \n",
    "                    $\\int_{a}^{b}{f'(x)g(x)dx}=[f(x)g(x)]_{a}^{b}-\\int_{a}^{b}{f(x)g'(x)dx}$\n",
    "            </center>\n",
    "        </li>\n",
    "    </ul>\n",
    "</div>"
   ]
  },
  {
   "cell_type": "markdown",
   "id": "4337e221-3343-4bbc-8631-9b5c781796d0",
   "metadata": {},
   "source": [
    "<h2 style='font-size:30px'> 7.2 Trigonometric Integrals</h2>\n",
    "<div> \n",
    "    <ul style='font-size:20px'> \n",
    "        <li> \n",
    "            De maneira geral, devemos reescrever as nossas Integrais Trigonométricas de forma que fiquemos com um fator seno e o restante da função em termos de cosseno ou vice-versa. \n",
    "        </li>\n",
    "    </ul>\n",
    "</div>"
   ]
  },
  {
   "cell_type": "markdown",
   "id": "53585349-f3a1-44b8-a5f7-459a553326b4",
   "metadata": {},
   "source": [
    "<h3 style='font-size:30px;font-style:italic'> Half-Angle Formulas</h3>\n",
    "<div> \n",
    "    <ul style='font-size:20px'>\n",
    "        <li> \n",
    "            As Half-Angle Formulas são bastante úteis em integrações envolvendo $\\sin^{2}{x}$ ou $\\cos^{2}{x}$. Elas surgem a partir da equação $\\cos{2x}=\\cos^{2}{x}-\\sin^{2}{x}$.\n",
    "        </li>\n",
    "        <li> \n",
    "            Usando a identidade $\\sin^{2}{x}+\\cos^{2}{x}=1$, ela pode ser reescrita de duas formas:\n",
    "            <p style='margin-bottom:0px'> \n",
    "               $\\cos{2x}=2\\cos^{2}{x}-1$\n",
    "            </p>\n",
    "            <p style='margin-top:0px'> \n",
    "               $\\cos{2x}=1-2\\sin^{2}{x}$\n",
    "            </p>\n",
    "        </li>\n",
    "        <li> \n",
    "            Isolando nossos termos de interesse, ficamos com:\n",
    "            <p style='margin-bottom:0px'> \n",
    "               $\\cos^{2}{x}=\\frac{\\cos{2x}+1}{2}$\n",
    "            </p>\n",
    "            <p style='margin-top:10px'> \n",
    "               $\\sin^{2}{x}=\\frac{-\\cos{2x}+1}{2}$\n",
    "            </p>\n",
    "        </li>\n",
    "     </ul>\n",
    "</div>"
   ]
  },
  {
   "cell_type": "markdown",
   "id": "3f8ca34c-2bea-42fb-9a31-6b7b0d49ca1e",
   "metadata": {},
   "source": [
    "<h3 style='font-size:30px;font-style:italic'> Estratégias para $\\int{\\sin^{m}{x}\\cos^{n}{x}dx}$</h3>\n",
    "<div> \n",
    "    <ul style='font-size:20px'>\n",
    "        <li> \n",
    "            Caso a potência de $\\cos$ seja ímpar, separe um fator $\\cos$ e use $\\cos^{2}{x}=1-\\sin^{2}{x}$ para expressar o restante da conta em termos de $\\sin{x}$.\n",
    "            <center style='margin-top:20px'> \n",
    "                    $\\int{\\sin^{m}{(x)}\\cos^{2k+1}{(x)}dx}=\\int{\\sin^{m}{(x)}[\\cos^{2}{(x)}]^{k}\\cos{(x)}dx}$ \n",
    "            </center>\n",
    "            <p style='margin-top:20px;margin-left:730px'> \n",
    "                    $=\\int{\\sin^{m}{(x)}[1-\\sin^{2}{(x)}]^{k}\\cos{(x)}dx}$\n",
    "            </p>\n",
    "            <p style='margin-top:20px;margin-left:730px'>\n",
    "                em seguida, defina $u=\\sin{(x)}$\n",
    "            </p>\n",
    "        </li>\n",
    "        <li style='margin-top:20px'> \n",
    "            Caso a potência de $\\sin$ seja ímpar, separe um fator $\\sin$ e use $\\sin^{2}{x}=1-\\cos^{2}{x}$ para expressar o restante da conta em termos de $\\cos{x}$.\n",
    "            <center style='margin-top:20px'> \n",
    "                    $\\int{\\sin^{2k+1}{(x)}\\cos^{m}{(x)}dx}=\\int{[\\sin^{2}{(x)}]^{k}\\cos^{m}{(x)}\\sin{(x)}dx}$ \n",
    "            </center>\n",
    "            <p style='margin-top:20px;margin-left:730px'> \n",
    "                $=\\int{[1-\\cos^{2}{(x)}]^{k}\\cos^{m}{(x)}\\sin{(x)}dx}$\n",
    "            </p>\n",
    "            <p style='margin-top:20px;margin-left:730px'>\n",
    "                em seguida, defina $u=\\cos{(x)}$\n",
    "            </p>\n",
    "        </li>\n",
    "     </ul>\n",
    "</div>"
   ]
  },
  {
   "cell_type": "markdown",
   "id": "c2157e1e-5785-41aa-9914-19864f236e81",
   "metadata": {},
   "source": [
    "<div> \n",
    "    <p style='font-size:20px'>\n",
    "            <strong> Quando ambas as potência de $\\sin$ e $\\cos$ forem ímpares, qualquer uma das regras procederá</strong>\n",
    "     </p>\n",
    "</div>"
   ]
  },
  {
   "cell_type": "markdown",
   "id": "8c8ff10a-b107-46fa-93fe-1f1c6265990c",
   "metadata": {},
   "source": [
    "<div> \n",
    "    <ul style='font-size:20px'>\n",
    "        <li> \n",
    "            Caso ambas as potências de $\\sin$ e $\\cos$ sejam pares, use as Half-Angle Formulas mencionadas logo acima. Ou, você também pode recorrer a:\n",
    "            <center style='margin-top:20px'> \n",
    "                    $\\sin{(x)}\\cos{(x)}=\\frac{1}{2}{\\sin{(2x)}}$ \n",
    "            </center>\n",
    "        </li>\n",
    "     </ul>\n",
    "</div>"
   ]
  },
  {
   "cell_type": "markdown",
   "id": "0e7d1214-58da-4a37-a30e-b966bfae3504",
   "metadata": {},
   "source": [
    "<h3 style='font-size:30px;font-style:italic'> Estratégias para $\\int{\\tan^{m}{x}\\sec^{n}{x}dx}$</h3>\n",
    "<div> \n",
    "    <ul style='font-size:20px'>\n",
    "        <li> \n",
    "            Caso a potência de $\\sec$ seja par, separe um fator $\\sec^{2}(x)$ e use $\\sec^{2}{(x)}=1+\\tan^{2}{(x)}$ para expressar o restante da conta em termos de $\\tan{(x)}$.\n",
    "            <center style='margin-top:20px'> \n",
    "                    $\\int{\\tan^{m}{(x)}\\sec^{2k}{(x)}dx}=\\int{\\tan^{m}{(x)}[\\sec^{2}{(x)}]^{k-1}\\sec^{2}{(x)}dx}$ \n",
    "            </center>\n",
    "            <p style='margin-top:20px;margin-left:730px'> \n",
    "                    $=\\int{\\tan^{m}{(x)}[1+\\tan^{2}{(x)}]^{k-1}\\sec^{2}{(x)}dx}$\n",
    "            </p>\n",
    "            <p style='margin-top:20px;margin-left:730px'>\n",
    "                em seguida, defina $u=\\tan{(x)}$\n",
    "            </p>\n",
    "        </li>\n",
    "        <li style='margin-top:20px'> \n",
    "            Caso a potência de $\\tan$ seja ímpar, separe um fator $\\sec{(x)}\\tan{(x)}$ e use $\\tan^{2}{(x)}=\\sec^{2}{(x)}-1$ para expressar o restante da conta em termos de $\\sec{(x)}$.\n",
    "            <center style='margin-top:20px'> \n",
    "                    $\\int{\\tan^{2k+1}{(x)}\\sec^{n}{(x)}dx}=\\int{[\\tan^{2}{(x)}]^{k}\\sec^{n-1}{(x)}\\sec{(x)}\\tan{(x)}dx}$ \n",
    "            </center>\n",
    "            <p style='margin-top:20px;margin-left:730px'> \n",
    "                $=\\int{[\\sec^{2}{(x)}-1]^{k}\\sec^{n-1}{(x)}\\sec{(x)}\\tan{(x)}dx}$\n",
    "            </p>\n",
    "            <p style='margin-top:20px;margin-left:730px'>\n",
    "                em seguida, defina $u=\\sec{(x)}$\n",
    "            </p>\n",
    "        </li>\n",
    "     </ul>\n",
    "</div>"
   ]
  },
  {
   "cell_type": "markdown",
   "id": "3c1aa7a1-42a9-4c1a-98a2-dae1f2ed4e50",
   "metadata": {},
   "source": [
    "<div> \n",
    "    <ul style='font-size:20px'>\n",
    "        <li style='margin-top:20px'>\n",
    "            As demais situações demandarão uma certa engenhosidade do aluno! Por exemplo, às, vezes, deveremos usar $\\int{\\tan{x}}$ (demonstração no capítulo 5).\n",
    "            <center style='margin-top:20px'> \n",
    "                    $\\int{\\tan{(x)}dx}=\\ln{|\\sec{(x)}|}+C$ \n",
    "            </center>\n",
    "        </li>\n",
    "        <li style='margin-top:20px'>\n",
    "            Podemos ainda usar $\\int{\\sec{x}dx}$\n",
    "            <center style='margin-top:20px'> \n",
    "                    $\\int{\\sec{(x)}dx}=\\ln{|\\sec{(x)}+\\tan{(x)}|}+C$\n",
    "            </center>\n",
    "        </li>\n",
    "     </ul>\n",
    "</div>"
   ]
  },
  {
   "cell_type": "markdown",
   "id": "6fd4cf61-1a14-468b-bc53-7fc6cbc351d7",
   "metadata": {
    "tags": []
   },
   "source": [
    "<h4 style='font-size:30px;font-style:italic;text-decoration:underline'> Demonstrando $\\int{\\sec{(x)}dx}$</h4>\n",
    "<div> \n",
    "    <ul style='font-size:20px'> \n",
    "        <li> \n",
    "            Podemos multiplicar $\\sec{(x)}$ por $\\frac{\\sec{(x)}+\\tan{(x)}}{\\sec{(x)}+\\tan{(x)}}$ \n",
    "            <center style='margin-top:20px'> \n",
    "                 $\\int{\\sec{(x)}dx}=\\sec{(x)}\\frac{\\sec{(x)}+\\tan{(x)}}{\\sec{(x)}+\\tan{(x)}}$\n",
    "            </center>\n",
    "            <p style='margin-top:20px;margin-left:47%'>\n",
    "                $=\\int{\\frac{\\sec^{2}{(x)}+\\sec{(x)}\\tan{(x)}}{\\sec{(x)}+\\tan{(x)}}dx}$\n",
    "            </p>\n",
    "        </li>\n",
    "        <li style='margin-top:20px'>\n",
    "            Se trocarmos $u=\\sec{(x)}+\\tan{(x)}$, $du=(\\sec^{2}{(x)}+\\sec{(x)}\\tan{(x)})dx$. Assim, podemos representar a integral como $\\int{\\frac{1}{u}du}=\\ln{|u|}+C$.\n",
    "            <center style='margin-top:20px'> \n",
    "                 $\\int{\\sec{(x)}dx}=\\ln{|\\sec{(x)}+\\tan{(x)}|}+C$\n",
    "            </center>\n",
    "        </li>\n",
    "    </ul>\n",
    "</div>"
   ]
  },
  {
   "cell_type": "markdown",
   "id": "e87a55e1-d585-43c4-a488-7d9d4549ccbe",
   "metadata": {},
   "source": [
    "<h3 style='font-size:30px;font-style:italic'> Outras Estratégias Úteis</h3>\n",
    "<div> \n",
    "    <ul style='font-size:20px'>\n",
    "        <li> \n",
    "            Algumas identidades podem ser bastante interessantes, quando formos avaliar as seguintes integrais:\n",
    "            <ul style='margin-top:20px'>\n",
    "                <li> \n",
    "                    $\\int{\\sin{(mx)}\\cos{(nx)}dx}$: <span style='margin-left:1%'>$\\sin{(A)}\\cos{(B)}=\\frac{1}{2}{[\\sin{(A-B)}+\\sin{(A+B)}]}$</span>\n",
    "                </li>\n",
    "                <li style='margin-top:20px'> \n",
    "                    $\\int{\\sin{(mx)}\\sin{(nx)}dx}$: <span style='margin-left:1%'>$\\sin{(A)}\\sin{(B)}=\\frac{1}{2}{[\\cos{(A-B)}-\\cos{(A+B)}]}$</span>\n",
    "                </li>\n",
    "                <li style='margin-top:20px'> \n",
    "                    $\\int{\\cos{(mx)}\\cos{(nx)}dx}$: <span style='margin-left:1%'>$\\cos{(A)}\\cos{(B)}=\\frac{1}{2}{[\\cos{(A+B)}+\\cos{(A+B)}]}$</span>\n",
    "                </li>\n",
    "             </ul>\n",
    "        </li>\n",
    "     </ul>\n",
    "</div>"
   ]
  },
  {
   "cell_type": "markdown",
   "id": "688dc00d-18ff-4d29-9d66-76f43c739f71",
   "metadata": {},
   "source": [
    "<h2 style='font-size:30px'> 7.3 Trigonometric Substitutions</h2>\n",
    "<div> \n",
    "    <ul style='font-size:20px'> \n",
    "        <li> \n",
    "            Ao medirmos integrais de círculos ou elipses, podemos aplicar algumas substituições em suas funções, de modo a facilitar as nossas contas.\n",
    "        </li>\n",
    "        <li>\n",
    "            Por exemplo, ao medirmos $\\int{\\sqrt{a^{2}-x^{2}}}$, podemos aplicar a seguinte substituição com $x=a\\sin{\\theta}$.\n",
    "        </li>\n",
    "    </ul>\n",
    "</div>"
   ]
  },
  {
   "cell_type": "markdown",
   "id": "f98cf9bd-fdd2-404c-bf3e-1303bf9c799e",
   "metadata": {},
   "source": [
    "<center style='font-size:20px;margin-top:20px'> \n",
    "                 $\\sqrt{a^{2}-x^{2}}=\\sqrt{a^{2}-a^{2}\\sin^{2}{\\theta}}=\\sqrt{a^{2}(1-\\sin^{2}{\\theta})}=\\sqrt{a^{2}\\cos^{2}{\\theta}}=a|\\cos{\\theta}|$\n",
    "</center>"
   ]
  },
  {
   "cell_type": "markdown",
   "id": "92846e5a-3c8b-40d9-a921-353dc77607f2",
   "metadata": {},
   "source": [
    "<div> \n",
    "    <ul style='font-size:20px'> \n",
    "        <li> \n",
    "            A tabela abaixo fornece outras estratégias de substituição, considerando outras equações:\n",
    "            <center style='font-size:20px;margin-top:20px'> \n",
    "                 <img src='substitution_table.png'>\n",
    "            </center>\n",
    "        </li>\n",
    "    </ul>\n",
    "</div>"
   ]
  },
  {
   "cell_type": "markdown",
   "id": "b58ca03e-a583-446b-a5d4-191a234a3f0e",
   "metadata": {},
   "source": [
    "<h2 style='font-size:30px'> 7.4 Integration of Rational Functions by Partial Fractions</h2>\n",
    "<div> \n",
    "    <ul style='font-size:20px'> \n",
    "        <li>\n",
    "            Podemos facilitar a integração da divisão de polinômios $f(x)=\\frac{P(x)}{Q(x)}$ expressando-a como uma soma de frações mais simples.\n",
    "        </li>\n",
    "        <li>\n",
    "            Essas frações ficam conhecidas como partial fractions.\n",
    "        </li>\n",
    "    </ul>\n",
    "</div>"
   ]
  },
  {
   "cell_type": "markdown",
   "id": "b68a9b11-687d-44bc-8296-3b5091be22ce",
   "metadata": {},
   "source": [
    "<center style='font-size:20px;margin-top:20px'> \n",
    "                 $\\int{\\frac{x+5}{x^{2}+x-2}dx}=\\int{[\\frac{2}{x-1}-\\frac{1}{x+2}]dx}$\n",
    "</center>"
   ]
  },
  {
   "cell_type": "markdown",
   "id": "39848b4f-feef-4629-aced-2a9a7ab38e37",
   "metadata": {},
   "source": [
    "<div> \n",
    "    <ul style='font-size:20px;margin-top:20px'> \n",
    "        <li>\n",
    "            Esse tratamento é apenas possível, caso o grau do numerador seja menor do que o do denominador. Nessa situação, chamamos a função de <i>proper</i>.\n",
    "        </li>\n",
    "        <li>\n",
    "            Caso a nossa função seja <i> improper</i> ($\\text{deg}(P)\\geq{\\text{deg}(Q)}$), deveremos dividir $P$ por $Q$ (divisão longa) até um resto $R(x)$ seja obtido de modo que $\\text{deg}(R)<\\text{deg}(Q)$.\n",
    "        </li>\n",
    "    </ul>\n",
    "</div>"
   ]
  },
  {
   "cell_type": "markdown",
   "id": "5bc4f9b6-f2ac-4f70-b1ee-b58ba58eb5d7",
   "metadata": {},
   "source": [
    "<h3 style='font-size:30px;font-style:italic'> Long Division</h3>\n",
    "<div> \n",
    "    <ul style='font-size:20px'>\n",
    "        <li> \n",
    "            A divisão longa de polinômios é uma técnica de obtermos o quociente da fração entre dois polinômios. Ela se assemelha bastante com a divisão longa de números inteiros.\n",
    "        </li>\n",
    "     </ul>\n",
    "</div>"
   ]
  },
  {
   "cell_type": "markdown",
   "id": "bd8add80-ce44-41ea-82a0-27f50f93df98",
   "metadata": {
    "tags": []
   },
   "source": [
    "<h4 style='font-size:30px;font-style:italic;text-decoration:underline'> Algoritmo</h4>\n",
    "<div> \n",
    "    <ul style='font-size:20px'> \n",
    "        <li> \n",
    "            Coloque os termos de cada polinômio em ordem decrescente. Em seguida, divida o termo de maior grau do dividendo pelo do divisor.\n",
    "        </li>\n",
    "        <li>\n",
    "            O valor resultante deverá agora ser multiplicado pelo divisor. Finalmente, teremos que subtrair o dividendo pelo produto dessa operação.\n",
    "        </li>\n",
    "        <li>\n",
    "            Em seguida, deveremos repetir essa mesma operação, agora tendo o resultado da subtração como novo dividendo.\n",
    "        </li>\n",
    "    </ul>\n",
    "</div>"
   ]
  },
  {
   "cell_type": "markdown",
   "id": "4389a764-eae7-4270-829a-540ce5e04105",
   "metadata": {
    "tags": []
   },
   "source": [
    "<h4 style='font-size:30px;font-style:italic;text-decoration:underline'> Exemplo</h4>"
   ]
  },
  {
   "cell_type": "markdown",
   "id": "99a81a2e-48d9-4620-8737-638e2e4fd266",
   "metadata": {},
   "source": [
    " <center style='margin-top:20px'> \n",
    "        <figure>\n",
    "            <img src='long_division.png'>\n",
    "        </figure>\n",
    "    </center>"
   ]
  },
  {
   "cell_type": "markdown",
   "id": "f1d03e8f-6807-4699-8d69-281ca170e617",
   "metadata": {},
   "source": [
    "<div> \n",
    "    <ul style='font-size:20px'> \n",
    "        <li> \n",
    "            Caso o grau de $P(x)$ seja menor do que o de $Q(x)$, deveremos aplicar algumas transformações sobre a função.\n",
    "        </li>\n",
    "        <li>\n",
    "            O primeiro passo seria fatorizar ao máximo $Q(x)$, de maneira que o representemos como um produto de fatores lineares (funções afins) ou fatores quadráticos irredutíveis (funções quadráticas).\n",
    "        </li>\n",
    "        <li>\n",
    "            Por fim, interpretaremos que a nova representação de $\\frac{P(x)}{Q(x)}$ pode ser expressa como a soma de frações, tendo cada uma delas um dos fatores de $Q(x)$ como denominador. Os numeradores ficam representados como incógnitas, que serão descobertas por um sistema de equações.\n",
    "        </li>\n",
    "    </ul>\n",
    "</div>"
   ]
  },
  {
   "cell_type": "markdown",
   "id": "0f91effa-f376-4a6a-9409-4efbf4fdff36",
   "metadata": {},
   "source": [
    "<figure>\n",
    "        <center style='margin-top:20px'>\n",
    "            <img src='factors_fraction.png'>\n",
    "                <figcaption> \n",
    "                    Um exemplo da aplicação da técnica descrita.\n",
    "                </figcaption>\n",
    "        </center>\n",
    "    </figure>"
   ]
  },
  {
   "cell_type": "markdown",
   "id": "6926e8a4-380b-4395-865f-9116963c43f9",
   "metadata": {},
   "source": [
    "<h2 style='font-size:30px'> 7.5 Strategy for Integration</h2>\n",
    "<div> \n",
    "    <ul style='font-size:20px'> \n",
    "        <li>\n",
    "            A seção  será inteiramente dedicada a aplicar os métodos de integração estudados em múltiplos exercícios.\n",
    "        </li>\n",
    "        <li>\n",
    "            Como pudemos observar, integralizar funções é algo muito mais desafiador do que derivá-las. Por isso, o livro providencia algumas dicas sobre como confrontar problemas de integrais. É sempre bom tê-las em mente, ao confrontar um problema de integração.\n",
    "        </li>\n",
    "        <li>\n",
    "            Antes de tudo, convém conhecer de antemão algumas integrais mais básicas, como as listadas na tabela abaixo:\n",
    "        </li>\n",
    "    </ul>\n",
    "</div>"
   ]
  },
  {
   "cell_type": "markdown",
   "id": "4a6afbbe-f738-477e-8282-7861c8abed98",
   "metadata": {},
   "source": [
    "<figure>\n",
    "        <center style='margin-top:20px'>\n",
    "            <img src='integrals_table.png'>\n",
    "        </center>\n",
    "    </figure>"
   ]
  },
  {
   "cell_type": "markdown",
   "id": "af8e4c13-4d7e-479d-8cc0-cb821e767876",
   "metadata": {},
   "source": [
    "<h3 style='font-size:30px;font-style:italic'> Solucionando Integrais Complexas</h3>\n",
    "<div> \n",
    "    <ul style='font-size:20px'>\n",
    "        <li> \n",
    "            Caso você se depare com alguma integral desafiadora demais, siga o passo-a-passo apresentado pelo livro:\n",
    "        </li>\n",
    "     </ul>\n",
    "</div>"
   ]
  },
  {
   "cell_type": "markdown",
   "id": "eae01576-432e-44ea-8417-fc7f5f2a72fc",
   "metadata": {
    "tags": []
   },
   "source": [
    "<h4 style='font-size:30px;font-style:italic;text-decoration:underline'> 1. Simplifique o Integrando</h4>\n",
    "<div> \n",
    "    <ul style='font-size:20px'> \n",
    "        <li>\n",
    "            Busque alguma maneira de simplificar o integrando, de maneira a deixá-lo mais \"palatável\" para solucioná-lo.\n",
    "        </li>\n",
    "    </ul>\n",
    "</div>"
   ]
  },
  {
   "cell_type": "markdown",
   "id": "860647c8-568f-46fa-a81f-fa653519c9be",
   "metadata": {},
   "source": [
    "<figure>\n",
    "        <center style='margin-top:20px'>\n",
    "            <img src='simplify_integral.png'>\n",
    "                <figcaption> \n",
    "                    Alguns exemplos de simplificação dos integrandos.\n",
    "                </figcaption>\n",
    "        </center>\n",
    "    </figure>"
   ]
  },
  {
   "cell_type": "markdown",
   "id": "cb8c2c77-0f90-4711-83b6-54bf9792a575",
   "metadata": {
    "tags": []
   },
   "source": [
    "<h4 style='font-size:30px;font-style:italic;text-decoration:underline'> 2. Busque por uma Substituição Eficaz</h4>\n",
    "<div> \n",
    "    <ul style='font-size:20px'> \n",
    "        <li>\n",
    "            Veja se existe alguma função $u=g(x)$ cuja diferencial $du=g(x)dx$ também esteja presente no integrando.\n",
    "        </li>\n",
    "        <li>\n",
    "            Note que em $\\int{\\frac{x}{x^{2}-1}dx}$, se $u=x^{2}-1$, $du=2xdx$.\n",
    "        </li>\n",
    "    </ul>\n",
    "</div>"
   ]
  },
  {
   "cell_type": "markdown",
   "id": "07886a91-505b-4508-833c-baf62336978d",
   "metadata": {
    "tags": []
   },
   "source": [
    "<h4 style='font-size:30px;font-style:italic;text-decoration:underline'> 3. Classifique o Integrando Conforme a sua Forma </h4>\n",
    "<div> \n",
    "    <ul style='list-style-type:lower-latin;font-size:20px'> \n",
    "        <li>\n",
    "            <i> Funções Trigonométricas:</i> Caso a função seja um produto $\\sin{(x)}^{n}\\cos{(x)}^{m}$, $\\tan{(x)}^{n}\\sec{(x)}^{m}$ ou $\\cot{(x)}^{n}\\csc{(x)}^{m}$, busque aplicar as substituições apresentadas na seção 7.2.\n",
    "        </li>\n",
    "        <li>\n",
    "            <i> Funções Racionais:</i> Busque aplicar o método de frações parciais, descrito na seção 7.4.\n",
    "        </li>\n",
    "        <li> \n",
    "            <i> Integração por Partes:</i> Caso $f(x)$ seja o produto entre uma potência de $x$ e uma função transcendental (trigonométrica, exponencial ou logarítmica), a técnica de Integração por Partes (descrita na seção 7.1) pode convir.\n",
    "        </li>\n",
    "        <li> \n",
    "            <i> Radicais:</i> Ao confrontar integrais de radicais, duas estratégias são possíveis:\n",
    "            <ul> \n",
    "                <li>\n",
    "                    Caso sejam da forma $\\sqrt{x^{2}\\pm{a^{2}}}$, recorrer à Substituição Trigonométrica, assim como ensina a seção 7.3.\n",
    "                </li>\n",
    "                <li>\n",
    "                    Caso sejam da forma $\\sqrt[n]{ax+b}$, faça a substituição $b=\\sqrt[n]{ax+b}$.\n",
    "                </li>\n",
    "            </ul>\n",
    "        </li>\n",
    "    </ul>\n",
    "</div>"
   ]
  },
  {
   "cell_type": "markdown",
   "id": "725daeab-f718-475d-8aec-aa7a90756057",
   "metadata": {
    "tags": []
   },
   "source": [
    "<h4 style='font-size:30px;font-style:italic;text-decoration:underline'> Caso Nada Tenha Funcionado</h4>\n",
    "<div> \n",
    "    <ul style='font-size:20px'> \n",
    "        <li>\n",
    "            Quando nenhuma das técnicas apresentadas funcionar, o livro indica tentarmos recorrer aos métodos de substituição ou integração  por partes (tente ser criativo).\n",
    "        </li>\n",
    "        <li>\n",
    "            Tente manipular a forma como o integrando está expresso (com as identidades trigonométricas, por exemplo). Procure buscar inspiração de outros exercícios que você tenha resolvido, também. \n",
    "        </li>\n",
    "    </ul>\n",
    "</div>"
   ]
  },
  {
   "cell_type": "markdown",
   "id": "9898fafd-597c-4c79-94a8-c58f1c430e26",
   "metadata": {},
   "source": [
    "<h3 style='font-size:30px;font-style:italic'> Can We Integrate All Continuous Functions?</h3>\n",
    "<div> \n",
    "    <ul style='font-size:20px'>\n",
    "        <li> \n",
    "            Apesar de neste capítulo termos formado uma estratégia bastante robusta para computarmos integrais, ela não será suficiente em todos os casos.\n",
    "        </li>\n",
    "        <li>\n",
    "            Isso porque os métodos discutidos apenas funcionam quando a função sob análise e sua antiderivada são <strong> funções elementares</strong>. \n",
    "        </li>\n",
    "     </ul>\n",
    "</div>"
   ]
  },
  {
   "cell_type": "markdown",
   "id": "3b30bfe6-3f1b-4841-85de-eb70d067b9ea",
   "metadata": {
    "tags": []
   },
   "source": [
    "<h4 style='font-size:30px;font-style:italic;text-decoration:underline'> Funções Elementares</h4>\n",
    "<div> \n",
    "    <ul style='font-size:20px'> \n",
    "        <li>\n",
    "            Entenda funções elementares como as polinomiais, de potência, exponenciais, logarítmicas, trigonométricas e hiperbólicas e as respectivas inversas destas, juntamente com qualquer outra resultante de soma, subtração, multiplicação, divisão e composição dessas funções.\n",
    "        </li>\n",
    "        <li>\n",
    "            Para qualquer função elementar $f(x)$, sua derivada $\\frac{d[f(x)]}{dx}$ sempre será elementar, também. No entanto, sua antiderivada $\\int{f(x)}dx$ nem sempre o será, necessariamente.\n",
    "        </li>\n",
    "        <li>\n",
    "            Vale mencionar que a maior parte das funções elementares não possuem antiderivadas elementares.\n",
    "        </li>\n",
    "    </ul>\n",
    "</div>"
   ]
  },
  {
   "cell_type": "markdown",
   "id": "20406bb1-1fc3-406d-9c03-e738ab48a6f6",
   "metadata": {},
   "source": [
    "<h2 style='font-size:30px'> 7.6 Integration Using Tables and Computer Algebra Systems</h2>\n",
    "<div> \n",
    "    <ul style='font-size:20px'> \n",
    "        <li>\n",
    "            Seção que apresenta soluções de exercícios de integração usando tabelas com integrais pré-calculadas e programas de computador. \n",
    "        </li>\n",
    "        <li>\n",
    "            Do meu ponto de vista, não tem muito a agregar.\n",
    "        </li>\n",
    "    </ul>\n",
    "</div>"
   ]
  },
  {
   "cell_type": "markdown",
   "id": "25e7c014-defa-430b-84c4-3ed7dbbba826",
   "metadata": {},
   "source": [
    "<h2 style='font-size:30px'> 7.7 Approximate Integration</h2>\n",
    "<div> \n",
    "    <ul style='font-size:20px'> \n",
    "        <li>\n",
    "            Existem duas situações em que não podemos recorrer ao Teorema Fundamental do Cálculo para medirmos a integral de um gráfico. A primeira seria quando a antiderivada da função não seria uma função elementar; a segunda, quando a linha do gráfico não provém de uma função matemática (ex: ROC).\n",
    "        </li>\n",
    "        <li>\n",
    "            Nessa situação, usar a Soma de Riemann aparece como solução mais adequada.\n",
    "        </li>\n",
    "    </ul>\n",
    "</div>"
   ]
  },
  {
   "cell_type": "markdown",
   "id": "9df567e6-49d0-47a5-997b-e97f8a4875b3",
   "metadata": {},
   "source": [
    "<h3 style='font-size:30px;font-style:italic'> Soma de Riemann</h3>\n",
    "<div> \n",
    "    <ul style='font-size:20px'>\n",
    "        <li> \n",
    "            Recapitulando, a Soma de Riemann consiste em dividir o intervalo $[a,b]$ em $n$ sub-intervalos. Em seguida, traçaríamos retângulos em cada um deles, tendo sua altura como $f(x^{*})$. A área da região ficaria como a soma das áreas desses retângulos. \n",
    "        </li>\n",
    "        <li>\n",
    "            No caso, $x^{*}$ pode ser qualquer ponto do sub-intervalo $[x_{i-1}, x_{i}]$. Como sabemos, costuma-se defini-lo como $x_{i-1}$ (left endpoint), $x_{i}$ (right endpoint) ou $\\overline{x}_{i}$ (midpoint).\n",
    "        </li>\n",
    "     </ul>\n",
    "</div>"
   ]
  },
  {
   "cell_type": "markdown",
   "id": "bbc0f130-9c59-4e02-84e0-ee97d61a74a6",
   "metadata": {},
   "source": [
    "<h3 style='font-size:30px;font-style:italic'> Trapezoidal Rule</h3>\n",
    "<div> \n",
    "    <ul style='font-size:20px'>\n",
    "        <li> \n",
    "            A Regra Trapezoidal seria uma outra maneira de medirmos a integral de uma curva. No caso, mediríamos a média entre a aproximação via left e right endpoint.  \n",
    "        </li>\n",
    "     </ul>\n",
    "</div>"
   ]
  },
  {
   "cell_type": "markdown",
   "id": "f480f3c4-5d6a-4e06-85af-b59e830faeb7",
   "metadata": {},
   "source": [
    "<figure>\n",
    "    <center style='font-size:20px;margin-top:20px'> \n",
    "                     $\\displaystyle \\int_{a}^{b}{f(x)dx}=\\frac{1}{2}[\\sum_{i=1}^{n}{f(x_{i-1})\\Delta_{x}}+\\sum_{i=1}^{n}{f(x_{i})\\Delta_{x}}]$\n",
    "        <figcaption style='font-size:15px'>\n",
    "        Fórmula da Trapezoidal Rule.\n",
    "    </figcaption>\n",
    "    </center>\n",
    "</figure>"
   ]
  },
  {
   "cell_type": "markdown",
   "id": "04a7941e-f5ba-47b6-be1c-e75a0dce12a9",
   "metadata": {},
   "source": [
    "<div> \n",
    "    <ul style='font-size:20px'>\n",
    "        <li> \n",
    "            No entanto, vale mencionar que essa regra tende a ser menos precisa do que a Midpoint Rule.\n",
    "        </li>\n",
    "     </ul>\n",
    "</div>"
   ]
  },
  {
   "cell_type": "markdown",
   "id": "2f3e2db3-d91c-4362-abae-6827a04d9ea7",
   "metadata": {
    "tags": []
   },
   "source": [
    "<h4 style='font-size:30px;font-style:italic;text-decoration:underline'> Error Bounds</h4>\n",
    "<div> \n",
    "    <ul style='font-size:20px'> \n",
    "        <li>\n",
    "            Estudiosos de análise numérica criaram margens de erro voltadas à integração com a Midpoint e Trapezoidal Rule.\n",
    "        </li>\n",
    "        <li>\n",
    "            Dada uma função $f(x)$, em que $f''(x)\\leq{K},\\forall{x\\in[a,b]}$, as fronteiras de erro da Midpoint Rule ($E_M$) e Trapezoidal Rule ($E_T$) podem ser escritas como:\n",
    "        </li>\n",
    "    </ul>\n",
    "</div>"
   ]
  },
  {
   "cell_type": "markdown",
   "id": "26b21c64-729b-4dbb-8f20-d480e65d5c60",
   "metadata": {},
   "source": [
    "<center style='font-size:20px;margin-top:20px'> \n",
    "                 $|E_{M}|\\leq \\frac{K(b-a)^{3}}{24n^{2}}$\n",
    "</center>"
   ]
  },
  {
   "cell_type": "markdown",
   "id": "419b0a40-c91f-4260-b572-2e2ab5061d58",
   "metadata": {},
   "source": [
    "<center style='font-size:20px;margin-top:20px'> \n",
    "                 $|E_{T}|\\leq \\frac{K(b-a)^{3}}{12n^{2}}$\n",
    "</center>"
   ]
  },
  {
   "cell_type": "markdown",
   "id": "0fa36f62-9f4e-4385-b3b8-587a42b9bcb3",
   "metadata": {
    "jp-MarkdownHeadingCollapsed": true
   },
   "source": [
    "<h3 style='font-size:30px;font-style:italic'> \n",
    "    <a href='https://www.intmath.com/integration/6-simpsons-rule.php'>\n",
    "        Simpson's Rule\n",
    "    </a>\n",
    "</h3>\n",
    "<div> \n",
    "    <ul style='font-size:20px'>\n",
    "        <li> \n",
    "            A Regra de Simpson é válida quando possuímos uma quantidade <i>par</i> de sub-intervalos para medir a integral. \n",
    "        </li>\n",
    "        <li>\n",
    "            Com ela, buscamos aproximar o trecho da curva em cada sub-intervalo a uma parábola. \n",
    "        </li>\n",
    "     </ul>\n",
    "</div>"
   ]
  },
  {
   "cell_type": "markdown",
   "id": "5d5f5136-6534-43fb-b44a-6988ac208b58",
   "metadata": {
    "tags": []
   },
   "source": [
    "<h4 style='font-size:30px;font-style:italic;text-decoration:underline'> Prova</h4>\n",
    "<div> \n",
    "    <ul style='font-size:20px'> \n",
    "        <li>\n",
    "            Dado um sub-intervalo que passe pelos pontos $P_{0}(-h,y_{0})$, $P_{1}(0,y_{1})$ e $P_{2}(h,y_{2})$\n",
    "        </li>\n",
    "    </ul>\n",
    "</div>"
   ]
  },
  {
   "cell_type": "markdown",
   "id": "b928be8b-1b1e-4f77-a25e-f7650ce70fae",
   "metadata": {},
   "source": [
    "<figure>\n",
    "        <center style='font-size:20px;margin-top:20px'>\n",
    "            $$\\begin{align*}%\\label{}\n",
    "                \\displaystyle\n",
    "                  &\\int_{-h}^{h}{(ax^{2}+bx+c)dx} \\\\\n",
    "                   &=\\left[\\frac{ax^{3}}{3}+\\frac{bx^{2}}{2}+cx\\right]_{-h}^{h} \\\\\n",
    "                   &= \\left(\\frac{ah^{3}}{3}+\\frac{bh^{2}}{2}ch\\right)-\\left(-\\frac{ah^{3}}{3}+\\frac{bh^{2}}{2}-ch\\right) \\\\\n",
    "                &=\\frac{2ah^{3}}{3}+2ch\\\\\n",
    "                &=\\frac{h}{3}(2ah^{2}+6c)\n",
    "                \\end{align*}\n",
    "            $$\n",
    "        </center>\n",
    "    </figure>"
   ]
  },
  {
   "cell_type": "markdown",
   "id": "78e50647-3672-47d0-997f-e12398c42f68",
   "metadata": {},
   "source": [
    "<div> \n",
    "    <ul style='font-size:20px'> \n",
    "        <li>\n",
    "            Agora, vamos criar um sistema de equações, baseado nas coordenadas de cada ponto da parábola:\n",
    "        </li>\n",
    "    </ul>\n",
    "</div>"
   ]
  },
  {
   "cell_type": "markdown",
   "id": "26fb8faa-75fa-4596-8881-ffc24fc23ea3",
   "metadata": {},
   "source": [
    "<figure>\n",
    "        <center style='font-size:20px;margin-top:20px'>\n",
    "            $$\\begin{bmatrix}\n",
    "h^2 & -h & 1 \\\\\n",
    "0 & 0 & 1 \\\\\n",
    "h^2 & h & 1\n",
    "\\end{bmatrix}\n",
    "\\begin{bmatrix}\n",
    "a \\\\\n",
    "b \\\\\n",
    "c\n",
    "\\end{bmatrix}=\n",
    "\\begin{bmatrix}\n",
    "y_0 \\\\\n",
    "y_1 \\\\\n",
    "y_2\n",
    "\\end{bmatrix}\n",
    "            $$\n",
    "        </center>\n",
    "    </figure>"
   ]
  },
  {
   "cell_type": "markdown",
   "id": "7bb8160d-6279-4df2-a50b-4f3a23f474ff",
   "metadata": {},
   "source": [
    "<div> \n",
    "    <ul style='font-size:20px'> \n",
    "        <li>\n",
    "            Ao solucionarmos esse sistema, descobrimos que $c=y_1$ e $2ah^{2}=y_0 - 2y_1 + y_2$\n",
    "        </li>\n",
    "        <li>\n",
    "            * Com isso, podemos afirmar que:\n",
    "$\\int_{-h}^{h}{(ax^{2}+bx+c)dx}=\\frac{h}{3}(y_0 + 4y_1 + y_2)$\n",
    "        </li>\n",
    "    </ul>\n",
    "</div>"
   ]
  },
  {
   "cell_type": "code",
   "execution_count": 18,
   "id": "63c86c10-e4c4-4494-8bf8-dfb2f2254a16",
   "metadata": {
    "editable": true,
    "slideshow": {
     "slide_type": ""
    },
    "tags": []
   },
   "outputs": [
    {
     "name": "stdout",
     "output_type": "stream",
     "text": [
      "[master 34c3423] Continuar prova de \"Simpson`s Rule\"\n",
      " 3 files changed, 108 insertions(+), 32 deletions(-)\n",
      " create mode 100644 Chapter 7/simpson.png\n",
      "Enumerating objects: 10, done.\n",
      "Counting objects: 100% (10/10), done.\n",
      "Delta compression using up to 24 threads\n",
      "Compressing objects: 100% (6/6), done.\n",
      "Writing objects: 100% (6/6), 14.43 KiB | 14.43 MiB/s, done.\n",
      "Total 6 (delta 3), reused 0 (delta 0), pack-reused 0\n",
      "remote: Resolving deltas: 100% (3/3), completed with 3 local objects.\u001b[K\n",
      "To https://github.com/felipesveiga/Calculus.git\n",
      "   3132b16..34c3423  master -> master\n"
     ]
    }
   ],
   "source": [
    "! git add .\n",
    "! git commit -am 'Agora, revelar a equação geral da Simpson`s Rule' \n",
    "! git push"
   ]
  },
  {
   "cell_type": "markdown",
   "id": "265199d3-6c00-4929-b108-0c4362fd260b",
   "metadata": {},
   "source": [
    "<p style='color:red'> Continuei a demonstração da Simpson's Rule; Agora, revelar a equação geral da Simpson's Rule"
   ]
  }
 ],
 "metadata": {
  "kernelspec": {
   "display_name": "Python 3 (ipykernel)",
   "language": "python",
   "name": "python3"
  },
  "language_info": {
   "codemirror_mode": {
    "name": "ipython",
    "version": 3
   },
   "file_extension": ".py",
   "mimetype": "text/x-python",
   "name": "python",
   "nbconvert_exporter": "python",
   "pygments_lexer": "ipython3",
   "version": "3.10.12"
  }
 },
 "nbformat": 4,
 "nbformat_minor": 5
}
