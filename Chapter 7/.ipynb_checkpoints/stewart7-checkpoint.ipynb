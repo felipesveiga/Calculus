{
 "cells": [
  {
   "cell_type": "markdown",
   "id": "2d29ca80-4552-4081-8fe8-fecc42137be3",
   "metadata": {},
   "source": [
    "<h1 style='font-size:40px'> Techniques Of Integration </h1>\n",
    "<div> \n",
    "    <ul style='font-size:20px'> \n",
    "        <li> \n",
    "            Lidaremos neste capítulo com as principais técnicas de integração. \n",
    "        </li>\n",
    "        <li> \n",
    "            Às vezes, obter a antiderivada de algumas funções pode não ser um trabalho tão intuitivo. Por isso, certos algoritmos podem ser bastante pertinentes em situações específicas.\n",
    "        </li>\n",
    "        <li> \n",
    "            Veremos também que cada regra de integração mencionada está vinculada a uma regra de diferenciação. Por exemplo, a Lei de Integração por Partes é ligada à Lei do Produto.\n",
    "        </li>\n",
    "    </ul>\n",
    "</div>"
   ]
  },
  {
   "cell_type": "markdown",
   "id": "40b1ff06-9ce6-4b56-90cd-10764eb62dac",
   "metadata": {},
   "source": [
    "<h2 style='font-size:30px'> 7.1 Integration By Parts</h2>\n",
    "<div> \n",
    "    <ul style='font-size:20px'> \n",
    "        <li> \n",
    "            Seja a Lei do Produto:\n",
    "            <center style='margin-top:20px'> \n",
    "                $\\frac{d}{dx}[f(x)g(x)]=f'(x)g(x)+f(x)g'(x)$\n",
    "            </center>\n",
    "        </li>\n",
    "        <li style='margin-top:20px'> \n",
    "            Vamos extrair a antiderivada de $f'(x)g(x)+f(x)g'(x)$:\n",
    "            <center style='margin-top:20px'> \n",
    "                $\\int{[f'(x)g(x)+f(x)g'(x)]dx}=f(x)g(x)$\n",
    "            </center>\n",
    "            <center style='margin-top:20px'> \n",
    "                $\\int{f'(x)g(x)dx}+\\int{f(x)g'(x)dx}=f(x)g(x)$\n",
    "            </center>\n",
    "        </li>\n",
    "        <li style='margin-top:20px'> \n",
    "            Podemos reordenar a última equação como:\n",
    "            <div style='border-style:solid;padding:10px'> \n",
    "                <center style='margin-top:20px'> \n",
    "                    $\\int{f'(x)g(x)dx}=f(x)g(x)-\\int{f(x)g'(x)dx}$\n",
    "                </center>\n",
    "            </div>\n",
    "        </li>\n",
    "        <li style='margin-top:20px'> \n",
    "            Assim, somos capazes de sempre resolver um problema de antiderivação com a equação acima. Seja sapiente ao escolher quem será $f'(x)$ e $g(x)$.\n",
    "        </li>\n",
    "    </ul>\n",
    "</div>"
   ]
  },
  {
   "cell_type": "markdown",
   "id": "574533ac-0262-4b21-b9d3-255c1c6392ab",
   "metadata": {},
   "source": [
    "<div> \n",
    "    <ul style='font-size:20px'> \n",
    "        <li> \n",
    "            Podemos aproveitar a Integração por Partes na Segunda Parte do FTC. Dessa forma, vamos estar extraindo a integral definida por partes.\n",
    "            <center style='margin-top:20px'> \n",
    "                    $\\int_{a}^{b}{f'(x)g(x)dx}=[f(x)g(x)]_{a}^{b}-\\int_{a}^{b}{f(x)g'(x)dx}$\n",
    "            </center>\n",
    "        </li>\n",
    "    </ul>\n",
    "</div>"
   ]
  },
  {
   "cell_type": "markdown",
   "id": "4337e221-3343-4bbc-8631-9b5c781796d0",
   "metadata": {},
   "source": [
    "<h2 style='font-size:30px'> 7.2 Trigonometric Integrals</h2>\n",
    "<div> \n",
    "    <ul style='font-size:20px'> \n",
    "        <li> \n",
    "            De maneira geral, devemos reescrever as nossas Integrais Trigonométricas de forma que fiquemos com um fator seno e o restante da função em termos de cosseno ou vice-versa. \n",
    "        </li>\n",
    "    </ul>\n",
    "</div>"
   ]
  },
  {
   "cell_type": "markdown",
   "id": "53585349-f3a1-44b8-a5f7-459a553326b4",
   "metadata": {},
   "source": [
    "<h3 style='font-size:30px;font-style:italic'> Half-Angle Formulas</h3>\n",
    "<div> \n",
    "    <ul style='font-size:20px'>\n",
    "        <li> \n",
    "            As Half-Angle Formulas são bastante úteis em integrações envolvendo $\\sin^{2}{x}$ ou $\\cos^{2}{x}$. Elas surgem a partir da equação $\\cos{2x}=\\cos^{2}{x}-\\sin^{2}{x}$.\n",
    "        </li>\n",
    "        <li> \n",
    "            Usando a identidade $\\sin^{2}{x}+\\cos^{2}{x}=1$, ela pode ser reescrita de duas formas:\n",
    "            <p style='margin-bottom:0px'> \n",
    "               $\\cos{2x}=2\\cos^{2}{x}-1$\n",
    "            </p>\n",
    "            <p style='margin-top:0px'> \n",
    "               $\\cos{2x}=1-2\\sin^{2}{x}$\n",
    "            </p>\n",
    "        </li>\n",
    "        <li> \n",
    "            Isolando nossos termos de interesse, ficamos com:\n",
    "            <p style='margin-bottom:0px'> \n",
    "               $\\cos^{2}{x}=\\frac{\\cos{2x}+1}{2}$\n",
    "            </p>\n",
    "            <p style='margin-top:10px'> \n",
    "               $\\sin^{2}{x}=\\frac{-\\cos{2x}+1}{2}$\n",
    "            </p>\n",
    "        </li>\n",
    "     </ul>\n",
    "</div>"
   ]
  },
  {
   "cell_type": "markdown",
   "id": "3f8ca34c-2bea-42fb-9a31-6b7b0d49ca1e",
   "metadata": {},
   "source": [
    "<h3 style='font-size:30px;font-style:italic'> Estratégias para $\\int{\\sin^{m}{x}\\cos^{n}{x}dx}$</h3>\n",
    "<div> \n",
    "    <ul style='font-size:20px'>\n",
    "        <li> \n",
    "            Caso a potência de $\\cos$ seja ímpar, separe um fator $\\cos$ e use $\\cos^{2}{x}=1-\\sin^{2}{x}$ para expressar o restante da conta em termos de $\\sin{x}$.\n",
    "            <center style='margin-top:20px'> \n",
    "                    $\\int{\\sin^{m}{(x)}\\cos^{2k+1}{(x)}dx}=\\int{\\sin^{m}{(x)}[\\cos^{2}{(x)}]^{k}\\cos{(x)}dx}$ \n",
    "            </center>\n",
    "            <p style='margin-top:20px;margin-left:730px'> \n",
    "                    $=\\int{\\sin^{m}{(x)}[1-\\sin^{2}{(x)}]^{k}\\cos{(x)}dx}$\n",
    "            </p>\n",
    "            <p style='margin-top:20px;margin-left:730px'>\n",
    "                em seguida, defina $u=\\sin{(x)}$\n",
    "            </p>\n",
    "        </li>\n",
    "        <li style='margin-top:20px'> \n",
    "            Caso a potência de $\\sin$ seja ímpar, separe um fator $\\sin$ e use $\\sin^{2}{x}=1-\\cos^{2}{x}$ para expressar o restante da conta em termos de $\\cos{x}$.\n",
    "            <center style='margin-top:20px'> \n",
    "                    $\\int{\\sin^{2k+1}{(x)}\\cos^{m}{(x)}dx}=\\int{[\\sin^{2}{(x)}]^{k}\\cos^{m}{(x)}\\sin{(x)}dx}$ \n",
    "            </center>\n",
    "            <p style='margin-top:20px;margin-left:730px'> \n",
    "                $=\\int{[1-\\cos^{2}{(x)}]^{k}\\cos^{m}{(x)}\\sin{(x)}dx}$\n",
    "            </p>\n",
    "            <p style='margin-top:20px;margin-left:730px'>\n",
    "                em seguida, defina $u=\\cos{(x)}$\n",
    "            </p>\n",
    "        </li>\n",
    "     </ul>\n",
    "</div>"
   ]
  },
  {
   "cell_type": "markdown",
   "id": "c2157e1e-5785-41aa-9914-19864f236e81",
   "metadata": {},
   "source": [
    "<div> \n",
    "    <p style='font-size:20px'>\n",
    "            <strong> Quando ambas as potência de $\\sin$ e $\\cos$ forem ímpares, qualquer uma das regras procederá</strong>\n",
    "     </p>\n",
    "</div>"
   ]
  },
  {
   "cell_type": "markdown",
   "id": "8c8ff10a-b107-46fa-93fe-1f1c6265990c",
   "metadata": {},
   "source": [
    "<div> \n",
    "    <ul style='font-size:20px'>\n",
    "        <li> \n",
    "            Caso ambas as potências de $\\sin$ e $\\cos$ sejam pares, use as Half-Angle Formulas mencionadas logo acima. Ou, você também pode recorrer a:\n",
    "            <center style='margin-top:20px'> \n",
    "                    $\\sin{(x)}\\cos{(x)}=\\frac{1}{2}{\\sin{(2x)}}$ \n",
    "            </center>\n",
    "        </li>\n",
    "     </ul>\n",
    "</div>"
   ]
  },
  {
   "cell_type": "markdown",
   "id": "0e7d1214-58da-4a37-a30e-b966bfae3504",
   "metadata": {},
   "source": [
    "<h3 style='font-size:30px;font-style:italic'> Estratégias para $\\int{\\tan^{m}{x}\\sec^{n}{x}dx}$</h3>\n",
    "<div> \n",
    "    <ul style='font-size:20px'>\n",
    "        <li> \n",
    "            Caso a potência de $\\sec$ seja par, separe um fator $\\sec^{2}(x)$ e use $\\sec^{2}{(x)}=1+\\tan^{2}{(x)}$ para expressar o restante da conta em termos de $\\tan{(x)}$.\n",
    "            <center style='margin-top:20px'> \n",
    "                    $\\int{\\tan^{m}{(x)}\\sec^{2k}{(x)}dx}=\\int{\\tan^{m}{(x)}[\\sec^{2}{(x)}]^{k-1}\\sec^{2}{(x)}dx}$ \n",
    "            </center>\n",
    "            <p style='margin-top:20px;margin-left:730px'> \n",
    "                    $=\\int{\\tan^{m}{(x)}[1+\\tan^{2}{(x)}]^{k-1}\\sec^{2}{(x)}dx}$\n",
    "            </p>\n",
    "            <p style='margin-top:20px;margin-left:730px'>\n",
    "                em seguida, defina $u=\\tan{(x)}$\n",
    "            </p>\n",
    "        </li>\n",
    "        <li style='margin-top:20px'> \n",
    "            Caso a potência de $\\tan$ seja ímpar, separe um fator $\\sec{(x)}\\tan{(x)}$ e use $\\tan^{2}{(x)}=\\sec^{2}{(x)}-1$ para expressar o restante da conta em termos de $\\sec{(x)}$.\n",
    "            <center style='margin-top:20px'> \n",
    "                    $\\int{\\tan^{2k+1}{(x)}\\sec^{n}{(x)}dx}=\\int{[\\tan^{2}{(x)}]^{k}\\sec^{n-1}{(x)}\\sec{(x)}\\tan{(x)}dx}$ \n",
    "            </center>\n",
    "            <p style='margin-top:20px;margin-left:730px'> \n",
    "                $=\\int{[\\sec^{2}{(x)}-1]^{k}\\sec^{n-1}{(x)}\\sec{(x)}\\tan{(x)}dx}$\n",
    "            </p>\n",
    "            <p style='margin-top:20px;margin-left:730px'>\n",
    "                em seguida, defina $u=\\sec{(x)}$\n",
    "            </p>\n",
    "        </li>\n",
    "     </ul>\n",
    "</div>"
   ]
  },
  {
   "cell_type": "markdown",
   "id": "3c1aa7a1-42a9-4c1a-98a2-dae1f2ed4e50",
   "metadata": {},
   "source": [
    "<div> \n",
    "    <ul style='font-size:20px'>\n",
    "        <li style='margin-top:20px'>\n",
    "            As demais situações demandarão uma certa engenhosidade do aluno! Por exemplo, às, vezes, deveremos usar $\\int{\\tan{x}}$ (demonstração no capítulo 5).\n",
    "            <center style='margin-top:20px'> \n",
    "                    $\\int{\\tan{(x)}dx}=\\ln{|\\sec{(x)}|}+C$ \n",
    "            </center>\n",
    "        </li>\n",
    "        <li style='margin-top:20px'>\n",
    "            Podemos ainda usar $\\int{\\sec{x}dx}$\n",
    "            <center style='margin-top:20px'> \n",
    "                    $\\int{\\sec{(x)}dx}=\\ln{|\\sec{(x)}+\\tan{(x)}|}+C$\n",
    "            </center>\n",
    "        </li>\n",
    "     </ul>\n",
    "</div>"
   ]
  },
  {
   "cell_type": "markdown",
   "id": "6fd4cf61-1a14-468b-bc53-7fc6cbc351d7",
   "metadata": {
    "tags": []
   },
   "source": [
    "<h4 style='font-size:30px;font-style:italic;text-decoration:underline'> Demonstrando $\\int{\\sec{(x)}dx}$</h4>\n",
    "<div> \n",
    "    <ul style='font-size:20px'> \n",
    "        <li> \n",
    "            Podemos multiplicar $\\sec{(x)}$ por $\\frac{\\sec{(x)}+\\tan{(x)}}{\\sec{(x)}+\\tan{(x)}}$ \n",
    "            <center style='margin-top:20px'> \n",
    "                 $\\int{\\sec{(x)}dx}=\\sec{(x)}\\frac{\\sec{(x)}+\\tan{(x)}}{\\sec{(x)}+\\tan{(x)}}$\n",
    "            </center>\n",
    "            <p style='margin-top:20px;margin-left:47%'>\n",
    "                $=\\int{\\frac{\\sec^{2}{(x)}+\\sec{(x)}\\tan{(x)}}{\\sec{(x)}+\\tan{(x)}}dx}$\n",
    "            </p>\n",
    "        </li>\n",
    "        <li style='margin-top:20px'>\n",
    "            Se trocarmos $u=\\sec{(x)}+\\tan{(x)}$, $du=(\\sec^{2}{(x)}+\\sec{(x)}\\tan{(x)})dx$. Assim, podemos representar a integral como $\\int{\\frac{1}{u}du}=\\ln{|u|}+C$.\n",
    "            <center style='margin-top:20px'> \n",
    "                 $\\int{\\sec{(x)}dx}=\\ln{|\\sec{(x)}+\\tan{(x)}|}+C$\n",
    "            </center>\n",
    "        </li>\n",
    "    </ul>\n",
    "</div>"
   ]
  },
  {
   "cell_type": "markdown",
   "id": "e87a55e1-d585-43c4-a488-7d9d4549ccbe",
   "metadata": {},
   "source": [
    "<h3 style='font-size:30px;font-style:italic'> Outras Estratégias Úteis</h3>\n",
    "<div> \n",
    "    <ul style='font-size:20px'>\n",
    "        <li> \n",
    "            Algumas identidades podem ser bastante interessantes, quando formos avaliar as seguintes integrais:\n",
    "            <ul style='margin-top:20px'>\n",
    "                <li> \n",
    "                    $\\int{\\sin{(mx)}\\cos{(nx)}dx}$: <span style='margin-left:1%'>$\\sin{(A)}\\cos{(B)}=\\frac{1}{2}{[\\sin{(A-B)}+\\sin{(A+B)}]}$</span>\n",
    "                </li>\n",
    "                <li style='margin-top:20px'> \n",
    "                    $\\int{\\sin{(mx)}\\sin{(nx)}dx}$: <span style='margin-left:1%'>$\\sin{(A)}\\sin{(B)}=\\frac{1}{2}{[\\cos{(A-B)}-\\cos{(A+B)}]}$</span>\n",
    "                </li>\n",
    "                <li style='margin-top:20px'> \n",
    "                    $\\int{\\cos{(mx)}\\cos{(nx)}dx}$: <span style='margin-left:1%'>$\\cos{(A)}\\cos{(B)}=\\frac{1}{2}{[\\cos{(A+B)}+\\cos{(A+B)}]}$</span>\n",
    "                </li>\n",
    "             </ul>\n",
    "        </li>\n",
    "     </ul>\n",
    "</div>"
   ]
  },
  {
   "cell_type": "markdown",
   "id": "688dc00d-18ff-4d29-9d66-76f43c739f71",
   "metadata": {},
   "source": [
    "<h2 style='font-size:30px'> 7.3 Trigonometric Substitutions</h2>\n",
    "<div> \n",
    "    <ul style='font-size:20px'> \n",
    "        <li> \n",
    "            Ao medirmos integrais de círculos ou elipses, podemos aplicar algumas substituições em suas funções, de modo a facilitar as nossas contas.\n",
    "        </li>\n",
    "        <li>\n",
    "            Por exemplo, ao medirmos $\\int{\\sqrt{a^{2}-x^{2}}}$, podemos aplicar a seguinte substituição com $x=a\\sin{\\theta}$.\n",
    "        </li>\n",
    "    </ul>\n",
    "</div>"
   ]
  },
  {
   "cell_type": "markdown",
   "id": "f98cf9bd-fdd2-404c-bf3e-1303bf9c799e",
   "metadata": {},
   "source": [
    "<center style='font-size:20px;margin-top:20px'> \n",
    "                 $\\sqrt{a^{2}-x^{2}}=\\sqrt{a^{2}-a^{2}\\sin^{2}{\\theta}}=\\sqrt{a^{2}(1-\\sin^{2}{\\theta})}=\\sqrt{a^{2}\\cos^{2}{\\theta}}=a|\\cos{\\theta}|$\n",
    "</center>"
   ]
  },
  {
   "cell_type": "markdown",
   "id": "92846e5a-3c8b-40d9-a921-353dc77607f2",
   "metadata": {},
   "source": [
    "<div> \n",
    "    <ul style='font-size:20px'> \n",
    "        <li> \n",
    "            A tabela abaixo fornece outras estratégias de substituição, considerando outras equações:\n",
    "            <center style='font-size:20px;margin-top:20px'> \n",
    "                 <img src='substitution_table.png'>\n",
    "            </center>\n",
    "        </li>\n",
    "    </ul>\n",
    "</div>"
   ]
  },
  {
   "cell_type": "markdown",
   "id": "b58ca03e-a583-446b-a5d4-191a234a3f0e",
   "metadata": {},
   "source": [
    "<h2 style='font-size:30px'> 7.4 Integration of Rational Functions by Partial Fractions</h2>\n",
    "<div> \n",
    "    <ul style='font-size:20px'> \n",
    "        <li>\n",
    "            Podemos facilitar a integração da divisão de polinômios $f(x)=\\frac{P(x)}{Q(x)}$ expressando-a como uma soma de frações mais simples.\n",
    "        </li>\n",
    "        <li>\n",
    "            Essas frações ficam conhecidas como partial fractions.\n",
    "        </li>\n",
    "    </ul>\n",
    "</div>"
   ]
  },
  {
   "cell_type": "markdown",
   "id": "b68a9b11-687d-44bc-8296-3b5091be22ce",
   "metadata": {},
   "source": [
    "<center style='font-size:20px;margin-top:20px'> \n",
    "                 $\\int{\\frac{x+5}{x^{2}+x-2}dx}=\\int{[\\frac{2}{x-1}-\\frac{1}{x+2}]dx}$\n",
    "</center>"
   ]
  },
  {
   "cell_type": "markdown",
   "id": "39848b4f-feef-4629-aced-2a9a7ab38e37",
   "metadata": {},
   "source": [
    "<div> \n",
    "    <ul style='font-size:20px;margin-top:20px'> \n",
    "        <li>\n",
    "            Esse tratamento é apenas possível, caso o grau do numerador seja menor do que o do denominador. Nessa situação, chamamos a função de <i>proper</i>.\n",
    "        </li>\n",
    "        <li>\n",
    "            Caso a nossa função seja <i> improper</i> ($\\text{deg}(P)\\geq{\\text{deg}(Q)}$), deveremos dividir $Q$ por $P$ (divisão longa) até um resto $R(x)$ seja obtido de modo que $\\text{deg}(R)<\\text{deg}(Q)$.\n",
    "        </li>\n",
    "    </ul>\n",
    "</div>"
   ]
  },
  {
   "cell_type": "markdown",
   "id": "5bc4f9b6-f2ac-4f70-b1ee-b58ba58eb5d7",
   "metadata": {},
   "source": [
    "<h3 style='font-size:30px;font-style:italic'> Long Division</h3>\n",
    "<div> \n",
    "    <ul style='font-size:20px'>\n",
    "        <li> \n",
    "            A divisão longa de polinômios é uma técnica de obtermos o quociente da fração entre dois polinômios. Ela se assemelha bastante com a divisão longa de números inteiros.\n",
    "        </li>\n",
    "     </ul>\n",
    "</div>"
   ]
  },
  {
   "cell_type": "markdown",
   "id": "bd8add80-ce44-41ea-82a0-27f50f93df98",
   "metadata": {
    "tags": []
   },
   "source": [
    "<h4 style='font-size:30px;font-style:italic;text-decoration:underline'> Algoritmo</h4>\n",
    "<div> \n",
    "    <ul style='font-size:20px'> \n",
    "        <li> \n",
    "            Coloque os termos de cada polinômio em ordem descendente. Em seguida, divida o termo de maior grau do dividendo pelo do divisor.\n",
    "        </li>\n",
    "        <li>\n",
    "            O valor resultante deverá agora ser multiplicado pelo divisor. Finalmente, deveremos subtrair esse denominador pelo produto dessa operação.\n",
    "        </li>\n",
    "        <li>\n",
    "            Em seguida, deveremos repetir essa mesma operação, agora tendo o resultado da subtração como novo divisor.\n",
    "        </li>\n",
    "    </ul>\n",
    "</div>"
   ]
  },
  {
   "cell_type": "markdown",
   "id": "4389a764-eae7-4270-829a-540ce5e04105",
   "metadata": {
    "tags": []
   },
   "source": [
    "<h4 style='font-size:30px;font-style:italic;text-decoration:underline'> Exemplo</h4>"
   ]
  },
  {
   "cell_type": "markdown",
   "id": "99a81a2e-48d9-4620-8737-638e2e4fd266",
   "metadata": {},
   "source": [
    " <center style='margin-top:20px'> \n",
    "        <figure>\n",
    "            <img src='long_division.png'>\n",
    "        </figure>\n",
    "    </center>"
   ]
  },
  {
   "cell_type": "code",
   "execution_count": 6,
   "id": "63c86c10-e4c4-4494-8bf8-dfb2f2254a16",
   "metadata": {},
   "outputs": [
    {
     "name": "stdout",
     "output_type": "stream",
     "text": [
      "[master 3dc572b] Pesquisar sobre a Long Division\n",
      " 2 files changed, 102 insertions(+), 12 deletions(-)\n",
      "Enumerating objects: 9, done.\n",
      "Counting objects: 100% (9/9), done.\n",
      "Delta compression using up to 24 threads\n",
      "Compressing objects: 100% (5/5), done.\n",
      "Writing objects: 100% (5/5), 1.23 KiB | 1.23 MiB/s, done.\n",
      "Total 5 (delta 2), reused 0 (delta 0), pack-reused 0\n",
      "remote: Resolving deltas: 100% (2/2), completed with 2 local objects.\u001b[K\n",
      "To https://github.com/felipesveiga/Calculus.git\n",
      "   ba2281b..3dc572b  master -> master\n"
     ]
    }
   ],
   "source": [
    "! git add .\n",
    "! git commit -am 'Praticar Long Division'\n",
    "! git push"
   ]
  },
  {
   "cell_type": "markdown",
   "id": "265199d3-6c00-4929-b108-0c4362fd260b",
   "metadata": {},
   "source": [
    "<p style='color:red'> Expliquei Long Division; Praticar Long Division; Example I   \n",
    "</p>"
   ]
  }
 ],
 "metadata": {
  "kernelspec": {
   "display_name": "texts-same-article",
   "language": "python",
   "name": "texts-same-article"
  },
  "language_info": {
   "codemirror_mode": {
    "name": "ipython",
    "version": 3
   },
   "file_extension": ".py",
   "mimetype": "text/x-python",
   "name": "python",
   "nbconvert_exporter": "python",
   "pygments_lexer": "ipython3",
   "version": "3.10.12"
  }
 },
 "nbformat": 4,
 "nbformat_minor": 5
}
