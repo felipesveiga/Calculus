{
 "cells": [
  {
   "cell_type": "markdown",
   "id": "2d29ca80-4552-4081-8fe8-fecc42137be3",
   "metadata": {},
   "source": [
    "<h1 style='font-size:40px'> Techniques Of Integration </h1>\n",
    "<div> \n",
    "    <ul style='font-size:20px'> \n",
    "        <li> \n",
    "            Lidaremos neste capítulo com as principais técnicas de integração. \n",
    "        </li>\n",
    "        <li> \n",
    "            Às vezes, obter a antiderivada de algumas funções pode não ser um trabalho tão intuitivo. Por isso, certos algoritmos podem ser bastante pertinentes em situações específicas.\n",
    "        </li>\n",
    "        <li> \n",
    "            Veremos também que cada regra de integração mencionada está vinculada a uma regra de diferenciação. Por exemplo, a Lei de Integração por Partes é ligada à Lei do Produto.\n",
    "        </li>\n",
    "    </ul>\n",
    "</div>"
   ]
  },
  {
   "cell_type": "markdown",
   "id": "40b1ff06-9ce6-4b56-90cd-10764eb62dac",
   "metadata": {},
   "source": [
    "<h2 style='font-size:30px'> 7.1 Integration By Parts</h2>\n",
    "<div> \n",
    "    <ul style='font-size:20px'> \n",
    "        <li> \n",
    "            Seja a Lei do Produto:\n",
    "            <center style='margin-top:20px'> \n",
    "                $\\frac{d}{dx}[f(x)g(x)]=f'(x)g(x)+f(x)g'(x)$\n",
    "            </center>\n",
    "        </li>\n",
    "        <li style='margin-top:20px'> \n",
    "            Vamos extrair a antiderivada de $f'(x)g(x)+f(x)g'(x)$:\n",
    "            <center style='margin-top:20px'> \n",
    "                $\\int{[f'(x)g(x)+f(x)g'(x)]dx}=f(x)g(x)$\n",
    "            </center>\n",
    "            <center style='margin-top:20px'> \n",
    "                $\\int{f'(x)g(x)dx}+\\int{f(x)g'(x)dx}=f(x)g(x)$\n",
    "            </center>\n",
    "        </li>\n",
    "        <li style='margin-top:20px'> \n",
    "            Podemos reordenar a última equação como:\n",
    "            <div style='border-style:solid;padding:10px'> \n",
    "                <center style='margin-top:20px'> \n",
    "                    $\\int{f'(x)g(x)dx}=f(x)g(x)-\\int{f(x)g'(x)dx}$\n",
    "                </center>\n",
    "            </div>\n",
    "        </li>\n",
    "        <li style='margin-top:20px'> \n",
    "            Assim, somos capazes de sempre resolver um problema de antiderivação com a equação acima. Seja sapiente ao escolher quem será $f'(x)$ e $g(x)$.\n",
    "        </li>\n",
    "    </ul>\n",
    "</div>"
   ]
  },
  {
   "cell_type": "markdown",
   "id": "574533ac-0262-4b21-b9d3-255c1c6392ab",
   "metadata": {},
   "source": [
    "<div> \n",
    "    <ul style='font-size:20px'> \n",
    "        <li> \n",
    "            Podemos aproveitar a Integração por Partes na Segunda Parte do FTC. Dessa forma, vamos estar extraindo a integral definida por partes.\n",
    "            <center style='margin-top:20px'> \n",
    "                    $\\int_{a}^{b}{f'(x)g(x)dx}=[f(x)g(x)]_{a}^{b}-\\int_{a}^{b}{f(x)g'(x)dx}$\n",
    "            </center>\n",
    "        </li>\n",
    "    </ul>\n",
    "</div>"
   ]
  },
  {
   "cell_type": "markdown",
   "id": "80398a6f-31ee-4e4d-a3f8-c12df3031ffe",
   "metadata": {},
   "source": [
    "<p style='color:red'> Exercícios</p>"
   ]
  }
 ],
 "metadata": {
  "kernelspec": {
   "display_name": "Python 3 (ipykernel)",
   "language": "python",
   "name": "python3"
  },
  "language_info": {
   "codemirror_mode": {
    "name": "ipython",
    "version": 3
   },
   "file_extension": ".py",
   "mimetype": "text/x-python",
   "name": "python",
   "nbconvert_exporter": "python",
   "pygments_lexer": "ipython3",
   "version": "3.8.10"
  }
 },
 "nbformat": 4,
 "nbformat_minor": 5
}
