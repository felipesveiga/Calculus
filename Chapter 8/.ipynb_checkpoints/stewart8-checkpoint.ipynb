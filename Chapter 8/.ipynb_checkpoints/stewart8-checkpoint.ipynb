{
 "cells": [
  {
   "cell_type": "markdown",
   "id": "9ddea9c4-61c6-4e5e-9607-a63f197280d0",
   "metadata": {},
   "source": [
    "<h1 style='font-size:40px'> Further Applications of Integration</h1>\n",
    "<div> \n",
    "    <ul style='font-size:20px'> \n",
    "        <li> \n",
    "            Capítulo dedicado ao estudo de mais aplicações geométricas do uso de integrais em casos do mundo real.\n",
    "        </li>\n",
    "    </ul>\n",
    "</div>"
   ]
  },
  {
   "cell_type": "markdown",
   "id": "54fb2e8d-7b6d-4e08-b9b4-7deb4b985f8f",
   "metadata": {},
   "source": [
    "<h2 style='font-size:30px'> 8.1 Arc Length</h2>\n",
    "<div> \n",
    "    <ul style='font-size:20px'> \n",
    "        <li>\n",
    "            Dada uma curva $C$, definida pela função $f(x)$, podemos definir o seu comprimento como a soma das distâncias euclidianas $|P_{i-1}P_{i}|$ entre cada um de seus pontos.\n",
    "        </li>\n",
    "    </ul>\n",
    "</div>"
   ]
  },
  {
   "cell_type": "markdown",
   "id": "df8cdc21-a988-4d88-b5de-5ac0513e9f9e",
   "metadata": {},
   "source": [
    "<figure>\n",
    "    <center style='font-size:20px;margin-top:20px'> \n",
    "            $\\displaystyle L=\\lim_{n\\to \\infty}\\sum_{i=1}^{n}{|P_{i-1}P_{i}|}$\n",
    "        <figcaption style='font-size:15px'>\n",
    "            Fórmula Geral do Comprimento de uma curva.    \n",
    "        </figcaption>\n",
    "    </center>\n",
    "</figure>"
   ]
  },
  {
   "cell_type": "markdown",
   "id": "525d9017-491c-474d-9f01-7d10c427aab6",
   "metadata": {},
   "source": [
    "<figure>\n",
    "    <center style='font-size:20px;margin-top:20px'> \n",
    "                     <img src='arc_length.png' >\n",
    "        <figcaption style='font-size:15px'>\n",
    "    </figcaption>\n",
    "    </center>\n",
    "</figure>"
   ]
  },
  {
   "cell_type": "markdown",
   "id": "2436ef56-003d-404e-8e93-ac0b6dc02b90",
   "metadata": {},
   "source": [
    "<div> \n",
    "    <ul style='font-size:20px'>\n",
    "        <li> \n",
    "            Podemos expressar essa mesma equação na forma de uma integral seguindo os seguintes passos:\n",
    "        </li>\n",
    "     </ul>\n",
    "</div>"
   ]
  },
  {
   "cell_type": "markdown",
   "id": "503e3248-7651-4995-bcd3-b939ef8c2837",
   "metadata": {},
   "source": [
    "<h3 style='font-size:30px;font-style:italic'> Forma em Integral</h3>\n",
    "<div> \n",
    "    <ul style='font-size:20px'>\n",
    "        <li>\n",
    "            Aplicando o Mean Value Theorem no sub-intervalo $[P_{i-1},P_{i}]$, podemos afirmar que existe uma abscissa $x_{i}^{*}$ em $[x_{i-1},x_{i}]$, de maneira que: \n",
    "        </li>\n",
    "     </ul>\n",
    "</div>"
   ]
  },
  {
   "cell_type": "markdown",
   "id": "85ddc74e-1ad0-426f-a036-25bc7d9934a5",
   "metadata": {
    "editable": true,
    "slideshow": {
     "slide_type": ""
    },
    "tags": []
   },
   "source": [
    "<figure>\n",
    "        <center style='font-size:20px;margin-top:20px'>\n",
    "            $$\\begin{align*}%\\label{}\n",
    "                \\displaystyle &f(x_{i})-f(x_{i-1})=f'(x_{i}^{*})(x_{i}-x_{i-1})\\\\\n",
    "            &\\Delta{y_{i}}=f'(x_{i}^{*})\\Delta{x}\n",
    "            \\end{align*}\n",
    "            $$\n",
    "        </center>\n",
    "    </figure>"
   ]
  },
  {
   "cell_type": "markdown",
   "id": "198c68b5-c19d-4ac0-89d1-37b4c60bfaec",
   "metadata": {},
   "source": [
    "<div> \n",
    "    <ul style='font-size:20px'>\n",
    "        <li>\n",
    "            Com isso, podemos reescrever $|P_{i-1}P_{i}|$ como:\n",
    "        </li>\n",
    "     </ul>\n",
    "</div>"
   ]
  },
  {
   "cell_type": "markdown",
   "id": "02f76281-d54e-4bdf-9f10-19f99cb9f2c9",
   "metadata": {
    "editable": true,
    "slideshow": {
     "slide_type": ""
    },
    "tags": []
   },
   "source": [
    "<figure>\n",
    "        <center style='font-size:20px;margin-top:20px'>\n",
    "            $$\\begin{align*}%\\label{}\n",
    "                \\displaystyle |P_{i-1}P_{i}|&=\\sqrt{(\\Delta{x})^{2}+(\\Delta{y_{i}})^{2}}\\\\\n",
    "                &=\\sqrt{(\\Delta{x})^{2}+[f'(x_{i}^{*})\\Delta{x}]^{2}}\\\\\n",
    "                &=\\sqrt{1+[f'(x_{i}^{*})]^{2}}\\sqrt{(\\Delta{x})^{2}}\\\\\n",
    "                &=\\sqrt{1+[f'(x_{i}^{*})]^{2}}\\Delta{x}\n",
    "            \\end{align*}\n",
    "            $$\n",
    "        </center>\n",
    "    </figure>"
   ]
  },
  {
   "cell_type": "markdown",
   "id": "9405b1ad-a1f4-4ead-9f68-cee841f9f392",
   "metadata": {},
   "source": [
    "<div> \n",
    "    <ul style='font-size:20px'>\n",
    "        <li>\n",
    "            Aplicando essa equação na fórmula geral, ficamos com:\n",
    "        </li>\n",
    "     </ul>\n",
    "</div>"
   ]
  },
  {
   "cell_type": "markdown",
   "id": "8f719ba7-d2b9-4895-ac54-23776611d0f4",
   "metadata": {},
   "source": [
    "<figure>\n",
    "    <center style='font-size:20px;margin-top:20px'> \n",
    "            $\\displaystyle L=\\lim_{n\\to \\infty}\\sum_{i=1}^{n}{|P_{i-1}P_{i}|}=\\lim_{n\\to \\infty}\\sum_{i=1}^{n}{\\sqrt{1+[f'(x_{i}^{*})]^{2}}\\Delta{x}}$\n",
    "    </center>\n",
    "</figure>"
   ]
  },
  {
   "cell_type": "markdown",
   "id": "dd4699b8-6c10-41f2-be16-703bdab30edd",
   "metadata": {},
   "source": [
    "<div> \n",
    "    <ul style='font-size:20px'>\n",
    "        <li>\n",
    "            Finalmente, podemos representar essa soma como:\n",
    "        </li>\n",
    "     </ul>\n",
    "</div>"
   ]
  },
  {
   "cell_type": "markdown",
   "id": "db75e4b0-8907-4f14-a584-fb6ff071f99a",
   "metadata": {},
   "source": [
    "<figure>\n",
    "    <center style='font-size:20px;margin-top:20px'> \n",
    "            $\\displaystyle L=\\int_{a}^{b}{\\sqrt{1+[f'(x)]^{2}}dx}$\n",
    "    </center>\n",
    "</figure>"
   ]
  },
  {
   "cell_type": "markdown",
   "id": "ae264ab0-4f96-44be-9c91-2ae8139a595f",
   "metadata": {},
   "source": [
    "<div> \n",
    "    <ul style='font-size:20px'>\n",
    "        <li>\n",
    "            <strong> Nota</strong>: Por conta da presença da raiz quadrada, nem sempre conseguiremos calcular a integral exata. Em alguns casos, deveremos nos contentar com aproximações.\n",
    "        </li>\n",
    "     </ul>\n",
    "</div>"
   ]
  },
  {
   "cell_type": "markdown",
   "id": "cbd17cab-e8a3-4e1b-89b7-70a17b350b8b",
   "metadata": {},
   "source": [
    "<h2 style='font-size:30px'> 8.2 Area of a Surface of Revolution</h2>\n",
    "<div> \n",
    "    <ul style='font-size:20px'> \n",
    "        <li>\n",
    "            Dada uma função $f(x):[a,b]\\to{\\mathbb{R}^{+}}$, em que $f'(x):[a,b]\\to{\\mathbb{R}^{+}}$, podemos desejar obter a área da superfície formada pela sua rotação em torno de uma linha.\n",
    "        </li>\n",
    "        <li>\n",
    "            Nessa situação, podemos aludir à mensuração de áreas de seções de cones circulares.\n",
    "        </li>\n",
    "    </ul>\n",
    "</div>"
   ]
  },
  {
   "cell_type": "markdown",
   "id": "541d032b-0cdd-46ba-a0cd-7536863cbfcf",
   "metadata": {},
   "source": [
    "<h3 style='font-size:30px;font-style:italic'> Área da Superfície da Seção de um Cone</h3>\n",
    "<div> \n",
    "    <ul style='font-size:20px'>\n",
    "        <li>\n",
    "            Seja um cone de base circular formado pela rotação de um triângulo retângulo de base $r$ e hipotenusa $l$, a área de sua superfície será $A=\\pi{rl}$.\n",
    "        </li>\n",
    "        <li>\n",
    "            Agora, caso quisermos medir a área da superfície de uma seção dessa figura, podemos imaginar um cone de dimensões menores e utilizá-lo em nossos cálculos. \n",
    "        </li>\n",
    "     </ul>\n",
    "</div>"
   ]
  },
  {
   "cell_type": "markdown",
   "id": "a4d3a256-feb2-4af1-b6ed-4304e352f8eb",
   "metadata": {},
   "source": [
    "<figure>\n",
    "    <center style='font-size:20px;margin-top:20px'> \n",
    "            <img src='cone_area.png'>\n",
    "        <figcaption style='font-size:15px'>\n",
    "            Vamos subtrair $A$ pela área de superfície do cone menor para solucionarmos nosso problema.    \n",
    "        </figcaption>\n",
    "    </center>\n",
    "</figure>"
   ]
  },
  {
   "cell_type": "markdown",
   "id": "a453531d-4a21-422c-a297-25d27291b8a9",
   "metadata": {},
   "source": [
    "<div> \n",
    "    <ul style='font-size:20px'>\n",
    "        <li>\n",
    "            Levando em conta a figura, a área da seção será $S=\\pi{r_{2}(l_{1}+l)}-\\pi{r_{1}l_{1}}=\\pi[(r_{2}-r_{1})l_{1}+r_{2}l]$\n",
    "        </li>\n",
    "     </ul>\n",
    "</div>"
   ]
  },
  {
   "cell_type": "markdown",
   "id": "42ebaeaa-b509-494c-80f0-76f9f2853644",
   "metadata": {},
   "source": [
    "<div> \n",
    "    <ul style='font-size:20px'>\n",
    "        <li>\n",
    "            Por semelhança de triângulos, conseguimos dizer que $\\frac{l_{1}}{r_{1}}=\\frac{l_{1}+l}{r_{2}}\\iff r_{1}l=(r_{2}-r_{1})l_{1}$. A partir dessa relação, podemos transformar a fórmula de $S$ em:\n",
    "        </li>\n",
    "     </ul>\n",
    "</div>"
   ]
  },
  {
   "cell_type": "markdown",
   "id": "f4727bab-9b50-4ec0-a148-99403ff80266",
   "metadata": {},
   "source": [
    "<figure>\n",
    "    <center style='font-size:20px;margin-top:20px'> \n",
    "            $\\begin{align*}S&=\\pi(r_{1}l+r_{2}l)\\\\&=2\\pi rl\\text{, }r=\\frac{1}{2}(r_{1}+r_{2})\\end{align*}$\n",
    "    </center>\n",
    "</figure>"
   ]
  },
  {
   "cell_type": "markdown",
   "id": "8d39d44c-5b08-4151-baec-d60c0dbb05e3",
   "metadata": {},
   "source": [
    "<h3 style='font-size:30px;font-style:italic'> Área da Superfície de Rotação de $f(x)$</h3>\n",
    "<div> \n",
    "    <ul style='font-size:20px'>\n",
    "        <li>\n",
    "            No contexto de funções matemáticas, podemos usar a mesma equação acima na mensuração de áreas da superfície de rotação de funções.\n",
    "        </li>\n",
    "        <li>\n",
    "            Se dividirmos a figura gerada em $n$ intervalos, obteremos $n$ troncos de cones, tendo $l=|P_{i-1}P_{i}|$, $r_{1}=f(x_{i-1})$ e $r_{2}=f(x_{i})$.\n",
    "        </li>\n",
    "        <li>\n",
    "            Aplicando as devidas substituições, a área do $i$-ésimo tronco será: \n",
    "        </li>\n",
    "     </ul>\n",
    "</div>"
   ]
  },
  {
   "cell_type": "markdown",
   "id": "33302be6-685a-4e56-bc2c-814eaf56e225",
   "metadata": {},
   "source": [
    "<figure>\n",
    "    <center style='font-size:20px;margin-top:20px'> \n",
    "        $S_{i}=2\\pi\\frac{1}{2}[f(x_{i-1})+f(x_{i})]|P_{i-1}P_{i}|$\n",
    "    </center>\n",
    "</figure>"
   ]
  },
  {
   "cell_type": "markdown",
   "id": "9405dc27-f16a-4b09-91c7-85ed1b57672c",
   "metadata": {
    "tags": []
   },
   "source": [
    "<h4 style='font-size:30px;font-style:italic;text-decoration:underline'>  Representação em Integral</h4>\n",
    "<div> \n",
    "    <ul style='font-size:20px'> \n",
    "        <li>\n",
    "            Olhando para a fórmula acima, podemos nos lembrar de que $|P_{i-1}P_{i}|=\\sqrt{1+[f'(x_{i}^{*})]^{2}}$            \n",
    "        </li>\n",
    "        <li>\n",
    "            Levando em conta que $x_{i}^{*}\\in[x_{i-1},x_{i}]$, podemos considerar que $f(x_{i})\\approx{f(x_{i-1})}\\approx{f(x_{i}^{*})}$, quando $\\Delta{x}\\to{0}$. Com isso, conseguimos dizer que:\n",
    "        </li>\n",
    "    </ul>\n",
    "</div>"
   ]
  },
  {
   "cell_type": "markdown",
   "id": "a33e18ff-022a-4541-9e9d-59fb66fe04e1",
   "metadata": {},
   "source": [
    "<figure>\n",
    "    <center style='font-size:20px;margin-top:20px'> \n",
    "        $S_{i}=2\\pi\\frac{1}{2}[f(x_{i-1})+f(x_{i})]|P_{i-1}P_{i}|=2\\pi f(x_{i}^{*})\\sqrt{1+[f'(x_{i}^{*})]^{2}}\\Delta{x}$.\n",
    "    </center>\n",
    "</figure>"
   ]
  },
  {
   "cell_type": "markdown",
   "id": "bfc7101e-9923-4b3f-827b-372a60cc6834",
   "metadata": {},
   "source": [
    "<div> \n",
    "    <ul style='font-size:20px'> \n",
    "        <li>\n",
    "            Agora, se quisermos medir a área $S$ total, bastaria somarmos cada $S_{i}$. Observe que nos aproximaremos do valor real, conforme $n\\to\\infty$.\n",
    "        </li>\n",
    "    </ul>\n",
    "</div>"
   ]
  },
  {
   "cell_type": "markdown",
   "id": "0131b3a7-d72f-44cf-a799-1faf488e555b",
   "metadata": {},
   "source": [
    "<figure>\n",
    "    <center style='font-size:20px;margin-top:20px'> \n",
    "        $\\displaystyle \\begin{align*}S&=\\lim_{n\\to\\infty}\\sum_{i=1}^{n}{2\\pi f(x_{i}^{*})\\sqrt{1+[f'(x_{i}^{*})]^{2}}\\Delta{x}}\\\\&=\\int_{a}^{b}2\\pi f(x)\\sqrt{1+[f'(x)]^{2}}dx\\end{align*}$\n",
    "    </center>\n",
    "</figure>"
   ]
  },
  {
   "cell_type": "code",
   "execution_count": 36,
   "id": "63c86c10-e4c4-4494-8bf8-dfb2f2254a16",
   "metadata": {
    "editable": true,
    "slideshow": {
     "slide_type": ""
    },
    "tags": []
   },
   "outputs": [
    {
     "name": "stdout",
     "output_type": "stream",
     "text": [
      "[master b33bad5] Fazer exs seção 8.2\n",
      " 2 files changed, 14 insertions(+), 14 deletions(-)\n",
      "Enumerating objects: 9, done.\n",
      "Counting objects: 100% (9/9), done.\n",
      "Delta compression using up to 24 threads\n",
      "Compressing objects: 100% (5/5), done.\n",
      "Writing objects: 100% (5/5), 568 bytes | 568.00 KiB/s, done.\n",
      "Total 5 (delta 3), reused 0 (delta 0), pack-reused 0\n",
      "remote: Resolving deltas: 100% (3/3), completed with 3 local objects.\u001b[K\n",
      "To https://github.com/felipesveiga/Calculus.git\n",
      "   daa2ffd..b33bad5  master -> master\n"
     ]
    }
   ],
   "source": [
    "! git add .\n",
    "! git commit -am 'Continuar ex. 15' \n",
    "! git push"
   ]
  },
  {
   "cell_type": "markdown",
   "id": "8ba06970-2685-4ba8-b11f-8001329578ee",
   "metadata": {},
   "source": [
    "<p style='color:red'> Iniciei exs seção 8.2; Continuar ex. 15"
   ]
  }
 ],
 "metadata": {
  "kernelspec": {
   "display_name": "Python 3 (ipykernel)",
   "language": "python",
   "name": "python3"
  },
  "language_info": {
   "codemirror_mode": {
    "name": "ipython",
    "version": 3
   },
   "file_extension": ".py",
   "mimetype": "text/x-python",
   "name": "python",
   "nbconvert_exporter": "python",
   "pygments_lexer": "ipython3",
   "version": "3.10.12"
  }
 },
 "nbformat": 4,
 "nbformat_minor": 5
}
