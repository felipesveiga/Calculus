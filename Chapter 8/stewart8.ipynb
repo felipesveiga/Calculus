{
 "cells": [
  {
   "cell_type": "markdown",
   "id": "9ddea9c4-61c6-4e5e-9607-a63f197280d0",
   "metadata": {},
   "source": [
    "<h1 style='font-size:40px'> Further Applications of Integration</h1>\n",
    "<div> \n",
    "    <ul style='font-size:20px'> \n",
    "        <li> \n",
    "            Capítulo dedicado ao estudo de mais aplicações geométricas do uso de integrais em casos do mundo real.\n",
    "        </li>\n",
    "    </ul>\n",
    "</div>"
   ]
  },
  {
   "cell_type": "markdown",
   "id": "54fb2e8d-7b6d-4e08-b9b4-7deb4b985f8f",
   "metadata": {},
   "source": [
    "<h2 style='font-size:30px'> 8.1 Arc Length</h2>\n",
    "<div> \n",
    "    <ul style='font-size:20px'> \n",
    "        <li>\n",
    "            Dada uma curva $C$, definida pela função $f(x)$, podemos definir o seu comprimento como a soma das distâncias euclidianas $|P_{i-1}P_{i}|$ entre cada um de seus pontos.\n",
    "        </li>\n",
    "    </ul>\n",
    "</div>"
   ]
  },
  {
   "cell_type": "markdown",
   "id": "df8cdc21-a988-4d88-b5de-5ac0513e9f9e",
   "metadata": {},
   "source": [
    "<figure>\n",
    "    <center style='font-size:20px;margin-top:20px'> \n",
    "            $\\displaystyle L=\\lim_{n\\to \\infty}\\sum_{i=1}^{n}{|P_{i-1}P_{i}|}$\n",
    "        <figcaption style='font-size:15px'>\n",
    "            Fórmula Geral do Comprimento de uma curva.    \n",
    "        </figcaption>\n",
    "    </center>\n",
    "</figure>"
   ]
  },
  {
   "cell_type": "markdown",
   "id": "525d9017-491c-474d-9f01-7d10c427aab6",
   "metadata": {},
   "source": [
    "<figure>\n",
    "    <center style='font-size:20px;margin-top:20px'> \n",
    "                     <img src='arc_length.png' >\n",
    "        <figcaption style='font-size:15px'>\n",
    "    </figcaption>\n",
    "    </center>\n",
    "</figure>"
   ]
  },
  {
   "cell_type": "markdown",
   "id": "2436ef56-003d-404e-8e93-ac0b6dc02b90",
   "metadata": {},
   "source": [
    "<div> \n",
    "    <ul style='font-size:20px'>\n",
    "        <li> \n",
    "            Podemos expressar essa mesma equação na forma de uma integral seguindo os seguintes passos:\n",
    "        </li>\n",
    "     </ul>\n",
    "</div>"
   ]
  },
  {
   "cell_type": "markdown",
   "id": "503e3248-7651-4995-bcd3-b939ef8c2837",
   "metadata": {},
   "source": [
    "<h3 style='font-size:30px;font-style:italic'> Forma em Integral</h3>\n",
    "<div> \n",
    "    <ul style='font-size:20px'>\n",
    "        <li>\n",
    "            Aplicando o Mean Value Theorem no sub-intervalo $[P_{i-1},P_{i}]$, podemos afirmar que existe uma abscissa $x_{i}^{*}$ em $[x_{i-1},x_{i}]$, de maneira que: \n",
    "        </li>\n",
    "     </ul>\n",
    "</div>"
   ]
  },
  {
   "cell_type": "markdown",
   "id": "85ddc74e-1ad0-426f-a036-25bc7d9934a5",
   "metadata": {
    "editable": true,
    "slideshow": {
     "slide_type": ""
    },
    "tags": []
   },
   "source": [
    "<figure>\n",
    "        <center style='font-size:20px;margin-top:20px'>\n",
    "            $$\\begin{align*}%\\label{}\n",
    "                \\displaystyle &f(x_{i})-f(x_{i-1})=f'(x_{i}^{*})(x_{i}-x_{i-1})\\\\\n",
    "            &\\Delta{y_{i}}=f'(x_{i}^{*})\\Delta{x}\n",
    "            \\end{align*}\n",
    "            $$\n",
    "        </center>\n",
    "    </figure>"
   ]
  },
  {
   "cell_type": "markdown",
   "id": "198c68b5-c19d-4ac0-89d1-37b4c60bfaec",
   "metadata": {},
   "source": [
    "<div> \n",
    "    <ul style='font-size:20px'>\n",
    "        <li>\n",
    "            Com isso, podemos reescrever $|P_{i-1}P_{i}|$ como:\n",
    "        </li>\n",
    "     </ul>\n",
    "</div>"
   ]
  },
  {
   "cell_type": "markdown",
   "id": "02f76281-d54e-4bdf-9f10-19f99cb9f2c9",
   "metadata": {
    "editable": true,
    "slideshow": {
     "slide_type": ""
    },
    "tags": []
   },
   "source": [
    "<figure>\n",
    "        <center style='font-size:20px;margin-top:20px'>\n",
    "            $$\\begin{align*}%\\label{}\n",
    "                \\displaystyle |P_{i-1}P_{i}|&=\\sqrt{(\\Delta{x})^{2}+(\\Delta{y_{i}})^{2}}\\\\\n",
    "                &=\\sqrt{(\\Delta{x})^{2}+[f'(x_{i}^{*})\\Delta{x}]^{2}}\\\\\n",
    "                &=\\sqrt{1+[f'(x_{i}^{*})]^{2}}\\sqrt{(\\Delta{x})^{2}}\\\\\n",
    "                &=\\sqrt{1+[f'(x_{i}^{*})]^{2}}\\Delta{x}\n",
    "            \\end{align*}\n",
    "            $$\n",
    "        </center>\n",
    "    </figure>"
   ]
  },
  {
   "cell_type": "markdown",
   "id": "9405b1ad-a1f4-4ead-9f68-cee841f9f392",
   "metadata": {},
   "source": [
    "<div> \n",
    "    <ul style='font-size:20px'>\n",
    "        <li>\n",
    "            Aplicando essa equação na fórmula geral, ficamos com:\n",
    "        </li>\n",
    "     </ul>\n",
    "</div>"
   ]
  },
  {
   "cell_type": "markdown",
   "id": "8f719ba7-d2b9-4895-ac54-23776611d0f4",
   "metadata": {},
   "source": [
    "<figure>\n",
    "    <center style='font-size:20px;margin-top:20px'> \n",
    "            $\\displaystyle L=\\lim_{n\\to \\infty}\\sum_{i=1}^{n}{|P_{i-1}P_{i}|}=\\lim_{n\\to \\infty}\\sum_{i=1}^{n}{\\sqrt{1+[f'(x_{i}^{*})]^{2}}\\Delta{x}}$\n",
    "    </center>\n",
    "</figure>"
   ]
  },
  {
   "cell_type": "markdown",
   "id": "dd4699b8-6c10-41f2-be16-703bdab30edd",
   "metadata": {},
   "source": [
    "<div> \n",
    "    <ul style='font-size:20px'>\n",
    "        <li>\n",
    "            Finalmente, podemos representar essa soma como:\n",
    "        </li>\n",
    "     </ul>\n",
    "</div>"
   ]
  },
  {
   "cell_type": "markdown",
   "id": "db75e4b0-8907-4f14-a584-fb6ff071f99a",
   "metadata": {},
   "source": [
    "<figure>\n",
    "    <center style='font-size:20px;margin-top:20px'> \n",
    "            $\\displaystyle L=\\int_{a}^{b}{\\sqrt{1+[f'(x)]^{2}}dx}$\n",
    "    </center>\n",
    "</figure>"
   ]
  },
  {
   "cell_type": "code",
   "execution_count": 4,
   "id": "63c86c10-e4c4-4494-8bf8-dfb2f2254a16",
   "metadata": {
    "editable": true,
    "slideshow": {
     "slide_type": ""
    },
    "tags": []
   },
   "outputs": [
    {
     "name": "stdout",
     "output_type": "stream",
     "text": [
      "[master 643939a] Continuar Example I\n",
      " 2 files changed, 130 insertions(+), 28 deletions(-)\n",
      "Enumerating objects: 9, done.\n",
      "Counting objects: 100% (9/9), done.\n",
      "Delta compression using up to 24 threads\n",
      "Compressing objects: 100% (5/5), done.\n",
      "Writing objects: 100% (5/5), 1.00 KiB | 1.00 MiB/s, done.\n",
      "Total 5 (delta 2), reused 0 (delta 0), pack-reused 0\n",
      "remote: Resolving deltas: 100% (2/2), completed with 2 local objects.\u001b[K\n",
      "To https://github.com/felipesveiga/Calculus.git\n",
      "   b18d6fe..643939a  master -> master\n"
     ]
    }
   ],
   "source": [
    "! git add .\n",
    "! git commit -am 'Example II' \n",
    "! git push"
   ]
  },
  {
   "cell_type": "markdown",
   "id": "8ba06970-2685-4ba8-b11f-8001329578ee",
   "metadata": {},
   "source": [
    "<p style='color:red'> Terminei Example I; Example II"
   ]
  }
 ],
 "metadata": {
  "kernelspec": {
   "display_name": "Python 3 (ipykernel)",
   "language": "python",
   "name": "python3"
  },
  "language_info": {
   "codemirror_mode": {
    "name": "ipython",
    "version": 3
   },
   "file_extension": ".py",
   "mimetype": "text/x-python",
   "name": "python",
   "nbconvert_exporter": "python",
   "pygments_lexer": "ipython3",
   "version": "3.10.12"
  }
 },
 "nbformat": 4,
 "nbformat_minor": 5
}
