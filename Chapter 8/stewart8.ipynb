{
 "cells": [
  {
   "cell_type": "markdown",
   "id": "9ddea9c4-61c6-4e5e-9607-a63f197280d0",
   "metadata": {},
   "source": [
    "<h1 style='font-size:40px'> Further Applications of Integration</h1>\n",
    "<div> \n",
    "    <ul style='font-size:20px'> \n",
    "        <li> \n",
    "            Capítulo dedicado ao estudo de mais aplicações geométricas do uso de integrais em casos do mundo real.\n",
    "        </li>\n",
    "    </ul>\n",
    "</div>"
   ]
  },
  {
   "cell_type": "code",
   "execution_count": 2,
   "id": "63c86c10-e4c4-4494-8bf8-dfb2f2254a16",
   "metadata": {
    "editable": true,
    "slideshow": {
     "slide_type": ""
    },
    "tags": []
   },
   "outputs": [
    {
     "name": "stdout",
     "output_type": "stream",
     "text": [
      "[master a2210ba] Fazer exs seção 7.8\n",
      " 2 files changed, 24 insertions(+), 24 deletions(-)\n",
      "Enumerating objects: 9, done.\n",
      "Counting objects: 100% (9/9), done.\n",
      "Delta compression using up to 24 threads\n",
      "Compressing objects: 100% (5/5), done.\n",
      "Writing objects: 100% (5/5), 681 bytes | 681.00 KiB/s, done.\n",
      "Total 5 (delta 3), reused 0 (delta 0), pack-reused 0\n",
      "remote: Resolving deltas: 100% (3/3), completed with 3 local objects.\u001b[K\n",
      "To https://github.com/felipesveiga/Calculus.git\n",
      "   0683ea1..a2210ba  master -> master\n"
     ]
    }
   ],
   "source": [
    "! git add .\n",
    "! git commit -am 'Iniciar capítulo 8' \n",
    "! git push"
   ]
  },
  {
   "cell_type": "markdown",
   "id": "8ba06970-2685-4ba8-b11f-8001329578ee",
   "metadata": {},
   "source": [
    "<p style='color:red'> Terminei capítulo 7; Iniciar capítulo 8"
   ]
  }
 ],
 "metadata": {
  "kernelspec": {
   "display_name": "Python 3 (ipykernel)",
   "language": "python",
   "name": "python3"
  },
  "language_info": {
   "codemirror_mode": {
    "name": "ipython",
    "version": 3
   },
   "file_extension": ".py",
   "mimetype": "text/x-python",
   "name": "python",
   "nbconvert_exporter": "python",
   "pygments_lexer": "ipython3",
   "version": "3.10.12"
  }
 },
 "nbformat": 4,
 "nbformat_minor": 5
}
