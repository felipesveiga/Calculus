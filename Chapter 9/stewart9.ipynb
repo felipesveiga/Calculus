{
 "cells": [
  {
   "cell_type": "markdown",
   "id": "2613a432-9997-49d9-b02f-e37b7eb73541",
   "metadata": {},
   "source": [
    "<h1 style='font-size:40px'> Differential Equations </h1>\n",
    "<div> \n",
    "    <ul style='font-size:20px'> \n",
    "        <li> \n",
    "        </li>\n",
    "    </ul>\n",
    "</div>"
   ]
  },
  {
   "cell_type": "code",
   "execution_count": 14,
   "id": "63c86c10-e4c4-4494-8bf8-dfb2f2254a16",
   "metadata": {
    "editable": true,
    "slideshow": {
     "slide_type": ""
    },
    "tags": []
   },
   "outputs": [
    {
     "name": "stdout",
     "output_type": "stream",
     "text": [
      "[master 599be67] Fazer Example V (simpson/midpoint)\n",
      " 2 files changed, 14 insertions(+), 14 deletions(-)\n",
      "Enumerating objects: 9, done.\n",
      "Counting objects: 100% (9/9), done.\n",
      "Delta compression using up to 24 threads\n",
      "Compressing objects: 100% (5/5), done.\n",
      "Writing objects: 100% (5/5), 598 bytes | 598.00 KiB/s, done.\n",
      "Total 5 (delta 3), reused 0 (delta 0), pack-reused 0\n",
      "remote: Resolving deltas: 100% (3/3), completed with 3 local objects.\u001b[K\n",
      "To https://github.com/felipesveiga/Calculus.git\n",
      "   b1cbd35..599be67  master -> master\n"
     ]
    }
   ],
   "source": [
    "! git add .\n",
    "! git commit -am 'Iniciar cap. 9' \n",
    "! git push"
   ]
  },
  {
   "cell_type": "markdown",
   "id": "c7364b3a-1434-4736-b28b-2e797bf064e6",
   "metadata": {},
   "source": [
    "<p style='color:red'> Fiz Example V; Fiz exs seção 8.5; Iniciar cap. 9"
   ]
  }
 ],
 "metadata": {
  "kernelspec": {
   "display_name": "Python 3 (ipykernel)",
   "language": "python",
   "name": "python3"
  },
  "language_info": {
   "codemirror_mode": {
    "name": "ipython",
    "version": 3
   },
   "file_extension": ".py",
   "mimetype": "text/x-python",
   "name": "python",
   "nbconvert_exporter": "python",
   "pygments_lexer": "ipython3",
   "version": "3.10.12"
  }
 },
 "nbformat": 4,
 "nbformat_minor": 5
}
