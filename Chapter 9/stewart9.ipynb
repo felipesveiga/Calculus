{
 "cells": [
  {
   "cell_type": "markdown",
   "id": "2613a432-9997-49d9-b02f-e37b7eb73541",
   "metadata": {},
   "source": [
    "<h1 style='font-size:40px'> Differential Equations </h1>\n",
    "<div> \n",
    "    <ul style='font-size:20px'> \n",
    "        <li> \n",
    "            Uma das principais utilidades da matemática seria a predição do valor de um fenômeno considerando mudanças que aconteceram no ambiente do estudo.\n",
    "        </li>\n",
    "        <li>\n",
    "            Nesse contexto, podemos usar Equações Diferenciais para fazermos essa tarefa. Elas consistem numa equação que contém uma função desconhecida juntamente com suas respectivas derivadas.\n",
    "        </li>\n",
    "        <li>\n",
    "            Podemos basear nosso problema em experimentos provados, ou simplesmente em uma ideia gerada por nossa intuição.\n",
    "        </li>\n",
    "    </ul>\n",
    "</div>"
   ]
  },
  {
   "cell_type": "markdown",
   "id": "0f62483e-087e-4697-9d28-eb170a20a435",
   "metadata": {},
   "source": [
    "<h2 style='font-size:30px'> 9.1 Modeling with Differential Equations</h2>\n",
    "<div> \n",
    "    <ul style='font-size:20px'> \n",
    "        <li>\n",
    "            Começamos essa seção demonstrando alguns exemplos de problemas envolvendo equações diferenciais.\n",
    "        </li>\n",
    "    </ul>\n",
    "</div>"
   ]
  },
  {
   "cell_type": "markdown",
   "id": "e0200364-0cc4-49d9-b867-a691b90549e5",
   "metadata": {
    "tags": []
   },
   "source": [
    "<h4 style='font-size:30px;font-style:italic;text-decoration:underline'> Crescimento Populacional</h4>\n",
    "<div> \n",
    "    <ul style='font-size:20px'> \n",
    "        <li>\n",
    "            Ao criarmos uma função que estime o tamanho de uma população num tempo $t$, podemos intuir que esse valor se torne cada vez maior, conforme a quantidade de indivíduos cresça. \n",
    "        </li>\n",
    "        <li>\n",
    "            Nesse sentido, expressar matematicamente essa idealização com a seguinte equação, sendo $P$ a função que expressa a quantidade de pessoas pelo tempo.\n",
    "        </li>\n",
    "    </ul>\n",
    "</div>"
   ]
  },
  {
   "cell_type": "markdown",
   "id": "37419e4e-aafd-40c1-8e07-75069dac33fb",
   "metadata": {},
   "source": [
    "<figure>\n",
    "    <center style='font-size:20px;margin-top:20px'> \n",
    "        $\\frac{dP}{dt}=kP \\text{, } k\\in{\\mathbb{R}^{+}}$\n",
    "    </center>\n",
    "</figure>"
   ]
  },
  {
   "cell_type": "code",
   "execution_count": 1,
   "id": "63c86c10-e4c4-4494-8bf8-dfb2f2254a16",
   "metadata": {
    "editable": true,
    "slideshow": {
     "slide_type": ""
    },
    "tags": []
   },
   "outputs": [
    {
     "name": "stdout",
     "output_type": "stream",
     "text": [
      "[master 02893d9] Iniciar cap. 9\n",
      " 4 files changed, 166 insertions(+), 88 deletions(-)\n",
      " create mode 100644 Chapter 9/.ipynb_checkpoints/stewart9-checkpoint.ipynb\n",
      " create mode 100644 Chapter 9/stewart9.ipynb\n",
      "Enumerating objects: 12, done.\n",
      "Counting objects: 100% (12/12), done.\n",
      "Delta compression using up to 24 threads\n",
      "Compressing objects: 100% (8/8), done.\n",
      "Writing objects: 100% (8/8), 944 bytes | 944.00 KiB/s, done.\n",
      "Total 8 (delta 4), reused 0 (delta 0), pack-reused 0\n",
      "remote: Resolving deltas: 100% (4/4), completed with 3 local objects.\u001b[K\n",
      "To https://github.com/felipesveiga/Calculus.git\n",
      "   599be67..02893d9  master -> master\n"
     ]
    }
   ],
   "source": [
    "! git add .\n",
    "! git commit -am 'Terminar solução do exemplo de \"Crescimento Populacional\"' \n",
    "! git push"
   ]
  },
  {
   "cell_type": "markdown",
   "id": "c7364b3a-1434-4736-b28b-2e797bf064e6",
   "metadata": {},
   "source": [
    "<p style='color:red'>Iniciei cap. 9; Terminar solução do exemplo de \"Crescimento Populacional\"; Continuar de \"A Model for the Motion of a Spring\""
   ]
  }
 ],
 "metadata": {
  "kernelspec": {
   "display_name": "Python 3 (ipykernel)",
   "language": "python",
   "name": "python3"
  },
  "language_info": {
   "codemirror_mode": {
    "name": "ipython",
    "version": 3
   },
   "file_extension": ".py",
   "mimetype": "text/x-python",
   "name": "python",
   "nbconvert_exporter": "python",
   "pygments_lexer": "ipython3",
   "version": "3.10.12"
  }
 },
 "nbformat": 4,
 "nbformat_minor": 5
}
